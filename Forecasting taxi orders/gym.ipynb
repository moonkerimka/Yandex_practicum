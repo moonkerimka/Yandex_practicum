{
 "cells": [
  {
   "cell_type": "markdown",
   "id": "7af01472",
   "metadata": {},
   "source": [
    "<div style=\"border:solid steelblue 1px; padding: 20px\">\n",
    "    \n",
    "<font size=\"4\"><p style=\"text-align:center\"><b>Отток клиентов</b></p></font>\n",
    "\n",
    "</div>"
   ]
  },
  {
   "cell_type": "markdown",
   "id": "7f26d7ca",
   "metadata": {},
   "source": [
    "# Содержание\n",
    "1. [Описание данных](#Описание_данных)\n",
    "2. [EDA](#EDA)\n",
    "3. [Исследование задачи](#Исследование_задачи) \n",
    "4. [Борьба с дисбалансом](#Борьба_с_дисбалансом) \n",
    "5. [Взвешивание классов](#Взвешивание_классов) \n",
    "5. [Увеличение выборки](#Увеличение_выборки) \n",
    "5. [Уменьшение выборки](#Уменьшение_выборки) \n",
    "6. [Тестирование модели](#Тестирование_модели) \n",
    "7. [Вывод](#Вывод)"
   ]
  },
  {
   "cell_type": "markdown",
   "id": "5ff29099",
   "metadata": {},
   "source": [
    "<div class=\"alert alert-info\">\n",
    "<font size=\"4\", color = \"black\"><a name=\"Описание_данных\"><h3>Описание данных</h3></a></font>\n",
    "    <br /> \n",
    "    <font size=\"3\", color = \"black\">"
   ]
  },
  {
   "cell_type": "markdown",
   "id": "d81a2152",
   "metadata": {},
   "source": [
    "<div class=\"alert alert-block alert-info\" style=\"background-color:#FFFAF0;\n",
    "                                                 color:black;\n",
    "                                                 border-color:#DEB887;\n",
    "                                                 border-radius:5px;\n",
    "                                                 width:50%;\n",
    "                                                 margin: auto;\n",
    "                                                 text-align: left;\">\n",
    "📌 Одна из проблем в сфере услуг – отток клиентов. Многие клиекты покупают абонементы, но перестают посещать заведения, и отменяют их до истечения срока. Аднимистрация фитнес-центра собирается понять, что заставляет пользователей уйти, и выработать стратегию по работе с клиентами. Для борьбы с оттоком собрана информация о клиетах. \n"
   ]
  },
  {
   "cell_type": "markdown",
   "id": "65c6d4e8",
   "metadata": {},
   "source": [
    "<ul>\n",
    " <li>Row – (int) индекс строки данных</li>\n",
    " <li>Registration – (int) уникальный номер клиента</li>\n",
    " <li>Zipcode – (int) индекс клиента</li>\n",
    " <li>Age – (int) возраст</li>\n",
    " <li>Partner_company – (0/1) продан ли абонемент по партнерской программе</li>\n",
    " <li>Friend_promo – (0/1) продан ли абонемент по рекомендации друга</li>\n",
    " <li>Contract_period – (int) продолжительность подписки в месяцах</li>\n",
    " <li>Lifetime – (int) продожительность истории посещений</li>\n",
    " <li>Class_registration_weekly – (ﬂoat) среднее число занятий в неделю</li>\n",
    " <li>Avg_additional_charges_total – (ﬂoat) средняя плата за дополнительные услуги</li>\n",
    " <li>Cancellation_freq – (ﬂoat) (ﬂoat) среднее число отмен и пропусков занятий</li>\n",
    " <li>Exited – (0/1) анулирован ли абонемент</li>\n",
    "</ul>"
   ]
  },
  {
   "cell_type": "markdown",
   "id": "5124ddb1",
   "metadata": {},
   "source": [
    "<div class=\"alert alert-info\">\n",
    "<font size=\"4\", color = \"black\"><a name=\"EDA\"><h3>EDA</h3></a></font>\n",
    "    <br /> \n",
    "    <font size=\"3\", color = \"black\">"
   ]
  },
  {
   "cell_type": "code",
   "execution_count": 1,
   "id": "fbaac525",
   "metadata": {},
   "outputs": [],
   "source": [
    "import pandas as pd\n",
    "import matplotlib.pyplot as plt\n",
    "from sklearn.model_selection import train_test_split\n",
    "from sklearn.tree import DecisionTreeClassifier\n",
    "from sklearn.ensemble import RandomForestClassifier\n",
    "from sklearn.linear_model import LogisticRegression\n",
    "from sklearn.metrics import accuracy_score, f1_score, roc_curve, roc_auc_score\n",
    "from sklearn.preprocessing import StandardScaler\n",
    "from sklearn.utils import shuffle\n",
    "from tqdm import tqdm"
   ]
  },
  {
   "cell_type": "code",
   "execution_count": 2,
   "id": "60bd9e14",
   "metadata": {},
   "outputs": [],
   "source": [
    "data = pd.read_csv('gym_data.csv')\n",
    "test = pd.read_csv('gym_test.csv')"
   ]
  },
  {
   "cell_type": "code",
   "execution_count": 3,
   "id": "f9bc7105",
   "metadata": {},
   "outputs": [],
   "source": [
    "#удалим столбцы, которые не нужны при исследовании\n",
    "data = data.drop(['Unnamed: 12', 'Row', 'Registration','Zipcode'], axis=1)"
   ]
  },
  {
   "cell_type": "markdown",
   "id": "9e7457b8",
   "metadata": {},
   "source": [
    "<div class=\"alert alert-block alert-info\" style=\"background-color:#FFFAF0;\n",
    "                                                 color:black;\n",
    "                                                 border-color:#DEB887;\n",
    "                                                 border-radius:5px;\n",
    "                                                 width:50%;\n",
    "                                                 margin: auto;\n",
    "                                                 text-align: left;\">\n",
    "    <b>✍ Вывод</b>\n",
    "<br />В данных дубликатов не обнаружено. Были удалены данные столбцов 'Unnamed: 12', 'Row', 'Registration' и 'Zipcode'не влияющие на построение модели. "
   ]
  },
  {
   "cell_type": "markdown",
   "id": "75b8b028",
   "metadata": {},
   "source": [
    "<div class=\"alert alert-info\">\n",
    "<font size=\"4\", color = \"black\"><a name=\"Исследование_задачи\"><h3>Исследование задачи</h3></a></font>\n",
    "    <br /> \n",
    "    <font size=\"3\", color = \"black\">"
   ]
  },
  {
   "cell_type": "code",
   "execution_count": 4,
   "id": "ccb1c387",
   "metadata": {},
   "outputs": [],
   "source": [
    "features = data.drop(['Exited'], axis=1)\n",
    "target = data.Exited \n",
    "features_test = data.drop(['Exited'], axis=1)\n",
    "target_test = data.Exited "
   ]
  },
  {
   "cell_type": "code",
   "execution_count": 5,
   "id": "d6b46e4a",
   "metadata": {},
   "outputs": [],
   "source": [
    "#разобьем данные на выборки\n",
    "features_train, features_valid, target_train, target_valid = train_test_split(features, target, \n",
    "                                                                              train_size = 0.4, \n",
    "                                                                              random_state=42,\n",
    "                                                                              stratify=target) "
   ]
  },
  {
   "cell_type": "code",
   "execution_count": 6,
   "id": "c323a718",
   "metadata": {},
   "outputs": [],
   "source": [
    "features_train = pd.get_dummies(features_train, drop_first=True)\n",
    "features_valid = pd.get_dummies(features_valid, drop_first=True)\n",
    "features_test = pd.get_dummies(features_test, drop_first=True)"
   ]
  },
  {
   "cell_type": "code",
   "execution_count": 7,
   "id": "0b90ee24",
   "metadata": {},
   "outputs": [],
   "source": [
    "#Масштабирование признаков\n",
    "numeric = ['Partner_company',\n",
    "           'Age',\n",
    "           'Friend_promo',\n",
    "           'Contract_period', \n",
    "           'Lifetime', \n",
    "           'Class_registration_weekly',\n",
    "           'Avg_additional_charges_total',\n",
    "           'Cancellation_freq']\n",
    "scaler = StandardScaler()\n",
    "scaler.fit(features_train[numeric])\n",
    "features_train[numeric] = scaler.transform(features_train[numeric])\n",
    "features_valid[numeric] = scaler.transform(features_valid[numeric])\n",
    "features_test[numeric] = scaler.transform(features_test[numeric])"
   ]
  },
  {
   "cell_type": "code",
   "execution_count": 8,
   "id": "074037e2",
   "metadata": {},
   "outputs": [
    {
     "name": "stdout",
     "output_type": "stream",
     "text": [
      "Accuracy модели на валидационной выборке: 0.9728395061728395\n",
      "F1 - мера RandomForestClassifier: 0.9424585876198779\n",
      "\n"
     ]
    }
   ],
   "source": [
    "model = RandomForestClassifier(random_state=12345, n_estimators=70, max_depth=10)\n",
    "model.fit(features_train, target_train)\n",
    "predicted_valid = model.predict(features_valid)\n",
    "accuracy_RandomForest = accuracy_score(target_valid, predicted_valid) \n",
    "f1_disbalanced_RF = f1_score(target_valid, predicted_valid)\n",
    "print(\"Accuracy модели на валидационной выборке:\", accuracy_RandomForest)\n",
    "print(\"F1 - мера RandomForestClassifier:\", f1_disbalanced_RF)\n",
    "print()"
   ]
  },
  {
   "cell_type": "code",
   "execution_count": 9,
   "id": "3ebaa14f",
   "metadata": {},
   "outputs": [
    {
     "name": "stdout",
     "output_type": "stream",
     "text": [
      "Accuracy модели на валидационной выборке: 0.9405349794238683\n",
      "F1 - мера DecisionTreeClassifier: 0.8762312633832976\n",
      "\n"
     ]
    }
   ],
   "source": [
    "model = DecisionTreeClassifier(random_state=12345, max_depth=10)\n",
    "model.fit(features_train, target_train)\n",
    "predicted_valid = model.predict(features_valid)\n",
    "accuracy_DecisionTree = accuracy_score(target_valid, predicted_valid) \n",
    "print(\"Accuracy модели на валидационной выборке:\", accuracy_DecisionTree)\n",
    "f1_disbalanced_DT = f1_score(target_valid, predicted_valid)\n",
    "print(\"F1 - мера DecisionTreeClassifier:\", f1_disbalanced_DT)\n",
    "print()"
   ]
  },
  {
   "cell_type": "code",
   "execution_count": 10,
   "id": "54504e74",
   "metadata": {},
   "outputs": [
    {
     "name": "stdout",
     "output_type": "stream",
     "text": [
      "Accuracy модели на валидационной выборке: 0.9526748971193416\n",
      "F1 - мера LogisticRegression: 0.8998257839721254\n",
      "\n",
      "CPU times: user 54.6 ms, sys: 19.5 ms, total: 74.2 ms\n",
      "Wall time: 23 ms\n"
     ]
    }
   ],
   "source": [
    "%%time\n",
    "# Оценивание эффективности выполнения алгоритма логистической регрессии \n",
    "model = LogisticRegression(random_state=12345, solver='lbfgs', max_iter=1000)\n",
    "model.fit(features_train, target_train)\n",
    "predicted_valid = model.predict(features_valid)\n",
    "accuracy_LogisticRegression = accuracy_score(target_valid, predicted_valid) \n",
    "print(\"Accuracy модели на валидационной выборке:\", accuracy_LogisticRegression)\n",
    "f1_disbalanced_LR= f1_score(target_valid, predicted_valid)\n",
    "print(\"F1 - мера LogisticRegression:\", f1_disbalanced_LR)\n",
    "print()"
   ]
  },
  {
   "cell_type": "code",
   "execution_count": 11,
   "id": "b9a5cd5c",
   "metadata": {},
   "outputs": [
    {
     "name": "stdout",
     "output_type": "stream",
     "text": [
      "Accuracy константной модели: 0.7551440329218106\n"
     ]
    }
   ],
   "source": [
    "# Проверка адекватности модели\n",
    "target_pred_constant = pd.Series ([0] * len(target_valid))\n",
    "accuracy_const_model = accuracy_score(target_valid, target_pred_constant)\n",
    "print(\"Accuracy константной модели:\", accuracy_const_model)\n"
   ]
  },
  {
   "cell_type": "markdown",
   "id": "ff95ea5b",
   "metadata": {},
   "source": [
    "<div class=\"alert alert-block alert-info\" style=\"background-color:#FFFAF0;\n",
    "                                                 color:black;\n",
    "                                                 border-color:#DEB887;\n",
    "                                                 border-radius:5px;\n",
    "                                                 width:50%;\n",
    "                                                 margin: auto;\n",
    "                                                 text-align: left;\">\n",
    "\n",
    "Модели Logistic Regression, Random Forest Classifier и Decision Tree Classifier показывают результаты лучше, чем константная модель — модели можно считать адекватными. "
   ]
  },
  {
   "cell_type": "markdown",
   "id": "fcc06f22",
   "metadata": {},
   "source": [
    "<div class=\"alert alert-block alert-info\" style=\"background-color:#FFFAF0;\n",
    "                                                 color:black;\n",
    "                                                 border-color:#DEB887;\n",
    "                                                 border-radius:5px;\n",
    "                                                 width:50%;\n",
    "                                                 margin: auto;\n",
    "                                                 text-align: left;\">\n",
    "\n",
    "В дальнейшем исследовании будем применять алгоритмы Decision Tree Classifier и LogisticRegression."
   ]
  },
  {
   "cell_type": "markdown",
   "id": "60860f4e",
   "metadata": {},
   "source": [
    "<div class=\"alert alert-info\">\n",
    "<font size=\"4\", color = \"black\"><a name=\"Борьба_с_дисбалансом\"><h3>Борьба с дисбалансом</h3></a></font>\n",
    "    <br /> \n",
    "    <font size=\"3\", color = \"black\">"
   ]
  },
  {
   "cell_type": "markdown",
   "id": "0d297f10",
   "metadata": {},
   "source": [
    "<div style=\"border-radius:10px; border:#DEB887 solid; padding: 15px; background-color: #FFFAF0; font-size:100%; text-align:left\">\n",
    "Чтобы увеличить качество модели при дисбалансе классов применим техники: взвешивание классов, upsampling и downsampling."
   ]
  },
  {
   "cell_type": "markdown",
   "id": "7b6365ea",
   "metadata": {},
   "source": [
    "<div class=\"alert alert-info\">\n",
    "<font size=\"4\", color = \"black\"><a name=\"Взвешивание_классов\"><h4>Взвешивание классов</h4></a></font>\n",
    "    <br /> \n",
    "    <font size=\"3\", color = \"black\">"
   ]
  },
  {
   "cell_type": "code",
   "execution_count": 12,
   "id": "639ab9f8",
   "metadata": {},
   "outputs": [
    {
     "name": "stdout",
     "output_type": "stream",
     "text": [
      "Алгоритм Решающее дерево\n",
      "Точность попадания по классам: 0.9397119341563785\n",
      "F1 - мера Decision Tree Classifier: 0.8765276021913191\n"
     ]
    }
   ],
   "source": [
    "model = DecisionTreeClassifier(random_state=12345, max_depth=10, class_weight='balanced')\n",
    "model.fit(features_train, target_train)\n",
    "predicted_valid = model.predict(features_valid)\n",
    "f1_weight_DT = f1_score(target_valid, predicted_valid)\n",
    "print('Алгоритм Решающее дерево')\n",
    "print('Точность попадания по классам:', accuracy_score(target_valid, predicted_valid))\n",
    "print('F1 - мера Decision Tree Classifier:', f1_weight_DT)"
   ]
  },
  {
   "cell_type": "code",
   "execution_count": 13,
   "id": "6bd6fe35",
   "metadata": {},
   "outputs": [
    {
     "name": "stdout",
     "output_type": "stream",
     "text": [
      "Алгоритм логистическая регрессия\n",
      "Точность попадания по классам: 0.9477366255144033\n",
      "F1 - мера Logistic Regression: 0.8966639544344995\n"
     ]
    }
   ],
   "source": [
    "model = LogisticRegression(random_state=12345, solver='lbfgs', max_iter=1000, class_weight='balanced')\n",
    "model.fit(features_train, target_train)\n",
    "predicted_valid = model.predict(features_valid)\n",
    "f1_weight_LR = f1_score(target_valid, predicted_valid)\n",
    "print('Алгоритм логистическая регрессия')\n",
    "print('Точность попадания по классам:', accuracy_score(target_valid, predicted_valid))\n",
    "print('F1 - мера Logistic Regression:', f1_weight_LR)"
   ]
  },
  {
   "cell_type": "markdown",
   "id": "8b170677",
   "metadata": {},
   "source": [
    "<div class=\"alert alert-info\">\n",
    "<font size=\"4\", color = \"black\"><a name=\"Увеличение_выборки\"><h4>Увеличение выборки</h4></a></font>\n",
    "    <br /> \n",
    "    <font size=\"3\", color = \"black\">"
   ]
  },
  {
   "cell_type": "code",
   "execution_count": 14,
   "id": "f10c3835",
   "metadata": {},
   "outputs": [
    {
     "name": "stdout",
     "output_type": "stream",
     "text": [
      "1    3172\n",
      "0    2447\n",
      "Name: Exited, dtype: int64\n"
     ]
    }
   ],
   "source": [
    "def upsample(features, target, repeat):\n",
    "    features_zeros = features[target == 0]\n",
    "    features_ones = features[target == 1]\n",
    "    target_zeros = target[target == 0]\n",
    "    target_ones = target[target == 1]\n",
    "\n",
    "    features_upsampled = pd.concat([features_zeros] + [features_ones] * repeat)\n",
    "    target_upsampled = pd.concat([target_zeros] + [target_ones] * repeat)\n",
    "    \n",
    "    features_upsampled, target_upsampled = shuffle(\n",
    "        features_upsampled, target_upsampled, random_state=12345)\n",
    "    \n",
    "    \n",
    "    return features_upsampled, target_upsampled\n",
    "\n",
    "features_upsampled, target_upsampled = upsample(features_train, target_train, 4)\n",
    "print(target_upsampled.value_counts())"
   ]
  },
  {
   "cell_type": "code",
   "execution_count": 15,
   "id": "6504bb3f",
   "metadata": {},
   "outputs": [
    {
     "name": "stdout",
     "output_type": "stream",
     "text": [
      "Алгоритм Решающее дерево\n",
      "Точность попадания по классам: 0.9302469135802469\n",
      "F1 DecisionTreeClassifier: 0.8583368157124946\n"
     ]
    }
   ],
   "source": [
    "model = DecisionTreeClassifier(random_state=12345, max_depth=10)\n",
    "model.fit(features_upsampled, target_upsampled)\n",
    "predicted_valid = model.predict(features_valid)\n",
    "f1_upsampled_DT = f1_score(target_valid, predicted_valid)\n",
    "print('Алгоритм Решающее дерево')\n",
    "print('Точность попадания по классам:', accuracy_score(target_valid, predicted_valid))\n",
    "print('F1 DecisionTreeClassifier:', f1_upsampled_DT)"
   ]
  },
  {
   "cell_type": "code",
   "execution_count": 16,
   "id": "7a113c50",
   "metadata": {},
   "outputs": [
    {
     "name": "stdout",
     "output_type": "stream",
     "text": [
      "Алгоритм логистической регрессии\n",
      "Точность попадания по классам: 0.9403292181069959\n",
      "F1 Logistic Regression: 0.8843700159489633\n"
     ]
    }
   ],
   "source": [
    "model = LogisticRegression(random_state=12345, solver='lbfgs', max_iter=1000)\n",
    "model.fit(features_upsampled, target_upsampled)\n",
    "predicted_valid = model.predict(features_valid)\n",
    "f1_upsampled_LR = f1_score(target_valid, predicted_valid)\n",
    "print('Алгоритм логистической регрессии')\n",
    "print('Точность попадания по классам:', accuracy_score(target_valid, predicted_valid)) \n",
    "print('F1 Logistic Regression:', f1_upsampled_LR)"
   ]
  },
  {
   "cell_type": "markdown",
   "id": "9b808692",
   "metadata": {},
   "source": [
    "<div class=\"alert alert-block alert-info\" style=\"background-color:#FFFAF0;\n",
    "                                                 color:black;\n",
    "                                                 border-color:#DEB887;\n",
    "                                                 border-radius:5px;\n",
    "                                                 width:50%;\n",
    "                                                 margin: auto;\n",
    "                                                 text-align: left;\">\n",
    "\n",
    "У алгоритма DecisionTreeClassifier с увеличенной выборкой - лучший показатель f1 меры. "
   ]
  },
  {
   "cell_type": "markdown",
   "id": "ccb73ebb",
   "metadata": {},
   "source": [
    "<div class=\"alert alert-info\">\n",
    "<font size=\"4\", color = \"black\"><a name=\"Уменьшение_выборки\"><h4>Уменьшение выборки</h4></a></font>\n",
    "    <br /> \n",
    "    <font size=\"3\", color = \"black\">"
   ]
  },
  {
   "cell_type": "code",
   "execution_count": 17,
   "id": "79b9fea0",
   "metadata": {},
   "outputs": [
    {
     "name": "stdout",
     "output_type": "stream",
     "text": [
      "1    793\n",
      "0    612\n",
      "Name: Exited, dtype: int64\n"
     ]
    }
   ],
   "source": [
    "def downsample(features, target, fraction):\n",
    "    features_zeros = features[target == 0]\n",
    "    features_ones = features[target == 1]\n",
    "    target_zeros = target[target == 0]\n",
    "    target_ones = target[target == 1]\n",
    "\n",
    "    features_downsampled = pd.concat(\n",
    "        [features_zeros.sample(frac=fraction, random_state=12345)] + [features_ones])\n",
    "    target_downsampled = pd.concat(\n",
    "        [target_zeros.sample(frac=fraction, random_state=12345)] + [target_ones])\n",
    "    \n",
    "    features_downsampled, target_downsampled = shuffle(\n",
    "        features_downsampled, target_downsampled, random_state=12345)\n",
    "    \n",
    "    return features_downsampled, target_downsampled\n",
    "\n",
    "features_downsampled, target_downsampled = downsample(features_train, target_train, 0.25)\n",
    "\n",
    "print(target_downsampled.value_counts())"
   ]
  },
  {
   "cell_type": "code",
   "execution_count": 18,
   "id": "3fb3026d",
   "metadata": {},
   "outputs": [
    {
     "name": "stdout",
     "output_type": "stream",
     "text": [
      "Алгоритм Решающее дерево\n",
      "Точность попадания по классам: 0.9139917695473251\n",
      "F1 Decision Tree Classifier: 0.8402140672782875\n",
      "\n"
     ]
    }
   ],
   "source": [
    "model = DecisionTreeClassifier(random_state=12345, max_depth=10)\n",
    "model.fit(features_downsampled, target_downsampled)\n",
    "predicted_valid = model.predict(features_valid)\n",
    "f1_downsampled_DT = f1_score(target_valid, predicted_valid)\n",
    "print('Алгоритм Решающее дерево')\n",
    "print('Точность попадания по классам:', accuracy_score(target_valid, predicted_valid))\n",
    "print('F1 Decision Tree Classifier:', f1_downsampled_DT)\n",
    "print()"
   ]
  },
  {
   "cell_type": "code",
   "execution_count": 19,
   "id": "adc984df",
   "metadata": {},
   "outputs": [
    {
     "name": "stdout",
     "output_type": "stream",
     "text": [
      "Алгоритм логистической регрессии\n",
      "Точность попадания по классам: 0.9405349794238683\n",
      "F1 Logistic Regression: 0.8849064117881322\n",
      "\n"
     ]
    }
   ],
   "source": [
    "model = LogisticRegression(random_state=12345, solver='lbfgs', max_iter=1000)\n",
    "model.fit(features_downsampled, target_downsampled)\n",
    "predicted_valid = model.predict(features_valid)\n",
    "f1_downsampled_LR = f1_score(target_valid, predicted_valid)\n",
    "print('Алгоритм логистической регрессии')\n",
    "print('Точность попадания по классам:', accuracy_score(target_valid, predicted_valid))\n",
    "print('F1 Logistic Regression:', f1_downsampled_LR)\n",
    "print()"
   ]
  },
  {
   "cell_type": "markdown",
   "id": "0a68a1ba",
   "metadata": {},
   "source": [
    "<div class=\"alert alert-block alert-info\" style=\"background-color:#FFFAF0;\n",
    "                                                 color:black;\n",
    "                                                 border-color:#DEB887;\n",
    "                                                 border-radius:5px;\n",
    "                                                 width:50%;\n",
    "                                                 margin: auto;\n",
    "                                                 text-align: left;\">\n",
    "У алгоритма Decision Tree Classifier с уменьшенной выборкой - лучший показатель f1 меры."
   ]
  },
  {
   "cell_type": "code",
   "execution_count": 20,
   "id": "c2b16b59",
   "metadata": {},
   "outputs": [
    {
     "data": {
      "image/png": "[encoded data removed]",
      "text/plain": [
       "<Figure size 640x480 with 1 Axes>"
      ]
     },
     "metadata": {},
     "output_type": "display_data"
    }
   ],
   "source": [
    "#сравнение f1 меры Logistic Regression несбалансированной модели с техниками\n",
    "# взвешивания классов, upsampling и downsampling для улучшения метрик качества\n",
    "\n",
    "plt.title('F1 для алгоритма Logistic Regression');\n",
    "name_model = ['Дисбалансная' '\\n' ' модель',\n",
    "              'Взвешание' '\\n' ' классов',\n",
    "              'Увеличение' '\\n' 'выборки',\n",
    "              'Уменьшение' '\\n' 'выборки']\n",
    "estimation_f1 = [f1_disbalanced_LR,\n",
    "                 f1_weight_LR,\n",
    "                 f1_upsampled_LR,\n",
    "                 f1_downsampled_LR]\n",
    "plt.bar(name_model, estimation_f1);\n",
    "\n"
   ]
  },
  {
   "cell_type": "code",
   "execution_count": 21,
   "id": "6ebdd9fa",
   "metadata": {},
   "outputs": [
    {
     "data": {
      "image/png": "[encoded data removed]",
      "text/plain": [
       "<Figure size 640x480 with 1 Axes>"
      ]
     },
     "metadata": {},
     "output_type": "display_data"
    }
   ],
   "source": [
    "#сравнение метрик меры Decision Tree Classifier несбалансированной модели с техниками\n",
    "# взвешивания классов, upsampling и downsampling для улучшения метрик качества\n",
    "plt.title('F1 для алгоритма Decision Tree Classifier');\n",
    "name_model = ['Дисбалансная' '\\n' ' модель',\n",
    "              'Взвешание' '\\n' ' классов',\n",
    "              'Увеличение' '\\n' 'выборки',\n",
    "              'Уменьшение' '\\n' 'выборки']\n",
    "estimation_f1 = [f1_disbalanced_DT,\n",
    "                 f1_weight_DT,\n",
    "                 f1_upsampled_DT,\n",
    "                 f1_downsampled_DT]\n",
    "plt.bar(name_model, estimation_f1);"
   ]
  },
  {
   "cell_type": "markdown",
   "id": "6a8caeb6",
   "metadata": {},
   "source": [
    "<div class=\"alert alert-block alert-info\" style=\"background-color:#FFFAF0;\n",
    "                                                 color:black;\n",
    "                                                 border-color:#DEB887;\n",
    "                                                 border-radius:5px;\n",
    "                                                 width:50%;\n",
    "                                                 margin: auto;\n",
    "                                                 text-align: left;\">\n",
    "\n",
    "Лучшим решением стало уменьшение выборки в алгоритме Decision Tree Classifier по показателю F1 меры. "
   ]
  },
  {
   "cell_type": "markdown",
   "id": "2aa9dc94",
   "metadata": {},
   "source": [
    "<div class=\"alert alert-block alert-info\" style=\"background-color:#FFFAF0;\n",
    "                                                 color:black;\n",
    "                                                 border-color:#DEB887;\n",
    "                                                 border-radius:5px;\n",
    "                                                 width:50%;\n",
    "                                                 margin: auto;\n",
    "                                                 text-align: left;\">\n",
    "\n",
    "В результате исследования получена лучшая модель с лучшими показателями как по F1-мере <b> Decision Tree Classifier с уменьшенной выборкой.</b>"
   ]
  },
  {
   "cell_type": "markdown",
   "id": "4f4c399d",
   "metadata": {},
   "source": [
    "<div class=\"alert alert-info\">\n",
    "<font size=\"4\", color = \"black\"><a name=\"Тестирование_модели\"><h3>Тестирование модели</h3></a></font>\n",
    "    <br /> \n",
    "    <font size=\"3\", color = \"black\">"
   ]
  },
  {
   "cell_type": "markdown",
   "id": "d03aee0a",
   "metadata": {},
   "source": [
    "<div class=\"alert alert-block alert-info\" style=\"background-color:#FFFAF0;\n",
    "                                                 color:black;\n",
    "                                                 border-color:#DEB887;\n",
    "                                                 border-radius:5px;\n",
    "                                                 width:50%;\n",
    "                                                 margin: auto;\n",
    "                                                 text-align: left;\">\n",
    "\n",
    " <br>К тестовой выборке применем алгоритм Decision Tree Classifier с уменьшенной выборкой. "
   ]
  },
  {
   "cell_type": "code",
   "execution_count": 22,
   "id": "d66fae68",
   "metadata": {},
   "outputs": [
    {
     "name": "stdout",
     "output_type": "stream",
     "text": [
      "Модель дерева решений с уменьшенной выборкой\n",
      "Точность попадания по классам: 0.9260493827160494\n",
      "F1: 0.8633356148756559\n",
      "\n"
     ]
    }
   ],
   "source": [
    "model = DecisionTreeClassifier(random_state=12345, max_depth = 10)\n",
    "model.fit(features_downsampled, target_downsampled)\n",
    "predicted_test = model.predict(features_test)\n",
    "print('Модель дерева решений с уменьшенной выборкой')\n",
    "print('Точность попадания по классам:', accuracy_score(target_test, predicted_test)) \n",
    "print('F1:', f1_score(target_test, predicted_test))\n",
    "print()"
   ]
  },
  {
   "cell_type": "markdown",
   "id": "7980e8f1",
   "metadata": {},
   "source": [
    "<div class=\"alert alert-info\">\n",
    "<font size=\"4\", color = \"black\"><a name=\"Вывод\"><h3>Вывод</h3></a></font>\n",
    "    <br /> \n",
    "    <font size=\"3\", color = \"black\">"
   ]
  },
  {
   "cell_type": "markdown",
   "id": "6162d695",
   "metadata": {},
   "source": [
    " <div class=\"alert alert-info\">\n",
    "    <font size=\"3\", color = \"black\">\n",
    "<br>Было проведено исследование, чтобы построить модель,<b> уйдёт клиент из фитнес-центра в ближайшее время или нет.</b>\n",
    "        \n",
    "<br><b> Входные данные </b> - исторические данные о клиентах.\n",
    "        \n",
    "        \n",
    "<br>Были обучены модели логистической регрессии, дерева решений и случайного леса. \n",
    "        <br><b>Какая модель лучше?</b>\n",
    "<br>У каждой — свои достоинства и недостатки. \n",
    "<br>У алгоритма классификации - случайный лес, высокое качество (accuracy), но медленная скорость.\n",
    "<br>У дерева решений, качество (accuracy) ниже, чем у случайного леса, но высокая скорость работы.\n",
    "<br>У логистической регресии самое низкое качество (accuracy), но высокая скорость работы.\n",
    "        \n",
    "<br> Для улучшения метрик качества моделей применены техники взвешивания классов, upsampling и downsampling. После их применения была найдена лучшая модель Decision Tree Classifier с уменьшенной выборкой. \n",
    "        \n",
    "<br><b> Финальные параметры выбранной модели DecisionTreeClassifier(random_state=12345, max_depth = 10)</b>\n",
    " \n",
    "<br><b>Проведена проверка финальной модели тестовой выборкой. </b>\n"
   ]
  }
 ],
 "metadata": {
  "kernelspec": {
   "display_name": "Python 3 (ipykernel)",
   "language": "python",
   "name": "python3"
  },
  "language_info": {
   "codemirror_mode": {
    "name": "ipython",
    "version": 3
   },
   "file_extension": ".py",
   "mimetype": "text/x-python",
   "name": "python",
   "nbconvert_exporter": "python",
   "pygments_lexer": "ipython3",
   "version": "3.9.13"
  }
 },
 "nbformat": 4,
 "nbformat_minor": 5
}
