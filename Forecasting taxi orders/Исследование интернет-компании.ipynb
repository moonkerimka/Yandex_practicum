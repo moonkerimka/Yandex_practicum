{
 "cells": [
  {
   "cell_type": "markdown",
   "id": "1e51b2b8",
   "metadata": {},
   "source": [
    "### <p style=\"font-family:JetBrains Mono; font-weight:bold; letter-spacing: 2px; color:#294B8E; font-size:140%; text-align:left;padding: 0px; border-bottom: 3px solid #294B8E\">Исследование интернет-компании</p>"
   ]
  },
  {
   "cell_type": "markdown",
   "id": "11a717ef",
   "metadata": {},
   "source": [
    "<a id=\"1.2\"></a>\n",
    "<div style=\"padding:20px;\n",
    "            color:white;\n",
    "            margin:10;\n",
    "            font-size:170%;\n",
    "            text-align:left;\n",
    "            display:fill;\n",
    "            border-radius:5px;\n",
    "            background-color:#294B8E;\n",
    "            overflow:hidden;\n",
    "            font-weight:700\"><span style='color:#CDA63A'>|</span> Содержание</div>"
   ]
  },
  {
   "cell_type": "markdown",
   "id": "a915f679",
   "metadata": {},
   "source": [
    "<div class=\"toc\"><ul class=\"toc-item\"><li><span><a href=\"#Загрузка-библиотек\" data-toc-modified-id=\"Загрузка-библиотек-1\"><span class=\"toc-item-num\">1&nbsp;&nbsp;</span>Загрузка библиотек</a></span></li>\n",
    "    <li><span><a href=\"#EDA\" data-toc-modified-id=\"EDA-2\"><span class=\"toc-item-num\">2&nbsp;&nbsp;</span>EDA</a></span></li>\n",
    "    <li><span><a href=\"#Предобратка-данных\" data-toc-modified-id=\"Предобратка-данных-3\"><span class=\"toc-item-num\">3&nbsp;&nbsp;</span>Предобратка данных</a></span></li>\n",
    "    <li><span><a href=\"#a. Прибыльный-рекламный-канал\" data-toc-modified-id=\"a.-Прибыльный-рекламный-канал-4\"><span class=\"toc-item-num\">4&nbsp;&nbsp;</span>a. Прибыльный рекламный канал</a></span></li>\n",
    "    <li><span><a href=\"#b.-Исследование-среднего-чека-транзакции\" data-toc-modified-id=\"b.-Исследование-среднего-чека-транзакции-5\"><span class=\"toc-item-num\">5&nbsp;&nbsp;</span>b. Исследование среднего чека транзакции</a></span></li>\n",
    "     <li><span><a href=\"#c.-Исследование-CR\" data-toc-modified-id=\"c.-Исследование-CR-6\"><span class=\"toc-item-num\">6&nbsp;&nbsp;</span>c. Исследование CR</a></span></li>\n",
    "     <li><span><a href=\"#d.-Прогнозирование-объема-дохода\" data-toc-modified-id=\"d.-Прогнозирование-объема-дохода-7\"><span class=\"toc-item-num\">7&nbsp;&nbsp;</span>d. Прогнозирование объема дохода</a></span></li>"
   ]
  },
  {
   "cell_type": "markdown",
   "id": "a37d8f76",
   "metadata": {},
   "source": [
    "<a id=\"Загрузка-библиотек\"></a>\n",
    "<div style=\"padding:20px;\n",
    "            color:white;\n",
    "            margin:10;\n",
    "            font-size:170%;\n",
    "            text-align:left;\n",
    "            display:fill;\n",
    "            border-radius:5px;\n",
    "            background-color:#294B8E;\n",
    "            overflow:hidden;\n",
    "            font-weight:700\"><span style='color:#CDA63A'>|</span> Загрузка библиотек</div>"
   ]
  },
  {
   "cell_type": "code",
   "execution_count": 1,
   "id": "ac27f106",
   "metadata": {},
   "outputs": [],
   "source": [
    "import pandas as pd"
   ]
  },
  {
   "cell_type": "markdown",
   "id": "81578c5d",
   "metadata": {},
   "source": [
    "<a id=\"EDA\"></a>\n",
    "<div style=\"padding:20px;\n",
    "            color:white;\n",
    "            margin:10;\n",
    "            font-size:170%;\n",
    "            text-align:left;\n",
    "            display:fill;\n",
    "            border-radius:5px;\n",
    "            background-color:#294B8E;\n",
    "            overflow:hidden;\n",
    "            font-weight:700\"><span style='color:#CDA63A'>|</span> EDA</div>"
   ]
  },
  {
   "cell_type": "code",
   "execution_count": 2,
   "id": "1ebe7680",
   "metadata": {},
   "outputs": [],
   "source": [
    "summer = pd.read_csv('summer_camp_data.csv')"
   ]
  },
  {
   "cell_type": "code",
   "execution_count": 3,
   "id": "ab26c785",
   "metadata": {},
   "outputs": [
    {
     "data": {
      "text/html": [
       "<div>\n",
       "<style scoped>\n",
       "    .dataframe tbody tr th:only-of-type {\n",
       "        vertical-align: middle;\n",
       "    }\n",
       "\n",
       "    .dataframe tbody tr th {\n",
       "        vertical-align: top;\n",
       "    }\n",
       "\n",
       "    .dataframe thead th {\n",
       "        text-align: right;\n",
       "    }\n",
       "</style>\n",
       "<table border=\"1\" class=\"dataframe\">\n",
       "  <thead>\n",
       "    <tr style=\"text-align: right;\">\n",
       "      <th></th>\n",
       "      <th>date</th>\n",
       "      <th>source</th>\n",
       "      <th>medium</th>\n",
       "      <th>delivery_available</th>\n",
       "      <th>device_type</th>\n",
       "      <th>promo_activated</th>\n",
       "      <th>filter_used</th>\n",
       "      <th>pageviews</th>\n",
       "      <th>visits</th>\n",
       "      <th>productClick</th>\n",
       "      <th>addToCart</th>\n",
       "      <th>checkout</th>\n",
       "      <th>transactions</th>\n",
       "      <th>revenue</th>\n",
       "    </tr>\n",
       "  </thead>\n",
       "  <tbody>\n",
       "    <tr>\n",
       "      <th>0</th>\n",
       "      <td>2020-05-11</td>\n",
       "      <td>google</td>\n",
       "      <td>organic</td>\n",
       "      <td>Не определено</td>\n",
       "      <td>Десктоп</td>\n",
       "      <td>no</td>\n",
       "      <td>no</td>\n",
       "      <td>3120</td>\n",
       "      <td>1233</td>\n",
       "      <td>5240</td>\n",
       "      <td>1048</td>\n",
       "      <td>525</td>\n",
       "      <td>90</td>\n",
       "      <td>86649.0</td>\n",
       "    </tr>\n",
       "    <tr>\n",
       "      <th>1</th>\n",
       "      <td>2020-05-11</td>\n",
       "      <td>yandex</td>\n",
       "      <td>cpc</td>\n",
       "      <td>Не определено</td>\n",
       "      <td>Мобайл</td>\n",
       "      <td>yes</td>\n",
       "      <td>no</td>\n",
       "      <td>3302</td>\n",
       "      <td>544</td>\n",
       "      <td>9930</td>\n",
       "      <td>1984</td>\n",
       "      <td>1416</td>\n",
       "      <td>217</td>\n",
       "      <td>244478.0</td>\n",
       "    </tr>\n",
       "    <tr>\n",
       "      <th>2</th>\n",
       "      <td>2020-05-11</td>\n",
       "      <td>google</td>\n",
       "      <td>cpc</td>\n",
       "      <td>Не определено</td>\n",
       "      <td>Мобайл</td>\n",
       "      <td>no</td>\n",
       "      <td>no</td>\n",
       "      <td>2970</td>\n",
       "      <td>1450</td>\n",
       "      <td>5460</td>\n",
       "      <td>1090</td>\n",
       "      <td>599</td>\n",
       "      <td>100</td>\n",
       "      <td>105150.0</td>\n",
       "    </tr>\n",
       "    <tr>\n",
       "      <th>3</th>\n",
       "      <td>2020-05-11</td>\n",
       "      <td>google</td>\n",
       "      <td>cpc</td>\n",
       "      <td>Не определено</td>\n",
       "      <td>Десктоп</td>\n",
       "      <td>no</td>\n",
       "      <td>no</td>\n",
       "      <td>1875</td>\n",
       "      <td>854</td>\n",
       "      <td>4250</td>\n",
       "      <td>848</td>\n",
       "      <td>407</td>\n",
       "      <td>71</td>\n",
       "      <td>79003.0</td>\n",
       "    </tr>\n",
       "    <tr>\n",
       "      <th>4</th>\n",
       "      <td>2020-05-11</td>\n",
       "      <td>yandex</td>\n",
       "      <td>organic</td>\n",
       "      <td>Не определено</td>\n",
       "      <td>Десктоп</td>\n",
       "      <td>no</td>\n",
       "      <td>no</td>\n",
       "      <td>2159</td>\n",
       "      <td>1000</td>\n",
       "      <td>4110</td>\n",
       "      <td>824</td>\n",
       "      <td>351</td>\n",
       "      <td>62</td>\n",
       "      <td>61861.0</td>\n",
       "    </tr>\n",
       "    <tr>\n",
       "      <th>...</th>\n",
       "      <td>...</td>\n",
       "      <td>...</td>\n",
       "      <td>...</td>\n",
       "      <td>...</td>\n",
       "      <td>...</td>\n",
       "      <td>...</td>\n",
       "      <td>...</td>\n",
       "      <td>...</td>\n",
       "      <td>...</td>\n",
       "      <td>...</td>\n",
       "      <td>...</td>\n",
       "      <td>...</td>\n",
       "      <td>...</td>\n",
       "      <td>...</td>\n",
       "    </tr>\n",
       "    <tr>\n",
       "      <th>52716</th>\n",
       "      <td>2020-06-21</td>\n",
       "      <td>(direct)</td>\n",
       "      <td>(none)</td>\n",
       "      <td>Доставка есть</td>\n",
       "      <td>Мобайл</td>\n",
       "      <td>yes</td>\n",
       "      <td>yes</td>\n",
       "      <td>65</td>\n",
       "      <td>4</td>\n",
       "      <td>250</td>\n",
       "      <td>50</td>\n",
       "      <td>58</td>\n",
       "      <td>4</td>\n",
       "      <td>4821.0</td>\n",
       "    </tr>\n",
       "    <tr>\n",
       "      <th>52717</th>\n",
       "      <td>2020-08-09</td>\n",
       "      <td>co-promo</td>\n",
       "      <td>email</td>\n",
       "      <td>Доставка есть</td>\n",
       "      <td>Мобайл</td>\n",
       "      <td>no</td>\n",
       "      <td>no</td>\n",
       "      <td>43</td>\n",
       "      <td>2</td>\n",
       "      <td>250</td>\n",
       "      <td>50</td>\n",
       "      <td>23</td>\n",
       "      <td>1</td>\n",
       "      <td>7348.0</td>\n",
       "    </tr>\n",
       "    <tr>\n",
       "      <th>52718</th>\n",
       "      <td>2020-09-22</td>\n",
       "      <td>google</td>\n",
       "      <td>cpc</td>\n",
       "      <td>Доставка есть</td>\n",
       "      <td>Мобайл</td>\n",
       "      <td>yes</td>\n",
       "      <td>yes</td>\n",
       "      <td>153</td>\n",
       "      <td>3</td>\n",
       "      <td>250</td>\n",
       "      <td>50</td>\n",
       "      <td>58</td>\n",
       "      <td>1</td>\n",
       "      <td>958.0</td>\n",
       "    </tr>\n",
       "    <tr>\n",
       "      <th>52719</th>\n",
       "      <td>2020-08-25</td>\n",
       "      <td>(direct)</td>\n",
       "      <td>(none)</td>\n",
       "      <td>Не определено</td>\n",
       "      <td>Мобайл</td>\n",
       "      <td>yes</td>\n",
       "      <td>yes</td>\n",
       "      <td>219</td>\n",
       "      <td>8</td>\n",
       "      <td>250</td>\n",
       "      <td>50</td>\n",
       "      <td>45</td>\n",
       "      <td>1</td>\n",
       "      <td>828.0</td>\n",
       "    </tr>\n",
       "    <tr>\n",
       "      <th>52720</th>\n",
       "      <td>2020-03-19</td>\n",
       "      <td>admitad</td>\n",
       "      <td>cpa</td>\n",
       "      <td>Не определено</td>\n",
       "      <td>Десктоп</td>\n",
       "      <td>yes</td>\n",
       "      <td>yes</td>\n",
       "      <td>83</td>\n",
       "      <td>5</td>\n",
       "      <td>250</td>\n",
       "      <td>50</td>\n",
       "      <td>25</td>\n",
       "      <td>4</td>\n",
       "      <td>4078.0</td>\n",
       "    </tr>\n",
       "  </tbody>\n",
       "</table>\n",
       "<p>52721 rows × 14 columns</p>\n",
       "</div>"
      ],
      "text/plain": [
       "             date    source   medium delivery_available device_type  \\\n",
       "0      2020-05-11    google  organic      Не определено     Десктоп   \n",
       "1      2020-05-11    yandex      cpc      Не определено      Мобайл   \n",
       "2      2020-05-11    google      cpc      Не определено      Мобайл   \n",
       "3      2020-05-11    google      cpc      Не определено     Десктоп   \n",
       "4      2020-05-11    yandex  organic      Не определено     Десктоп   \n",
       "...           ...       ...      ...                ...         ...   \n",
       "52716  2020-06-21  (direct)   (none)      Доставка есть      Мобайл   \n",
       "52717  2020-08-09  co-promo    email      Доставка есть      Мобайл   \n",
       "52718  2020-09-22    google      cpc      Доставка есть      Мобайл   \n",
       "52719  2020-08-25  (direct)   (none)      Не определено      Мобайл   \n",
       "52720  2020-03-19   admitad      cpa      Не определено     Десктоп   \n",
       "\n",
       "      promo_activated filter_used  pageviews  visits  productClick  addToCart  \\\n",
       "0                  no          no       3120    1233          5240       1048   \n",
       "1                 yes          no       3302     544          9930       1984   \n",
       "2                  no          no       2970    1450          5460       1090   \n",
       "3                  no          no       1875     854          4250        848   \n",
       "4                  no          no       2159    1000          4110        824   \n",
       "...               ...         ...        ...     ...           ...        ...   \n",
       "52716             yes         yes         65       4           250         50   \n",
       "52717              no          no         43       2           250         50   \n",
       "52718             yes         yes        153       3           250         50   \n",
       "52719             yes         yes        219       8           250         50   \n",
       "52720             yes         yes         83       5           250         50   \n",
       "\n",
       "       checkout  transactions   revenue  \n",
       "0           525            90   86649.0  \n",
       "1          1416           217  244478.0  \n",
       "2           599           100  105150.0  \n",
       "3           407            71   79003.0  \n",
       "4           351            62   61861.0  \n",
       "...         ...           ...       ...  \n",
       "52716        58             4    4821.0  \n",
       "52717        23             1    7348.0  \n",
       "52718        58             1     958.0  \n",
       "52719        45             1     828.0  \n",
       "52720        25             4    4078.0  \n",
       "\n",
       "[52721 rows x 14 columns]"
      ]
     },
     "execution_count": 3,
     "metadata": {},
     "output_type": "execute_result"
    }
   ],
   "source": [
    "summer"
   ]
  },
  {
   "cell_type": "code",
   "execution_count": 4,
   "id": "ab16c1c6",
   "metadata": {},
   "outputs": [
    {
     "name": "stdout",
     "output_type": "stream",
     "text": [
      "<class 'pandas.core.frame.DataFrame'>\n",
      "RangeIndex: 52721 entries, 0 to 52720\n",
      "Data columns (total 14 columns):\n",
      " #   Column              Non-Null Count  Dtype  \n",
      "---  ------              --------------  -----  \n",
      " 0   date                52721 non-null  object \n",
      " 1   source              52721 non-null  object \n",
      " 2   medium              52721 non-null  object \n",
      " 3   delivery_available  52721 non-null  object \n",
      " 4   device_type         52721 non-null  object \n",
      " 5   promo_activated     52721 non-null  object \n",
      " 6   filter_used         52721 non-null  object \n",
      " 7   pageviews           52721 non-null  int64  \n",
      " 8   visits              52721 non-null  int64  \n",
      " 9   productClick        52721 non-null  int64  \n",
      " 10  addToCart           52721 non-null  int64  \n",
      " 11  checkout            52721 non-null  int64  \n",
      " 12  transactions        52721 non-null  int64  \n",
      " 13  revenue             52721 non-null  float64\n",
      "dtypes: float64(1), int64(6), object(7)\n",
      "memory usage: 5.6+ MB\n"
     ]
    }
   ],
   "source": [
    "summer.info()"
   ]
  },
  {
   "cell_type": "code",
   "execution_count": 5,
   "id": "b872d6f1",
   "metadata": {
    "scrolled": true
   },
   "outputs": [
    {
     "data": {
      "text/plain": [
       "0"
      ]
     },
     "execution_count": 5,
     "metadata": {},
     "output_type": "execute_result"
    }
   ],
   "source": [
    "summer.duplicated().sum()"
   ]
  },
  {
   "cell_type": "markdown",
   "id": "a2b53ba5",
   "metadata": {},
   "source": [
    "<div class=\"alert alert-block alert-info\" style=\"background-color:#FFFAF0;\n",
    "                                                 color:black;\n",
    "                                                 border-color:#DEB887;\n",
    "                                                 border-radius:5px;\n",
    "                                                 width:50%;\n",
    "                                                 margin: auto;\n",
    "                                                 text-align: left;\">\n",
    "\n",
    "<b>✍ Вывод</b>\n",
    "<br>В данных отсутствуют дубликаты и пропуски. Необходимо поменять тип столбца \"date\". Обнаружено некорректное название столбцов. \n",
    "        \n",
    "</div>"
   ]
  },
  {
   "cell_type": "markdown",
   "id": "4c818600",
   "metadata": {},
   "source": [
    "<a id=\"Предобратка-данных\"></a>\n",
    "<div style=\"padding:20px;\n",
    "            color:white;\n",
    "            margin:10;\n",
    "            font-size:170%;\n",
    "            text-align:left;\n",
    "            display:fill;\n",
    "            border-radius:5px;\n",
    "            background-color:#294B8E;\n",
    "            overflow:hidden;\n",
    "            font-weight:700\"><span style='color:#CDA63A'>|</span> Предобработка данных</div>"
   ]
  },
  {
   "cell_type": "code",
   "execution_count": 6,
   "id": "2acb1140",
   "metadata": {},
   "outputs": [],
   "source": [
    "summer = summer.rename(columns={'productClick': 'product_click',\n",
    "                               'addToCart': 'add_to_cart',\n",
    "                               'checkout': 'check_out'})"
   ]
  },
  {
   "cell_type": "code",
   "execution_count": 7,
   "id": "1764017f",
   "metadata": {},
   "outputs": [],
   "source": [
    "#поменяем тип столбца 'Date_created'\n",
    "summer['date'] = pd.to_datetime(summer['date'], format=\"%Y-%m-%dT%H:%M:%S\")"
   ]
  },
  {
   "cell_type": "code",
   "execution_count": 8,
   "id": "f673bece",
   "metadata": {},
   "outputs": [
    {
     "name": "stdout",
     "output_type": "stream",
     "text": [
      "<class 'pandas.core.frame.DataFrame'>\n",
      "RangeIndex: 52721 entries, 0 to 52720\n",
      "Data columns (total 14 columns):\n",
      " #   Column              Non-Null Count  Dtype         \n",
      "---  ------              --------------  -----         \n",
      " 0   date                52721 non-null  datetime64[ns]\n",
      " 1   source              52721 non-null  object        \n",
      " 2   medium              52721 non-null  object        \n",
      " 3   delivery_available  52721 non-null  object        \n",
      " 4   device_type         52721 non-null  object        \n",
      " 5   promo_activated     52721 non-null  object        \n",
      " 6   filter_used         52721 non-null  object        \n",
      " 7   pageviews           52721 non-null  int64         \n",
      " 8   visits              52721 non-null  int64         \n",
      " 9   product_click       52721 non-null  int64         \n",
      " 10  add_to_cart         52721 non-null  int64         \n",
      " 11  check_out           52721 non-null  int64         \n",
      " 12  transactions        52721 non-null  int64         \n",
      " 13  revenue             52721 non-null  float64       \n",
      "dtypes: datetime64[ns](1), float64(1), int64(6), object(6)\n",
      "memory usage: 5.6+ MB\n"
     ]
    }
   ],
   "source": [
    "summer.info()"
   ]
  },
  {
   "cell_type": "markdown",
   "id": "ad88b64a",
   "metadata": {},
   "source": [
    "<a id=\"a.-Прибыльный-рекламный-канал\"></a>\n",
    "<div style=\"padding:20px;\n",
    "            color:white;\n",
    "            margin:10;\n",
    "            font-size:170%;\n",
    "            text-align:left;\n",
    "            display:fill;\n",
    "            border-radius:5px;\n",
    "            background-color:#294B8E;\n",
    "            overflow:hidden;\n",
    "            font-weight:700\"><span style='color:#CDA63A'>|</span> a. Прибыльный рекламный канал</div>"
   ]
  },
  {
   "cell_type": "code",
   "execution_count": 9,
   "id": "3195aee1",
   "metadata": {},
   "outputs": [
    {
     "name": "stdout",
     "output_type": "stream",
     "text": [
      "Cумма дохода  organic  =  498.455.154.0\n",
      "Cумма дохода  cpc  =  444.837.608.0\n",
      "Cумма дохода  (none)  =  238.355.148.25\n",
      "Cумма дохода  cpa  =  81.834.240.0\n",
      "Cумма дохода  email  =  11.000.859.0\n",
      "Cумма дохода  social  =  913.626.0\n"
     ]
    }
   ],
   "source": [
    "sum_medium = 0\n",
    "for i in summer['medium'].unique():\n",
    "    sum_medium = summer[summer['medium'] == i]['revenue'].sum()\n",
    "    print('Cумма дохода ', i, ' = ', '{0:,}'.format(sum_medium).replace(',', '.')\n",
    ")"
   ]
  },
  {
   "cell_type": "markdown",
   "id": "637a122a",
   "metadata": {},
   "source": [
    "<div class=\"alert alert-block alert-info\" style=\"background-color:#FFFAF0;\n",
    "                                                 color:black;\n",
    "                                                 border-color:#DEB887;\n",
    "                                                 border-radius:5px;\n",
    "                                                 width:50%;\n",
    "                                                 margin: auto;\n",
    "                                                 text-align: left;\">\n",
    "\n",
    "<b>✍ Вывод</b>\n",
    "<br>Самый прибыльный рекламный ролик за все время organic, его доход составляет примерно 498 млн.    \n",
    "</div>"
   ]
  },
  {
   "cell_type": "markdown",
   "id": "f2e9a532",
   "metadata": {},
   "source": [
    "<a id=\"b.-Исследование-среднего-чека-транзакции\"></a>\n",
    "<div style=\"padding:20px;\n",
    "            color:white;\n",
    "            margin:10;\n",
    "            font-size:170%;\n",
    "            text-align:left;\n",
    "            display:fill;\n",
    "            border-radius:5px;\n",
    "            background-color:#294B8E;\n",
    "            overflow:hidden;\n",
    "            font-weight:700\"><span style='color:#CDA63A'>|</span> b. Исследование среднего чека транзакции</div>"
   ]
  },
  {
   "cell_type": "code",
   "execution_count": 10,
   "id": "c7cc6735",
   "metadata": {},
   "outputs": [
    {
     "data": {
      "text/plain": [
       "21.7"
      ]
     },
     "execution_count": 10,
     "metadata": {},
     "output_type": "execute_result"
    }
   ],
   "source": [
    "#cредний чек транзакции для пользователей, покупающих с промокодом\n",
    "round(summer[summer['promo_activated'] == 'yes']['transactions'].mean(),2)"
   ]
  },
  {
   "cell_type": "code",
   "execution_count": 11,
   "id": "f387ea0a",
   "metadata": {},
   "outputs": [
    {
     "data": {
      "text/plain": [
       "18.61"
      ]
     },
     "execution_count": 11,
     "metadata": {},
     "output_type": "execute_result"
    }
   ],
   "source": [
    "#cредний чек транзакции для пользователей, покупающих без промокода\n",
    "round(summer[summer['promo_activated'] == 'no']['transactions'].mean(),2)"
   ]
  },
  {
   "cell_type": "markdown",
   "id": "2f5edcbc",
   "metadata": {},
   "source": [
    "<div class=\"alert alert-block alert-info\" style=\"background-color:#FFFAF0;\n",
    "                                                 color:black;\n",
    "                                                 border-color:#DEB887;\n",
    "                                                 border-radius:5px;\n",
    "                                                 width:50%;\n",
    "                                                 margin: auto;\n",
    "                                                 text-align: left;\">\n",
    "\n",
    "<b>✍ Вывод</b>\n",
    "<br> Cредний чек транзакции для пользователей, покупающих с промокодом в 1,16 раз больше, чем для пользователей, покупающих без промокодом.\n",
    "</div>"
   ]
  },
  {
   "cell_type": "markdown",
   "id": "633c54e7",
   "metadata": {},
   "source": [
    "<a id=\"c.-Исследование-CR\"></a>\n",
    "<div style=\"padding:20px;\n",
    "            color:white;\n",
    "            margin:10;\n",
    "            font-size:170%;\n",
    "            text-align:left;\n",
    "            display:fill;\n",
    "            border-radius:5px;\n",
    "            background-color:#294B8E;\n",
    "            overflow:hidden;\n",
    "            font-weight:700\"><span style='color:#CDA63A'>|</span> c. Исследование CR</div>"
   ]
  },
  {
   "cell_type": "code",
   "execution_count": 12,
   "id": "4cdacfda",
   "metadata": {},
   "outputs": [],
   "source": [
    "summer['weekday'] = summer['date'].dt.weekday"
   ]
  },
  {
   "cell_type": "code",
   "execution_count": 13,
   "id": "74f4d81a",
   "metadata": {},
   "outputs": [],
   "source": [
    "count_transactions = summer['transactions'].count()"
   ]
  },
  {
   "cell_type": "code",
   "execution_count": 14,
   "id": "4d797ed7",
   "metadata": {},
   "outputs": [],
   "source": [
    "count_transactions_workday = summer[(summer['weekday'] == 0) |\n",
    "                                         (summer['weekday'] == 1) | \n",
    "                                         (summer['weekday'] == 2) |\n",
    "                                         (summer['weekday'] == 3) |\n",
    "                                         (summer['weekday'] == 4)]['transactions'].count()"
   ]
  },
  {
   "cell_type": "code",
   "execution_count": 15,
   "id": "81a76f2b",
   "metadata": {},
   "outputs": [],
   "source": [
    "count_transactions_weekday = summer[(summer['weekday'] == 5) |\n",
    "                                         (summer['weekday'] == 6)]['transactions'].count()"
   ]
  },
  {
   "cell_type": "code",
   "execution_count": 16,
   "id": "147b20a3",
   "metadata": {},
   "outputs": [
    {
     "data": {
      "text/plain": [
       "70.64"
      ]
     },
     "execution_count": 16,
     "metadata": {},
     "output_type": "execute_result"
    }
   ],
   "source": [
    "CR_workday = round(count_transactions_workday / 52721 * 100, 2)\n",
    "CR_workday"
   ]
  },
  {
   "cell_type": "code",
   "execution_count": 17,
   "id": "05cab8f3",
   "metadata": {},
   "outputs": [
    {
     "data": {
      "text/plain": [
       "29.36"
      ]
     },
     "execution_count": 17,
     "metadata": {},
     "output_type": "execute_result"
    }
   ],
   "source": [
    "CR_weekday = round(count_transactions_weekday /52721 * 100, 2)\n",
    "CR_weekday"
   ]
  },
  {
   "cell_type": "markdown",
   "id": "8f1564a8",
   "metadata": {},
   "source": [
    "<div class=\"alert alert-block alert-info\" style=\"background-color:#FFFAF0;\n",
    "                                                 color:black;\n",
    "                                                 border-color:#DEB887;\n",
    "                                                 border-radius:5px;\n",
    "                                                 width:50%;\n",
    "                                                 margin: auto;\n",
    "                                                 text-align: left;\">\n",
    "\n",
    "<b>✍ Вывод</b>\n",
    "<br> CR (коэффициент конверсии в транзакцию) в будние дни выше в 2,4 раза CR в выходные дни.\n",
    "</div>"
   ]
  },
  {
   "cell_type": "markdown",
   "id": "0ee50026",
   "metadata": {},
   "source": [
    "<a id=\"d.-Прогнозирование-объема-дохода\"></a>\n",
    "<div style=\"padding:20px;\n",
    "            color:white;\n",
    "            margin:10;\n",
    "            font-size:170%;\n",
    "            text-align:left;\n",
    "            display:fill;\n",
    "            border-radius:5px;\n",
    "            background-color:#294B8E;\n",
    "            overflow:hidden;\n",
    "            font-weight:700\"><span style='color:#CDA63A'>|</span> d. Прогнозирование объема дохода</div>"
   ]
  },
  {
   "cell_type": "markdown",
   "id": "941c5d80",
   "metadata": {},
   "source": [
    "<div class=\"alert alert-block alert-info\" style=\"background-color:#FFFAF0;\n",
    "                                                 color:black;\n",
    "                                                 border-color:#DEB887;\n",
    "                                                 border-radius:5px;\n",
    "                                                 width:50%;\n",
    "                                                 margin: auto;\n",
    "                                                 text-align: left;\">\n",
    "<b>✍ Вывод</b>\n",
    "<br> 1. Изучение исторических данных за прошлый год (2019) пользователей, приведенных на сайт контекстной рекламой.\n",
    "<br> 2. Заполнение нового датасета с новыми датами используя анализ исторических данных  \n",
    "<br> 3. Предобработка данных\n",
    "<br> 4. Деление исторических данных на обучающую и валидационную выборки. Новый датасет с новыми датами, заполненный с помощью историчесикз данных, использовать как тестовую выборку.   \n",
    "<br> 5. Прогнозирование объема дохода для новых дат используя обученные модели (например, Catboost, LightGBM, XGBoost, Random Forest, Desicion Tree, Linear Regression, Lasso regression, Ridge regression) на исторических данных.\n",
    "</div>"
   ]
  }
 ],
 "metadata": {
  "kernelspec": {
   "display_name": "Python 3 (ipykernel)",
   "language": "python",
   "name": "python3"
  },
  "language_info": {
   "codemirror_mode": {
    "name": "ipython",
    "version": 3
   },
   "file_extension": ".py",
   "mimetype": "text/x-python",
   "name": "python",
   "nbconvert_exporter": "python",
   "pygments_lexer": "ipython3",
   "version": "3.9.13"
  }
 },
 "nbformat": 4,
 "nbformat_minor": 5
}
