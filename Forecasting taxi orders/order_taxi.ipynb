{
 "cells": [
  {
   "cell_type": "markdown",
   "id": "1e51b2b8",
   "metadata": {},
   "source": [
    "### <p style=\"font-family:JetBrains Mono; font-weight:bold; letter-spacing: 2px; color:#294B8E; font-size:140%; text-align:left;padding: 0px; border-bottom: 3px solid #294B8E\">🚕 Прогнозирование заказов такси</p>"
   ]
  },
  {
   "cell_type": "markdown",
   "id": "11a717ef",
   "metadata": {},
   "source": [
    "<a id=\"1.2\"></a>\n",
    "<div style=\"padding:20px;\n",
    "            color:white;\n",
    "            margin:10;\n",
    "            font-size:170%;\n",
    "            text-align:left;\n",
    "            display:fill;\n",
    "            border-radius:5px;\n",
    "            background-color:#294B8E;\n",
    "            overflow:hidden;\n",
    "            font-weight:700\"><span style='color:#CDA63A'>|</span> Содержание</div>"
   ]
  },
  {
   "cell_type": "markdown",
   "id": "a915f679",
   "metadata": {},
   "source": [
    "<div class=\"toc\"><ul class=\"toc-item\"><li><span><a href=\"#Описание-данных\" data-toc-modified-id=\"Описание-данных-1\"><span class=\"toc-item-num\">1&nbsp;&nbsp;</span>Описание данных</a></span></li>\n",
    "    <li><span><a href=\"#Загрузка-библиотек\" data-toc-modified-id=\"Загрузка-библиотек-2\"><span class=\"toc-item-num\">2&nbsp;&nbsp;</span>Загрузка библиотек</a></span></li>\n",
    "    <li><span><a href=\"#EDA\" data-toc-modified-id=\"EDA-3\"><span class=\"toc-item-num\">3&nbsp;&nbsp;</span>EDA</a></span></li>\n",
    "    <li><span><a href=\"#Анализ-данных\" data-toc-modified-id=\"Анализ-данных-4\"><span class=\"toc-item-num\">4&nbsp;&nbsp;</span>Анализ данных</a></span></li>\n",
    "     <li><span><a href=\"#Создание-признаков\" data-toc-modified-id=\"Создание-признаков-5\"><span class=\"toc-item-num\">5&nbsp;&nbsp;</span>Создание признаков</a></span></li>\n",
    "    <li><span><a href=\"#Подготовим-выборки-для-обучения-моделей\" data-toc-modified-id=\"Подготовим-выборки-для-обучения-моделей-6\"><span class=\"toc-item-num\">6&nbsp;&nbsp;</span>Подготовим выборки для обучения моделей</a></span></li>\n",
    "    <li><span><a href=\"#Обучение-моделей\" data-toc-modified-id=\"Обучение-моделей-7\"><span class=\"toc-item-num\">7&nbsp;&nbsp;</span>Обучение моделей</a></span></li>\n",
    "    <li><span><a href=\"#Сравнение-моделей\" data-toc-modified-id=\"Сравнение-моделей-8\"><span class=\"toc-item-num\">8&nbsp;&nbsp;</span>Сравнение моделей</a></span></li>\n",
    "    <li><span><a href=\"#Тестирование-моделей\" data-toc-modified-id=\"Тестирование-моделей-9\"><span class=\"toc-item-num\">9&nbsp;&nbsp;</span>Тестирование моделей</a></span></li>\n",
    "    <li><span><a href=\"#Сравнение-моделей-на-тестовой-выборке\" data-toc-modified-id=\"Сравнение-моделей-на-тестовой-выборке-10\"><span class=\"toc-item-num\">10&nbsp;&nbsp;</span>Сравнение моделей на тестовой выборке</a></span></li>\n",
    "    <li><span><a href=\"#Вывод\" data-toc-modified-id=\"Вывод-11\"><span class=\"toc-item-num\">11&nbsp;&nbsp;</span>Вывод</a></span></li>"
   ]
  },
  {
   "cell_type": "markdown",
   "id": "0fa4011b",
   "metadata": {},
   "source": [
    "<a id=\"Описание-данных\"></a>\n",
    "<div style=\"padding:20px;\n",
    "            color:white;\n",
    "            margin:10;\n",
    "            font-size:170%;\n",
    "            text-align:left;\n",
    "            display:fill;\n",
    "            border-radius:5px;\n",
    "            background-color:#294B8E;\n",
    "            overflow:hidden;\n",
    "            font-weight:700\"><span style='color:#CDA63A'>|</span> Описание данных</div>"
   ]
  },
  {
   "cell_type": "markdown",
   "id": "8f6c676f",
   "metadata": {},
   "source": [
    "<ul>\n",
    "<li>num_orders — количество заказов</li>\n",
    "</ul>\n"
   ]
  },
  {
   "cell_type": "markdown",
   "id": "2122d13b",
   "metadata": {},
   "source": [
    "<div class=\"alert alert-block alert-info\" style=\"background-color:#FFFAF0;\n",
    "                                                 color:black;\n",
    "                                                 border-color:#DEB887;\n",
    "                                                 border-radius:5px;\n",
    "                                                 width:50%;\n",
    "                                                 margin: auto;\n",
    "                                                 text-align: left;\">\n",
    "\n",
    "\n",
    "Компания «Чётенькое такси» собрала исторические данные о заказах такси в аэропортах. Чтобы привлекать больше водителей в период пиковой нагрузки, нужно спрогнозировать количество заказов такси на следующий час. \n",
    "\n",
    "</div>"
   ]
  },
  {
   "cell_type": "markdown",
   "id": "a37d8f76",
   "metadata": {},
   "source": [
    "<a id=\"Загрузка-библиотек\"></a>\n",
    "<div style=\"padding:20px;\n",
    "            color:white;\n",
    "            margin:10;\n",
    "            font-size:170%;\n",
    "            text-align:left;\n",
    "            display:fill;\n",
    "            border-radius:5px;\n",
    "            background-color:#294B8E;\n",
    "            overflow:hidden;\n",
    "            font-weight:700\"><span style='color:#CDA63A'>|</span> Загрузка библиотек</div>"
   ]
  },
  {
   "cell_type": "code",
   "execution_count": 1,
   "id": "87da5430",
   "metadata": {},
   "outputs": [],
   "source": [
    "import os\n",
    "import time\n",
    "import warnings\n",
    "import pandas as pd\n",
    "import numpy as np\n",
    "import catboost as cb\n",
    "import lightgbm as lgmb\n",
    "import matplotlib.pyplot as plt \n",
    "from sklearn import tree, metrics\n",
    "from tabulate import tabulate\n",
    "from xgboost import XGBRegressor\n",
    "from catboost import CatBoostRegressor\n",
    "from lightgbm import LGBMRegressor\n",
    "from sklearn.linear_model import Ridge\n",
    "from sklearn.linear_model import Lasso\n",
    "from statsmodels.tsa.stattools import adfuller\n",
    "from sklearn.tree import DecisionTreeRegressor\n",
    "from sklearn.ensemble import RandomForestRegressor\n",
    "from sklearn.linear_model import LinearRegression\n",
    "from sklearn.metrics import mean_squared_error\n",
    "from statsmodels.tsa.seasonal import seasonal_decompose\n",
    "from sklearn.model_selection import GridSearchCV, train_test_split"
   ]
  },
  {
   "cell_type": "markdown",
   "id": "81578c5d",
   "metadata": {},
   "source": [
    "<a id=\"EDA\"></a>\n",
    "<div style=\"padding:20px;\n",
    "            color:white;\n",
    "            margin:10;\n",
    "            font-size:170%;\n",
    "            text-align:left;\n",
    "            display:fill;\n",
    "            border-radius:5px;\n",
    "            background-color:#294B8E;\n",
    "            overflow:hidden;\n",
    "            font-weight:700\"><span style='color:#CDA63A'>|</span> EDA</div>"
   ]
  },
  {
   "cell_type": "code",
   "execution_count": 2,
   "id": "d2987fa7",
   "metadata": {},
   "outputs": [],
   "source": [
    "pth1 = '/datasets/taxi.csv'\n",
    "pth2 = 'taxi.csv'\n",
    "if os.path.exists(pth1):\n",
    "    data = pd.read_csv(pth1, index_col=[0], parse_dates=[0])\n",
    "elif os.path.exists(pth2):\n",
    "    data = pd.read_csv(pth2, index_col=[0], parse_dates=[0])\n",
    "else:\n",
    "    print('Something is wrong')"
   ]
  },
  {
   "cell_type": "code",
   "execution_count": 3,
   "id": "41eeaa6b",
   "metadata": {},
   "outputs": [
    {
     "data": {
      "text/html": [
       "<div>\n",
       "<style scoped>\n",
       "    .dataframe tbody tr th:only-of-type {\n",
       "        vertical-align: middle;\n",
       "    }\n",
       "\n",
       "    .dataframe tbody tr th {\n",
       "        vertical-align: top;\n",
       "    }\n",
       "\n",
       "    .dataframe thead th {\n",
       "        text-align: right;\n",
       "    }\n",
       "</style>\n",
       "<table border=\"1\" class=\"dataframe\">\n",
       "  <thead>\n",
       "    <tr style=\"text-align: right;\">\n",
       "      <th></th>\n",
       "      <th>num_orders</th>\n",
       "    </tr>\n",
       "    <tr>\n",
       "      <th>datetime</th>\n",
       "      <th></th>\n",
       "    </tr>\n",
       "  </thead>\n",
       "  <tbody>\n",
       "    <tr>\n",
       "      <th>2018-03-01 00:00:00</th>\n",
       "      <td>9</td>\n",
       "    </tr>\n",
       "    <tr>\n",
       "      <th>2018-03-01 00:10:00</th>\n",
       "      <td>14</td>\n",
       "    </tr>\n",
       "    <tr>\n",
       "      <th>2018-03-01 00:20:00</th>\n",
       "      <td>28</td>\n",
       "    </tr>\n",
       "    <tr>\n",
       "      <th>2018-03-01 00:30:00</th>\n",
       "      <td>20</td>\n",
       "    </tr>\n",
       "    <tr>\n",
       "      <th>2018-03-01 00:40:00</th>\n",
       "      <td>32</td>\n",
       "    </tr>\n",
       "  </tbody>\n",
       "</table>\n",
       "</div>"
      ],
      "text/plain": [
       "                     num_orders\n",
       "datetime                       \n",
       "2018-03-01 00:00:00           9\n",
       "2018-03-01 00:10:00          14\n",
       "2018-03-01 00:20:00          28\n",
       "2018-03-01 00:30:00          20\n",
       "2018-03-01 00:40:00          32"
      ]
     },
     "execution_count": 3,
     "metadata": {},
     "output_type": "execute_result"
    }
   ],
   "source": [
    "data.head()"
   ]
  },
  {
   "cell_type": "code",
   "execution_count": 4,
   "id": "02eeb90a",
   "metadata": {},
   "outputs": [
    {
     "name": "stdout",
     "output_type": "stream",
     "text": [
      "<class 'pandas.core.frame.DataFrame'>\n",
      "DatetimeIndex: 26496 entries, 2018-03-01 00:00:00 to 2018-08-31 23:50:00\n",
      "Data columns (total 1 columns):\n",
      " #   Column      Non-Null Count  Dtype\n",
      "---  ------      --------------  -----\n",
      " 0   num_orders  26496 non-null  int64\n",
      "dtypes: int64(1)\n",
      "memory usage: 414.0 KB\n"
     ]
    }
   ],
   "source": [
    "data.info()"
   ]
  },
  {
   "cell_type": "markdown",
   "id": "b68a20d2",
   "metadata": {},
   "source": [
    "<div style=\"border-radius:10px; border:#DEB887 solid; padding: 15px; background-color: #FFFAF0; font-size:100%; text-align:left\">\n",
    "    В данных отсутствуют пропуски.  "
   ]
  },
  {
   "cell_type": "code",
   "execution_count": 5,
   "id": "9852e999",
   "metadata": {},
   "outputs": [
    {
     "data": {
      "image/png": "[encoded data removed]",
      "text/plain": [
       "<Figure size 640x480 with 1 Axes>"
      ]
     },
     "metadata": {},
     "output_type": "display_data"
    }
   ],
   "source": [
    "#ресемеплирование по одному часу\n",
    "data.sort_index(inplace=True)\n",
    "data = data.resample('1H').sum()\n",
    "data.plot();"
   ]
  },
  {
   "cell_type": "code",
   "execution_count": 6,
   "id": "382c5c37",
   "metadata": {},
   "outputs": [
    {
     "data": {
      "image/png": "[encoded data removed]",
      "text/plain": [
       "<Figure size 640x480 with 1 Axes>"
      ]
     },
     "metadata": {},
     "output_type": "display_data"
    }
   ],
   "source": [
    "data['mean'] = data['num_orders'].rolling(15).mean()\n",
    "data['std'] = data['num_orders'].rolling(15).std()\n",
    "data.plot();"
   ]
  },
  {
   "cell_type": "code",
   "execution_count": 7,
   "id": "98c646af",
   "metadata": {},
   "outputs": [
    {
     "name": "stdout",
     "output_type": "stream",
     "text": [
      "Requirement already satisfied: statsmodels in /Users/moonkerimka/opt/anaconda3/lib/python3.9/site-packages (0.13.2)\n",
      "Requirement already satisfied: numpy>=1.17 in /Users/moonkerimka/opt/anaconda3/lib/python3.9/site-packages (from statsmodels) (1.21.5)\n",
      "Requirement already satisfied: pandas>=0.25 in /Users/moonkerimka/opt/anaconda3/lib/python3.9/site-packages (from statsmodels) (1.4.4)\n",
      "Requirement already satisfied: scipy>=1.3 in /Users/moonkerimka/opt/anaconda3/lib/python3.9/site-packages (from statsmodels) (1.9.1)\n",
      "Requirement already satisfied: packaging>=21.3 in /Users/moonkerimka/opt/anaconda3/lib/python3.9/site-packages (from statsmodels) (21.3)\n",
      "Requirement already satisfied: patsy>=0.5.2 in /Users/moonkerimka/opt/anaconda3/lib/python3.9/site-packages (from statsmodels) (0.5.2)\n",
      "Requirement already satisfied: pyparsing!=3.0.5,>=2.0.2 in /Users/moonkerimka/opt/anaconda3/lib/python3.9/site-packages (from packaging>=21.3->statsmodels) (3.0.9)\n",
      "Requirement already satisfied: python-dateutil>=2.8.1 in /Users/moonkerimka/opt/anaconda3/lib/python3.9/site-packages (from pandas>=0.25->statsmodels) (2.8.2)\n",
      "Requirement already satisfied: pytz>=2020.1 in /Users/moonkerimka/opt/anaconda3/lib/python3.9/site-packages (from pandas>=0.25->statsmodels) (2022.1)\n",
      "Requirement already satisfied: six in /Users/moonkerimka/opt/anaconda3/lib/python3.9/site-packages (from patsy>=0.5.2->statsmodels) (1.16.0)\n",
      "Note: you may need to restart the kernel to use updated packages.\n"
     ]
    }
   ],
   "source": [
    "pip install statsmodels"
   ]
  },
  {
   "cell_type": "markdown",
   "id": "bb14bfa4",
   "metadata": {},
   "source": [
    "<div style=\"border-radius:10px; border:#DEB887 solid; padding: 15px; background-color: #FFFAF0; font-size:100%; text-align:left\">\n",
    "    Проверим, является ли временной ряд стационарным, выполним расширенный тест Дики-Фуллера, в котором используются следующие нулевая и альтернативная гипотезы:\n",
    "<br>H0: Временной ряд является нестационарным. Другими словами, он имеет некоторую структуру, зависящую от времени, и не имеет постоянной дисперсии во времени.\n",
    "<br>H1: Временной ряд является стационарным."
   ]
  },
  {
   "cell_type": "code",
   "execution_count": 8,
   "id": "7507c26c",
   "metadata": {},
   "outputs": [
    {
     "name": "stdout",
     "output_type": "stream",
     "text": [
      "p = 0.028940051402613316\n",
      "Нулевая гипотеза отвергается. Ряд стационарен по расширеннему тесту Дики-Фуллера\n"
     ]
    }
   ],
   "source": [
    "p_value = adfuller(data['num_orders'])[1]\n",
    "print('p =', p_value)\n",
    "if p_value < 0.05:\n",
    "    print('Нулевая гипотеза отвергается. Ряд стационарен по расширеннему тесту Дики-Фуллера')\n",
    "else:\n",
    "    print('Нулевая гипотеза не отвергается. Ряд нестационарен по расширеннему тесту Дики-Фуллера')\n"
   ]
  },
  {
   "cell_type": "markdown",
   "id": "a2b53ba5",
   "metadata": {},
   "source": [
    "<div class=\"alert alert-block alert-info\" style=\"background-color:#FFFAF0;\n",
    "                                                 color:black;\n",
    "                                                 border-color:#DEB887;\n",
    "                                                 border-radius:5px;\n",
    "                                                 width:50%;\n",
    "                                                 margin: auto;\n",
    "                                                 text-align: left;\">\n",
    "\n",
    "<b>✍ Вывод</b>\n",
    "<br>В данных не обнаружены пропуски. Проведено ресемеплирование по одному часу. Временной ряд стационарен.\n",
    "</div>"
   ]
  },
  {
   "cell_type": "markdown",
   "id": "4c818600",
   "metadata": {},
   "source": [
    "<a id=\"Анализ-данных\"></a>\n",
    "<div style=\"padding:20px;\n",
    "            color:white;\n",
    "            margin:10;\n",
    "            font-size:170%;\n",
    "            text-align:left;\n",
    "            display:fill;\n",
    "            border-radius:5px;\n",
    "            background-color:#294B8E;\n",
    "            overflow:hidden;\n",
    "            font-weight:700\"><span style='color:#CDA63A'>|</span> Анализ данных</div>"
   ]
  },
  {
   "cell_type": "code",
   "execution_count": 9,
   "id": "f9b7501b",
   "metadata": {},
   "outputs": [],
   "source": [
    "data = data.drop(columns=['mean', 'std'])"
   ]
  },
  {
   "cell_type": "code",
   "execution_count": 10,
   "id": "79f5a253",
   "metadata": {},
   "outputs": [],
   "source": [
    "decomposed = seasonal_decompose(data)"
   ]
  },
  {
   "cell_type": "code",
   "execution_count": 11,
   "id": "2c3b8b73",
   "metadata": {},
   "outputs": [
    {
     "data": {
      "image/png": "[encoded data removed]",
      "text/plain": [
       "<Figure size 640x480 with 1 Axes>"
      ]
     },
     "metadata": {},
     "output_type": "display_data"
    }
   ],
   "source": [
    "decomposed.seasonal.plot(ax=plt.gca(), title='Seasonality');\n"
   ]
  },
  {
   "cell_type": "code",
   "execution_count": 12,
   "id": "4b2b7147",
   "metadata": {},
   "outputs": [
    {
     "data": {
      "image/png": "[encoded data removed]",
      "text/plain": [
       "<Figure size 640x480 with 1 Axes>"
      ]
     },
     "metadata": {},
     "output_type": "display_data"
    }
   ],
   "source": [
    "decomposed.trend.plot(ax=plt.gca(), title='Trend');"
   ]
  },
  {
   "cell_type": "code",
   "execution_count": 13,
   "id": "29cee2e6",
   "metadata": {},
   "outputs": [
    {
     "data": {
      "image/png": "[encoded data removed]",
      "text/plain": [
       "<Figure size 640x480 with 1 Axes>"
      ]
     },
     "metadata": {},
     "output_type": "display_data"
    }
   ],
   "source": [
    "decomposed.resid.plot(ax=plt.gca(), title='Residuals');"
   ]
  },
  {
   "cell_type": "markdown",
   "id": "b4040aa3",
   "metadata": {},
   "source": [
    "<div class=\"alert alert-block alert-info\" style=\"background-color:#FFFAF0;\n",
    "                                                 color:black;\n",
    "                                                 border-color:#DEB887;\n",
    "                                                 border-radius:5px;\n",
    "                                                 width:50%;\n",
    "                                                 margin: auto;\n",
    "                                                 text-align: left;\">\n",
    "\n",
    "<b>✍ Вывод</b>\n",
    "        <ul>\n",
    "<li>Данные разложены на три составляющие: сезонность, тренд и остаток.</li>\n",
    "<li>Трэнд показывает линейный рост количества заказов со временем.</li> \n",
    "\n",
    "</ul>\n",
    "</div> "
   ]
  },
  {
   "cell_type": "markdown",
   "id": "55a3d698",
   "metadata": {},
   "source": [
    "<a id=\"Создание-признаков\"></a>\n",
    "<div style=\"padding:20px;\n",
    "            color:white;\n",
    "            margin:10;\n",
    "            font-size:170%;\n",
    "            text-align:left;\n",
    "            display:fill;\n",
    "            border-radius:5px;\n",
    "            background-color:#294B8E;\n",
    "            overflow:hidden;\n",
    "            font-weight:700\"><span style='color:#CDA63A'>|</span> Создание признаков</div>"
   ]
  },
  {
   "cell_type": "code",
   "execution_count": 14,
   "id": "951c7a84",
   "metadata": {},
   "outputs": [],
   "source": [
    "def make_features(data, max_lag, rolling_mean_size):\n",
    "    data['year'] = data.index.year\n",
    "    data['month'] = data.index.month\n",
    "    data['day'] = data.index.day\n",
    "    data['dayofweek'] = data.index.dayofweek\n",
    "    \n",
    "    for lag in range(1, max_lag + 1):\n",
    "        data['lag_{}'.format(lag)] = data['num_orders'].shift(lag)\n",
    "\n",
    "    data['rolling_mean'] = data['num_orders'].shift().rolling(rolling_mean_size).mean()\n",
    "    return data"
   ]
  },
  {
   "cell_type": "code",
   "execution_count": 15,
   "id": "c3aae3c5",
   "metadata": {},
   "outputs": [],
   "source": [
    "data = make_features(data, 90, 40)"
   ]
  },
  {
   "cell_type": "markdown",
   "id": "2a0316eb",
   "metadata": {},
   "source": [
    "<div class=\"alert alert-block alert-info\" style=\"background-color:#FFFAF0;\n",
    "                                                 color:black;\n",
    "                                                 border-color:#DEB887;\n",
    "                                                 border-radius:5px;\n",
    "                                                 width:50%;\n",
    "                                                 margin: auto;\n",
    "                                                 text-align: left;\">\n",
    "\n",
    "<b>✍ Вывод</b>\n",
    "        <ul>\n",
    "<li>Созданы календарные признаки, \"отстающие значения\", скользящее среднее. </li>\n",
    "\n",
    "</ul>\n",
    "</div>"
   ]
  },
  {
   "cell_type": "markdown",
   "id": "16d42754",
   "metadata": {},
   "source": [
    "<a id=\"Подготовим-выборки-для-обучения-моделей\"></a>\n",
    "<div style=\"padding:20px;\n",
    "            color:white;\n",
    "            margin:10;\n",
    "            font-size:170%;\n",
    "            text-align:left;\n",
    "            display:fill;\n",
    "            border-radius:5px;\n",
    "            background-color:#294B8E;\n",
    "            overflow:hidden;\n",
    "            font-weight:700\"><span style='color:#CDA63A'>|</span> Подготовим выборки для обучения моделей</div>"
   ]
  },
  {
   "cell_type": "code",
   "execution_count": 16,
   "id": "d1da86d2",
   "metadata": {},
   "outputs": [],
   "source": [
    "train, test_1 = train_test_split(data, shuffle=False, test_size=0.2, random_state=42)\n",
    "valid, test = train_test_split(test_1, shuffle=False, test_size=0.5, random_state=42)\n",
    "train = train.dropna()\n",
    "X_train = train.drop('num_orders', axis=1)\n",
    "y_train = train['num_orders']\n",
    "X_valid = valid.drop('num_orders', axis=1)\n",
    "y_valid = valid['num_orders']\n",
    "X_test = test.drop('num_orders', axis=1)\n",
    "y_test = test['num_orders']"
   ]
  },
  {
   "cell_type": "code",
   "execution_count": 17,
   "id": "04754351",
   "metadata": {},
   "outputs": [
    {
     "name": "stdout",
     "output_type": "stream",
     "text": [
      "Размер обучающей выборки: (3442, 95)\n",
      "Размер валидационной выборки: (442, 95)\n",
      "Размер тестовой  выборки: (442, 95)\n"
     ]
    }
   ],
   "source": [
    "print(f\"Размер обучающей выборки: {X_train.shape}\")\n",
    "\n",
    "print(f\"Размер валидационной выборки: {X_valid.shape}\")\n",
    "\n",
    "print(f\"Размер тестовой  выборки: {X_test.shape}\")"
   ]
  },
  {
   "cell_type": "markdown",
   "id": "f0710562",
   "metadata": {},
   "source": [
    "<div class=\"alert alert-block alert-info\" style=\"background-color:#FFFAF0;\n",
    "                                                 color:black;\n",
    "                                                 border-color:#DEB887;\n",
    "                                                 border-radius:5px;\n",
    "                                                 width:50%;\n",
    "                                                 margin: auto;\n",
    "                                                 text-align: left;\">\n",
    "\n",
    "<b>✍ Вывод</b>\n",
    "        <ul>\n",
    "<li>Данные разделены на обучающую, валидационную и тестовую выборки.</li>\n",
    "\n",
    "</ul>\n",
    "</div>"
   ]
  },
  {
   "cell_type": "markdown",
   "id": "5e4663e6",
   "metadata": {},
   "source": [
    "<a id=\"Обучение-моделей\"></a>\n",
    "<div style=\"padding:20px;\n",
    "            color:white;\n",
    "            margin:10;\n",
    "            font-size:170%;\n",
    "            text-align:left;\n",
    "            display:fill;\n",
    "            border-radius:5px;\n",
    "            background-color:#294B8E;\n",
    "            overflow:hidden;\n",
    "            font-weight:700\"><span style='color:#CDA63A'>|</span> Обучение моделей</div>"
   ]
  },
  {
   "cell_type": "markdown",
   "id": "cb277d35",
   "metadata": {},
   "source": [
    "### <p style=\"font-family:JetBrains Mono; font-weight:bold; letter-spacing: 2px; color:#294B8E; font-size:140%; text-align:left;padding: 0px; border-bottom: 3px solid #294B8E\">CatBoost</p>"
   ]
  },
  {
   "cell_type": "code",
   "execution_count": 18,
   "id": "3f52e2e1",
   "metadata": {},
   "outputs": [],
   "source": [
    "# parametrs_Cat = {'depth': [4,7,10],\n",
    "#                  'learning_rate': [0.03, 0.1, 0.15],\n",
    "#                  'iterations': [100, 200, 300]\n",
    "#               }\n",
    "\n",
    "# cb = cb.CatBoostRegressor(random_state=12345);\n",
    "\n",
    "# grid_search = GridSearchCV(cb, \n",
    "#                            parametrs_Cat, \n",
    "#                            cv = 3,  \n",
    "#                            n_jobs=-1);\n",
    "\n",
    "# grid_search.fit(X_train, y_train);"
   ]
  },
  {
   "cell_type": "code",
   "execution_count": 19,
   "id": "8417d645",
   "metadata": {},
   "outputs": [],
   "source": [
    "#grid_search.best_params_"
   ]
  },
  {
   "cell_type": "code",
   "execution_count": 20,
   "id": "cb8760de",
   "metadata": {},
   "outputs": [],
   "source": [
    "#pred = grid_search.best_estimator_.predict(X_valid)"
   ]
  },
  {
   "cell_type": "markdown",
   "id": "c88199bc",
   "metadata": {},
   "source": [
    "<div style=\"border-radius:10px; border:#DEB887 solid; padding: 15px; background-color: #FFFAF0; font-size:100%; text-align:left\">\n",
    "    Для экономии времени будем использовать лучшие гиперпараметры."
   ]
  },
  {
   "cell_type": "code",
   "execution_count": 21,
   "id": "06aa4a18",
   "metadata": {},
   "outputs": [
    {
     "name": "stdout",
     "output_type": "stream",
     "text": [
      "0:\tlearn: 33.1564915\ttotal: 70.1ms\tremaining: 21s\n",
      "1:\tlearn: 31.0461150\ttotal: 75.2ms\tremaining: 11.2s\n",
      "2:\tlearn: 29.3397153\ttotal: 79.8ms\tremaining: 7.9s\n",
      "3:\tlearn: 27.9243785\ttotal: 84.2ms\tremaining: 6.23s\n",
      "4:\tlearn: 26.6289343\ttotal: 89ms\tremaining: 5.25s\n",
      "5:\tlearn: 25.6622744\ttotal: 94.7ms\tremaining: 4.64s\n",
      "6:\tlearn: 24.7701407\ttotal: 99.6ms\tremaining: 4.17s\n",
      "7:\tlearn: 23.9862857\ttotal: 104ms\tremaining: 3.81s\n",
      "8:\tlearn: 23.3556070\ttotal: 109ms\tremaining: 3.53s\n",
      "9:\tlearn: 22.8882833\ttotal: 114ms\tremaining: 3.31s\n",
      "10:\tlearn: 22.4976974\ttotal: 119ms\tremaining: 3.12s\n",
      "11:\tlearn: 22.1457198\ttotal: 123ms\tremaining: 2.95s\n",
      "12:\tlearn: 21.8779768\ttotal: 127ms\tremaining: 2.81s\n",
      "13:\tlearn: 21.5761496\ttotal: 132ms\tremaining: 2.69s\n",
      "14:\tlearn: 21.3830750\ttotal: 136ms\tremaining: 2.59s\n",
      "15:\tlearn: 21.2033154\ttotal: 141ms\tremaining: 2.51s\n",
      "16:\tlearn: 20.9573345\ttotal: 146ms\tremaining: 2.43s\n",
      "17:\tlearn: 20.7675651\ttotal: 151ms\tremaining: 2.37s\n",
      "18:\tlearn: 20.6369678\ttotal: 156ms\tremaining: 2.3s\n",
      "19:\tlearn: 20.4657927\ttotal: 161ms\tremaining: 2.25s\n",
      "20:\tlearn: 20.3292808\ttotal: 166ms\tremaining: 2.2s\n",
      "21:\tlearn: 20.2444018\ttotal: 170ms\tremaining: 2.15s\n",
      "22:\tlearn: 20.0304521\ttotal: 175ms\tremaining: 2.11s\n",
      "23:\tlearn: 19.8610433\ttotal: 181ms\tremaining: 2.08s\n",
      "24:\tlearn: 19.7303493\ttotal: 187ms\tremaining: 2.05s\n",
      "25:\tlearn: 19.5847666\ttotal: 192ms\tremaining: 2.02s\n",
      "26:\tlearn: 19.4672098\ttotal: 197ms\tremaining: 1.99s\n",
      "27:\tlearn: 19.4222708\ttotal: 201ms\tremaining: 1.95s\n",
      "28:\tlearn: 19.2755358\ttotal: 206ms\tremaining: 1.93s\n",
      "29:\tlearn: 19.2172934\ttotal: 211ms\tremaining: 1.9s\n",
      "30:\tlearn: 19.1270354\ttotal: 215ms\tremaining: 1.86s\n",
      "31:\tlearn: 19.0575644\ttotal: 220ms\tremaining: 1.84s\n",
      "32:\tlearn: 18.9985579\ttotal: 224ms\tremaining: 1.81s\n",
      "33:\tlearn: 18.8820140\ttotal: 229ms\tremaining: 1.79s\n",
      "34:\tlearn: 18.7508206\ttotal: 234ms\tremaining: 1.77s\n",
      "35:\tlearn: 18.6857689\ttotal: 238ms\tremaining: 1.75s\n",
      "36:\tlearn: 18.6224315\ttotal: 243ms\tremaining: 1.73s\n",
      "37:\tlearn: 18.5516575\ttotal: 248ms\tremaining: 1.71s\n",
      "38:\tlearn: 18.5050445\ttotal: 252ms\tremaining: 1.69s\n",
      "39:\tlearn: 18.4639760\ttotal: 257ms\tremaining: 1.67s\n",
      "40:\tlearn: 18.3684357\ttotal: 262ms\tremaining: 1.65s\n",
      "41:\tlearn: 18.2762347\ttotal: 266ms\tremaining: 1.64s\n",
      "42:\tlearn: 18.1922051\ttotal: 273ms\tremaining: 1.63s\n",
      "43:\tlearn: 18.1283636\ttotal: 278ms\tremaining: 1.61s\n",
      "44:\tlearn: 18.0628645\ttotal: 282ms\tremaining: 1.6s\n",
      "45:\tlearn: 18.0136668\ttotal: 287ms\tremaining: 1.58s\n",
      "46:\tlearn: 17.9592402\ttotal: 293ms\tremaining: 1.58s\n",
      "47:\tlearn: 17.9005099\ttotal: 297ms\tremaining: 1.56s\n",
      "48:\tlearn: 17.8192839\ttotal: 303ms\tremaining: 1.55s\n",
      "49:\tlearn: 17.7402937\ttotal: 307ms\tremaining: 1.54s\n",
      "50:\tlearn: 17.6624829\ttotal: 312ms\tremaining: 1.52s\n",
      "51:\tlearn: 17.5753907\ttotal: 317ms\tremaining: 1.51s\n",
      "52:\tlearn: 17.5066115\ttotal: 321ms\tremaining: 1.5s\n",
      "53:\tlearn: 17.4321217\ttotal: 326ms\tremaining: 1.49s\n",
      "54:\tlearn: 17.3373921\ttotal: 331ms\tremaining: 1.47s\n",
      "55:\tlearn: 17.2718722\ttotal: 336ms\tremaining: 1.46s\n",
      "56:\tlearn: 17.2099357\ttotal: 340ms\tremaining: 1.45s\n",
      "57:\tlearn: 17.1775679\ttotal: 344ms\tremaining: 1.44s\n",
      "58:\tlearn: 17.0603893\ttotal: 349ms\tremaining: 1.43s\n",
      "59:\tlearn: 16.9514140\ttotal: 353ms\tremaining: 1.41s\n",
      "60:\tlearn: 16.8903102\ttotal: 358ms\tremaining: 1.4s\n",
      "61:\tlearn: 16.8606269\ttotal: 362ms\tremaining: 1.39s\n",
      "62:\tlearn: 16.8299715\ttotal: 367ms\tremaining: 1.38s\n",
      "63:\tlearn: 16.7528308\ttotal: 372ms\tremaining: 1.37s\n",
      "64:\tlearn: 16.6443677\ttotal: 377ms\tremaining: 1.36s\n",
      "65:\tlearn: 16.6297848\ttotal: 383ms\tremaining: 1.36s\n",
      "66:\tlearn: 16.5349637\ttotal: 387ms\tremaining: 1.35s\n",
      "67:\tlearn: 16.4828816\ttotal: 393ms\tremaining: 1.34s\n",
      "68:\tlearn: 16.4622685\ttotal: 398ms\tremaining: 1.33s\n",
      "69:\tlearn: 16.3827269\ttotal: 402ms\tremaining: 1.32s\n",
      "70:\tlearn: 16.3074716\ttotal: 406ms\tremaining: 1.31s\n",
      "71:\tlearn: 16.2476747\ttotal: 411ms\tremaining: 1.3s\n",
      "72:\tlearn: 16.2069626\ttotal: 415ms\tremaining: 1.29s\n",
      "73:\tlearn: 16.1549600\ttotal: 420ms\tremaining: 1.28s\n",
      "74:\tlearn: 16.0285716\ttotal: 424ms\tremaining: 1.27s\n",
      "75:\tlearn: 16.0213324\ttotal: 429ms\tremaining: 1.26s\n",
      "76:\tlearn: 15.9668682\ttotal: 433ms\tremaining: 1.25s\n",
      "77:\tlearn: 15.8619910\ttotal: 438ms\tremaining: 1.25s\n",
      "78:\tlearn: 15.8036602\ttotal: 442ms\tremaining: 1.24s\n",
      "79:\tlearn: 15.7462407\ttotal: 446ms\tremaining: 1.23s\n",
      "80:\tlearn: 15.6342318\ttotal: 451ms\tremaining: 1.22s\n",
      "81:\tlearn: 15.5811330\ttotal: 455ms\tremaining: 1.21s\n",
      "82:\tlearn: 15.4801955\ttotal: 460ms\tremaining: 1.2s\n",
      "83:\tlearn: 15.4285702\ttotal: 465ms\tremaining: 1.2s\n",
      "84:\tlearn: 15.3420704\ttotal: 470ms\tremaining: 1.19s\n",
      "85:\tlearn: 15.2803030\ttotal: 476ms\tremaining: 1.18s\n",
      "86:\tlearn: 15.2027435\ttotal: 480ms\tremaining: 1.18s\n",
      "87:\tlearn: 15.1689358\ttotal: 486ms\tremaining: 1.17s\n",
      "88:\tlearn: 15.1114685\ttotal: 490ms\tremaining: 1.16s\n",
      "89:\tlearn: 15.0591889\ttotal: 495ms\tremaining: 1.16s\n",
      "90:\tlearn: 15.0285716\ttotal: 500ms\tremaining: 1.15s\n",
      "91:\tlearn: 14.9881979\ttotal: 504ms\tremaining: 1.14s\n",
      "92:\tlearn: 14.9754436\ttotal: 508ms\tremaining: 1.13s\n",
      "93:\tlearn: 14.9450181\ttotal: 513ms\tremaining: 1.12s\n",
      "94:\tlearn: 14.8863326\ttotal: 518ms\tremaining: 1.12s\n",
      "95:\tlearn: 14.8138739\ttotal: 522ms\tremaining: 1.11s\n",
      "96:\tlearn: 14.7551648\ttotal: 527ms\tremaining: 1.1s\n",
      "97:\tlearn: 14.6910197\ttotal: 531ms\tremaining: 1.09s\n",
      "98:\tlearn: 14.5784610\ttotal: 536ms\tremaining: 1.09s\n",
      "99:\tlearn: 14.5369190\ttotal: 541ms\tremaining: 1.08s\n",
      "100:\tlearn: 14.4938897\ttotal: 545ms\tremaining: 1.07s\n",
      "101:\tlearn: 14.4329061\ttotal: 550ms\tremaining: 1.07s\n",
      "102:\tlearn: 14.3862161\ttotal: 555ms\tremaining: 1.06s\n",
      "103:\tlearn: 14.3315825\ttotal: 559ms\tremaining: 1.05s\n",
      "104:\tlearn: 14.2723409\ttotal: 564ms\tremaining: 1.05s\n",
      "105:\tlearn: 14.2101453\ttotal: 569ms\tremaining: 1.04s\n",
      "106:\tlearn: 14.1494514\ttotal: 573ms\tremaining: 1.03s\n",
      "107:\tlearn: 14.0830358\ttotal: 578ms\tremaining: 1.03s\n",
      "108:\tlearn: 14.0466441\ttotal: 584ms\tremaining: 1.02s\n",
      "109:\tlearn: 13.9960249\ttotal: 589ms\tremaining: 1.02s\n",
      "110:\tlearn: 13.9615794\ttotal: 595ms\tremaining: 1.01s\n",
      "111:\tlearn: 13.9184181\ttotal: 601ms\tremaining: 1.01s\n",
      "112:\tlearn: 13.8663343\ttotal: 606ms\tremaining: 1s\n",
      "113:\tlearn: 13.8605072\ttotal: 611ms\tremaining: 997ms\n",
      "114:\tlearn: 13.8548120\ttotal: 615ms\tremaining: 990ms\n",
      "115:\tlearn: 13.7796780\ttotal: 620ms\tremaining: 984ms\n",
      "116:\tlearn: 13.7461608\ttotal: 625ms\tremaining: 977ms\n",
      "117:\tlearn: 13.6763888\ttotal: 629ms\tremaining: 971ms\n",
      "118:\tlearn: 13.6051657\ttotal: 634ms\tremaining: 964ms\n",
      "119:\tlearn: 13.5381231\ttotal: 638ms\tremaining: 957ms\n",
      "120:\tlearn: 13.4669345\ttotal: 644ms\tremaining: 952ms\n",
      "121:\tlearn: 13.4351533\ttotal: 648ms\tremaining: 946ms\n",
      "122:\tlearn: 13.3914886\ttotal: 652ms\tremaining: 939ms\n",
      "123:\tlearn: 13.3184462\ttotal: 657ms\tremaining: 933ms\n",
      "124:\tlearn: 13.2711648\ttotal: 662ms\tremaining: 927ms\n",
      "125:\tlearn: 13.1979609\ttotal: 668ms\tremaining: 923ms\n",
      "126:\tlearn: 13.1891714\ttotal: 673ms\tremaining: 917ms\n",
      "127:\tlearn: 13.1846822\ttotal: 678ms\tremaining: 911ms\n",
      "128:\tlearn: 13.1209213\ttotal: 683ms\tremaining: 905ms\n",
      "129:\tlearn: 13.0747193\ttotal: 687ms\tremaining: 899ms\n",
      "130:\tlearn: 13.0207342\ttotal: 693ms\tremaining: 894ms\n",
      "131:\tlearn: 12.9699148\ttotal: 697ms\tremaining: 887ms\n",
      "132:\tlearn: 12.8928953\ttotal: 702ms\tremaining: 881ms\n",
      "133:\tlearn: 12.8439562\ttotal: 706ms\tremaining: 875ms\n",
      "134:\tlearn: 12.7673336\ttotal: 711ms\tremaining: 869ms\n",
      "135:\tlearn: 12.7115740\ttotal: 715ms\tremaining: 862ms\n",
      "136:\tlearn: 12.6697424\ttotal: 720ms\tremaining: 856ms\n",
      "137:\tlearn: 12.6091071\ttotal: 724ms\tremaining: 850ms\n",
      "138:\tlearn: 12.5884187\ttotal: 729ms\tremaining: 844ms\n",
      "139:\tlearn: 12.5525316\ttotal: 733ms\tremaining: 838ms\n",
      "140:\tlearn: 12.5450584\ttotal: 737ms\tremaining: 832ms\n",
      "141:\tlearn: 12.4789659\ttotal: 742ms\tremaining: 825ms\n",
      "142:\tlearn: 12.3913474\ttotal: 746ms\tremaining: 819ms\n",
      "143:\tlearn: 12.3859877\ttotal: 751ms\tremaining: 814ms\n",
      "144:\tlearn: 12.3287190\ttotal: 756ms\tremaining: 808ms\n",
      "145:\tlearn: 12.2665224\ttotal: 761ms\tremaining: 802ms\n",
      "146:\tlearn: 12.2143381\ttotal: 765ms\tremaining: 796ms\n",
      "147:\tlearn: 12.1621314\ttotal: 771ms\tremaining: 791ms\n",
      "148:\tlearn: 12.1274824\ttotal: 775ms\tremaining: 786ms\n",
      "149:\tlearn: 12.0878261\ttotal: 780ms\tremaining: 780ms\n",
      "150:\tlearn: 12.0688736\ttotal: 786ms\tremaining: 776ms\n",
      "151:\tlearn: 12.0008436\ttotal: 791ms\tremaining: 770ms\n",
      "152:\tlearn: 11.9739081\ttotal: 795ms\tremaining: 764ms\n",
      "153:\tlearn: 11.9101234\ttotal: 800ms\tremaining: 758ms\n",
      "154:\tlearn: 11.8716012\ttotal: 805ms\tremaining: 753ms\n",
      "155:\tlearn: 11.8422875\ttotal: 810ms\tremaining: 748ms\n",
      "156:\tlearn: 11.7979312\ttotal: 816ms\tremaining: 743ms\n",
      "157:\tlearn: 11.7481280\ttotal: 820ms\tremaining: 737ms\n",
      "158:\tlearn: 11.7126036\ttotal: 824ms\tremaining: 731ms\n",
      "159:\tlearn: 11.6683589\ttotal: 829ms\tremaining: 725ms\n",
      "160:\tlearn: 11.6231686\ttotal: 834ms\tremaining: 720ms\n",
      "161:\tlearn: 11.5499784\ttotal: 838ms\tremaining: 714ms\n",
      "162:\tlearn: 11.5076189\ttotal: 844ms\tremaining: 709ms\n",
      "163:\tlearn: 11.4589571\ttotal: 848ms\tremaining: 703ms\n",
      "164:\tlearn: 11.4237083\ttotal: 853ms\tremaining: 698ms\n",
      "165:\tlearn: 11.3694216\ttotal: 857ms\tremaining: 692ms\n",
      "166:\tlearn: 11.3650297\ttotal: 862ms\tremaining: 686ms\n"
     ]
    },
    {
     "name": "stdout",
     "output_type": "stream",
     "text": [
      "167:\tlearn: 11.3242298\ttotal: 867ms\tremaining: 681ms\n",
      "168:\tlearn: 11.2388921\ttotal: 873ms\tremaining: 677ms\n",
      "169:\tlearn: 11.2047314\ttotal: 878ms\tremaining: 671ms\n",
      "170:\tlearn: 11.1816426\ttotal: 883ms\tremaining: 666ms\n",
      "171:\tlearn: 11.1330897\ttotal: 887ms\tremaining: 660ms\n",
      "172:\tlearn: 11.1302753\ttotal: 891ms\tremaining: 654ms\n",
      "173:\tlearn: 11.0881715\ttotal: 896ms\tremaining: 649ms\n",
      "174:\tlearn: 11.0703678\ttotal: 901ms\tremaining: 644ms\n",
      "175:\tlearn: 11.0250445\ttotal: 906ms\tremaining: 638ms\n",
      "176:\tlearn: 11.0223527\ttotal: 910ms\tremaining: 632ms\n",
      "177:\tlearn: 10.9834065\ttotal: 915ms\tremaining: 627ms\n",
      "178:\tlearn: 10.9462131\ttotal: 919ms\tremaining: 621ms\n",
      "179:\tlearn: 10.9165121\ttotal: 923ms\tremaining: 616ms\n",
      "180:\tlearn: 10.8739130\ttotal: 928ms\tremaining: 610ms\n",
      "181:\tlearn: 10.8417163\ttotal: 932ms\tremaining: 604ms\n",
      "182:\tlearn: 10.8087755\ttotal: 937ms\tremaining: 599ms\n",
      "183:\tlearn: 10.7549454\ttotal: 942ms\tremaining: 594ms\n",
      "184:\tlearn: 10.7188996\ttotal: 946ms\tremaining: 588ms\n",
      "185:\tlearn: 10.6749174\ttotal: 951ms\tremaining: 583ms\n",
      "186:\tlearn: 10.6308971\ttotal: 956ms\tremaining: 578ms\n",
      "187:\tlearn: 10.5838082\ttotal: 961ms\tremaining: 572ms\n",
      "188:\tlearn: 10.5433551\ttotal: 966ms\tremaining: 567ms\n",
      "189:\tlearn: 10.4897421\ttotal: 971ms\tremaining: 562ms\n",
      "190:\tlearn: 10.4526927\ttotal: 976ms\tremaining: 557ms\n",
      "191:\tlearn: 10.4104011\ttotal: 980ms\tremaining: 551ms\n",
      "192:\tlearn: 10.3686716\ttotal: 986ms\tremaining: 547ms\n",
      "193:\tlearn: 10.3496874\ttotal: 991ms\tremaining: 541ms\n",
      "194:\tlearn: 10.2976868\ttotal: 995ms\tremaining: 536ms\n",
      "195:\tlearn: 10.2658822\ttotal: 1s\tremaining: 531ms\n",
      "196:\tlearn: 10.2349948\ttotal: 1s\tremaining: 526ms\n",
      "197:\tlearn: 10.1676484\ttotal: 1.01s\tremaining: 520ms\n",
      "198:\tlearn: 10.1258863\ttotal: 1.01s\tremaining: 515ms\n",
      "199:\tlearn: 10.1043463\ttotal: 1.02s\tremaining: 509ms\n",
      "200:\tlearn: 10.0593643\ttotal: 1.02s\tremaining: 504ms\n",
      "201:\tlearn: 10.0163644\ttotal: 1.03s\tremaining: 499ms\n",
      "202:\tlearn: 9.9859752\ttotal: 1.03s\tremaining: 494ms\n",
      "203:\tlearn: 9.9521343\ttotal: 1.04s\tremaining: 489ms\n",
      "204:\tlearn: 9.9369554\ttotal: 1.04s\tremaining: 483ms\n",
      "205:\tlearn: 9.9141360\ttotal: 1.05s\tremaining: 478ms\n",
      "206:\tlearn: 9.9113950\ttotal: 1.05s\tremaining: 473ms\n",
      "207:\tlearn: 9.8507013\ttotal: 1.06s\tremaining: 468ms\n",
      "208:\tlearn: 9.8281892\ttotal: 1.06s\tremaining: 462ms\n",
      "209:\tlearn: 9.7887253\ttotal: 1.07s\tremaining: 457ms\n",
      "210:\tlearn: 9.7864295\ttotal: 1.07s\tremaining: 451ms\n",
      "211:\tlearn: 9.7553344\ttotal: 1.07s\tremaining: 446ms\n",
      "212:\tlearn: 9.7077614\ttotal: 1.08s\tremaining: 441ms\n",
      "213:\tlearn: 9.6632554\ttotal: 1.08s\tremaining: 436ms\n",
      "214:\tlearn: 9.6431176\ttotal: 1.09s\tremaining: 431ms\n",
      "215:\tlearn: 9.5778414\ttotal: 1.09s\tremaining: 425ms\n",
      "216:\tlearn: 9.5427863\ttotal: 1.1s\tremaining: 420ms\n",
      "217:\tlearn: 9.5324923\ttotal: 1.1s\tremaining: 415ms\n",
      "218:\tlearn: 9.5074940\ttotal: 1.11s\tremaining: 410ms\n",
      "219:\tlearn: 9.4807779\ttotal: 1.11s\tremaining: 404ms\n",
      "220:\tlearn: 9.4571358\ttotal: 1.12s\tremaining: 399ms\n",
      "221:\tlearn: 9.4296609\ttotal: 1.12s\tremaining: 394ms\n",
      "222:\tlearn: 9.4051494\ttotal: 1.13s\tremaining: 389ms\n",
      "223:\tlearn: 9.4029534\ttotal: 1.13s\tremaining: 384ms\n",
      "224:\tlearn: 9.3737019\ttotal: 1.14s\tremaining: 379ms\n",
      "225:\tlearn: 9.3248447\ttotal: 1.14s\tremaining: 373ms\n",
      "226:\tlearn: 9.3202244\ttotal: 1.14s\tremaining: 368ms\n",
      "227:\tlearn: 9.2848099\ttotal: 1.15s\tremaining: 363ms\n",
      "228:\tlearn: 9.2624403\ttotal: 1.15s\tremaining: 358ms\n",
      "229:\tlearn: 9.2258368\ttotal: 1.16s\tremaining: 352ms\n",
      "230:\tlearn: 9.1814687\ttotal: 1.17s\tremaining: 349ms\n",
      "231:\tlearn: 9.1424125\ttotal: 1.18s\tremaining: 345ms\n",
      "232:\tlearn: 9.1051099\ttotal: 1.19s\tremaining: 342ms\n",
      "233:\tlearn: 9.0674830\ttotal: 1.2s\tremaining: 338ms\n",
      "234:\tlearn: 9.0393460\ttotal: 1.2s\tremaining: 333ms\n",
      "235:\tlearn: 9.0078931\ttotal: 1.21s\tremaining: 328ms\n",
      "236:\tlearn: 8.9675919\ttotal: 1.21s\tremaining: 323ms\n",
      "237:\tlearn: 8.9435406\ttotal: 1.22s\tremaining: 318ms\n",
      "238:\tlearn: 8.8958633\ttotal: 1.22s\tremaining: 312ms\n",
      "239:\tlearn: 8.8619436\ttotal: 1.23s\tremaining: 307ms\n",
      "240:\tlearn: 8.8268145\ttotal: 1.23s\tremaining: 302ms\n",
      "241:\tlearn: 8.7810739\ttotal: 1.24s\tremaining: 297ms\n",
      "242:\tlearn: 8.7610926\ttotal: 1.24s\tremaining: 292ms\n",
      "243:\tlearn: 8.7159029\ttotal: 1.25s\tremaining: 287ms\n",
      "244:\tlearn: 8.6817317\ttotal: 1.25s\tremaining: 281ms\n",
      "245:\tlearn: 8.6560272\ttotal: 1.26s\tremaining: 276ms\n",
      "246:\tlearn: 8.6289997\ttotal: 1.26s\tremaining: 271ms\n",
      "247:\tlearn: 8.5929875\ttotal: 1.27s\tremaining: 266ms\n",
      "248:\tlearn: 8.5621436\ttotal: 1.27s\tremaining: 261ms\n",
      "249:\tlearn: 8.5328024\ttotal: 1.28s\tremaining: 255ms\n",
      "250:\tlearn: 8.4924774\ttotal: 1.28s\tremaining: 250ms\n",
      "251:\tlearn: 8.4687187\ttotal: 1.29s\tremaining: 245ms\n",
      "252:\tlearn: 8.4458999\ttotal: 1.29s\tremaining: 240ms\n",
      "253:\tlearn: 8.4210208\ttotal: 1.29s\tremaining: 235ms\n",
      "254:\tlearn: 8.3956024\ttotal: 1.3s\tremaining: 229ms\n",
      "255:\tlearn: 8.3601738\ttotal: 1.3s\tremaining: 224ms\n",
      "256:\tlearn: 8.3352019\ttotal: 1.31s\tremaining: 219ms\n",
      "257:\tlearn: 8.2909619\ttotal: 1.31s\tremaining: 214ms\n",
      "258:\tlearn: 8.2559282\ttotal: 1.32s\tremaining: 209ms\n",
      "259:\tlearn: 8.2361694\ttotal: 1.32s\tremaining: 204ms\n",
      "260:\tlearn: 8.2342934\ttotal: 1.33s\tremaining: 198ms\n",
      "261:\tlearn: 8.1981258\ttotal: 1.33s\tremaining: 193ms\n",
      "262:\tlearn: 8.1754037\ttotal: 1.34s\tremaining: 188ms\n",
      "263:\tlearn: 8.1589075\ttotal: 1.34s\tremaining: 183ms\n",
      "264:\tlearn: 8.1203923\ttotal: 1.35s\tremaining: 178ms\n",
      "265:\tlearn: 8.1062635\ttotal: 1.35s\tremaining: 173ms\n",
      "266:\tlearn: 8.0613230\ttotal: 1.36s\tremaining: 168ms\n",
      "267:\tlearn: 8.0193476\ttotal: 1.36s\tremaining: 162ms\n",
      "268:\tlearn: 8.0041489\ttotal: 1.36s\tremaining: 157ms\n",
      "269:\tlearn: 7.9495942\ttotal: 1.37s\tremaining: 152ms\n",
      "270:\tlearn: 7.9180673\ttotal: 1.38s\tremaining: 147ms\n",
      "271:\tlearn: 7.8841705\ttotal: 1.38s\tremaining: 142ms\n",
      "272:\tlearn: 7.8550836\ttotal: 1.39s\tremaining: 137ms\n",
      "273:\tlearn: 7.8198853\ttotal: 1.39s\tremaining: 132ms\n",
      "274:\tlearn: 7.8007953\ttotal: 1.4s\tremaining: 127ms\n",
      "275:\tlearn: 7.7870346\ttotal: 1.4s\tremaining: 122ms\n",
      "276:\tlearn: 7.7848957\ttotal: 1.41s\tremaining: 117ms\n",
      "277:\tlearn: 7.7727637\ttotal: 1.41s\tremaining: 112ms\n",
      "278:\tlearn: 7.7526289\ttotal: 1.42s\tremaining: 107ms\n",
      "279:\tlearn: 7.7372117\ttotal: 1.42s\tremaining: 101ms\n",
      "280:\tlearn: 7.7054369\ttotal: 1.43s\tremaining: 96.4ms\n",
      "281:\tlearn: 7.6774663\ttotal: 1.43s\tremaining: 91.2ms\n",
      "282:\tlearn: 7.6599394\ttotal: 1.43s\tremaining: 86.1ms\n",
      "283:\tlearn: 7.6451870\ttotal: 1.44s\tremaining: 81ms\n",
      "284:\tlearn: 7.6136548\ttotal: 1.44s\tremaining: 75.9ms\n",
      "285:\tlearn: 7.5785521\ttotal: 1.45s\tremaining: 70.8ms\n",
      "286:\tlearn: 7.5450843\ttotal: 1.45s\tremaining: 65.8ms\n",
      "287:\tlearn: 7.5269310\ttotal: 1.46s\tremaining: 60.7ms\n",
      "288:\tlearn: 7.4971695\ttotal: 1.46s\tremaining: 55.6ms\n",
      "289:\tlearn: 7.4697292\ttotal: 1.47s\tremaining: 50.5ms\n",
      "290:\tlearn: 7.4558454\ttotal: 1.47s\tremaining: 45.5ms\n",
      "291:\tlearn: 7.4166298\ttotal: 1.47s\tremaining: 40.4ms\n",
      "292:\tlearn: 7.3878713\ttotal: 1.48s\tremaining: 35.3ms\n",
      "293:\tlearn: 7.3839937\ttotal: 1.48s\tremaining: 30.3ms\n",
      "294:\tlearn: 7.3530286\ttotal: 1.49s\tremaining: 25.2ms\n",
      "295:\tlearn: 7.3218982\ttotal: 1.49s\tremaining: 20.2ms\n",
      "296:\tlearn: 7.3034403\ttotal: 1.5s\tremaining: 15.1ms\n",
      "297:\tlearn: 7.2882202\ttotal: 1.5s\tremaining: 10.1ms\n",
      "298:\tlearn: 7.2662421\ttotal: 1.51s\tremaining: 5.04ms\n",
      "299:\tlearn: 7.2511372\ttotal: 1.51s\tremaining: 0us\n"
     ]
    }
   ],
   "source": [
    "cb = CatBoostRegressor(random_state=12345, depth=7, learning_rate=0.15, iterations=300);\n",
    "cb.fit(X_train, y_train);\n",
    "pred = cb.predict(X_valid)"
   ]
  },
  {
   "cell_type": "code",
   "execution_count": 22,
   "id": "35b05317",
   "metadata": {},
   "outputs": [
    {
     "name": "stdout",
     "output_type": "stream",
     "text": [
      "RMSE для CatBoost модели на валидационной выборке:  31.147847699749775\n"
     ]
    }
   ],
   "source": [
    "mse_cat = mean_squared_error(y_valid, pred)\n",
    "rmse_cat = (mse_cat) ** 0.5\n",
    "print('RMSE для CatBoost модели на валидационной выборке: ',rmse_cat)"
   ]
  },
  {
   "cell_type": "markdown",
   "id": "613dd178",
   "metadata": {},
   "source": [
    "### <p style=\"font-family:JetBrains Mono; font-weight:bold; letter-spacing: 2px; color:#294B8E; font-size:140%; text-align:left;padding: 0px; border-bottom: 3px solid #294B8E\">XGBoost</p>"
   ]
  },
  {
   "cell_type": "code",
   "execution_count": 23,
   "id": "79bdcd5b",
   "metadata": {},
   "outputs": [
    {
     "data": {
      "text/plain": [
       "XGBRegressor(base_score=None, booster=None, callbacks=None,\n",
       "             colsample_bylevel=None, colsample_bynode=None,\n",
       "             colsample_bytree=None, early_stopping_rounds=None,\n",
       "             enable_categorical=False, eval_metric=None, feature_types=None,\n",
       "             gamma=None, gpu_id=None, grow_policy=None, importance_type=None,\n",
       "             interaction_constraints=None, learning_rate=0.1, max_bin=None,\n",
       "             max_cat_threshold=None, max_cat_to_onehot=None,\n",
       "             max_delta_step=None, max_depth=35, max_leaves=None,\n",
       "             min_child_weight=None, missing=nan, monotone_constraints=None,\n",
       "             n_estimators=100, n_jobs=None, num_parallel_tree=None,\n",
       "             predictor=None, random_state=12345, ...)"
      ]
     },
     "execution_count": 23,
     "metadata": {},
     "output_type": "execute_result"
    }
   ],
   "source": [
    "xgb = XGBRegressor(random_state=12345, learning_rate=0.1, max_depth=35)\n",
    "xgb.fit(X_train, y_train)"
   ]
  },
  {
   "cell_type": "code",
   "execution_count": 24,
   "id": "bbd9b797",
   "metadata": {},
   "outputs": [],
   "source": [
    "preds_xgb= xgb.predict(X_valid)"
   ]
  },
  {
   "cell_type": "code",
   "execution_count": 25,
   "id": "87902ab5",
   "metadata": {},
   "outputs": [
    {
     "name": "stdout",
     "output_type": "stream",
     "text": [
      "RMSE для XGBoost модели на валидационной выборке:  34.56975824042725\n"
     ]
    }
   ],
   "source": [
    "mse_xgb = mean_squared_error(y_valid, preds_xgb)\n",
    "rmse_xgb = mse_xgb** 0.5\n",
    "print('RMSE для XGBoost модели на валидационной выборке: ', rmse_xgb)"
   ]
  },
  {
   "cell_type": "markdown",
   "id": "d3061b6e",
   "metadata": {},
   "source": [
    "### <p style=\"font-family:JetBrains Mono; font-weight:bold; letter-spacing: 2px; color:#294B8E; font-size:140%; text-align:left;padding: 0px; border-bottom: 3px solid #294B8E\">LightGBM</p>"
   ]
  },
  {
   "cell_type": "code",
   "execution_count": 26,
   "id": "c6f72e27",
   "metadata": {},
   "outputs": [],
   "source": [
    "param_light = {'learning_rate': [0.1, 0.3, 0.5, 0.7],\n",
    "               'max_depth': [15, 20, 30, 35],\n",
    "              }\n",
    "\n",
    "lgbm = LGBMRegressor(random_state = 12345)\n",
    "\n",
    "#инициализируем GridSearchCV\n",
    "grid_search = GridSearchCV(estimator = lgbm, \n",
    "                            param_grid = param_light, \n",
    "                            cv = 3,\n",
    "                            n_jobs = -1\n",
    "                           );\n",
    "grid_search.fit(X_train, y_train);"
   ]
  },
  {
   "cell_type": "code",
   "execution_count": 27,
   "id": "e8087060",
   "metadata": {},
   "outputs": [
    {
     "data": {
      "text/plain": [
       "{'learning_rate': 0.1, 'max_depth': 15}"
      ]
     },
     "execution_count": 27,
     "metadata": {},
     "output_type": "execute_result"
    }
   ],
   "source": [
    "grid_search.best_params_"
   ]
  },
  {
   "cell_type": "code",
   "execution_count": 28,
   "id": "0fa1275b",
   "metadata": {},
   "outputs": [],
   "source": [
    "preds_lgbm = grid_search.best_estimator_.predict(X_valid)"
   ]
  },
  {
   "cell_type": "code",
   "execution_count": 29,
   "id": "f966e3c8",
   "metadata": {},
   "outputs": [
    {
     "name": "stdout",
     "output_type": "stream",
     "text": [
      "RMSE для LightGBM модели на валидационной выборке:  30.910914961990674\n"
     ]
    }
   ],
   "source": [
    "mse_lgbm = mean_squared_error(y_valid, preds_lgbm)\n",
    "rmse_lgbm = mse_lgbm** 0.5\n",
    "print('RMSE для LightGBM модели на валидационной выборке: ', rmse_lgbm)"
   ]
  },
  {
   "cell_type": "markdown",
   "id": "c96cc6e4",
   "metadata": {},
   "source": [
    "### <p style=\"font-family:JetBrains Mono; font-weight:bold; letter-spacing: 2px; color:#294B8E; font-size:140%; text-align:left;padding: 0px; border-bottom: 3px solid #294B8E\">DecisionTree</p>"
   ]
  },
  {
   "cell_type": "code",
   "execution_count": 30,
   "id": "46f45c71",
   "metadata": {},
   "outputs": [
    {
     "data": {
      "text/plain": [
       "GridSearchCV(cv=2, estimator=DecisionTreeRegressor(random_state=12345),\n",
       "             param_grid={'max_depth': [35, 80]},\n",
       "             scoring='neg_mean_squared_error')"
      ]
     },
     "execution_count": 30,
     "metadata": {},
     "output_type": "execute_result"
    }
   ],
   "source": [
    "parametrs_DT = {'max_depth': [35, 80]}\n",
    "\n",
    "DT = DecisionTreeRegressor(random_state=12345)\n",
    "\n",
    "#инициализируем GridSearchCV\n",
    "grid_search = GridSearchCV(DT, \n",
    "                             parametrs_DT, \n",
    "                             scoring='neg_mean_squared_error', \n",
    "                             cv=2\n",
    "                            )\n",
    "grid_search.fit(X_train, y_train)\n"
   ]
  },
  {
   "cell_type": "code",
   "execution_count": 31,
   "id": "22af2d03",
   "metadata": {},
   "outputs": [
    {
     "data": {
      "text/plain": [
       "{'max_depth': 35}"
      ]
     },
     "execution_count": 31,
     "metadata": {},
     "output_type": "execute_result"
    }
   ],
   "source": [
    "grid_search.best_params_"
   ]
  },
  {
   "cell_type": "code",
   "execution_count": 32,
   "id": "fad2f50f",
   "metadata": {},
   "outputs": [],
   "source": [
    "preds_DT = grid_search.best_estimator_.predict(X_valid)"
   ]
  },
  {
   "cell_type": "code",
   "execution_count": 33,
   "id": "1c236bbe",
   "metadata": {},
   "outputs": [
    {
     "name": "stdout",
     "output_type": "stream",
     "text": [
      "RMSE для Decision Tree модели на валидационной выборке:  45.41468058535349\n"
     ]
    }
   ],
   "source": [
    "mse_DT = mean_squared_error(y_valid, preds_DT)\n",
    "rmse_DT = (mse_DT) ** 0.5\n",
    "print('RMSE для Decision Tree модели на валидационной выборке: ',rmse_DT)"
   ]
  },
  {
   "cell_type": "markdown",
   "id": "585995a8",
   "metadata": {},
   "source": [
    "### <p style=\"font-family:JetBrains Mono; font-weight:bold; letter-spacing: 2px; color:#294B8E; font-size:140%; text-align:left;padding: 0px; border-bottom: 3px solid #294B8E\">RandomForest</p>"
   ]
  },
  {
   "cell_type": "code",
   "execution_count": 34,
   "id": "630f79b5",
   "metadata": {},
   "outputs": [],
   "source": [
    "# parametrs_RF = {'max_depth': [35, 80],\n",
    "#                'n_estimators': [80, 100]}\n",
    "\n",
    "# RF = RandomForestRegressor(random_state=12345)\n",
    "\n",
    "# #инициализируем GridSearchCV\n",
    "# grid_search = GridSearchCV(RF, \n",
    "#                              parametrs_RF, \n",
    "#                              scoring='neg_mean_squared_error', \n",
    "#                              cv=2\n",
    "#                             )\n",
    "# grid_search.fit(X_train, y_train)\n"
   ]
  },
  {
   "cell_type": "code",
   "execution_count": 35,
   "id": "9811c16c",
   "metadata": {},
   "outputs": [],
   "source": [
    "# grid_search.best_params_"
   ]
  },
  {
   "cell_type": "code",
   "execution_count": 36,
   "id": "599094eb",
   "metadata": {},
   "outputs": [],
   "source": [
    "# preds_RF = grid_search.best_estimator_.predict(X_valid)"
   ]
  },
  {
   "cell_type": "markdown",
   "id": "ed777f55",
   "metadata": {},
   "source": [
    "<div style=\"border-radius:10px; border:#DEB887 solid; padding: 15px; background-color: #FFFAF0; font-size:100%; text-align:left\">\n",
    "    Для экономии времени будем использовать лучшие гиперпараметры."
   ]
  },
  {
   "cell_type": "code",
   "execution_count": 37,
   "id": "688c027f",
   "metadata": {},
   "outputs": [],
   "source": [
    "RF = RandomForestRegressor(random_state=12345, max_depth=35, n_estimators=80)\n",
    "RF.fit(X_train, y_train)\n",
    "preds_RF = RF.predict(X_valid)"
   ]
  },
  {
   "cell_type": "code",
   "execution_count": 38,
   "id": "bc06c8e6",
   "metadata": {},
   "outputs": [
    {
     "name": "stdout",
     "output_type": "stream",
     "text": [
      "RMSE для Random Forest модели на валидационной выборке:  31.984818850164338\n"
     ]
    }
   ],
   "source": [
    "mse_RF = mean_squared_error(y_valid, preds_RF)\n",
    "rmse_RF = (mse_RF) ** 0.5\n",
    "print('RMSE для Random Forest модели на валидационной выборке: ',rmse_RF)"
   ]
  },
  {
   "cell_type": "markdown",
   "id": "a8dead11",
   "metadata": {},
   "source": [
    "### <p style=\"font-family:JetBrains Mono; font-weight:bold; letter-spacing: 2px; color:#294B8E; font-size:140%; text-align:left;padding: 0px; border-bottom: 3px solid #294B8E\">LinearRegression</p>"
   ]
  },
  {
   "cell_type": "code",
   "execution_count": 39,
   "id": "aa9168c9",
   "metadata": {},
   "outputs": [
    {
     "data": {
      "text/plain": [
       "LinearRegression()"
      ]
     },
     "execution_count": 39,
     "metadata": {},
     "output_type": "execute_result"
    }
   ],
   "source": [
    "LR = LinearRegression()\n",
    "LR.fit(X_train, y_train)"
   ]
  },
  {
   "cell_type": "code",
   "execution_count": 40,
   "id": "6fbf35c3",
   "metadata": {},
   "outputs": [],
   "source": [
    "pred_LR = LR.predict(X_valid)"
   ]
  },
  {
   "cell_type": "code",
   "execution_count": 41,
   "id": "b924d52b",
   "metadata": {},
   "outputs": [
    {
     "name": "stdout",
     "output_type": "stream",
     "text": [
      "RMSE для Linear Regresion модели на валидационной выборке:  30.846018339970367\n"
     ]
    }
   ],
   "source": [
    "mse_LR = mean_squared_error(y_valid, pred_LR)\n",
    "rmse_LR = (mse_LR) ** 0.5\n",
    "print('RMSE для Linear Regresion модели на валидационной выборке: ', rmse_LR)"
   ]
  },
  {
   "cell_type": "markdown",
   "id": "da27529b",
   "metadata": {},
   "source": [
    "### <p style=\"font-family:JetBrains Mono; font-weight:bold; letter-spacing: 2px; color:#294B8E; font-size:140%; text-align:left;padding: 0px; border-bottom: 3px solid #294B8E\">Lasso Regression</p>"
   ]
  },
  {
   "cell_type": "code",
   "execution_count": 42,
   "id": "50f1ae2e",
   "metadata": {},
   "outputs": [],
   "source": [
    "lasso_model = Lasso(alpha=1.0)\n",
    "lasso=lasso_model.fit(X_train , y_train)"
   ]
  },
  {
   "cell_type": "code",
   "execution_count": 43,
   "id": "bb2e8d45",
   "metadata": {},
   "outputs": [],
   "source": [
    "lasso_predict = lasso.predict(X_valid)"
   ]
  },
  {
   "cell_type": "code",
   "execution_count": 44,
   "id": "e2d98597",
   "metadata": {},
   "outputs": [
    {
     "name": "stdout",
     "output_type": "stream",
     "text": [
      "RMSE для Lasso Regresion модели на валидационной выборке:  30.633219092969373\n"
     ]
    }
   ],
   "source": [
    "mse_lasso = mean_squared_error(y_valid, lasso_predict)\n",
    "rmse_lasso = (mse_lasso) ** 0.5\n",
    "print('RMSE для Lasso Regresion модели на валидационной выборке: ', rmse_lasso)"
   ]
  },
  {
   "cell_type": "markdown",
   "id": "f33abd91",
   "metadata": {},
   "source": [
    "### <p style=\"font-family:JetBrains Mono; font-weight:bold; letter-spacing: 2px; color:#294B8E; font-size:140%; text-align:left;padding: 0px; border-bottom: 3px solid #294B8E\">Ridge Regression</p>"
   ]
  },
  {
   "cell_type": "code",
   "execution_count": 45,
   "id": "d4b4016e",
   "metadata": {},
   "outputs": [],
   "source": [
    "ridge_model = Ridge(alpha=1.0)\n",
    "ridge=ridge_model.fit(X_train , y_train)"
   ]
  },
  {
   "cell_type": "code",
   "execution_count": 46,
   "id": "261e4c19",
   "metadata": {},
   "outputs": [],
   "source": [
    "ridge_predict = ridge.predict(X_valid)"
   ]
  },
  {
   "cell_type": "code",
   "execution_count": 47,
   "id": "d7e48810",
   "metadata": {},
   "outputs": [
    {
     "name": "stdout",
     "output_type": "stream",
     "text": [
      "RMSE для Ridge Regresion модели на валидационной выборке:  30.844578716983463\n"
     ]
    }
   ],
   "source": [
    "mse_ridge = mean_squared_error(y_valid, ridge_predict)\n",
    "rmse_ridge = (mse_ridge) ** 0.5\n",
    "print('RMSE для Ridge Regresion модели на валидационной выборке: ', rmse_ridge)"
   ]
  },
  {
   "cell_type": "markdown",
   "id": "3ac048d6",
   "metadata": {},
   "source": [
    "<a id=\"Сравнение-моделей\"></a>\n",
    "<div style=\"padding:20px;\n",
    "            color:white;\n",
    "            margin:10;\n",
    "            font-size:170%;\n",
    "            text-align:left;\n",
    "            display:fill;\n",
    "            border-radius:5px;\n",
    "            background-color:#294B8E;\n",
    "            overflow:hidden;\n",
    "            font-weight:700\"><span style='color:#CDA63A'>|</span> Сравнение моделей</div>"
   ]
  },
  {
   "cell_type": "markdown",
   "id": "e5c78508",
   "metadata": {},
   "source": [
    "### <p style=\"font-family:JetBrains Mono; font-weight:bold; letter-spacing: 2px; color:#294B8E; font-size:140%; text-align:left;padding: 0px; border-bottom: 3px solid #294B8E\">Oценка качества моделей с помощью метрики RMSE</p>"
   ]
  },
  {
   "cell_type": "code",
   "execution_count": 48,
   "id": "40950aa7",
   "metadata": {},
   "outputs": [
    {
     "name": "stdout",
     "output_type": "stream",
     "text": [
      "+----+------------------+---------+\n",
      "|    | Models           |    RMSE |\n",
      "|----+------------------+---------|\n",
      "|  0 | XGBoost          | 34.5698 |\n",
      "|  1 | LightGBM         | 30.9109 |\n",
      "|  2 | CatBoost         | 31.1478 |\n",
      "|  3 | Decision Tree    | 45.4147 |\n",
      "|  4 | Random Forest    | 31.9848 |\n",
      "|  5 | Linear Regresion | 30.846  |\n",
      "|  6 | Lasso Regresion  | 30.6332 |\n",
      "|  7 | Ridge Regresion  | 30.8446 |\n",
      "+----+------------------+---------+\n"
     ]
    }
   ],
   "source": [
    "data_RMSE={'Models':['XGBoost','LightGBM','CatBoost', 'Decision Tree', 'Random Forest','Linear Regresion', 'Lasso Regresion','Ridge Regresion'],\n",
    "      'RMSE': [rmse_xgb, rmse_lgbm, rmse_cat, rmse_DT, rmse_RF, rmse_LR, rmse_lasso, rmse_ridge]}\n",
    "df_RMSE=pd.DataFrame(data_RMSE)\n",
    "print(tabulate(df_RMSE, headers='keys', tablefmt='psql'))"
   ]
  },
  {
   "cell_type": "markdown",
   "id": "7fba80b6",
   "metadata": {},
   "source": [
    "<div class=\"alert alert-block alert-info\" style=\"background-color:#FFFAF0;\n",
    "                                                 color:black;\n",
    "                                                 border-color:#DEB887;\n",
    "                                                 border-radius:5px;\n",
    "                                                 width:50%;\n",
    "                                                 margin: auto;\n",
    "                                                 text-align: left;\">\n",
    "\n",
    "<b>✍ Вывод</b>\n",
    "        <ul>\n",
    "<li>Из исследований следует вывод, что самая высокое RMSE у Decision Tree при тестировании на валидационной выборке. </li>   \n",
    "<li>XGBoost, Random Forest, LightGBM, CatBoost, Linear Regresion, Lasso Regresion, Ridge Regresion показали хорошие результаты, т.к. их метрика была меньше 48. Протестируем модели на тестовой выборке.</li>\n",
    "</ul>\n",
    "</div>"
   ]
  },
  {
   "cell_type": "markdown",
   "id": "a40e7768",
   "metadata": {},
   "source": [
    "<a id=\"Тестирование-моделей\"></a>\n",
    "<div style=\"padding:20px;\n",
    "            color:white;\n",
    "            margin:10;\n",
    "            font-size:170%;\n",
    "            text-align:left;\n",
    "            display:fill;\n",
    "            border-radius:5px;\n",
    "            background-color:#294B8E;\n",
    "            overflow:hidden;\n",
    "            font-weight:700\"><span style='color:#CDA63A'>|</span> Тестирование моделей</div>"
   ]
  },
  {
   "cell_type": "markdown",
   "id": "1ff25307",
   "metadata": {},
   "source": [
    "### <p style=\"font-family:JetBrains Mono; font-weight:bold; letter-spacing: 2px; color:#294B8E; font-size:140%; text-align:left;padding: 0px; border-bottom: 3px solid #294B8E\">CatBoost</p>"
   ]
  },
  {
   "cell_type": "code",
   "execution_count": 49,
   "id": "a687e2dc",
   "metadata": {},
   "outputs": [
    {
     "name": "stdout",
     "output_type": "stream",
     "text": [
      "0:\tlearn: 33.1564915\ttotal: 15.6ms\tremaining: 4.67s\n",
      "1:\tlearn: 31.0461150\ttotal: 21.9ms\tremaining: 3.26s\n",
      "2:\tlearn: 29.3397153\ttotal: 27.6ms\tremaining: 2.73s\n",
      "3:\tlearn: 27.9243785\ttotal: 32.8ms\tremaining: 2.42s\n",
      "4:\tlearn: 26.6289343\ttotal: 38.1ms\tremaining: 2.25s\n",
      "5:\tlearn: 25.6622744\ttotal: 42.8ms\tremaining: 2.1s\n",
      "6:\tlearn: 24.7701407\ttotal: 48.4ms\tremaining: 2.03s\n",
      "7:\tlearn: 23.9862857\ttotal: 53.9ms\tremaining: 1.97s\n",
      "8:\tlearn: 23.3556070\ttotal: 59.6ms\tremaining: 1.93s\n",
      "9:\tlearn: 22.8882833\ttotal: 64.9ms\tremaining: 1.88s\n",
      "10:\tlearn: 22.4976974\ttotal: 70.6ms\tremaining: 1.85s\n",
      "11:\tlearn: 22.1457198\ttotal: 77.1ms\tremaining: 1.85s\n",
      "12:\tlearn: 21.8779768\ttotal: 82.2ms\tremaining: 1.81s\n",
      "13:\tlearn: 21.5761496\ttotal: 88ms\tremaining: 1.8s\n",
      "14:\tlearn: 21.3830750\ttotal: 93.8ms\tremaining: 1.78s\n",
      "15:\tlearn: 21.2033154\ttotal: 99.5ms\tremaining: 1.76s\n",
      "16:\tlearn: 20.9573345\ttotal: 105ms\tremaining: 1.74s\n",
      "17:\tlearn: 20.7675651\ttotal: 111ms\tremaining: 1.73s\n",
      "18:\tlearn: 20.6369678\ttotal: 116ms\tremaining: 1.71s\n",
      "19:\tlearn: 20.4657927\ttotal: 122ms\tremaining: 1.7s\n",
      "20:\tlearn: 20.3292808\ttotal: 127ms\tremaining: 1.69s\n",
      "21:\tlearn: 20.2444018\ttotal: 133ms\tremaining: 1.68s\n",
      "22:\tlearn: 20.0304521\ttotal: 138ms\tremaining: 1.67s\n",
      "23:\tlearn: 19.8610433\ttotal: 144ms\tremaining: 1.65s\n",
      "24:\tlearn: 19.7303493\ttotal: 149ms\tremaining: 1.63s\n",
      "25:\tlearn: 19.5847666\ttotal: 154ms\tremaining: 1.62s\n",
      "26:\tlearn: 19.4672098\ttotal: 160ms\tremaining: 1.61s\n",
      "27:\tlearn: 19.4222708\ttotal: 165ms\tremaining: 1.6s\n",
      "28:\tlearn: 19.2755358\ttotal: 170ms\tremaining: 1.59s\n",
      "29:\tlearn: 19.2172934\ttotal: 176ms\tremaining: 1.58s\n",
      "30:\tlearn: 19.1270354\ttotal: 181ms\tremaining: 1.57s\n",
      "31:\tlearn: 19.0575644\ttotal: 186ms\tremaining: 1.56s\n",
      "32:\tlearn: 18.9985579\ttotal: 192ms\tremaining: 1.56s\n",
      "33:\tlearn: 18.8820140\ttotal: 197ms\tremaining: 1.54s\n",
      "34:\tlearn: 18.7508206\ttotal: 202ms\tremaining: 1.53s\n",
      "35:\tlearn: 18.6857689\ttotal: 207ms\tremaining: 1.52s\n",
      "36:\tlearn: 18.6224315\ttotal: 212ms\tremaining: 1.5s\n",
      "37:\tlearn: 18.5516575\ttotal: 217ms\tremaining: 1.49s\n",
      "38:\tlearn: 18.5050445\ttotal: 223ms\tremaining: 1.49s\n",
      "39:\tlearn: 18.4639760\ttotal: 228ms\tremaining: 1.48s\n",
      "40:\tlearn: 18.3684357\ttotal: 232ms\tremaining: 1.47s\n",
      "41:\tlearn: 18.2762347\ttotal: 237ms\tremaining: 1.45s\n",
      "42:\tlearn: 18.1922051\ttotal: 241ms\tremaining: 1.44s\n",
      "43:\tlearn: 18.1283636\ttotal: 246ms\tremaining: 1.43s\n",
      "44:\tlearn: 18.0628645\ttotal: 251ms\tremaining: 1.42s\n",
      "45:\tlearn: 18.0136668\ttotal: 255ms\tremaining: 1.41s\n",
      "46:\tlearn: 17.9592402\ttotal: 261ms\tremaining: 1.4s\n",
      "47:\tlearn: 17.9005099\ttotal: 265ms\tremaining: 1.39s\n",
      "48:\tlearn: 17.8192839\ttotal: 269ms\tremaining: 1.38s\n",
      "49:\tlearn: 17.7402937\ttotal: 274ms\tremaining: 1.37s\n",
      "50:\tlearn: 17.6624829\ttotal: 279ms\tremaining: 1.36s\n",
      "51:\tlearn: 17.5753907\ttotal: 285ms\tremaining: 1.36s\n",
      "52:\tlearn: 17.5066115\ttotal: 290ms\tremaining: 1.35s\n",
      "53:\tlearn: 17.4321217\ttotal: 295ms\tremaining: 1.34s\n",
      "54:\tlearn: 17.3373921\ttotal: 300ms\tremaining: 1.34s\n",
      "55:\tlearn: 17.2718722\ttotal: 306ms\tremaining: 1.33s\n",
      "56:\tlearn: 17.2099357\ttotal: 310ms\tremaining: 1.32s\n",
      "57:\tlearn: 17.1775679\ttotal: 315ms\tremaining: 1.31s\n",
      "58:\tlearn: 17.0603893\ttotal: 320ms\tremaining: 1.3s\n",
      "59:\tlearn: 16.9514140\ttotal: 324ms\tremaining: 1.3s\n",
      "60:\tlearn: 16.8903102\ttotal: 330ms\tremaining: 1.29s\n",
      "61:\tlearn: 16.8606269\ttotal: 334ms\tremaining: 1.28s\n",
      "62:\tlearn: 16.8299715\ttotal: 339ms\tremaining: 1.28s\n",
      "63:\tlearn: 16.7528308\ttotal: 344ms\tremaining: 1.27s\n",
      "64:\tlearn: 16.6443677\ttotal: 349ms\tremaining: 1.26s\n",
      "65:\tlearn: 16.6297848\ttotal: 354ms\tremaining: 1.25s\n",
      "66:\tlearn: 16.5349637\ttotal: 359ms\tremaining: 1.25s\n",
      "67:\tlearn: 16.4828816\ttotal: 365ms\tremaining: 1.25s\n",
      "68:\tlearn: 16.4622685\ttotal: 370ms\tremaining: 1.24s\n",
      "69:\tlearn: 16.3827269\ttotal: 375ms\tremaining: 1.23s\n",
      "70:\tlearn: 16.3074716\ttotal: 381ms\tremaining: 1.23s\n",
      "71:\tlearn: 16.2476747\ttotal: 387ms\tremaining: 1.23s\n",
      "72:\tlearn: 16.2069626\ttotal: 392ms\tremaining: 1.22s\n",
      "73:\tlearn: 16.1549600\ttotal: 397ms\tremaining: 1.21s\n",
      "74:\tlearn: 16.0285716\ttotal: 402ms\tremaining: 1.21s\n",
      "75:\tlearn: 16.0213324\ttotal: 407ms\tremaining: 1.2s\n",
      "76:\tlearn: 15.9668682\ttotal: 412ms\tremaining: 1.19s\n",
      "77:\tlearn: 15.8619910\ttotal: 417ms\tremaining: 1.19s\n",
      "78:\tlearn: 15.8036602\ttotal: 422ms\tremaining: 1.18s\n",
      "79:\tlearn: 15.7462407\ttotal: 427ms\tremaining: 1.17s\n",
      "80:\tlearn: 15.6342318\ttotal: 432ms\tremaining: 1.17s\n",
      "81:\tlearn: 15.5811330\ttotal: 437ms\tremaining: 1.16s\n",
      "82:\tlearn: 15.4801955\ttotal: 442ms\tremaining: 1.16s\n",
      "83:\tlearn: 15.4285702\ttotal: 447ms\tremaining: 1.15s\n",
      "84:\tlearn: 15.3420704\ttotal: 452ms\tremaining: 1.14s\n",
      "85:\tlearn: 15.2803030\ttotal: 457ms\tremaining: 1.14s\n",
      "86:\tlearn: 15.2027435\ttotal: 461ms\tremaining: 1.13s\n",
      "87:\tlearn: 15.1689358\ttotal: 465ms\tremaining: 1.12s\n",
      "88:\tlearn: 15.1114685\ttotal: 472ms\tremaining: 1.12s\n",
      "89:\tlearn: 15.0591889\ttotal: 477ms\tremaining: 1.11s\n",
      "90:\tlearn: 15.0285716\ttotal: 482ms\tremaining: 1.11s\n",
      "91:\tlearn: 14.9881979\ttotal: 487ms\tremaining: 1.1s\n",
      "92:\tlearn: 14.9754436\ttotal: 491ms\tremaining: 1.09s\n",
      "93:\tlearn: 14.9450181\ttotal: 496ms\tremaining: 1.09s\n",
      "94:\tlearn: 14.8863326\ttotal: 500ms\tremaining: 1.08s\n",
      "95:\tlearn: 14.8138739\ttotal: 505ms\tremaining: 1.07s\n",
      "96:\tlearn: 14.7551648\ttotal: 510ms\tremaining: 1.07s\n",
      "97:\tlearn: 14.6910197\ttotal: 514ms\tremaining: 1.06s\n",
      "98:\tlearn: 14.5784610\ttotal: 519ms\tremaining: 1.05s\n",
      "99:\tlearn: 14.5369190\ttotal: 524ms\tremaining: 1.05s\n",
      "100:\tlearn: 14.4938897\ttotal: 529ms\tremaining: 1.04s\n",
      "101:\tlearn: 14.4329061\ttotal: 535ms\tremaining: 1.04s\n",
      "102:\tlearn: 14.3862161\ttotal: 539ms\tremaining: 1.03s\n",
      "103:\tlearn: 14.3315825\ttotal: 543ms\tremaining: 1.02s\n",
      "104:\tlearn: 14.2723409\ttotal: 548ms\tremaining: 1.02s\n",
      "105:\tlearn: 14.2101453\ttotal: 553ms\tremaining: 1.01s\n",
      "106:\tlearn: 14.1494514\ttotal: 558ms\tremaining: 1.01s\n",
      "107:\tlearn: 14.0830358\ttotal: 563ms\tremaining: 1s\n",
      "108:\tlearn: 14.0466441\ttotal: 568ms\tremaining: 995ms\n",
      "109:\tlearn: 13.9960249\ttotal: 573ms\tremaining: 990ms\n",
      "110:\tlearn: 13.9615794\ttotal: 579ms\tremaining: 986ms\n",
      "111:\tlearn: 13.9184181\ttotal: 584ms\tremaining: 980ms\n",
      "112:\tlearn: 13.8663343\ttotal: 589ms\tremaining: 975ms\n",
      "113:\tlearn: 13.8605072\ttotal: 595ms\tremaining: 971ms\n",
      "114:\tlearn: 13.8548120\ttotal: 600ms\tremaining: 965ms\n",
      "115:\tlearn: 13.7796780\ttotal: 604ms\tremaining: 958ms\n",
      "116:\tlearn: 13.7461608\ttotal: 609ms\tremaining: 952ms\n",
      "117:\tlearn: 13.6763888\ttotal: 614ms\tremaining: 947ms\n",
      "118:\tlearn: 13.6051657\ttotal: 620ms\tremaining: 943ms\n",
      "119:\tlearn: 13.5381231\ttotal: 625ms\tremaining: 938ms\n",
      "120:\tlearn: 13.4669345\ttotal: 630ms\tremaining: 931ms\n",
      "121:\tlearn: 13.4351533\ttotal: 634ms\tremaining: 925ms\n",
      "122:\tlearn: 13.3914886\ttotal: 638ms\tremaining: 919ms\n",
      "123:\tlearn: 13.3184462\ttotal: 643ms\tremaining: 913ms\n",
      "124:\tlearn: 13.2711648\ttotal: 648ms\tremaining: 907ms\n",
      "125:\tlearn: 13.1979609\ttotal: 653ms\tremaining: 902ms\n",
      "126:\tlearn: 13.1891714\ttotal: 658ms\tremaining: 896ms\n",
      "127:\tlearn: 13.1846822\ttotal: 662ms\tremaining: 890ms\n",
      "128:\tlearn: 13.1209213\ttotal: 668ms\tremaining: 886ms\n",
      "129:\tlearn: 13.0747193\ttotal: 674ms\tremaining: 882ms\n",
      "130:\tlearn: 13.0207342\ttotal: 679ms\tremaining: 876ms\n",
      "131:\tlearn: 12.9699148\ttotal: 684ms\tremaining: 871ms\n",
      "132:\tlearn: 12.8928953\ttotal: 689ms\tremaining: 865ms\n",
      "133:\tlearn: 12.8439562\ttotal: 694ms\tremaining: 860ms\n",
      "134:\tlearn: 12.7673336\ttotal: 702ms\tremaining: 858ms\n",
      "135:\tlearn: 12.7115740\ttotal: 710ms\tremaining: 856ms\n",
      "136:\tlearn: 12.6697424\ttotal: 716ms\tremaining: 852ms\n",
      "137:\tlearn: 12.6091071\ttotal: 721ms\tremaining: 847ms\n",
      "138:\tlearn: 12.5884187\ttotal: 732ms\tremaining: 848ms\n",
      "139:\tlearn: 12.5525316\ttotal: 737ms\tremaining: 842ms\n",
      "140:\tlearn: 12.5450584\ttotal: 742ms\tremaining: 836ms\n",
      "141:\tlearn: 12.4789659\ttotal: 747ms\tremaining: 831ms\n",
      "142:\tlearn: 12.3913474\ttotal: 755ms\tremaining: 829ms\n",
      "143:\tlearn: 12.3859877\ttotal: 760ms\tremaining: 823ms\n",
      "144:\tlearn: 12.3287190\ttotal: 765ms\tremaining: 818ms\n",
      "145:\tlearn: 12.2665224\ttotal: 771ms\tremaining: 813ms\n",
      "146:\tlearn: 12.2143381\ttotal: 776ms\tremaining: 808ms\n",
      "147:\tlearn: 12.1621314\ttotal: 782ms\tremaining: 803ms\n",
      "148:\tlearn: 12.1274824\ttotal: 787ms\tremaining: 797ms\n",
      "149:\tlearn: 12.0878261\ttotal: 792ms\tremaining: 792ms\n",
      "150:\tlearn: 12.0688736\ttotal: 797ms\tremaining: 786ms\n",
      "151:\tlearn: 12.0008436\ttotal: 801ms\tremaining: 780ms\n",
      "152:\tlearn: 11.9739081\ttotal: 805ms\tremaining: 774ms\n",
      "153:\tlearn: 11.9101234\ttotal: 810ms\tremaining: 768ms\n",
      "154:\tlearn: 11.8716012\ttotal: 815ms\tremaining: 762ms\n",
      "155:\tlearn: 11.8422875\ttotal: 819ms\tremaining: 756ms\n",
      "156:\tlearn: 11.7979312\ttotal: 824ms\tremaining: 751ms\n",
      "157:\tlearn: 11.7481280\ttotal: 830ms\tremaining: 746ms\n",
      "158:\tlearn: 11.7126036\ttotal: 834ms\tremaining: 740ms\n",
      "159:\tlearn: 11.6683589\ttotal: 838ms\tremaining: 734ms\n",
      "160:\tlearn: 11.6231686\ttotal: 843ms\tremaining: 728ms\n",
      "161:\tlearn: 11.5499784\ttotal: 848ms\tremaining: 722ms\n",
      "162:\tlearn: 11.5076189\ttotal: 852ms\tremaining: 716ms\n",
      "163:\tlearn: 11.4589571\ttotal: 857ms\tremaining: 711ms\n",
      "164:\tlearn: 11.4237083\ttotal: 861ms\tremaining: 705ms\n"
     ]
    },
    {
     "name": "stdout",
     "output_type": "stream",
     "text": [
      "165:\tlearn: 11.3694216\ttotal: 866ms\tremaining: 699ms\n",
      "166:\tlearn: 11.3650297\ttotal: 871ms\tremaining: 693ms\n",
      "167:\tlearn: 11.3242298\ttotal: 876ms\tremaining: 688ms\n",
      "168:\tlearn: 11.2388921\ttotal: 881ms\tremaining: 683ms\n",
      "169:\tlearn: 11.2047314\ttotal: 886ms\tremaining: 677ms\n",
      "170:\tlearn: 11.1816426\ttotal: 890ms\tremaining: 671ms\n",
      "171:\tlearn: 11.1330897\ttotal: 896ms\tremaining: 667ms\n",
      "172:\tlearn: 11.1302753\ttotal: 900ms\tremaining: 661ms\n",
      "173:\tlearn: 11.0881715\ttotal: 905ms\tremaining: 655ms\n",
      "174:\tlearn: 11.0703678\ttotal: 909ms\tremaining: 649ms\n",
      "175:\tlearn: 11.0250445\ttotal: 913ms\tremaining: 643ms\n",
      "176:\tlearn: 11.0223527\ttotal: 918ms\tremaining: 638ms\n",
      "177:\tlearn: 10.9834065\ttotal: 924ms\tremaining: 633ms\n",
      "178:\tlearn: 10.9462131\ttotal: 931ms\tremaining: 629ms\n",
      "179:\tlearn: 10.9165121\ttotal: 935ms\tremaining: 624ms\n",
      "180:\tlearn: 10.8739130\ttotal: 941ms\tremaining: 618ms\n",
      "181:\tlearn: 10.8417163\ttotal: 945ms\tremaining: 613ms\n",
      "182:\tlearn: 10.8087755\ttotal: 949ms\tremaining: 607ms\n",
      "183:\tlearn: 10.7549454\ttotal: 954ms\tremaining: 601ms\n",
      "184:\tlearn: 10.7188996\ttotal: 960ms\tremaining: 597ms\n",
      "185:\tlearn: 10.6749174\ttotal: 965ms\tremaining: 591ms\n",
      "186:\tlearn: 10.6308971\ttotal: 969ms\tremaining: 586ms\n",
      "187:\tlearn: 10.5838082\ttotal: 975ms\tremaining: 581ms\n",
      "188:\tlearn: 10.5433551\ttotal: 980ms\tremaining: 576ms\n",
      "189:\tlearn: 10.4897421\ttotal: 986ms\tremaining: 571ms\n",
      "190:\tlearn: 10.4526927\ttotal: 991ms\tremaining: 565ms\n",
      "191:\tlearn: 10.4104011\ttotal: 997ms\tremaining: 561ms\n",
      "192:\tlearn: 10.3686716\ttotal: 1s\tremaining: 555ms\n",
      "193:\tlearn: 10.3496874\ttotal: 1.01s\tremaining: 550ms\n",
      "194:\tlearn: 10.2976868\ttotal: 1.01s\tremaining: 544ms\n",
      "195:\tlearn: 10.2658822\ttotal: 1.01s\tremaining: 539ms\n",
      "196:\tlearn: 10.2349948\ttotal: 1.02s\tremaining: 534ms\n",
      "197:\tlearn: 10.1676484\ttotal: 1.03s\tremaining: 529ms\n",
      "198:\tlearn: 10.1258863\ttotal: 1.03s\tremaining: 523ms\n",
      "199:\tlearn: 10.1043463\ttotal: 1.03s\tremaining: 518ms\n",
      "200:\tlearn: 10.0593643\ttotal: 1.04s\tremaining: 512ms\n",
      "201:\tlearn: 10.0163644\ttotal: 1.04s\tremaining: 507ms\n",
      "202:\tlearn: 9.9859752\ttotal: 1.05s\tremaining: 501ms\n",
      "203:\tlearn: 9.9521343\ttotal: 1.05s\tremaining: 496ms\n",
      "204:\tlearn: 9.9369554\ttotal: 1.06s\tremaining: 490ms\n",
      "205:\tlearn: 9.9141360\ttotal: 1.06s\tremaining: 485ms\n",
      "206:\tlearn: 9.9113950\ttotal: 1.07s\tremaining: 479ms\n",
      "207:\tlearn: 9.8507013\ttotal: 1.07s\tremaining: 474ms\n",
      "208:\tlearn: 9.8281892\ttotal: 1.08s\tremaining: 469ms\n",
      "209:\tlearn: 9.7887253\ttotal: 1.08s\tremaining: 464ms\n",
      "210:\tlearn: 9.7864295\ttotal: 1.08s\tremaining: 458ms\n",
      "211:\tlearn: 9.7553344\ttotal: 1.09s\tremaining: 452ms\n",
      "212:\tlearn: 9.7077614\ttotal: 1.09s\tremaining: 447ms\n",
      "213:\tlearn: 9.6632554\ttotal: 1.1s\tremaining: 442ms\n",
      "214:\tlearn: 9.6431176\ttotal: 1.1s\tremaining: 437ms\n",
      "215:\tlearn: 9.5778414\ttotal: 1.11s\tremaining: 431ms\n",
      "216:\tlearn: 9.5427863\ttotal: 1.11s\tremaining: 426ms\n",
      "217:\tlearn: 9.5324923\ttotal: 1.12s\tremaining: 420ms\n",
      "218:\tlearn: 9.5074940\ttotal: 1.12s\tremaining: 416ms\n",
      "219:\tlearn: 9.4807779\ttotal: 1.13s\tremaining: 411ms\n",
      "220:\tlearn: 9.4571358\ttotal: 1.14s\tremaining: 406ms\n",
      "221:\tlearn: 9.4296609\ttotal: 1.14s\tremaining: 400ms\n",
      "222:\tlearn: 9.4051494\ttotal: 1.14s\tremaining: 395ms\n",
      "223:\tlearn: 9.4029534\ttotal: 1.15s\tremaining: 390ms\n",
      "224:\tlearn: 9.3737019\ttotal: 1.15s\tremaining: 384ms\n",
      "225:\tlearn: 9.3248447\ttotal: 1.16s\tremaining: 379ms\n",
      "226:\tlearn: 9.3202244\ttotal: 1.16s\tremaining: 374ms\n",
      "227:\tlearn: 9.2848099\ttotal: 1.17s\tremaining: 369ms\n",
      "228:\tlearn: 9.2624403\ttotal: 1.17s\tremaining: 364ms\n",
      "229:\tlearn: 9.2258368\ttotal: 1.19s\tremaining: 362ms\n",
      "230:\tlearn: 9.1814687\ttotal: 1.2s\tremaining: 357ms\n",
      "231:\tlearn: 9.1424125\ttotal: 1.2s\tremaining: 352ms\n",
      "232:\tlearn: 9.1051099\ttotal: 1.21s\tremaining: 347ms\n",
      "233:\tlearn: 9.0674830\ttotal: 1.21s\tremaining: 342ms\n",
      "234:\tlearn: 9.0393460\ttotal: 1.22s\tremaining: 336ms\n",
      "235:\tlearn: 9.0078931\ttotal: 1.22s\tremaining: 331ms\n",
      "236:\tlearn: 8.9675919\ttotal: 1.23s\tremaining: 326ms\n",
      "237:\tlearn: 8.9435406\ttotal: 1.23s\tremaining: 320ms\n",
      "238:\tlearn: 8.8958633\ttotal: 1.23s\tremaining: 315ms\n",
      "239:\tlearn: 8.8619436\ttotal: 1.24s\tremaining: 310ms\n",
      "240:\tlearn: 8.8268145\ttotal: 1.24s\tremaining: 304ms\n",
      "241:\tlearn: 8.7810739\ttotal: 1.25s\tremaining: 299ms\n",
      "242:\tlearn: 8.7610926\ttotal: 1.25s\tremaining: 294ms\n",
      "243:\tlearn: 8.7159029\ttotal: 1.26s\tremaining: 288ms\n",
      "244:\tlearn: 8.6817317\ttotal: 1.26s\tremaining: 283ms\n",
      "245:\tlearn: 8.6560272\ttotal: 1.27s\tremaining: 278ms\n",
      "246:\tlearn: 8.6289997\ttotal: 1.27s\tremaining: 273ms\n",
      "247:\tlearn: 8.5929875\ttotal: 1.28s\tremaining: 268ms\n",
      "248:\tlearn: 8.5621436\ttotal: 1.28s\tremaining: 263ms\n",
      "249:\tlearn: 8.5328024\ttotal: 1.29s\tremaining: 257ms\n",
      "250:\tlearn: 8.4924774\ttotal: 1.29s\tremaining: 252ms\n",
      "251:\tlearn: 8.4687187\ttotal: 1.3s\tremaining: 247ms\n",
      "252:\tlearn: 8.4458999\ttotal: 1.3s\tremaining: 242ms\n",
      "253:\tlearn: 8.4210208\ttotal: 1.31s\tremaining: 237ms\n",
      "254:\tlearn: 8.3956024\ttotal: 1.31s\tremaining: 231ms\n",
      "255:\tlearn: 8.3601738\ttotal: 1.31s\tremaining: 226ms\n",
      "256:\tlearn: 8.3352019\ttotal: 1.32s\tremaining: 221ms\n",
      "257:\tlearn: 8.2909619\ttotal: 1.33s\tremaining: 216ms\n",
      "258:\tlearn: 8.2559282\ttotal: 1.33s\tremaining: 211ms\n",
      "259:\tlearn: 8.2361694\ttotal: 1.34s\tremaining: 206ms\n",
      "260:\tlearn: 8.2342934\ttotal: 1.34s\tremaining: 200ms\n",
      "261:\tlearn: 8.1981258\ttotal: 1.35s\tremaining: 195ms\n",
      "262:\tlearn: 8.1754037\ttotal: 1.35s\tremaining: 190ms\n",
      "263:\tlearn: 8.1589075\ttotal: 1.36s\tremaining: 185ms\n",
      "264:\tlearn: 8.1203923\ttotal: 1.36s\tremaining: 180ms\n",
      "265:\tlearn: 8.1062635\ttotal: 1.37s\tremaining: 175ms\n",
      "266:\tlearn: 8.0613230\ttotal: 1.37s\tremaining: 170ms\n",
      "267:\tlearn: 8.0193476\ttotal: 1.38s\tremaining: 164ms\n",
      "268:\tlearn: 8.0041489\ttotal: 1.38s\tremaining: 159ms\n",
      "269:\tlearn: 7.9495942\ttotal: 1.39s\tremaining: 154ms\n",
      "270:\tlearn: 7.9180673\ttotal: 1.39s\tremaining: 149ms\n",
      "271:\tlearn: 7.8841705\ttotal: 1.4s\tremaining: 144ms\n",
      "272:\tlearn: 7.8550836\ttotal: 1.4s\tremaining: 139ms\n",
      "273:\tlearn: 7.8198853\ttotal: 1.41s\tremaining: 134ms\n",
      "274:\tlearn: 7.8007953\ttotal: 1.41s\tremaining: 128ms\n",
      "275:\tlearn: 7.7870346\ttotal: 1.42s\tremaining: 123ms\n",
      "276:\tlearn: 7.7848957\ttotal: 1.42s\tremaining: 118ms\n",
      "277:\tlearn: 7.7727637\ttotal: 1.43s\tremaining: 113ms\n",
      "278:\tlearn: 7.7526289\ttotal: 1.43s\tremaining: 108ms\n",
      "279:\tlearn: 7.7372117\ttotal: 1.44s\tremaining: 103ms\n",
      "280:\tlearn: 7.7054369\ttotal: 1.44s\tremaining: 97.4ms\n",
      "281:\tlearn: 7.6774663\ttotal: 1.45s\tremaining: 92.3ms\n",
      "282:\tlearn: 7.6599394\ttotal: 1.45s\tremaining: 87.1ms\n",
      "283:\tlearn: 7.6451870\ttotal: 1.45s\tremaining: 82ms\n",
      "284:\tlearn: 7.6136548\ttotal: 1.46s\tremaining: 76.8ms\n",
      "285:\tlearn: 7.5785521\ttotal: 1.47s\tremaining: 71.7ms\n",
      "286:\tlearn: 7.5450843\ttotal: 1.47s\tremaining: 66.6ms\n",
      "287:\tlearn: 7.5269310\ttotal: 1.48s\tremaining: 61.5ms\n",
      "288:\tlearn: 7.4971695\ttotal: 1.48s\tremaining: 56.3ms\n",
      "289:\tlearn: 7.4697292\ttotal: 1.48s\tremaining: 51.2ms\n",
      "290:\tlearn: 7.4558454\ttotal: 1.49s\tremaining: 46.1ms\n",
      "291:\tlearn: 7.4166298\ttotal: 1.49s\tremaining: 40.9ms\n",
      "292:\tlearn: 7.3878713\ttotal: 1.5s\tremaining: 35.8ms\n",
      "293:\tlearn: 7.3839937\ttotal: 1.5s\tremaining: 30.7ms\n",
      "294:\tlearn: 7.3530286\ttotal: 1.51s\tremaining: 25.6ms\n",
      "295:\tlearn: 7.3218982\ttotal: 1.51s\tremaining: 20.4ms\n",
      "296:\tlearn: 7.3034403\ttotal: 1.52s\tremaining: 15.3ms\n",
      "297:\tlearn: 7.2882202\ttotal: 1.52s\tremaining: 10.2ms\n",
      "298:\tlearn: 7.2662421\ttotal: 1.53s\tremaining: 5.11ms\n",
      "299:\tlearn: 7.2511372\ttotal: 1.53s\tremaining: 0us\n"
     ]
    }
   ],
   "source": [
    "cb = CatBoostRegressor(random_state=12345, depth = 7,  iterations = 300, learning_rate = 0.15);\n",
    "\n",
    "cb.fit(X_train, y_train);\n",
    "\n",
    "preds_final_cat = cb.predict(X_test)"
   ]
  },
  {
   "cell_type": "code",
   "execution_count": 50,
   "id": "a03a1481",
   "metadata": {},
   "outputs": [
    {
     "name": "stdout",
     "output_type": "stream",
     "text": [
      "RMSE на тестовой выборке:  48.641734285699464\n"
     ]
    }
   ],
   "source": [
    "mse_final_cat = mean_squared_error(y_test, preds_final_cat)\n",
    "rmse_final_cat = (mse_final_cat) ** 0.5\n",
    "print('RMSE на тестовой выборке: ', rmse_final_cat)"
   ]
  },
  {
   "cell_type": "markdown",
   "id": "c99f584b",
   "metadata": {},
   "source": [
    "### <p style=\"font-family:JetBrains Mono; font-weight:bold; letter-spacing: 2px; color:#294B8E; font-size:140%; text-align:left;padding: 0px; border-bottom: 3px solid #294B8E\">XGBoost</p>"
   ]
  },
  {
   "cell_type": "code",
   "execution_count": 51,
   "id": "2c61a68a",
   "metadata": {},
   "outputs": [],
   "source": [
    "xgb = XGBRegressor(random_state=12345, learning_rate=0.1, max_depth=35)\n",
    "xgb.fit(X_train, y_train)\n",
    "preds_final_xgb = cb.predict(X_test)"
   ]
  },
  {
   "cell_type": "code",
   "execution_count": 52,
   "id": "a4b20b57",
   "metadata": {},
   "outputs": [
    {
     "name": "stdout",
     "output_type": "stream",
     "text": [
      "RMSE на тестовой выборке:  48.641734285699464\n"
     ]
    }
   ],
   "source": [
    "mse_final_xgb = mean_squared_error(y_test, preds_final_xgb)\n",
    "rmse_final_xgb = (mse_final_xgb) ** 0.5\n",
    "print('RMSE на тестовой выборке: ', rmse_final_xgb)"
   ]
  },
  {
   "cell_type": "markdown",
   "id": "7ea1e16b",
   "metadata": {},
   "source": [
    "### <p style=\"font-family:JetBrains Mono; font-weight:bold; letter-spacing: 2px; color:#294B8E; font-size:140%; text-align:left;padding: 0px; border-bottom: 3px solid #294B8E\">LightGBM</p>"
   ]
  },
  {
   "cell_type": "code",
   "execution_count": 53,
   "id": "50e2e96c",
   "metadata": {},
   "outputs": [],
   "source": [
    "lgbm = LGBMRegressor(random_state = 12345, learning_rate = 0.1, max_depth=15)\n",
    "\n",
    "lgbm.fit(X_train, y_train);\n",
    "preds_final_lgbm = cb.predict(X_test)"
   ]
  },
  {
   "cell_type": "code",
   "execution_count": 54,
   "id": "65ea5cd0",
   "metadata": {},
   "outputs": [
    {
     "name": "stdout",
     "output_type": "stream",
     "text": [
      "RMSE на тестовой выборке:  48.641734285699464\n"
     ]
    }
   ],
   "source": [
    "mse_final_lgbm = mean_squared_error(y_test, preds_final_lgbm)\n",
    "rmse_final_lgbm = (mse_final_lgbm) ** 0.5\n",
    "print('RMSE на тестовой выборке: ', rmse_final_lgbm)"
   ]
  },
  {
   "cell_type": "markdown",
   "id": "1bbe67cd",
   "metadata": {},
   "source": [
    "### <p style=\"font-family:JetBrains Mono; font-weight:bold; letter-spacing: 2px; color:#294B8E; font-size:140%; text-align:left;padding: 0px; border-bottom: 3px solid #294B8E\">DecisionTree</p>"
   ]
  },
  {
   "cell_type": "code",
   "execution_count": 55,
   "id": "f3ccca3c",
   "metadata": {},
   "outputs": [],
   "source": [
    "DT = DecisionTreeRegressor(random_state=12345, max_depth=35)\n",
    "DT.fit(X_train, y_train);\n",
    "preds_final_DT= cb.predict(X_test)"
   ]
  },
  {
   "cell_type": "code",
   "execution_count": 56,
   "id": "10872ed7",
   "metadata": {},
   "outputs": [
    {
     "name": "stdout",
     "output_type": "stream",
     "text": [
      "RMSE на тестовой выборке:  48.641734285699464\n"
     ]
    }
   ],
   "source": [
    "mse_final_DT = mean_squared_error(y_test, preds_final_DT)\n",
    "rmse_final_DT = (mse_final_DT) ** 0.5\n",
    "print('RMSE на тестовой выборке: ', rmse_final_DT)"
   ]
  },
  {
   "cell_type": "markdown",
   "id": "d17105be",
   "metadata": {},
   "source": [
    "### <p style=\"font-family:JetBrains Mono; font-weight:bold; letter-spacing: 2px; color:#294B8E; font-size:140%; text-align:left;padding: 0px; border-bottom: 3px solid #294B8E\">Random Forest</p>"
   ]
  },
  {
   "cell_type": "code",
   "execution_count": 57,
   "id": "6f0d3674",
   "metadata": {},
   "outputs": [],
   "source": [
    "RF = RandomForestRegressor(random_state=12345, max_depth=35, n_estimators=80)\n",
    "RF.fit(X_train, y_train)\n",
    "preds_final_RF = RF.predict(X_test)"
   ]
  },
  {
   "cell_type": "code",
   "execution_count": 58,
   "id": "0f4d3920",
   "metadata": {},
   "outputs": [
    {
     "name": "stdout",
     "output_type": "stream",
     "text": [
      "RMSE на тестовой выборке:  46.72968167441298\n"
     ]
    }
   ],
   "source": [
    "mse_final_RF = mean_squared_error(y_test, preds_final_RF)\n",
    "rmse_final_RF = (mse_final_RF) ** 0.5\n",
    "print('RMSE на тестовой выборке: ', rmse_final_RF)"
   ]
  },
  {
   "cell_type": "markdown",
   "id": "503ce86d",
   "metadata": {},
   "source": [
    "### <p style=\"font-family:JetBrains Mono; font-weight:bold; letter-spacing: 2px; color:#294B8E; font-size:140%; text-align:left;padding: 0px; border-bottom: 3px solid #294B8E\">Linear Regression</p>"
   ]
  },
  {
   "cell_type": "code",
   "execution_count": 59,
   "id": "21341e25",
   "metadata": {},
   "outputs": [],
   "source": [
    "LR = LinearRegression()\n",
    "LR.fit(X_train, y_train)\n",
    "preds_final_LR = LR.predict(X_test)"
   ]
  },
  {
   "cell_type": "code",
   "execution_count": 60,
   "id": "3c4068c1",
   "metadata": {},
   "outputs": [
    {
     "name": "stdout",
     "output_type": "stream",
     "text": [
      "RMSE на тестовой выборке:  44.48101302078242\n"
     ]
    }
   ],
   "source": [
    "mse_final_LR = mean_squared_error(y_test, preds_final_LR)\n",
    "rmse_final_LR = (mse_final_LR) ** 0.5\n",
    "print('RMSE на тестовой выборке: ', rmse_final_LR)"
   ]
  },
  {
   "cell_type": "markdown",
   "id": "dc344065",
   "metadata": {},
   "source": [
    "### <p style=\"font-family:JetBrains Mono; font-weight:bold; letter-spacing: 2px; color:#294B8E; font-size:140%; text-align:left;padding: 0px; border-bottom: 3px solid #294B8E\">Lasso Regression</p>"
   ]
  },
  {
   "cell_type": "code",
   "execution_count": 61,
   "id": "90400521",
   "metadata": {},
   "outputs": [],
   "source": [
    "lasso_model = Lasso(alpha=1.0)\n",
    "lasso=lasso_model.fit(X_train , y_train)"
   ]
  },
  {
   "cell_type": "code",
   "execution_count": 62,
   "id": "e5864c1a",
   "metadata": {},
   "outputs": [],
   "source": [
    "lasso_final_predict = lasso.predict(X_test)"
   ]
  },
  {
   "cell_type": "code",
   "execution_count": 63,
   "id": "38de704a",
   "metadata": {},
   "outputs": [
    {
     "name": "stdout",
     "output_type": "stream",
     "text": [
      "RMSE на тестовой выборкее:  41.25171981856461\n"
     ]
    }
   ],
   "source": [
    "mse_final_lasso = mean_squared_error(y_test, lasso_final_predict)\n",
    "rmse_final_lasso = (mse_final_lasso) ** 0.5\n",
    "print('RMSE на тестовой выборкее: ', rmse_final_lasso)"
   ]
  },
  {
   "cell_type": "markdown",
   "id": "14681636",
   "metadata": {},
   "source": [
    "### <p style=\"font-family:JetBrains Mono; font-weight:bold; letter-spacing: 2px; color:#294B8E; font-size:140%; text-align:left;padding: 0px; border-bottom: 3px solid #294B8E\">Ridge Regression</p>"
   ]
  },
  {
   "cell_type": "code",
   "execution_count": 64,
   "id": "cd48e2dc",
   "metadata": {},
   "outputs": [],
   "source": [
    "ridge_model = Ridge(alpha=1.0)\n",
    "ridge=ridge_model.fit(X_train , y_train)"
   ]
  },
  {
   "cell_type": "code",
   "execution_count": 65,
   "id": "44bed866",
   "metadata": {},
   "outputs": [],
   "source": [
    "ridge_final_predict = ridge.predict(X_test)"
   ]
  },
  {
   "cell_type": "code",
   "execution_count": 66,
   "id": "a339682a",
   "metadata": {},
   "outputs": [
    {
     "name": "stdout",
     "output_type": "stream",
     "text": [
      "RMSE на тестовой выборке:  44.469488277738925\n"
     ]
    }
   ],
   "source": [
    "mse_final_ridge = mean_squared_error(y_test, ridge_final_predict)\n",
    "rmse_final_ridge = (mse_final_ridge) ** 0.5\n",
    "print('RMSE на тестовой выборке: ', rmse_final_ridge)"
   ]
  },
  {
   "cell_type": "markdown",
   "id": "7bdf417b",
   "metadata": {},
   "source": [
    "<a id=\"Сравнение-моделей-на-тестовой-выборке\"></a>\n",
    "<div style=\"padding:20px;\n",
    "            color:white;\n",
    "            margin:10;\n",
    "            font-size:170%;\n",
    "            text-align:left;\n",
    "            display:fill;\n",
    "            border-radius:5px;\n",
    "            background-color:#294B8E;\n",
    "            overflow:hidden;\n",
    "            font-weight:700\"><span style='color:#CDA63A'>|</span> Сравнение моделей на тестовой выборке</div>"
   ]
  },
  {
   "cell_type": "markdown",
   "id": "c7ea2100",
   "metadata": {},
   "source": [
    "### <p style=\"font-family:JetBrains Mono; font-weight:bold; letter-spacing: 2px; color:#294B8E; font-size:140%; text-align:left;padding: 0px; border-bottom: 3px solid #294B8E\">Oценка качества моделей с помощью метрики RMSE</p>"
   ]
  },
  {
   "cell_type": "code",
   "execution_count": 67,
   "id": "c8bcd7c9",
   "metadata": {},
   "outputs": [
    {
     "name": "stdout",
     "output_type": "stream",
     "text": [
      "+----+------------------+---------+\n",
      "|    | Models           |    RMSE |\n",
      "|----+------------------+---------|\n",
      "|  0 | XGBoost          | 48.6417 |\n",
      "|  1 | LightGBM         | 48.6417 |\n",
      "|  2 | CatBoost         | 48.6417 |\n",
      "|  3 | Decision Tree    | 48.6417 |\n",
      "|  4 | Random Forest    | 46.7297 |\n",
      "|  5 | Linear Regresion | 44.481  |\n",
      "|  6 | Lasso Regresion  | 41.2517 |\n",
      "|  7 | Ridge Regresion  | 44.4695 |\n",
      "+----+------------------+---------+\n"
     ]
    }
   ],
   "source": [
    "data_RMSE={'Models':['XGBoost','LightGBM','CatBoost', 'Decision Tree', 'Random Forest','Linear Regresion', 'Lasso Regresion','Ridge Regresion'],\n",
    "      'RMSE': [rmse_final_xgb, rmse_final_lgbm, rmse_final_cat, rmse_final_DT, rmse_final_RF, rmse_final_LR, rmse_final_lasso, rmse_final_ridge]}\n",
    "df_RMSE=pd.DataFrame(data_RMSE)\n",
    "print(tabulate(df_RMSE, headers='keys', tablefmt='psql'))"
   ]
  },
  {
   "cell_type": "markdown",
   "id": "8a1b54fc",
   "metadata": {},
   "source": [
    "<div class=\"alert alert-block alert-info\" style=\"background-color:#FFFAF0;\n",
    "                                                 color:black;\n",
    "                                                 border-color:#DEB887;\n",
    "                                                 border-radius:5px;\n",
    "                                                 width:50%;\n",
    "                                                 margin: auto;\n",
    "                                                 text-align: left;\">\n",
    "\n",
    "<b>✍ Вывод</b>\n",
    "        <ul>\n",
    "<li>Из исследований следует вывод, что модель Linear Regresion, Lasso Regresion, Ridge Regresion и Random Forest показали хорошие результаты. Метрика RMSE меньше 48. </li>         \n",
    "<li>Худшей моделью стали модели градиентного бустинга и Decision Tree.</li>\n",
    "</ul>\n",
    "</div>"
   ]
  },
  {
   "cell_type": "markdown",
   "id": "2e5cf558",
   "metadata": {},
   "source": [
    "<a id=\"Вывод\"></a>\n",
    "<div style=\"padding:20px;\n",
    "            color:white;\n",
    "            margin:10;\n",
    "            font-size:170%;\n",
    "            text-align:left;\n",
    "            display:fill;\n",
    "            border-radius:5px;\n",
    "            background-color:#294B8E;\n",
    "            overflow:hidden;\n",
    "            font-weight:700\"><span style='color:#CDA63A'>|</span> Вывод</div>"
   ]
  },
  {
   "cell_type": "markdown",
   "id": "0fc553db",
   "metadata": {},
   "source": [
    "<div style=\"border-radius:10px; border:#DEB887 solid; padding: 15px; background-color: #FFFAF0; font-size:100%; text-align:left\">\n",
    "<br>📑Было проведено исследование, для<b> прогнозирования заказов такси</b>. \n",
    "        \n",
    "        \n",
    "<br><b> Входные данные - исторические данные о заказах такси в аэропортах. </b>\n",
    "\n",
    "        \n",
    "<br> 📊 Временной ряд является стационарным. Трэнд показывает линейный рост количества заказов со временем.\n",
    "        \n",
    "<br> 📊 Были обучены модели линейной регрессии, случайного леса, дерево решений, XGBoost, CatBoost, LightGBM, лассо-регрессия и гребневая регрессия. \n",
    "        \n",
    "<br> 📊 Найден лучшие гиперпараметры для соотвествующих моделей с помощью GridSearchCV.\n",
    "        \n",
    "<br> 📊 Показано сравнение качества исследованных моделей с помощью метрики RMSE на валидационной и тестовой выборках.\n",
    " \n",
    "<br>Исходя из анализа, сделан вывод:\n",
    "        <br>             <b>- Linear Regresion, Lasso Regresion, Ridge Regresion и Random Forest показали хорошие результаты с метрикой RMSE меньше 48.</b>      \n",
    "<br>             <b>- худшей моделью стали модели градиентного бустинга и Decision Tree. "
   ]
  }
 ],
 "metadata": {
  "kernelspec": {
   "display_name": "Python 3 (ipykernel)",
   "language": "python",
   "name": "python3"
  },
  "language_info": {
   "codemirror_mode": {
    "name": "ipython",
    "version": 3
   },
   "file_extension": ".py",
   "mimetype": "text/x-python",
   "name": "python",
   "nbconvert_exporter": "python",
   "pygments_lexer": "ipython3",
   "version": "3.9.13"
  }
 },
 "nbformat": 4,
 "nbformat_minor": 5
}
