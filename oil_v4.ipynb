{
 "cells": [
  {
   "cell_type": "markdown",
   "id": "6f484c07",
   "metadata": {},
   "source": [
    "<div style=\"border:solid black 1px; padding: 20px\">\n",
    "    \n",
    "<font size=\"4\"><p style=\"text-align:center\"><b>The choice of locations for wells 🛢️</b></p></font>\n",
    "\n",
    "</div>"
   ]
  },
  {
   "cell_type": "markdown",
   "id": "21daf4e3",
   "metadata": {},
   "source": [
    "# content\n",
    "1. [Data description](#data_description)\n",
    "2. [EDA](#EDA)\n",
    "3. [Model Training](#Model_Training) \n",
    "4. [Preparation for profit calculation](#Preparation_for_profit_calculation) \n",
    "5. [Function for calculating profit for selected wells](#Function_for_calculating_profit_for_selected_wells) \n",
    "6. [Risks and rewards for each region](#Risks_and_rewards_for_each_region) \n",
    "7. [Conclusion](#Conclusion)"
   ]
  },
  {
   "cell_type": "markdown",
   "id": "6336601b",
   "metadata": {},
   "source": [
    "<div class=\"alert alert-info\">\n",
    "<font size=\"4\", color = \"black\"><a name=\"data_description\"><h3>Data description</h3></a></font>\n",
    "    <br /> \n",
    "    <font size=\"3\", color = \"black\">"
   ]
  },
  {
   "cell_type": "markdown",
   "id": "a949222d",
   "metadata": {},
   "source": [
    "<div>\n",
    "<font size=\"4\", color = \"black\">The mining company GlavRosGosNeft needs to decide where to drill a new well.\n",
    "    \n",
    "Oil samples were provided in three regions. The characteristics for each well in the region are already known. We will build a model to determine the region where mining will bring the greatest profit. "
   ]
  },
  {
   "cell_type": "markdown",
   "id": "78d2827d",
   "metadata": {},
   "source": [
    "<ul>\n",
    " <li>id — unique well identifier</li>\n",
    " <li>f0, f1, f2 — \n",
    "three signs of dots (it doesn't matter what they mean, but the signs themselves are significant)</li>\n",
    " <li>product — \n",
    "volume of reserves in the well (thousand barrels)</li>\n",
    "</ul>"
   ]
  },
  {
   "cell_type": "markdown",
   "id": "31af6e24",
   "metadata": {},
   "source": [
    "<div class=\"alert alert-info\">\n",
    "<font size=\"4\", color = \"black\"><a name=\"EDA\"><h3>EDA</h3></a></font>\n",
    "    <br /> \n",
    "    <font size=\"3\", color = \"black\">"
   ]
  },
  {
   "cell_type": "code",
   "execution_count": 1,
   "id": "5b101eb6",
   "metadata": {},
   "outputs": [
    {
     "name": "stdout",
     "output_type": "stream",
     "text": [
      "Retrieving notices: ...working... done\n",
      "Collecting package metadata (current_repodata.json): done\n",
      "Solving environment: done\n",
      "\n",
      "## Package Plan ##\n",
      "\n",
      "  environment location: /Users/moonkerimka/opt/anaconda3\n",
      "\n",
      "  added / updated specs:\n",
      "    - phik\n",
      "\n",
      "\n",
      "The following packages will be downloaded:\n",
      "\n",
      "    package                    |            build\n",
      "    ---------------------------|-----------------\n",
      "    conda-23.1.0               |   py39h6e9494a_0         908 KB  conda-forge\n",
      "    ------------------------------------------------------------\n",
      "                                           Total:         908 KB\n",
      "\n",
      "The following packages will be UPDATED:\n",
      "\n",
      "  conda                              22.11.1-py39h6e9494a_1 --> 23.1.0-py39h6e9494a_0 \n",
      "\n",
      "\n",
      "\n",
      "Downloading and Extracting Packages\n",
      "                                                                                \n",
      "Preparing transaction: done\n",
      "Verifying transaction: done\n",
      "Executing transaction: done\n",
      "\n",
      "Note: you may need to restart the kernel to use updated packages.\n"
     ]
    }
   ],
   "source": [
    "conda install -c conda-forge phik"
   ]
  },
  {
   "cell_type": "code",
   "execution_count": 2,
   "id": "0a288eb3",
   "metadata": {},
   "outputs": [],
   "source": [
    "import os\n",
    "import phik\n",
    "import numpy as np\n",
    "import pandas as pd\n",
    "import seaborn as sns\n",
    "import matplotlib.pyplot as plt\n",
    "\n",
    "from phik import report\n",
    "from scipy import stats as st \n",
    "from phik.report import plot_correlation_matrix\n",
    "from sklearn.preprocessing import StandardScaler\n",
    "from sklearn.linear_model import LinearRegression\n",
    "from sklearn.model_selection import train_test_split\n",
    "from sklearn.metrics import mean_squared_error, r2_score"
   ]
  },
  {
   "cell_type": "markdown",
   "id": "25b1e403",
   "metadata": {},
   "source": [
    "<div>\n",
    "<font size=\"4\", color = \"black\">During the exploration of the region, 500 points are explored, from which, using machine learning, the best 200 are selected for development.\n",
    "The budget for the development of wells in the region is 10 billion rubles.\n",
    "At current prices, one barrel of raw materials brings 450 rubles of income. The income from each unit of the product is 450 thousand rubles, since the volume is indicated in thousands of barrels."
   ]
  },
  {
   "cell_type": "code",
   "execution_count": 3,
   "id": "cae3321f",
   "metadata": {},
   "outputs": [],
   "source": [
    "BUDGET = 1e10\n",
    "PRICE = 450000\n",
    "POINT_ML = 200\n",
    "POINT_EDA = 500"
   ]
  },
  {
   "cell_type": "code",
   "execution_count": 4,
   "id": "9dc0a0ea",
   "metadata": {},
   "outputs": [],
   "source": [
    "pth1 = '/datasets/geo_data_0.csv'\n",
    "pth2 = 'geo_data_0.csv'\n",
    "if os.path.exists(pth1):\n",
    "    data_one = pd.read_csv(pth1)\n",
    "elif os.path.exists(pth2):\n",
    "    data_one = pd.read_csv(pth2)\n",
    "else:\n",
    "    print('Something is wrong')"
   ]
  },
  {
   "cell_type": "code",
   "execution_count": 5,
   "id": "4223c2d7",
   "metadata": {},
   "outputs": [],
   "source": [
    "pth3 = '/datasets/geo_data_1.csv'\n",
    "pth4 = 'geo_data_1.csv'\n",
    "if os.path.exists(pth3):\n",
    "    data_two = pd.read_csv(pth3)\n",
    "elif os.path.exists(pth4):\n",
    "    data_two = pd.read_csv(pth4)\n",
    "else:\n",
    "    print('Something is wrong')"
   ]
  },
  {
   "cell_type": "code",
   "execution_count": 6,
   "id": "06e72ebc",
   "metadata": {},
   "outputs": [],
   "source": [
    "pth5 = '/datasets/geo_data_2.csv'\n",
    "pth6 = 'geo_data_2.csv'\n",
    "if os.path.exists(pth5):\n",
    "    data_three = pd.read_csv(pth5)\n",
    "elif os.path.exists(pth6):\n",
    "    data_three = pd.read_csv(pth6)\n",
    "else:\n",
    "    print('Something is wrong')"
   ]
  },
  {
   "cell_type": "code",
   "execution_count": 7,
   "id": "aa415a6b",
   "metadata": {},
   "outputs": [
    {
     "name": "stdout",
     "output_type": "stream",
     "text": [
      "<class 'pandas.core.frame.DataFrame'>\n",
      "RangeIndex: 100000 entries, 0 to 99999\n",
      "Data columns (total 5 columns):\n",
      " #   Column   Non-Null Count   Dtype  \n",
      "---  ------   --------------   -----  \n",
      " 0   id       100000 non-null  object \n",
      " 1   f0       100000 non-null  float64\n",
      " 2   f1       100000 non-null  float64\n",
      " 3   f2       100000 non-null  float64\n",
      " 4   product  100000 non-null  float64\n",
      "dtypes: float64(4), object(1)\n",
      "memory usage: 3.8+ MB\n"
     ]
    }
   ],
   "source": [
    "data_one.info()"
   ]
  },
  {
   "cell_type": "code",
   "execution_count": 8,
   "id": "11b31c20",
   "metadata": {},
   "outputs": [
    {
     "name": "stdout",
     "output_type": "stream",
     "text": [
      "<class 'pandas.core.frame.DataFrame'>\n",
      "RangeIndex: 100000 entries, 0 to 99999\n",
      "Data columns (total 5 columns):\n",
      " #   Column   Non-Null Count   Dtype  \n",
      "---  ------   --------------   -----  \n",
      " 0   id       100000 non-null  object \n",
      " 1   f0       100000 non-null  float64\n",
      " 2   f1       100000 non-null  float64\n",
      " 3   f2       100000 non-null  float64\n",
      " 4   product  100000 non-null  float64\n",
      "dtypes: float64(4), object(1)\n",
      "memory usage: 3.8+ MB\n"
     ]
    }
   ],
   "source": [
    "data_two.info()"
   ]
  },
  {
   "cell_type": "code",
   "execution_count": 9,
   "id": "9f4774d8",
   "metadata": {},
   "outputs": [
    {
     "name": "stdout",
     "output_type": "stream",
     "text": [
      "<class 'pandas.core.frame.DataFrame'>\n",
      "RangeIndex: 100000 entries, 0 to 99999\n",
      "Data columns (total 5 columns):\n",
      " #   Column   Non-Null Count   Dtype  \n",
      "---  ------   --------------   -----  \n",
      " 0   id       100000 non-null  object \n",
      " 1   f0       100000 non-null  float64\n",
      " 2   f1       100000 non-null  float64\n",
      " 3   f2       100000 non-null  float64\n",
      " 4   product  100000 non-null  float64\n",
      "dtypes: float64(4), object(1)\n",
      "memory usage: 3.8+ MB\n"
     ]
    }
   ],
   "source": [
    "data_three.info()"
   ]
  },
  {
   "cell_type": "code",
   "execution_count": 10,
   "id": "11fcf771",
   "metadata": {},
   "outputs": [
    {
     "data": {
      "text/plain": [
       "0"
      ]
     },
     "execution_count": 10,
     "metadata": {},
     "output_type": "execute_result"
    }
   ],
   "source": [
    "data_one.duplicated().sum()"
   ]
  },
  {
   "cell_type": "code",
   "execution_count": 11,
   "id": "e0e53bff",
   "metadata": {},
   "outputs": [
    {
     "data": {
      "text/plain": [
       "0"
      ]
     },
     "execution_count": 11,
     "metadata": {},
     "output_type": "execute_result"
    }
   ],
   "source": [
    "data_two.duplicated().sum()"
   ]
  },
  {
   "cell_type": "code",
   "execution_count": 12,
   "id": "8c586d1c",
   "metadata": {
    "scrolled": false
   },
   "outputs": [
    {
     "data": {
      "text/plain": [
       "0"
      ]
     },
     "execution_count": 12,
     "metadata": {},
     "output_type": "execute_result"
    }
   ],
   "source": [
    "data_three.duplicated().sum()"
   ]
  },
  {
   "cell_type": "code",
   "execution_count": 13,
   "id": "e40264e9",
   "metadata": {},
   "outputs": [],
   "source": [
    "def drop_col(data, field):\n",
    "    '''\n",
    "the function deletes a column in the dataset\n",
    "    '''\n",
    "    return data.drop([field], axis = 1)"
   ]
  },
  {
   "cell_type": "code",
   "execution_count": 14,
   "id": "ec6716da",
   "metadata": {},
   "outputs": [],
   "source": [
    "data_one = drop_col(data_one, 'id')\n",
    "data_two = drop_col(data_two, 'id')\n",
    "data_three = drop_col(data_three, 'id')\n"
   ]
  },
  {
   "cell_type": "code",
   "execution_count": 15,
   "id": "a4d26ecc",
   "metadata": {},
   "outputs": [
    {
     "name": "stdout",
     "output_type": "stream",
     "text": [
      "(75000, 3)\n",
      "(25000, 3)\n"
     ]
    }
   ],
   "source": [
    "data_train_one, data_valid_one = train_test_split(data_one, test_size=0.25, random_state=42, shuffle = True)\n",
    "features_train_one = data_train_one.drop(['product'], axis=1)\n",
    "target_train_one = data_train_one['product']\n",
    "features_valid_one = data_valid_one.drop(['product'], axis=1)\n",
    "target_valid_one = data_valid_one['product']\n",
    "print(features_train_one.shape)\n",
    "print(features_valid_one.shape)"
   ]
  },
  {
   "cell_type": "code",
   "execution_count": 16,
   "id": "f2b58ae6",
   "metadata": {},
   "outputs": [
    {
     "name": "stdout",
     "output_type": "stream",
     "text": [
      "(75000, 3)\n",
      "(25000, 3)\n"
     ]
    }
   ],
   "source": [
    "data_train_two, data_valid_two = train_test_split(data_two, test_size=0.25, random_state=42, shuffle = True)\n",
    "features_train_two = data_train_two.drop(['product'], axis=1)\n",
    "target_train_two = data_train_two['product']\n",
    "features_valid_two = data_valid_two.drop(['product'], axis=1)\n",
    "target_valid_two = data_valid_two['product']\n",
    "print(features_train_two.shape)\n",
    "print(features_valid_two.shape)"
   ]
  },
  {
   "cell_type": "code",
   "execution_count": 17,
   "id": "50dd6602",
   "metadata": {},
   "outputs": [
    {
     "name": "stdout",
     "output_type": "stream",
     "text": [
      "(75000, 3)\n",
      "(25000, 3)\n"
     ]
    }
   ],
   "source": [
    "data_train_three, data_valid_three = train_test_split(data_three, test_size=0.25, random_state=42, shuffle = True)\n",
    "features_train_three = data_train_three.drop(['product'], axis=1)\n",
    "target_train_three = data_train_three['product']\n",
    "features_valid_three = data_valid_three.drop(['product'], axis=1)\n",
    "target_valid_three = data_valid_three['product']\n",
    "print(features_train_three.shape)\n",
    "print(features_valid_three.shape)"
   ]
  },
  {
   "cell_type": "code",
   "execution_count": 18,
   "id": "b700fa91",
   "metadata": {},
   "outputs": [],
   "source": [
    "def scaler(data_train, data_valid):\n",
    "    '''\n",
    "Function, brings all features to scaling\n",
    "    '''\n",
    "    numeric = data_train.columns\n",
    "    scaler = StandardScaler()\n",
    "    scaler.fit(data_train[numeric])\n",
    "    data_train[numeric] = scaler.transform(data_train[numeric])\n",
    "    data_valid[numeric] = scaler.transform(data_valid[numeric])\n",
    "    return data_train, data_valid"
   ]
  },
  {
   "cell_type": "code",
   "execution_count": 19,
   "id": "30f232aa",
   "metadata": {},
   "outputs": [],
   "source": [
    "features_train_one, features_valid_one = scaler(features_train_one, features_valid_one)\n",
    "features_train_two, features_valid_two = scaler(features_train_two, features_valid_two)\n",
    "features_train_three, features_valid_three = scaler(features_train_three, features_valid_three)"
   ]
  },
  {
   "cell_type": "code",
   "execution_count": 20,
   "id": "d0469e19",
   "metadata": {},
   "outputs": [
    {
     "data": {
      "text/html": [
       "<div>\n",
       "<style scoped>\n",
       "    .dataframe tbody tr th:only-of-type {\n",
       "        vertical-align: middle;\n",
       "    }\n",
       "\n",
       "    .dataframe tbody tr th {\n",
       "        vertical-align: top;\n",
       "    }\n",
       "\n",
       "    .dataframe thead th {\n",
       "        text-align: right;\n",
       "    }\n",
       "</style>\n",
       "<table border=\"1\" class=\"dataframe\">\n",
       "  <thead>\n",
       "    <tr style=\"text-align: right;\">\n",
       "      <th></th>\n",
       "      <th>f0</th>\n",
       "      <th>f1</th>\n",
       "      <th>f2</th>\n",
       "    </tr>\n",
       "  </thead>\n",
       "  <tbody>\n",
       "    <tr>\n",
       "      <th>count</th>\n",
       "      <td>7.500000e+04</td>\n",
       "      <td>7.500000e+04</td>\n",
       "      <td>7.500000e+04</td>\n",
       "    </tr>\n",
       "    <tr>\n",
       "      <th>mean</th>\n",
       "      <td>-1.151109e-16</td>\n",
       "      <td>4.812743e-17</td>\n",
       "      <td>2.568390e-17</td>\n",
       "    </tr>\n",
       "    <tr>\n",
       "      <th>std</th>\n",
       "      <td>1.000007e+00</td>\n",
       "      <td>1.000007e+00</td>\n",
       "      <td>1.000007e+00</td>\n",
       "    </tr>\n",
       "    <tr>\n",
       "      <th>min</th>\n",
       "      <td>-2.188139e+00</td>\n",
       "      <td>-2.182397e+00</td>\n",
       "      <td>-3.892907e+00</td>\n",
       "    </tr>\n",
       "    <tr>\n",
       "      <th>25%</th>\n",
       "      <td>-6.589992e-01</td>\n",
       "      <td>-8.917428e-01</td>\n",
       "      <td>-6.836300e-01</td>\n",
       "    </tr>\n",
       "    <tr>\n",
       "      <th>50%</th>\n",
       "      <td>3.205561e-03</td>\n",
       "      <td>2.611348e-03</td>\n",
       "      <td>4.889632e-03</td>\n",
       "    </tr>\n",
       "    <tr>\n",
       "      <th>75%</th>\n",
       "      <td>6.547445e-01</td>\n",
       "      <td>8.901383e-01</td>\n",
       "      <td>6.809043e-01</td>\n",
       "    </tr>\n",
       "    <tr>\n",
       "      <th>max</th>\n",
       "      <td>2.135099e+00</td>\n",
       "      <td>2.145152e+00</td>\n",
       "      <td>4.152764e+00</td>\n",
       "    </tr>\n",
       "  </tbody>\n",
       "</table>\n",
       "</div>"
      ],
      "text/plain": [
       "                 f0            f1            f2\n",
       "count  7.500000e+04  7.500000e+04  7.500000e+04\n",
       "mean  -1.151109e-16  4.812743e-17  2.568390e-17\n",
       "std    1.000007e+00  1.000007e+00  1.000007e+00\n",
       "min   -2.188139e+00 -2.182397e+00 -3.892907e+00\n",
       "25%   -6.589992e-01 -8.917428e-01 -6.836300e-01\n",
       "50%    3.205561e-03  2.611348e-03  4.889632e-03\n",
       "75%    6.547445e-01  8.901383e-01  6.809043e-01\n",
       "max    2.135099e+00  2.145152e+00  4.152764e+00"
      ]
     },
     "execution_count": 20,
     "metadata": {},
     "output_type": "execute_result"
    }
   ],
   "source": [
    "features_train_one.describe()"
   ]
  },
  {
   "cell_type": "code",
   "execution_count": 21,
   "id": "7654b3df",
   "metadata": {},
   "outputs": [
    {
     "data": {
      "text/html": [
       "<div>\n",
       "<style scoped>\n",
       "    .dataframe tbody tr th:only-of-type {\n",
       "        vertical-align: middle;\n",
       "    }\n",
       "\n",
       "    .dataframe tbody tr th {\n",
       "        vertical-align: top;\n",
       "    }\n",
       "\n",
       "    .dataframe thead th {\n",
       "        text-align: right;\n",
       "    }\n",
       "</style>\n",
       "<table border=\"1\" class=\"dataframe\">\n",
       "  <thead>\n",
       "    <tr style=\"text-align: right;\">\n",
       "      <th></th>\n",
       "      <th>f0</th>\n",
       "      <th>f1</th>\n",
       "      <th>f2</th>\n",
       "    </tr>\n",
       "  </thead>\n",
       "  <tbody>\n",
       "    <tr>\n",
       "      <th>count</th>\n",
       "      <td>7.500000e+04</td>\n",
       "      <td>7.500000e+04</td>\n",
       "      <td>7.500000e+04</td>\n",
       "    </tr>\n",
       "    <tr>\n",
       "      <th>mean</th>\n",
       "      <td>-2.491340e-17</td>\n",
       "      <td>5.180782e-17</td>\n",
       "      <td>1.442491e-16</td>\n",
       "    </tr>\n",
       "    <tr>\n",
       "      <th>std</th>\n",
       "      <td>1.000007e+00</td>\n",
       "      <td>1.000007e+00</td>\n",
       "      <td>1.000007e+00</td>\n",
       "    </tr>\n",
       "    <tr>\n",
       "      <th>min</th>\n",
       "      <td>-3.652284e+00</td>\n",
       "      <td>-4.211144e+00</td>\n",
       "      <td>-1.475801e+00</td>\n",
       "    </tr>\n",
       "    <tr>\n",
       "      <th>25%</th>\n",
       "      <td>-8.296259e-01</td>\n",
       "      <td>-6.770941e-01</td>\n",
       "      <td>-8.780706e-01</td>\n",
       "    </tr>\n",
       "    <tr>\n",
       "      <th>50%</th>\n",
       "      <td>4.018308e-03</td>\n",
       "      <td>-3.411787e-03</td>\n",
       "      <td>-2.839520e-01</td>\n",
       "    </tr>\n",
       "    <tr>\n",
       "      <th>75%</th>\n",
       "      <td>8.338530e-01</td>\n",
       "      <td>6.796487e-01</td>\n",
       "      <td>8.829801e-01</td>\n",
       "    </tr>\n",
       "    <tr>\n",
       "      <th>max</th>\n",
       "      <td>3.156437e+00</td>\n",
       "      <td>4.209555e+00</td>\n",
       "      <td>1.481644e+00</td>\n",
       "    </tr>\n",
       "  </tbody>\n",
       "</table>\n",
       "</div>"
      ],
      "text/plain": [
       "                 f0            f1            f2\n",
       "count  7.500000e+04  7.500000e+04  7.500000e+04\n",
       "mean  -2.491340e-17  5.180782e-17  1.442491e-16\n",
       "std    1.000007e+00  1.000007e+00  1.000007e+00\n",
       "min   -3.652284e+00 -4.211144e+00 -1.475801e+00\n",
       "25%   -8.296259e-01 -6.770941e-01 -8.780706e-01\n",
       "50%    4.018308e-03 -3.411787e-03 -2.839520e-01\n",
       "75%    8.338530e-01  6.796487e-01  8.829801e-01\n",
       "max    3.156437e+00  4.209555e+00  1.481644e+00"
      ]
     },
     "execution_count": 21,
     "metadata": {},
     "output_type": "execute_result"
    }
   ],
   "source": [
    "features_train_two.describe()"
   ]
  },
  {
   "cell_type": "code",
   "execution_count": 22,
   "id": "df7cb828",
   "metadata": {},
   "outputs": [
    {
     "data": {
      "text/html": [
       "<div>\n",
       "<style scoped>\n",
       "    .dataframe tbody tr th:only-of-type {\n",
       "        vertical-align: middle;\n",
       "    }\n",
       "\n",
       "    .dataframe tbody tr th {\n",
       "        vertical-align: top;\n",
       "    }\n",
       "\n",
       "    .dataframe thead th {\n",
       "        text-align: right;\n",
       "    }\n",
       "</style>\n",
       "<table border=\"1\" class=\"dataframe\">\n",
       "  <thead>\n",
       "    <tr style=\"text-align: right;\">\n",
       "      <th></th>\n",
       "      <th>f0</th>\n",
       "      <th>f1</th>\n",
       "      <th>f2</th>\n",
       "    </tr>\n",
       "  </thead>\n",
       "  <tbody>\n",
       "    <tr>\n",
       "      <th>count</th>\n",
       "      <td>7.500000e+04</td>\n",
       "      <td>7.500000e+04</td>\n",
       "      <td>7.500000e+04</td>\n",
       "    </tr>\n",
       "    <tr>\n",
       "      <th>mean</th>\n",
       "      <td>2.661575e-18</td>\n",
       "      <td>-2.466471e-17</td>\n",
       "      <td>-2.847796e-17</td>\n",
       "    </tr>\n",
       "    <tr>\n",
       "      <th>std</th>\n",
       "      <td>1.000007e+00</td>\n",
       "      <td>1.000007e+00</td>\n",
       "      <td>1.000007e+00</td>\n",
       "    </tr>\n",
       "    <tr>\n",
       "      <th>min</th>\n",
       "      <td>-5.062022e+00</td>\n",
       "      <td>-4.087359e+00</td>\n",
       "      <td>-4.163654e+00</td>\n",
       "    </tr>\n",
       "    <tr>\n",
       "      <th>25%</th>\n",
       "      <td>-6.722684e-01</td>\n",
       "      <td>-6.782630e-01</td>\n",
       "      <td>-6.790620e-01</td>\n",
       "    </tr>\n",
       "    <tr>\n",
       "      <th>50%</th>\n",
       "      <td>4.116749e-03</td>\n",
       "      <td>-4.496735e-03</td>\n",
       "      <td>-1.457466e-03</td>\n",
       "    </tr>\n",
       "    <tr>\n",
       "      <th>75%</th>\n",
       "      <td>6.671673e-01</td>\n",
       "      <td>6.742285e-01</td>\n",
       "      <td>6.800652e-01</td>\n",
       "    </tr>\n",
       "    <tr>\n",
       "      <th>max</th>\n",
       "      <td>4.180251e+00</td>\n",
       "      <td>4.532761e+00</td>\n",
       "      <td>4.095557e+00</td>\n",
       "    </tr>\n",
       "  </tbody>\n",
       "</table>\n",
       "</div>"
      ],
      "text/plain": [
       "                 f0            f1            f2\n",
       "count  7.500000e+04  7.500000e+04  7.500000e+04\n",
       "mean   2.661575e-18 -2.466471e-17 -2.847796e-17\n",
       "std    1.000007e+00  1.000007e+00  1.000007e+00\n",
       "min   -5.062022e+00 -4.087359e+00 -4.163654e+00\n",
       "25%   -6.722684e-01 -6.782630e-01 -6.790620e-01\n",
       "50%    4.116749e-03 -4.496735e-03 -1.457466e-03\n",
       "75%    6.671673e-01  6.742285e-01  6.800652e-01\n",
       "max    4.180251e+00  4.532761e+00  4.095557e+00"
      ]
     },
     "execution_count": 22,
     "metadata": {},
     "output_type": "execute_result"
    }
   ],
   "source": [
    "features_train_three.describe()"
   ]
  },
  {
   "cell_type": "code",
   "execution_count": 23,
   "id": "0ea9450e",
   "metadata": {},
   "outputs": [
    {
     "data": {
      "text/html": [
       "<div>\n",
       "<style scoped>\n",
       "    .dataframe tbody tr th:only-of-type {\n",
       "        vertical-align: middle;\n",
       "    }\n",
       "\n",
       "    .dataframe tbody tr th {\n",
       "        vertical-align: top;\n",
       "    }\n",
       "\n",
       "    .dataframe thead th {\n",
       "        text-align: right;\n",
       "    }\n",
       "</style>\n",
       "<table border=\"1\" class=\"dataframe\">\n",
       "  <thead>\n",
       "    <tr style=\"text-align: right;\">\n",
       "      <th></th>\n",
       "      <th>f0</th>\n",
       "      <th>f1</th>\n",
       "      <th>f2</th>\n",
       "    </tr>\n",
       "  </thead>\n",
       "  <tbody>\n",
       "    <tr>\n",
       "      <th>count</th>\n",
       "      <td>25000.000000</td>\n",
       "      <td>25000.000000</td>\n",
       "      <td>25000.000000</td>\n",
       "    </tr>\n",
       "    <tr>\n",
       "      <th>mean</th>\n",
       "      <td>0.001946</td>\n",
       "      <td>-0.005980</td>\n",
       "      <td>-0.009740</td>\n",
       "    </tr>\n",
       "    <tr>\n",
       "      <th>std</th>\n",
       "      <td>0.998089</td>\n",
       "      <td>1.006369</td>\n",
       "      <td>0.998770</td>\n",
       "    </tr>\n",
       "    <tr>\n",
       "      <th>min</th>\n",
       "      <td>-2.015492</td>\n",
       "      <td>-2.175823</td>\n",
       "      <td>-4.493047</td>\n",
       "    </tr>\n",
       "    <tr>\n",
       "      <th>25%</th>\n",
       "      <td>-0.650799</td>\n",
       "      <td>-0.915047</td>\n",
       "      <td>-0.685719</td>\n",
       "    </tr>\n",
       "    <tr>\n",
       "      <th>50%</th>\n",
       "      <td>0.000411</td>\n",
       "      <td>-0.013012</td>\n",
       "      <td>-0.007607</td>\n",
       "    </tr>\n",
       "    <tr>\n",
       "      <th>75%</th>\n",
       "      <td>0.666343</td>\n",
       "      <td>0.900522</td>\n",
       "      <td>0.672512</td>\n",
       "    </tr>\n",
       "    <tr>\n",
       "      <th>max</th>\n",
       "      <td>2.042207</td>\n",
       "      <td>2.170004</td>\n",
       "      <td>3.848217</td>\n",
       "    </tr>\n",
       "  </tbody>\n",
       "</table>\n",
       "</div>"
      ],
      "text/plain": [
       "                 f0            f1            f2\n",
       "count  25000.000000  25000.000000  25000.000000\n",
       "mean       0.001946     -0.005980     -0.009740\n",
       "std        0.998089      1.006369      0.998770\n",
       "min       -2.015492     -2.175823     -4.493047\n",
       "25%       -0.650799     -0.915047     -0.685719\n",
       "50%        0.000411     -0.013012     -0.007607\n",
       "75%        0.666343      0.900522      0.672512\n",
       "max        2.042207      2.170004      3.848217"
      ]
     },
     "execution_count": 23,
     "metadata": {},
     "output_type": "execute_result"
    }
   ],
   "source": [
    "features_valid_one.describe()"
   ]
  },
  {
   "cell_type": "code",
   "execution_count": 24,
   "id": "1e91c7d1",
   "metadata": {},
   "outputs": [
    {
     "data": {
      "text/html": [
       "<div>\n",
       "<style scoped>\n",
       "    .dataframe tbody tr th:only-of-type {\n",
       "        vertical-align: middle;\n",
       "    }\n",
       "\n",
       "    .dataframe tbody tr th {\n",
       "        vertical-align: top;\n",
       "    }\n",
       "\n",
       "    .dataframe thead th {\n",
       "        text-align: right;\n",
       "    }\n",
       "</style>\n",
       "<table border=\"1\" class=\"dataframe\">\n",
       "  <thead>\n",
       "    <tr style=\"text-align: right;\">\n",
       "      <th></th>\n",
       "      <th>f0</th>\n",
       "      <th>f1</th>\n",
       "      <th>f2</th>\n",
       "    </tr>\n",
       "  </thead>\n",
       "  <tbody>\n",
       "    <tr>\n",
       "      <th>count</th>\n",
       "      <td>25000.000000</td>\n",
       "      <td>25000.000000</td>\n",
       "      <td>25000.000000</td>\n",
       "    </tr>\n",
       "    <tr>\n",
       "      <th>mean</th>\n",
       "      <td>0.005756</td>\n",
       "      <td>0.007861</td>\n",
       "      <td>-0.002983</td>\n",
       "    </tr>\n",
       "    <tr>\n",
       "      <th>std</th>\n",
       "      <td>1.000983</td>\n",
       "      <td>1.001564</td>\n",
       "      <td>1.000277</td>\n",
       "    </tr>\n",
       "    <tr>\n",
       "      <th>min</th>\n",
       "      <td>-2.891676</td>\n",
       "      <td>-4.021811</td>\n",
       "      <td>-1.475122</td>\n",
       "    </tr>\n",
       "    <tr>\n",
       "      <th>25%</th>\n",
       "      <td>-0.824942</td>\n",
       "      <td>-0.672973</td>\n",
       "      <td>-0.878141</td>\n",
       "    </tr>\n",
       "    <tr>\n",
       "      <th>50%</th>\n",
       "      <td>-0.000730</td>\n",
       "      <td>0.003368</td>\n",
       "      <td>-0.285100</td>\n",
       "    </tr>\n",
       "    <tr>\n",
       "      <th>75%</th>\n",
       "      <td>0.842284</td>\n",
       "      <td>0.677099</td>\n",
       "      <td>0.882936</td>\n",
       "    </tr>\n",
       "    <tr>\n",
       "      <th>max</th>\n",
       "      <td>3.042560</td>\n",
       "      <td>4.599733</td>\n",
       "      <td>1.479434</td>\n",
       "    </tr>\n",
       "  </tbody>\n",
       "</table>\n",
       "</div>"
      ],
      "text/plain": [
       "                 f0            f1            f2\n",
       "count  25000.000000  25000.000000  25000.000000\n",
       "mean       0.005756      0.007861     -0.002983\n",
       "std        1.000983      1.001564      1.000277\n",
       "min       -2.891676     -4.021811     -1.475122\n",
       "25%       -0.824942     -0.672973     -0.878141\n",
       "50%       -0.000730      0.003368     -0.285100\n",
       "75%        0.842284      0.677099      0.882936\n",
       "max        3.042560      4.599733      1.479434"
      ]
     },
     "execution_count": 24,
     "metadata": {},
     "output_type": "execute_result"
    }
   ],
   "source": [
    "features_valid_two.describe()"
   ]
  },
  {
   "cell_type": "code",
   "execution_count": 25,
   "id": "0e521a95",
   "metadata": {},
   "outputs": [
    {
     "data": {
      "text/html": [
       "<div>\n",
       "<style scoped>\n",
       "    .dataframe tbody tr th:only-of-type {\n",
       "        vertical-align: middle;\n",
       "    }\n",
       "\n",
       "    .dataframe tbody tr th {\n",
       "        vertical-align: top;\n",
       "    }\n",
       "\n",
       "    .dataframe thead th {\n",
       "        text-align: right;\n",
       "    }\n",
       "</style>\n",
       "<table border=\"1\" class=\"dataframe\">\n",
       "  <thead>\n",
       "    <tr style=\"text-align: right;\">\n",
       "      <th></th>\n",
       "      <th>f0</th>\n",
       "      <th>f1</th>\n",
       "      <th>f2</th>\n",
       "    </tr>\n",
       "  </thead>\n",
       "  <tbody>\n",
       "    <tr>\n",
       "      <th>count</th>\n",
       "      <td>25000.000000</td>\n",
       "      <td>25000.000000</td>\n",
       "      <td>25000.000000</td>\n",
       "    </tr>\n",
       "    <tr>\n",
       "      <th>mean</th>\n",
       "      <td>-0.000635</td>\n",
       "      <td>0.007425</td>\n",
       "      <td>-0.008932</td>\n",
       "    </tr>\n",
       "    <tr>\n",
       "      <th>std</th>\n",
       "      <td>1.002439</td>\n",
       "      <td>0.996648</td>\n",
       "      <td>0.996926</td>\n",
       "    </tr>\n",
       "    <tr>\n",
       "      <th>min</th>\n",
       "      <td>-3.534406</td>\n",
       "      <td>-3.873919</td>\n",
       "      <td>-3.945092</td>\n",
       "    </tr>\n",
       "    <tr>\n",
       "      <th>25%</th>\n",
       "      <td>-0.675291</td>\n",
       "      <td>-0.666497</td>\n",
       "      <td>-0.689793</td>\n",
       "    </tr>\n",
       "    <tr>\n",
       "      <th>50%</th>\n",
       "      <td>0.004097</td>\n",
       "      <td>0.001848</td>\n",
       "      <td>-0.016347</td>\n",
       "    </tr>\n",
       "    <tr>\n",
       "      <th>75%</th>\n",
       "      <td>0.671700</td>\n",
       "      <td>0.677995</td>\n",
       "      <td>0.670447</td>\n",
       "    </tr>\n",
       "    <tr>\n",
       "      <th>max</th>\n",
       "      <td>4.167116</td>\n",
       "      <td>4.484868</td>\n",
       "      <td>3.781781</td>\n",
       "    </tr>\n",
       "  </tbody>\n",
       "</table>\n",
       "</div>"
      ],
      "text/plain": [
       "                 f0            f1            f2\n",
       "count  25000.000000  25000.000000  25000.000000\n",
       "mean      -0.000635      0.007425     -0.008932\n",
       "std        1.002439      0.996648      0.996926\n",
       "min       -3.534406     -3.873919     -3.945092\n",
       "25%       -0.675291     -0.666497     -0.689793\n",
       "50%        0.004097      0.001848     -0.016347\n",
       "75%        0.671700      0.677995      0.670447\n",
       "max        4.167116      4.484868      3.781781"
      ]
     },
     "execution_count": 25,
     "metadata": {},
     "output_type": "execute_result"
    }
   ],
   "source": [
    "features_valid_three.describe()"
   ]
  },
  {
   "cell_type": "markdown",
   "id": "4ac16a8c",
   "metadata": {},
   "source": [
    "<div>\n",
    "    <font size=\"3\", color = \"black\">\n",
    "<br />\n",
    "No duplicates or gaps were found in the data. The data is divided into training and validation sets, features and target features. Strongly prominent anomalies in the features of the training and validation samples are not observed."
   ]
  },
  {
   "cell_type": "markdown",
   "id": "5e51466c",
   "metadata": {},
   "source": [
    "<div class=\"alert alert-info\">\n",
    "<font size=\"4\", color = \"black\"><a name=\"Model_Training\"><h3>Model Training</h3></a></font>\n",
    "    <br /> \n",
    "    <font size=\"3\", color = \"black\">"
   ]
  },
  {
   "cell_type": "code",
   "execution_count": 26,
   "id": "ff6fd53a",
   "metadata": {},
   "outputs": [],
   "source": [
    "def linear_reg(feature_train, target_train, feature_valid, target_valid):\n",
    "    '''the function trains a linear regression model,\n",
    "       casts predictions to Series and sets indexes similar to target'''\n",
    "    model = LinearRegression()\n",
    "    model.fit(feature_train, target_train)\n",
    "    prediction = model.predict(feature_valid)\n",
    "    np_array = np.array(prediction)\n",
    "    predictions = pd.Series(np_array, target_valid.index)\n",
    "    return predictions"
   ]
  },
  {
   "cell_type": "code",
   "execution_count": 27,
   "id": "54b9a1e9",
   "metadata": {},
   "outputs": [],
   "source": [
    "def f(feature_train, target_train, feature_valid, target_valid):\n",
    "    '''\n",
    "function finds statistical parameters\n",
    "    '''\n",
    "    prediction = linear_reg(feature_train, target_train, feature_valid, target_valid)\n",
    "    MSE = mean_squared_error(target_valid, prediction)\n",
    "    RMSE = mean_squared_error(target_valid,prediction) ** 0.5\n",
    "    R2 = r2_score(target_valid, prediction)\n",
    "    print('MSE:', MSE )\n",
    "    print('RMSE:', RMSE)\n",
    "    print('R2:', R2)\n",
    "    print('Average real stock of raw materials:', target_valid.mean())\n",
    "    print('Average forecast stock of raw materials:', prediction.mean())"
   ]
  },
  {
   "cell_type": "code",
   "execution_count": 28,
   "id": "8d8fac07",
   "metadata": {},
   "outputs": [
    {
     "name": "stdout",
     "output_type": "stream",
     "text": [
      "First region\n",
      "MSE: 1425.5608700093812\n",
      "RMSE: 37.75660035026169\n",
      "R2: 0.2728287328173471\n",
      "Average real stock of raw materials: 92.32595637084344\n",
      "Average forecast stock of raw materials: 92.3987999065781\n",
      "\n",
      "Second region\n",
      "MSE: 0.7925986566392043\n",
      "RMSE: 0.8902801001028857\n",
      "R2: 0.9996245232002449\n",
      "Average real stock of raw materials: 68.72538074724207\n",
      "Average forecast stock of raw materials: 68.71287803913759\n",
      "\n",
      "Third region\n",
      "MSE: 1611.6910636385905\n",
      "RMSE: 40.14587231134218\n",
      "R2: 0.19634705977280464\n",
      "Average real stock of raw materials: 95.15099907172\n",
      "Average forecast stock of raw materials: 94.77102387765994\n"
     ]
    }
   ],
   "source": [
    "print('First region')\n",
    "f(features_train_one, target_train_one, features_valid_one, target_valid_one)\n",
    "print('')\n",
    "print('Second region')\n",
    "f(features_train_two, target_train_two, features_valid_two, target_valid_two)\n",
    "print('')\n",
    "print('Third region')\n",
    "f(features_train_three, target_train_three, features_valid_three, target_valid_three)"
   ]
  },
  {
   "cell_type": "code",
   "execution_count": 29,
   "id": "2bf98ca4",
   "metadata": {},
   "outputs": [],
   "source": [
    "def make_pretty(styler):\n",
    "    styler.set_caption(\"Correlation matrix\")\n",
    "    styler.background_gradient(axis=None, vmin=0, vmax=1, cmap=\"YlGnBu\")\n",
    "    return styler"
   ]
  },
  {
   "cell_type": "code",
   "execution_count": 30,
   "id": "b9c6916a",
   "metadata": {},
   "outputs": [
    {
     "data": {
      "text/html": [
       "<style type=\"text/css\">\n",
       "#T_9d888_row0_col0, #T_9d888_row1_col1, #T_9d888_row2_col2, #T_9d888_row3_col3 {\n",
       "  background-color: #081d58;\n",
       "  color: #f1f1f1;\n",
       "}\n",
       "#T_9d888_row0_col1, #T_9d888_row0_col2, #T_9d888_row1_col0, #T_9d888_row1_col2, #T_9d888_row1_col3, #T_9d888_row2_col0, #T_9d888_row2_col1, #T_9d888_row3_col1 {\n",
       "  background-color: #ffffd9;\n",
       "  color: #000000;\n",
       "}\n",
       "#T_9d888_row0_col3, #T_9d888_row3_col0 {\n",
       "  background-color: #e8f6b1;\n",
       "  color: #000000;\n",
       "}\n",
       "#T_9d888_row2_col3, #T_9d888_row3_col2 {\n",
       "  background-color: #4ab9c3;\n",
       "  color: #f1f1f1;\n",
       "}\n",
       "</style>\n",
       "<table id=\"T_9d888\">\n",
       "  <caption>Correlation matrix</caption>\n",
       "  <thead>\n",
       "    <tr>\n",
       "      <th class=\"blank level0\" >&nbsp;</th>\n",
       "      <th id=\"T_9d888_level0_col0\" class=\"col_heading level0 col0\" >f0</th>\n",
       "      <th id=\"T_9d888_level0_col1\" class=\"col_heading level0 col1\" >f1</th>\n",
       "      <th id=\"T_9d888_level0_col2\" class=\"col_heading level0 col2\" >f2</th>\n",
       "      <th id=\"T_9d888_level0_col3\" class=\"col_heading level0 col3\" >product</th>\n",
       "    </tr>\n",
       "  </thead>\n",
       "  <tbody>\n",
       "    <tr>\n",
       "      <th id=\"T_9d888_level0_row0\" class=\"row_heading level0 row0\" >f0</th>\n",
       "      <td id=\"T_9d888_row0_col0\" class=\"data row0 col0\" >1.000000</td>\n",
       "      <td id=\"T_9d888_row0_col1\" class=\"data row0 col1\" >-0.440723</td>\n",
       "      <td id=\"T_9d888_row0_col2\" class=\"data row0 col2\" >-0.003153</td>\n",
       "      <td id=\"T_9d888_row0_col3\" class=\"data row0 col3\" >0.143536</td>\n",
       "    </tr>\n",
       "    <tr>\n",
       "      <th id=\"T_9d888_level0_row1\" class=\"row_heading level0 row1\" >f1</th>\n",
       "      <td id=\"T_9d888_row1_col0\" class=\"data row1 col0\" >-0.440723</td>\n",
       "      <td id=\"T_9d888_row1_col1\" class=\"data row1 col1\" >1.000000</td>\n",
       "      <td id=\"T_9d888_row1_col2\" class=\"data row1 col2\" >0.001724</td>\n",
       "      <td id=\"T_9d888_row1_col3\" class=\"data row1 col3\" >-0.192356</td>\n",
       "    </tr>\n",
       "    <tr>\n",
       "      <th id=\"T_9d888_level0_row2\" class=\"row_heading level0 row2\" >f2</th>\n",
       "      <td id=\"T_9d888_row2_col0\" class=\"data row2 col0\" >-0.003153</td>\n",
       "      <td id=\"T_9d888_row2_col1\" class=\"data row2 col1\" >0.001724</td>\n",
       "      <td id=\"T_9d888_row2_col2\" class=\"data row2 col2\" >1.000000</td>\n",
       "      <td id=\"T_9d888_row2_col3\" class=\"data row2 col3\" >0.483663</td>\n",
       "    </tr>\n",
       "    <tr>\n",
       "      <th id=\"T_9d888_level0_row3\" class=\"row_heading level0 row3\" >product</th>\n",
       "      <td id=\"T_9d888_row3_col0\" class=\"data row3 col0\" >0.143536</td>\n",
       "      <td id=\"T_9d888_row3_col1\" class=\"data row3 col1\" >-0.192356</td>\n",
       "      <td id=\"T_9d888_row3_col2\" class=\"data row3 col2\" >0.483663</td>\n",
       "      <td id=\"T_9d888_row3_col3\" class=\"data row3 col3\" >1.000000</td>\n",
       "    </tr>\n",
       "  </tbody>\n",
       "</table>\n"
      ],
      "text/plain": [
       "<pandas.io.formats.style.Styler at 0x7fafe0240190>"
      ]
     },
     "execution_count": 30,
     "metadata": {},
     "output_type": "execute_result"
    }
   ],
   "source": [
    "corr = data_one.corr()\n",
    "corr.style.pipe(make_pretty)"
   ]
  },
  {
   "cell_type": "code",
   "execution_count": 31,
   "id": "0118e337",
   "metadata": {},
   "outputs": [
    {
     "name": "stdout",
     "output_type": "stream",
     "text": [
      "interval columns not set, guessing: ['f0', 'f1', 'f2', 'product']\n"
     ]
    },
    {
     "data": {
      "image/png": "[encoded data removed]",
      "text/plain": [
       "<Figure size 1000x800 with 2 Axes>"
      ]
     },
     "metadata": {},
     "output_type": "display_data"
    }
   ],
   "source": [
    "phik_overview = data_one.phik_matrix();\n",
    "phik_overview.round(2);\n",
    "plot_correlation_matrix(phik_overview.values, \n",
    "                        x_labels=phik_overview.columns, \n",
    "                        y_labels=phik_overview.index, \n",
    "                        vmin=0, vmax=1, color_map=\"Greens\", \n",
    "                        title=r\"correlation $\\phi_K$ first region\", \n",
    "                        fontsize_factor=1.5, \n",
    "                        figsize=(10, 8))\n",
    "plt.tight_layout();"
   ]
  },
  {
   "cell_type": "code",
   "execution_count": 32,
   "id": "f49cc7ef",
   "metadata": {},
   "outputs": [
    {
     "data": {
      "text/html": [
       "<style type=\"text/css\">\n",
       "#T_476db_row0_col0, #T_476db_row1_col1, #T_476db_row2_col2, #T_476db_row2_col3, #T_476db_row3_col2, #T_476db_row3_col3 {\n",
       "  background-color: #081d58;\n",
       "  color: #f1f1f1;\n",
       "}\n",
       "#T_476db_row0_col1, #T_476db_row1_col0 {\n",
       "  background-color: #dcf1b2;\n",
       "  color: #000000;\n",
       "}\n",
       "#T_476db_row0_col2, #T_476db_row0_col3, #T_476db_row1_col2, #T_476db_row1_col3, #T_476db_row2_col0, #T_476db_row2_col1, #T_476db_row3_col0, #T_476db_row3_col1 {\n",
       "  background-color: #ffffd9;\n",
       "  color: #000000;\n",
       "}\n",
       "</style>\n",
       "<table id=\"T_476db\">\n",
       "  <caption>Correlation matrix</caption>\n",
       "  <thead>\n",
       "    <tr>\n",
       "      <th class=\"blank level0\" >&nbsp;</th>\n",
       "      <th id=\"T_476db_level0_col0\" class=\"col_heading level0 col0\" >f0</th>\n",
       "      <th id=\"T_476db_level0_col1\" class=\"col_heading level0 col1\" >f1</th>\n",
       "      <th id=\"T_476db_level0_col2\" class=\"col_heading level0 col2\" >f2</th>\n",
       "      <th id=\"T_476db_level0_col3\" class=\"col_heading level0 col3\" >product</th>\n",
       "    </tr>\n",
       "  </thead>\n",
       "  <tbody>\n",
       "    <tr>\n",
       "      <th id=\"T_476db_level0_row0\" class=\"row_heading level0 row0\" >f0</th>\n",
       "      <td id=\"T_476db_row0_col0\" class=\"data row0 col0\" >1.000000</td>\n",
       "      <td id=\"T_476db_row0_col1\" class=\"data row0 col1\" >0.182287</td>\n",
       "      <td id=\"T_476db_row0_col2\" class=\"data row0 col2\" >-0.001777</td>\n",
       "      <td id=\"T_476db_row0_col3\" class=\"data row0 col3\" >-0.030491</td>\n",
       "    </tr>\n",
       "    <tr>\n",
       "      <th id=\"T_476db_level0_row1\" class=\"row_heading level0 row1\" >f1</th>\n",
       "      <td id=\"T_476db_row1_col0\" class=\"data row1 col0\" >0.182287</td>\n",
       "      <td id=\"T_476db_row1_col1\" class=\"data row1 col1\" >1.000000</td>\n",
       "      <td id=\"T_476db_row1_col2\" class=\"data row1 col2\" >-0.002595</td>\n",
       "      <td id=\"T_476db_row1_col3\" class=\"data row1 col3\" >-0.010155</td>\n",
       "    </tr>\n",
       "    <tr>\n",
       "      <th id=\"T_476db_level0_row2\" class=\"row_heading level0 row2\" >f2</th>\n",
       "      <td id=\"T_476db_row2_col0\" class=\"data row2 col0\" >-0.001777</td>\n",
       "      <td id=\"T_476db_row2_col1\" class=\"data row2 col1\" >-0.002595</td>\n",
       "      <td id=\"T_476db_row2_col2\" class=\"data row2 col2\" >1.000000</td>\n",
       "      <td id=\"T_476db_row2_col3\" class=\"data row2 col3\" >0.999397</td>\n",
       "    </tr>\n",
       "    <tr>\n",
       "      <th id=\"T_476db_level0_row3\" class=\"row_heading level0 row3\" >product</th>\n",
       "      <td id=\"T_476db_row3_col0\" class=\"data row3 col0\" >-0.030491</td>\n",
       "      <td id=\"T_476db_row3_col1\" class=\"data row3 col1\" >-0.010155</td>\n",
       "      <td id=\"T_476db_row3_col2\" class=\"data row3 col2\" >0.999397</td>\n",
       "      <td id=\"T_476db_row3_col3\" class=\"data row3 col3\" >1.000000</td>\n",
       "    </tr>\n",
       "  </tbody>\n",
       "</table>\n"
      ],
      "text/plain": [
       "<pandas.io.formats.style.Styler at 0x7fb0208d0760>"
      ]
     },
     "execution_count": 32,
     "metadata": {},
     "output_type": "execute_result"
    }
   ],
   "source": [
    "corr = data_two.corr()\n",
    "corr.style.pipe(make_pretty)"
   ]
  },
  {
   "cell_type": "code",
   "execution_count": 33,
   "id": "8b5d48e8",
   "metadata": {},
   "outputs": [
    {
     "name": "stdout",
     "output_type": "stream",
     "text": [
      "interval columns not set, guessing: ['f0', 'f1', 'f2', 'product']\n"
     ]
    },
    {
     "data": {
      "image/png": "[encoded data removed]",
      "text/plain": [
       "<Figure size 1000x800 with 2 Axes>"
      ]
     },
     "metadata": {},
     "output_type": "display_data"
    }
   ],
   "source": [
    "phik_overview = data_two.phik_matrix();\n",
    "phik_overview.round(2);\n",
    "plot_correlation_matrix(phik_overview.values, \n",
    "                        x_labels=phik_overview.columns, \n",
    "                        y_labels=phik_overview.index, \n",
    "                        vmin=0, vmax=1, color_map=\"Greens\", \n",
    "                        title=r\"correlation $\\phi_K$ second region\", \n",
    "                        fontsize_factor=1.5, \n",
    "                        figsize=(10, 8))\n",
    "plt.tight_layout();"
   ]
  },
  {
   "cell_type": "code",
   "execution_count": 34,
   "id": "a4ee1cf8",
   "metadata": {},
   "outputs": [
    {
     "data": {
      "text/html": [
       "<style type=\"text/css\">\n",
       "#T_e11db_row0_col0, #T_e11db_row1_col1, #T_e11db_row2_col2, #T_e11db_row3_col3 {\n",
       "  background-color: #081d58;\n",
       "  color: #f1f1f1;\n",
       "}\n",
       "#T_e11db_row0_col1, #T_e11db_row0_col2, #T_e11db_row0_col3, #T_e11db_row1_col0, #T_e11db_row1_col2, #T_e11db_row1_col3, #T_e11db_row2_col0, #T_e11db_row2_col1, #T_e11db_row3_col0, #T_e11db_row3_col1 {\n",
       "  background-color: #ffffd9;\n",
       "  color: #000000;\n",
       "}\n",
       "#T_e11db_row2_col3, #T_e11db_row3_col2 {\n",
       "  background-color: #5bc0c0;\n",
       "  color: #000000;\n",
       "}\n",
       "</style>\n",
       "<table id=\"T_e11db\">\n",
       "  <caption>Correlation matrix</caption>\n",
       "  <thead>\n",
       "    <tr>\n",
       "      <th class=\"blank level0\" >&nbsp;</th>\n",
       "      <th id=\"T_e11db_level0_col0\" class=\"col_heading level0 col0\" >f0</th>\n",
       "      <th id=\"T_e11db_level0_col1\" class=\"col_heading level0 col1\" >f1</th>\n",
       "      <th id=\"T_e11db_level0_col2\" class=\"col_heading level0 col2\" >f2</th>\n",
       "      <th id=\"T_e11db_level0_col3\" class=\"col_heading level0 col3\" >product</th>\n",
       "    </tr>\n",
       "  </thead>\n",
       "  <tbody>\n",
       "    <tr>\n",
       "      <th id=\"T_e11db_level0_row0\" class=\"row_heading level0 row0\" >f0</th>\n",
       "      <td id=\"T_e11db_row0_col0\" class=\"data row0 col0\" >1.000000</td>\n",
       "      <td id=\"T_e11db_row0_col1\" class=\"data row0 col1\" >0.000528</td>\n",
       "      <td id=\"T_e11db_row0_col2\" class=\"data row0 col2\" >-0.000448</td>\n",
       "      <td id=\"T_e11db_row0_col3\" class=\"data row0 col3\" >-0.001987</td>\n",
       "    </tr>\n",
       "    <tr>\n",
       "      <th id=\"T_e11db_level0_row1\" class=\"row_heading level0 row1\" >f1</th>\n",
       "      <td id=\"T_e11db_row1_col0\" class=\"data row1 col0\" >0.000528</td>\n",
       "      <td id=\"T_e11db_row1_col1\" class=\"data row1 col1\" >1.000000</td>\n",
       "      <td id=\"T_e11db_row1_col2\" class=\"data row1 col2\" >0.000779</td>\n",
       "      <td id=\"T_e11db_row1_col3\" class=\"data row1 col3\" >-0.001012</td>\n",
       "    </tr>\n",
       "    <tr>\n",
       "      <th id=\"T_e11db_level0_row2\" class=\"row_heading level0 row2\" >f2</th>\n",
       "      <td id=\"T_e11db_row2_col0\" class=\"data row2 col0\" >-0.000448</td>\n",
       "      <td id=\"T_e11db_row2_col1\" class=\"data row2 col1\" >0.000779</td>\n",
       "      <td id=\"T_e11db_row2_col2\" class=\"data row2 col2\" >1.000000</td>\n",
       "      <td id=\"T_e11db_row2_col3\" class=\"data row2 col3\" >0.445871</td>\n",
       "    </tr>\n",
       "    <tr>\n",
       "      <th id=\"T_e11db_level0_row3\" class=\"row_heading level0 row3\" >product</th>\n",
       "      <td id=\"T_e11db_row3_col0\" class=\"data row3 col0\" >-0.001987</td>\n",
       "      <td id=\"T_e11db_row3_col1\" class=\"data row3 col1\" >-0.001012</td>\n",
       "      <td id=\"T_e11db_row3_col2\" class=\"data row3 col2\" >0.445871</td>\n",
       "      <td id=\"T_e11db_row3_col3\" class=\"data row3 col3\" >1.000000</td>\n",
       "    </tr>\n",
       "  </tbody>\n",
       "</table>\n"
      ],
      "text/plain": [
       "<pandas.io.formats.style.Styler at 0x7fb00054be20>"
      ]
     },
     "execution_count": 34,
     "metadata": {},
     "output_type": "execute_result"
    }
   ],
   "source": [
    "corr = data_three.corr()\n",
    "corr.style.pipe(make_pretty)"
   ]
  },
  {
   "cell_type": "code",
   "execution_count": 35,
   "id": "32b1837f",
   "metadata": {},
   "outputs": [
    {
     "name": "stdout",
     "output_type": "stream",
     "text": [
      "interval columns not set, guessing: ['f0', 'f1', 'f2', 'product']\n"
     ]
    },
    {
     "data": {
      "image/png": "[encoded data removed]",
      "text/plain": [
       "<Figure size 1000x800 with 2 Axes>"
      ]
     },
     "metadata": {},
     "output_type": "display_data"
    }
   ],
   "source": [
    "phik_overview = data_three.phik_matrix()\n",
    "phik_overview.round(2)\n",
    "plot_correlation_matrix(phik_overview.values, \n",
    "                        x_labels=phik_overview.columns, \n",
    "                        y_labels=phik_overview.index, \n",
    "                        vmin=0, vmax=1, color_map=\"Greens\", \n",
    "                        title=r\"correlation $\\phi_K$ third region\", \n",
    "                        fontsize_factor=1.5, \n",
    "                        figsize=(10, 8))\n",
    "plt.tight_layout();"
   ]
  },
  {
   "cell_type": "markdown",
   "id": "8a88b149",
   "metadata": {},
   "source": [
    "<div>\n",
    "   \n",
    "Trained a linear regression model. In the study of data from the second region, the R2 indicator is almost 1, because has a high correlation of one of the features with the target, in contrast to the first and third regions. The MSE and RMSE metrics of the second region are low, indicating that the model fits the dataset. Pearson and Phik correlations were calculated. The nature of the relationship between the Pearson correlation data differs from the Phik correlation, except for the relationship between product and f2. Phik found a stronger relationship than the Pearson correlation."
   ]
  },
  {
   "cell_type": "markdown",
   "id": "407f7b0c",
   "metadata": {},
   "source": [
    "<div class=\"alert alert-info\">\n",
    "<font size=\"4\", color = \"black\"><a name=\"Preparation_for_profit_calculation\"><h3>Preparation for profit calculation</h3></a></font>\n",
    "    <br /> \n",
    "    <font size=\"3\", color = \"black\">"
   ]
  },
  {
   "cell_type": "markdown",
   "id": "c29f9abd",
   "metadata": {},
   "source": [
    "<div >\n",
    "We calculate the volume of raw materials for the break-even development of a new well using the following formula:\n",
    "    $$V = \\frac{BUDGET}{PRICE\\cdot POINT_ML}$$"
   ]
  },
  {
   "cell_type": "code",
   "execution_count": 36,
   "id": "3c4caf06",
   "metadata": {},
   "outputs": [
    {
     "name": "stdout",
     "output_type": "stream",
     "text": [
      "The volume of raw materials for break-even development of a new well: 111.11\n"
     ]
    }
   ],
   "source": [
    "print('The volume of raw materials for break-even development of a new well:', round((BUDGET / PRICE / POINT_ML), 2))"
   ]
  },
  {
   "cell_type": "code",
   "execution_count": 37,
   "id": "90f428fd",
   "metadata": {},
   "outputs": [
    {
     "name": "stdout",
     "output_type": "stream",
     "text": [
      "Average volume of well reserves in the 1st region: 92.5\n",
      "Average volume of well reserves in the 2st region:  68.83\n",
      "Average volume of well reserves in the 3st region: 95.0\n"
     ]
    }
   ],
   "source": [
    "print('Average volume of well reserves in the 1st region:', round(data_one['product'].mean(), 2))\n",
    "print('Average volume of well reserves in the 2st region: ', round(data_two['product'].mean(), 2))\n",
    "print('Average volume of well reserves in the 3st region:', round(data_three['product'].mean(), 2))"
   ]
  },
  {
   "cell_type": "markdown",
   "id": "5e849f9e",
   "metadata": {},
   "source": [
    "\n",
    "The volume of raw materials for the break-even development of a new well is 111.11. The first and third regions are the leaders in terms of the average volume of well reserves among the studied regions. The average volume of well reserves in the first and third regions differs from the volume of raw materials for the break-even development of a new well by 1.2 and 1.16 times. The difference of the 2nd region is very different, because the volume of raw materials for the break-even development of a new well is 1.6 times greater than it, on the other hand, the model predicts well reserves very well in this region."
   ]
  },
  {
   "cell_type": "markdown",
   "id": "fbfcd06d",
   "metadata": {},
   "source": [
    "<div class=\"alert alert-info\">\n",
    "<font size=\"4\", color = \"black\"><a name=\"Function_for_calculating_profit_for_selected_wells\"><h3>Function for calculating profit for selected wells</h3></a></font>\n",
    "    <br /> \n",
    "    <font size=\"3\", color = \"black\">"
   ]
  },
  {
   "cell_type": "code",
   "execution_count": 38,
   "id": "d71ac783",
   "metadata": {},
   "outputs": [],
   "source": [
    "def profit(target, predictions):\n",
    "    probs_sorted = predictions.sort_values(ascending=False)\n",
    "    deposits = target[probs_sorted.index][:200]\n",
    "    return PRICE * deposits.sum() - BUDGET"
   ]
  },
  {
   "cell_type": "code",
   "execution_count": 39,
   "id": "bd63ed90",
   "metadata": {},
   "outputs": [],
   "source": [
    "prediction_one = linear_reg(features_train_one, target_train_one, features_valid_one, target_valid_one)\n",
    "prediction_two = linear_reg(features_train_two, target_train_two, features_valid_two, target_valid_two)\n",
    "prediction_three = linear_reg(features_train_three, target_train_three, features_valid_three, target_valid_three)"
   ]
  },
  {
   "cell_type": "code",
   "execution_count": 40,
   "id": "6fed6f66",
   "metadata": {},
   "outputs": [
    {
     "name": "stdout",
     "output_type": "stream",
     "text": [
      "Profit calculation for selected wells in the first region 3,359,141,114.46 руб.\n",
      "Profit calculation for selected wells in the second region 2,415,086,696.68 руб.\n",
      "Profit calculation for selected wells in the third region 2,598,571,759.37 руб.\n"
     ]
    }
   ],
   "source": [
    "profit_one = profit(target_valid_one, prediction_one)\n",
    "profit_two = profit(target_valid_two, prediction_two)\n",
    "profit_three = profit(target_valid_three, prediction_three)\n",
    "print('Profit calculation for selected wells in the first region', '{:,}'.format(round(profit_one, 2)), \"руб.\")\n",
    "print('Profit calculation for selected wells in the second region', '{:,}'.format(round(profit_two, 2)), \"руб.\")\n",
    "print('Profit calculation for selected wells in the third region', '{:,}'.format(round(profit_three, 2)), \"руб.\")"
   ]
  },
  {
   "cell_type": "markdown",
   "id": "e83fca3f",
   "metadata": {},
   "source": [
    "\n",
    "The profit calculation function for selected wells shows that the first region is in the lead in terms of profit."
   ]
  },
  {
   "cell_type": "markdown",
   "id": "6e022577",
   "metadata": {},
   "source": [
    "<div class=\"alert alert-info\">\n",
    "<font size=\"4\", color = \"black\"><a name=\"Risks_and_rewards_for_each_region\"><h3>Risks and rewards for each region</h3></a></font>\n",
    "    <br /> \n",
    "    <font size=\"3\", color = \"black\">"
   ]
  },
  {
   "cell_type": "code",
   "execution_count": 41,
   "id": "83c960f5",
   "metadata": {},
   "outputs": [],
   "source": [
    "def super_bootsrtap(target, predictions):\n",
    "    '''the function generates 1000 samples to find the profit distribution'''\n",
    "    state = np.random.RandomState(12345)\n",
    "\n",
    "    values = []\n",
    "    for i in range(1000):\n",
    "        some_target = target.sample(POINT_EDA, replace = True, random_state = state)\n",
    "        some_predictions = predictions[some_target.index]\n",
    "        some_target = some_target.reset_index(drop = True)\n",
    "        some_predictions = some_predictions.reset_index(drop = True)\n",
    "        values.append(profit(some_target, some_predictions))\n",
    "\n",
    "    values = pd.Series(values)\n",
    "    return values "
   ]
  },
  {
   "cell_type": "code",
   "execution_count": 42,
   "id": "37e111a6",
   "metadata": {},
   "outputs": [],
   "source": [
    "distribution_of_profits_one  = super_bootsrtap(target_valid_one, prediction_one)\n",
    "distribution_of_profits_two  = super_bootsrtap(target_valid_two, prediction_two)\n",
    "distribution_of_profits_three  = super_bootsrtap(target_valid_three, prediction_three)"
   ]
  },
  {
   "cell_type": "code",
   "execution_count": 43,
   "id": "534fa72b",
   "metadata": {},
   "outputs": [],
   "source": [
    "def mean(distribution_of_profits):\n",
    "    mean = distribution_of_profits.mean()\n",
    "    mean = round(mean, 2)\n",
    "    return mean"
   ]
  },
  {
   "cell_type": "code",
   "execution_count": 44,
   "id": "63be7121",
   "metadata": {},
   "outputs": [
    {
     "name": "stdout",
     "output_type": "stream",
     "text": [
      "First region\n",
      "Average profit : 406,278,783.42 rub.\n",
      "95% Confidence Interval: -117,742,136.49 rub. - 911,737,050.75 rub.\n",
      "Loss risk: 6.7 %\n"
     ]
    },
    {
     "data": {
      "image/png": "[encoded data removed]",
      "text/plain": [
       "<Figure size 640x480 with 1 Axes>"
      ]
     },
     "metadata": {},
     "output_type": "display_data"
    }
   ],
   "source": [
    "print(\"First region\")\n",
    "print(\"Average profit :\", '{:,}'.format(mean(distribution_of_profits_one)), \"rub.\")\n",
    "print(\"95% Confidence Interval:\", '{:,}'.format(round(distribution_of_profits_one.quantile(0.025), 2)),\n",
    "      \"rub.\", '-', '{:,}'.format(round(distribution_of_profits_one.quantile(0.975), 2)), \"rub.\")\n",
    "print(\"Loss risk:\", st.percentileofscore(distribution_of_profits_one, 0), '%')\n",
    "plt.hist(distribution_of_profits_one)\n",
    "plt.title('Profit distribution \\n with marked confidence interval in the first region')\n",
    "plt.axvline(x=distribution_of_profits_one.quantile(0.025), color='r')\n",
    "plt.axvline(x=distribution_of_profits_one.quantile(0.975), color='r');"
   ]
  },
  {
   "cell_type": "code",
   "execution_count": 45,
   "id": "35c21a73",
   "metadata": {},
   "outputs": [
    {
     "name": "stdout",
     "output_type": "stream",
     "text": [
      "Second region\n",
      "Average profit : 432,624,131.81 руб.\n",
      "95% Confidence Interval: 16,846,174.93 руб. - 815,972,526.29 руб.\n",
      "Loss risk: 2.0 %\n"
     ]
    },
    {
     "data": {
      "image/png": "[encoded data removed]",
      "text/plain": [
       "<Figure size 640x480 with 1 Axes>"
      ]
     },
     "metadata": {},
     "output_type": "display_data"
    }
   ],
   "source": [
    "print(\"Second region\")\n",
    "print(\"Average profit :\", '{:,}'.format(mean(distribution_of_profits_two)), \"руб.\")\n",
    "print(\"95% Confidence Interval:\", '{:,}'.format(round(distribution_of_profits_two.quantile(0.025), 2)),\n",
    "      \"руб.\", '-', '{:,}'.format(round(distribution_of_profits_two.quantile(0.975), 2)), \"руб.\")\n",
    "print(\"Loss risk:\", round(st.percentileofscore(distribution_of_profits_two, 2), 0), '%')\n",
    "plt.hist(distribution_of_profits_two)\n",
    "plt.title('Profit distribution \\n with marked confidence interval in the second region')\n",
    "plt.axvline(x=distribution_of_profits_two.quantile(0.025), color='r')\n",
    "plt.axvline(x=distribution_of_profits_two.quantile(0.975), color='r');"
   ]
  },
  {
   "cell_type": "code",
   "execution_count": 46,
   "id": "444ad5b5",
   "metadata": {},
   "outputs": [
    {
     "name": "stdout",
     "output_type": "stream",
     "text": [
      "Third region\n",
      "Average profit : 377,362,192.42 rub.\n",
      "95% Confidence Interval: -170,780,417.71 rub. - 901,772,131.39 rub.\n",
      "Loss risk: 7.4 %\n"
     ]
    },
    {
     "data": {
      "image/png": "[encoded data removed]",
      "text/plain": [
       "<Figure size 640x480 with 1 Axes>"
      ]
     },
     "metadata": {},
     "output_type": "display_data"
    }
   ],
   "source": [
    "print(\"Third region\")\n",
    "print(\"Average profit :\",'{:,}'.format(mean(distribution_of_profits_three)), \"rub.\")\n",
    "print(\"95% Confidence Interval:\", '{:,}'.format(round(distribution_of_profits_three.quantile(0.025), 2)),\n",
    "      \"rub.\", '-', '{:,}'.format(round(distribution_of_profits_three.quantile(0.975), 2)), \"rub.\")\n",
    "print(\"Loss risk:\", st.percentileofscore(distribution_of_profits_three, 0), '%')\n",
    "plt.hist(distribution_of_profits_three)\n",
    "plt.title('Profit distribution \\n with marked confidence interval in the third region')\n",
    "plt.axvline(x=distribution_of_profits_three.quantile(0.025), color='r')\n",
    "plt.axvline(x=distribution_of_profits_three.quantile(0.975), color='r');"
   ]
  },
  {
   "cell_type": "markdown",
   "id": "1e0c9c55",
   "metadata": {},
   "source": [
    "<div class=\"alert alert-info\">\n",
    "<font size=\"4\", color = \"black\"><a name=\"Conclusion\"><h3>Conclusion</h3></a></font>\n",
    "    <br /> \n",
    "    <font size=\"3\", color = \"black\">"
   ]
  },
  {
   "cell_type": "markdown",
   "id": "07d8ca6f",
   "metadata": {},
   "source": [
    "<div>\n",
    "     <font size=\"3\", color=\"black\">\n",
    "<br>Research has been carried out to find<b>a location for a well</b>.\n",
    "        \n",
    "        \n",
    "<br><b> Input data - oil samples in three regions. </b>\n",
    "\n",
    "        \n",
    "<br> There are no gaps or duplicates in the data. The id column has been removed because it is not required for research. The data of the three regions were divided into training and validation sets, then into features and a target feature. Features are reduced to a single scale for the data of each region.\n",
    "        \n",
    "<br>A linear regression model was trained. A prediction function based on the trained model is written, then it is cast to Series and indexes are set.\n",
    "\n",
    "        \n",
    "<br> The volume of raw materials for the break-even development of a new well is 111, but the volume of reserves of an average well in the regions is much less than this value: 92.5, 68.83, 95. The average reserve of the region of the second region (68.8) is much less than that of other regions and the calculated reserve for break-even field development (111).\n",
    "        \n",
    "<br>A function is shown in which 1000 samples are generated to find the profit distribution. The average return, 95% confidence interval, risk of loss, and profit distribution for the three regions are shown as predicted by the linear regression model. The best forecast is given by the second region, because the risk of loss is only 2%. The worst forecasts were shown by the first and third regions - 6.7 and 7.4%.\n",
    " \n",
    "<br><b>Based on this, the conclusion is made:\n",
    "<br> - the second region is proposed for choosing the location of the well, because the risk of loss is small. </b>"
   ]
  }
 ],
 "metadata": {
  "kernelspec": {
   "display_name": "Python 3 (ipykernel)",
   "language": "python",
   "name": "python3"
  },
  "language_info": {
   "codemirror_mode": {
    "name": "ipython",
    "version": 3
   },
   "file_extension": ".py",
   "mimetype": "text/x-python",
   "name": "python",
   "nbconvert_exporter": "python",
   "pygments_lexer": "ipython3",
   "version": "3.9.13"
  },
  "toc": {
   "base_numbering": 1,
   "nav_menu": {},
   "number_sections": true,
   "sideBar": true,
   "skip_h1_title": true,
   "title_cell": "Table of Contents",
   "title_sidebar": "Contents",
   "toc_cell": false,
   "toc_position": {},
   "toc_section_display": true,
   "toc_window_display": false
  }
 },
 "nbformat": 4,
 "nbformat_minor": 5
}
