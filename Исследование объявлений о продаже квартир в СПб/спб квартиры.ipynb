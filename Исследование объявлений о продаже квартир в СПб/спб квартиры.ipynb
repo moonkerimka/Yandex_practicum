{
 "cells": [
  {
   "cell_type": "markdown",
   "id": "3200d4d8",
   "metadata": {},
   "source": [
    "\n",
    "<div class=\"alert alert-info\" role=\"alert\">\n",
    "  <center><u><b><h1>Исследование объявлений о продаже квартир</h1></b></u></center>\n",
    "</div>"
   ]
  },
  {
   "cell_type": "markdown",
   "id": "d5e19851",
   "metadata": {},
   "source": [
    "\n",
    "<div class=\"alert alert-info\" role=\"alert\">\n",
    "<p><h5>Дано: данные сервиса Яндекс.Недвижимость — архив объявлений о продаже квартир в Санкт-Петербурге и соседних населённых пунктов за несколько лет. \n",
    "    \n",
    "<br>Найти: предобработку данных и изучить их, чтобы найти интересные особенности и зависимости, которые существуют на рынке недвижимости.</h5></p>\n",
    "</div>"
   ]
  },
  {
   "cell_type": "markdown",
   "id": "9f08e8ff",
   "metadata": {},
   "source": [
    "# Содержание\n",
    "1. [Описание данных](#Описание_данных)\n",
    "2. [Изучение общей информации](#Изучение_общей_информации)\n",
    "3. [Предобработка данных](#Предобработка_данных)\n",
    "4. [Добавление новых столбцов в таблицу](#Добавление_новых_столбцов_в_таблицу) \n",
    "5. [Исследовательский анализ данных](#Исследовательский_анализ_данных)\n",
    "6. [Общий вывод](#Общий_вывод)\n"
   ]
  },
  {
   "cell_type": "markdown",
   "id": "b6a4af70",
   "metadata": {},
   "source": [
    "<div class=\"alert alert-info\" role=\"alert\"><a name=\"Описание_данных\"><h3>Описание данных</h3></a></div>\n",
    "<ul>\n",
    " <li>airports_nearest — расстояние до ближайшего аэропорта в метрах (м)</li>\n",
    " <li>balcony — число балконов</li>\n",
    " <li>ceiling_height — высота потолков (м)</li>\n",
    " <li>cityCenters_nearest — расстояние до центра города (м)</li>\n",
    " <li>days_exposition — сколько дней было размещено объявление (от публикации до снятия)</li>\n",
    " <li>first_day_exposition — дата публикации</li>\n",
    " <li>floor — этаж</li>\n",
    " <li>floors_total — всего этажей в доме</li>\n",
    " <li>is_apartment — апартаменты (булев тип)</li>\n",
    " <li>kitchen_area — площадь кухни в квадратных метрах (м²)</li>\n",
    " <li>last_price — цена на момент снятия с публикации</li>\n",
    " <li>living_area — жилая площадь в квадратных метрах (м²)</li>\n",
    " <li>locality_name — название населённого пункта</li>\n",
    " <li>open_plan — свободная планировка (булев тип)</li>\n",
    " <li>parks_around3000 — число парков в радиусе 3 км</li>\n",
    " <li>parks_nearest — расстояние до ближайшего парка (м)</li>\n",
    " <li>ponds_around3000 — число водоёмов в радиусе 3 км</li>\n",
    " <li>ponds_nearest — расстояние до ближайшего водоёма (м)</li>\n",
    " <li>rooms — число комнат</li>\n",
    " <li>studio — квартира-студия (булев тип)</li>\n",
    " <li>total_area — общая площадь квартиры в квадратных метрах (м²)</li>\n",
    " <li>total_images — число фотографий квартиры в объявлении</li>\n",
    "</ul>"
   ]
  },
  {
   "cell_type": "markdown",
   "id": "78c4fa00",
   "metadata": {},
   "source": [
    "<div class=\"alert alert-info\" role=\"alert\"><a name=\"Изучение_общей_информации\"><h3>Изучение общей информации</h3></a></div>"
   ]
  },
  {
   "cell_type": "code",
   "execution_count": 1,
   "id": "0fa3f70e",
   "metadata": {},
   "outputs": [],
   "source": [
    "import pandas as pd\n",
    "import numpy as np\n",
    "import seaborn as sns\n",
    "import matplotlib.pyplot as plt"
   ]
  },
  {
   "cell_type": "code",
   "execution_count": 2,
   "id": "51d317d6",
   "metadata": {},
   "outputs": [],
   "source": [
    "#data = pd.read_csv('/datasets/real_estate_data.csv', sep='\\t')\n",
    "import os\n",
    "\n",
    "pth1 = '/datasets/real_estate_data.csv'\n",
    "pth2 = 'real_estate_data.csv'\n",
    "\n",
    "\n",
    "if os.path.exists(pth1):\n",
    "    data = pd.read_csv(pth1, sep='\\t')\n",
    "elif os.path.exists(pth2):\n",
    "    data = pd.read_csv(pth2, sep='\\t')\n",
    "else:\n",
    "   print('Something is wrong')"
   ]
  },
  {
   "cell_type": "code",
   "execution_count": 3,
   "id": "6c3517e3",
   "metadata": {},
   "outputs": [
    {
     "data": {
      "text/html": [
       "<div>\n",
       "<style scoped>\n",
       "    .dataframe tbody tr th:only-of-type {\n",
       "        vertical-align: middle;\n",
       "    }\n",
       "\n",
       "    .dataframe tbody tr th {\n",
       "        vertical-align: top;\n",
       "    }\n",
       "\n",
       "    .dataframe thead th {\n",
       "        text-align: right;\n",
       "    }\n",
       "</style>\n",
       "<table border=\"1\" class=\"dataframe\">\n",
       "  <thead>\n",
       "    <tr style=\"text-align: right;\">\n",
       "      <th></th>\n",
       "      <th>total_images</th>\n",
       "      <th>last_price</th>\n",
       "      <th>total_area</th>\n",
       "      <th>first_day_exposition</th>\n",
       "      <th>rooms</th>\n",
       "      <th>ceiling_height</th>\n",
       "      <th>floors_total</th>\n",
       "      <th>living_area</th>\n",
       "      <th>floor</th>\n",
       "      <th>is_apartment</th>\n",
       "      <th>...</th>\n",
       "      <th>kitchen_area</th>\n",
       "      <th>balcony</th>\n",
       "      <th>locality_name</th>\n",
       "      <th>airports_nearest</th>\n",
       "      <th>cityCenters_nearest</th>\n",
       "      <th>parks_around3000</th>\n",
       "      <th>parks_nearest</th>\n",
       "      <th>ponds_around3000</th>\n",
       "      <th>ponds_nearest</th>\n",
       "      <th>days_exposition</th>\n",
       "    </tr>\n",
       "  </thead>\n",
       "  <tbody>\n",
       "    <tr>\n",
       "      <th>0</th>\n",
       "      <td>20</td>\n",
       "      <td>13000000.0</td>\n",
       "      <td>108.00</td>\n",
       "      <td>2019-03-07T00:00:00</td>\n",
       "      <td>3</td>\n",
       "      <td>2.70</td>\n",
       "      <td>16.0</td>\n",
       "      <td>51.00</td>\n",
       "      <td>8</td>\n",
       "      <td>NaN</td>\n",
       "      <td>...</td>\n",
       "      <td>25.00</td>\n",
       "      <td>NaN</td>\n",
       "      <td>Санкт-Петербург</td>\n",
       "      <td>18863.0</td>\n",
       "      <td>16028.0</td>\n",
       "      <td>1.0</td>\n",
       "      <td>482.0</td>\n",
       "      <td>2.0</td>\n",
       "      <td>755.0</td>\n",
       "      <td>NaN</td>\n",
       "    </tr>\n",
       "    <tr>\n",
       "      <th>1</th>\n",
       "      <td>7</td>\n",
       "      <td>3350000.0</td>\n",
       "      <td>40.40</td>\n",
       "      <td>2018-12-04T00:00:00</td>\n",
       "      <td>1</td>\n",
       "      <td>NaN</td>\n",
       "      <td>11.0</td>\n",
       "      <td>18.60</td>\n",
       "      <td>1</td>\n",
       "      <td>NaN</td>\n",
       "      <td>...</td>\n",
       "      <td>11.00</td>\n",
       "      <td>2.0</td>\n",
       "      <td>посёлок Шушары</td>\n",
       "      <td>12817.0</td>\n",
       "      <td>18603.0</td>\n",
       "      <td>0.0</td>\n",
       "      <td>NaN</td>\n",
       "      <td>0.0</td>\n",
       "      <td>NaN</td>\n",
       "      <td>81.0</td>\n",
       "    </tr>\n",
       "    <tr>\n",
       "      <th>2</th>\n",
       "      <td>10</td>\n",
       "      <td>5196000.0</td>\n",
       "      <td>56.00</td>\n",
       "      <td>2015-08-20T00:00:00</td>\n",
       "      <td>2</td>\n",
       "      <td>NaN</td>\n",
       "      <td>5.0</td>\n",
       "      <td>34.30</td>\n",
       "      <td>4</td>\n",
       "      <td>NaN</td>\n",
       "      <td>...</td>\n",
       "      <td>8.30</td>\n",
       "      <td>0.0</td>\n",
       "      <td>Санкт-Петербург</td>\n",
       "      <td>21741.0</td>\n",
       "      <td>13933.0</td>\n",
       "      <td>1.0</td>\n",
       "      <td>90.0</td>\n",
       "      <td>2.0</td>\n",
       "      <td>574.0</td>\n",
       "      <td>558.0</td>\n",
       "    </tr>\n",
       "    <tr>\n",
       "      <th>3</th>\n",
       "      <td>0</td>\n",
       "      <td>64900000.0</td>\n",
       "      <td>159.00</td>\n",
       "      <td>2015-07-24T00:00:00</td>\n",
       "      <td>3</td>\n",
       "      <td>NaN</td>\n",
       "      <td>14.0</td>\n",
       "      <td>NaN</td>\n",
       "      <td>9</td>\n",
       "      <td>NaN</td>\n",
       "      <td>...</td>\n",
       "      <td>NaN</td>\n",
       "      <td>0.0</td>\n",
       "      <td>Санкт-Петербург</td>\n",
       "      <td>28098.0</td>\n",
       "      <td>6800.0</td>\n",
       "      <td>2.0</td>\n",
       "      <td>84.0</td>\n",
       "      <td>3.0</td>\n",
       "      <td>234.0</td>\n",
       "      <td>424.0</td>\n",
       "    </tr>\n",
       "    <tr>\n",
       "      <th>4</th>\n",
       "      <td>2</td>\n",
       "      <td>10000000.0</td>\n",
       "      <td>100.00</td>\n",
       "      <td>2018-06-19T00:00:00</td>\n",
       "      <td>2</td>\n",
       "      <td>3.03</td>\n",
       "      <td>14.0</td>\n",
       "      <td>32.00</td>\n",
       "      <td>13</td>\n",
       "      <td>NaN</td>\n",
       "      <td>...</td>\n",
       "      <td>41.00</td>\n",
       "      <td>NaN</td>\n",
       "      <td>Санкт-Петербург</td>\n",
       "      <td>31856.0</td>\n",
       "      <td>8098.0</td>\n",
       "      <td>2.0</td>\n",
       "      <td>112.0</td>\n",
       "      <td>1.0</td>\n",
       "      <td>48.0</td>\n",
       "      <td>121.0</td>\n",
       "    </tr>\n",
       "    <tr>\n",
       "      <th>5</th>\n",
       "      <td>10</td>\n",
       "      <td>2890000.0</td>\n",
       "      <td>30.40</td>\n",
       "      <td>2018-09-10T00:00:00</td>\n",
       "      <td>1</td>\n",
       "      <td>NaN</td>\n",
       "      <td>12.0</td>\n",
       "      <td>14.40</td>\n",
       "      <td>5</td>\n",
       "      <td>NaN</td>\n",
       "      <td>...</td>\n",
       "      <td>9.10</td>\n",
       "      <td>NaN</td>\n",
       "      <td>городской посёлок Янино-1</td>\n",
       "      <td>NaN</td>\n",
       "      <td>NaN</td>\n",
       "      <td>NaN</td>\n",
       "      <td>NaN</td>\n",
       "      <td>NaN</td>\n",
       "      <td>NaN</td>\n",
       "      <td>55.0</td>\n",
       "    </tr>\n",
       "    <tr>\n",
       "      <th>6</th>\n",
       "      <td>6</td>\n",
       "      <td>3700000.0</td>\n",
       "      <td>37.30</td>\n",
       "      <td>2017-11-02T00:00:00</td>\n",
       "      <td>1</td>\n",
       "      <td>NaN</td>\n",
       "      <td>26.0</td>\n",
       "      <td>10.60</td>\n",
       "      <td>6</td>\n",
       "      <td>NaN</td>\n",
       "      <td>...</td>\n",
       "      <td>14.40</td>\n",
       "      <td>1.0</td>\n",
       "      <td>посёлок Парголово</td>\n",
       "      <td>52996.0</td>\n",
       "      <td>19143.0</td>\n",
       "      <td>0.0</td>\n",
       "      <td>NaN</td>\n",
       "      <td>0.0</td>\n",
       "      <td>NaN</td>\n",
       "      <td>155.0</td>\n",
       "    </tr>\n",
       "    <tr>\n",
       "      <th>7</th>\n",
       "      <td>5</td>\n",
       "      <td>7915000.0</td>\n",
       "      <td>71.60</td>\n",
       "      <td>2019-04-18T00:00:00</td>\n",
       "      <td>2</td>\n",
       "      <td>NaN</td>\n",
       "      <td>24.0</td>\n",
       "      <td>NaN</td>\n",
       "      <td>22</td>\n",
       "      <td>NaN</td>\n",
       "      <td>...</td>\n",
       "      <td>18.90</td>\n",
       "      <td>2.0</td>\n",
       "      <td>Санкт-Петербург</td>\n",
       "      <td>23982.0</td>\n",
       "      <td>11634.0</td>\n",
       "      <td>0.0</td>\n",
       "      <td>NaN</td>\n",
       "      <td>0.0</td>\n",
       "      <td>NaN</td>\n",
       "      <td>NaN</td>\n",
       "    </tr>\n",
       "    <tr>\n",
       "      <th>8</th>\n",
       "      <td>20</td>\n",
       "      <td>2900000.0</td>\n",
       "      <td>33.16</td>\n",
       "      <td>2018-05-23T00:00:00</td>\n",
       "      <td>1</td>\n",
       "      <td>NaN</td>\n",
       "      <td>27.0</td>\n",
       "      <td>15.43</td>\n",
       "      <td>26</td>\n",
       "      <td>NaN</td>\n",
       "      <td>...</td>\n",
       "      <td>8.81</td>\n",
       "      <td>NaN</td>\n",
       "      <td>посёлок Мурино</td>\n",
       "      <td>NaN</td>\n",
       "      <td>NaN</td>\n",
       "      <td>NaN</td>\n",
       "      <td>NaN</td>\n",
       "      <td>NaN</td>\n",
       "      <td>NaN</td>\n",
       "      <td>189.0</td>\n",
       "    </tr>\n",
       "    <tr>\n",
       "      <th>9</th>\n",
       "      <td>18</td>\n",
       "      <td>5400000.0</td>\n",
       "      <td>61.00</td>\n",
       "      <td>2017-02-26T00:00:00</td>\n",
       "      <td>3</td>\n",
       "      <td>2.50</td>\n",
       "      <td>9.0</td>\n",
       "      <td>43.60</td>\n",
       "      <td>7</td>\n",
       "      <td>NaN</td>\n",
       "      <td>...</td>\n",
       "      <td>6.50</td>\n",
       "      <td>2.0</td>\n",
       "      <td>Санкт-Петербург</td>\n",
       "      <td>50898.0</td>\n",
       "      <td>15008.0</td>\n",
       "      <td>0.0</td>\n",
       "      <td>NaN</td>\n",
       "      <td>0.0</td>\n",
       "      <td>NaN</td>\n",
       "      <td>289.0</td>\n",
       "    </tr>\n",
       "  </tbody>\n",
       "</table>\n",
       "<p>10 rows × 22 columns</p>\n",
       "</div>"
      ],
      "text/plain": [
       "   total_images  last_price  total_area first_day_exposition  rooms  \\\n",
       "0            20  13000000.0      108.00  2019-03-07T00:00:00      3   \n",
       "1             7   3350000.0       40.40  2018-12-04T00:00:00      1   \n",
       "2            10   5196000.0       56.00  2015-08-20T00:00:00      2   \n",
       "3             0  64900000.0      159.00  2015-07-24T00:00:00      3   \n",
       "4             2  10000000.0      100.00  2018-06-19T00:00:00      2   \n",
       "5            10   2890000.0       30.40  2018-09-10T00:00:00      1   \n",
       "6             6   3700000.0       37.30  2017-11-02T00:00:00      1   \n",
       "7             5   7915000.0       71.60  2019-04-18T00:00:00      2   \n",
       "8            20   2900000.0       33.16  2018-05-23T00:00:00      1   \n",
       "9            18   5400000.0       61.00  2017-02-26T00:00:00      3   \n",
       "\n",
       "   ceiling_height  floors_total  living_area  floor is_apartment  ...  \\\n",
       "0            2.70          16.0        51.00      8          NaN  ...   \n",
       "1             NaN          11.0        18.60      1          NaN  ...   \n",
       "2             NaN           5.0        34.30      4          NaN  ...   \n",
       "3             NaN          14.0          NaN      9          NaN  ...   \n",
       "4            3.03          14.0        32.00     13          NaN  ...   \n",
       "5             NaN          12.0        14.40      5          NaN  ...   \n",
       "6             NaN          26.0        10.60      6          NaN  ...   \n",
       "7             NaN          24.0          NaN     22          NaN  ...   \n",
       "8             NaN          27.0        15.43     26          NaN  ...   \n",
       "9            2.50           9.0        43.60      7          NaN  ...   \n",
       "\n",
       "   kitchen_area  balcony              locality_name  airports_nearest  \\\n",
       "0         25.00      NaN            Санкт-Петербург           18863.0   \n",
       "1         11.00      2.0             посёлок Шушары           12817.0   \n",
       "2          8.30      0.0            Санкт-Петербург           21741.0   \n",
       "3           NaN      0.0            Санкт-Петербург           28098.0   \n",
       "4         41.00      NaN            Санкт-Петербург           31856.0   \n",
       "5          9.10      NaN  городской посёлок Янино-1               NaN   \n",
       "6         14.40      1.0          посёлок Парголово           52996.0   \n",
       "7         18.90      2.0            Санкт-Петербург           23982.0   \n",
       "8          8.81      NaN             посёлок Мурино               NaN   \n",
       "9          6.50      2.0            Санкт-Петербург           50898.0   \n",
       "\n",
       "  cityCenters_nearest  parks_around3000  parks_nearest  ponds_around3000  \\\n",
       "0             16028.0               1.0          482.0               2.0   \n",
       "1             18603.0               0.0            NaN               0.0   \n",
       "2             13933.0               1.0           90.0               2.0   \n",
       "3              6800.0               2.0           84.0               3.0   \n",
       "4              8098.0               2.0          112.0               1.0   \n",
       "5                 NaN               NaN            NaN               NaN   \n",
       "6             19143.0               0.0            NaN               0.0   \n",
       "7             11634.0               0.0            NaN               0.0   \n",
       "8                 NaN               NaN            NaN               NaN   \n",
       "9             15008.0               0.0            NaN               0.0   \n",
       "\n",
       "   ponds_nearest  days_exposition  \n",
       "0          755.0              NaN  \n",
       "1            NaN             81.0  \n",
       "2          574.0            558.0  \n",
       "3          234.0            424.0  \n",
       "4           48.0            121.0  \n",
       "5            NaN             55.0  \n",
       "6            NaN            155.0  \n",
       "7            NaN              NaN  \n",
       "8            NaN            189.0  \n",
       "9            NaN            289.0  \n",
       "\n",
       "[10 rows x 22 columns]"
      ]
     },
     "execution_count": 3,
     "metadata": {},
     "output_type": "execute_result"
    }
   ],
   "source": [
    "data.head(10)"
   ]
  },
  {
   "cell_type": "code",
   "execution_count": 4,
   "id": "8c47f7f4",
   "metadata": {},
   "outputs": [
    {
     "data": {
      "text/html": [
       "<div>\n",
       "<style scoped>\n",
       "    .dataframe tbody tr th:only-of-type {\n",
       "        vertical-align: middle;\n",
       "    }\n",
       "\n",
       "    .dataframe tbody tr th {\n",
       "        vertical-align: top;\n",
       "    }\n",
       "\n",
       "    .dataframe thead th {\n",
       "        text-align: right;\n",
       "    }\n",
       "</style>\n",
       "<table border=\"1\" class=\"dataframe\">\n",
       "  <thead>\n",
       "    <tr style=\"text-align: right;\">\n",
       "      <th></th>\n",
       "      <th>total_images</th>\n",
       "      <th>last_price</th>\n",
       "      <th>total_area</th>\n",
       "      <th>first_day_exposition</th>\n",
       "      <th>rooms</th>\n",
       "      <th>ceiling_height</th>\n",
       "      <th>floors_total</th>\n",
       "      <th>living_area</th>\n",
       "      <th>floor</th>\n",
       "      <th>is_apartment</th>\n",
       "      <th>...</th>\n",
       "      <th>kitchen_area</th>\n",
       "      <th>balcony</th>\n",
       "      <th>locality_name</th>\n",
       "      <th>airports_nearest</th>\n",
       "      <th>cityCenters_nearest</th>\n",
       "      <th>parks_around3000</th>\n",
       "      <th>parks_nearest</th>\n",
       "      <th>ponds_around3000</th>\n",
       "      <th>ponds_nearest</th>\n",
       "      <th>days_exposition</th>\n",
       "    </tr>\n",
       "  </thead>\n",
       "  <tbody>\n",
       "    <tr>\n",
       "      <th>23689</th>\n",
       "      <td>13</td>\n",
       "      <td>3550000.0</td>\n",
       "      <td>35.30</td>\n",
       "      <td>2018-02-28T00:00:00</td>\n",
       "      <td>1</td>\n",
       "      <td>2.86</td>\n",
       "      <td>15.0</td>\n",
       "      <td>16.3</td>\n",
       "      <td>4</td>\n",
       "      <td>NaN</td>\n",
       "      <td>...</td>\n",
       "      <td>9.10</td>\n",
       "      <td>2.0</td>\n",
       "      <td>Санкт-Петербург</td>\n",
       "      <td>17284.0</td>\n",
       "      <td>16081.0</td>\n",
       "      <td>1.0</td>\n",
       "      <td>353.0</td>\n",
       "      <td>2.0</td>\n",
       "      <td>652.0</td>\n",
       "      <td>29.0</td>\n",
       "    </tr>\n",
       "    <tr>\n",
       "      <th>23690</th>\n",
       "      <td>3</td>\n",
       "      <td>5500000.0</td>\n",
       "      <td>52.00</td>\n",
       "      <td>2018-07-19T00:00:00</td>\n",
       "      <td>2</td>\n",
       "      <td>NaN</td>\n",
       "      <td>5.0</td>\n",
       "      <td>31.0</td>\n",
       "      <td>2</td>\n",
       "      <td>NaN</td>\n",
       "      <td>...</td>\n",
       "      <td>6.00</td>\n",
       "      <td>NaN</td>\n",
       "      <td>Санкт-Петербург</td>\n",
       "      <td>20151.0</td>\n",
       "      <td>6263.0</td>\n",
       "      <td>1.0</td>\n",
       "      <td>300.0</td>\n",
       "      <td>0.0</td>\n",
       "      <td>NaN</td>\n",
       "      <td>15.0</td>\n",
       "    </tr>\n",
       "    <tr>\n",
       "      <th>23691</th>\n",
       "      <td>11</td>\n",
       "      <td>9470000.0</td>\n",
       "      <td>72.90</td>\n",
       "      <td>2016-10-13T00:00:00</td>\n",
       "      <td>2</td>\n",
       "      <td>2.75</td>\n",
       "      <td>25.0</td>\n",
       "      <td>40.3</td>\n",
       "      <td>7</td>\n",
       "      <td>NaN</td>\n",
       "      <td>...</td>\n",
       "      <td>10.60</td>\n",
       "      <td>1.0</td>\n",
       "      <td>Санкт-Петербург</td>\n",
       "      <td>19424.0</td>\n",
       "      <td>4489.0</td>\n",
       "      <td>0.0</td>\n",
       "      <td>NaN</td>\n",
       "      <td>1.0</td>\n",
       "      <td>806.0</td>\n",
       "      <td>519.0</td>\n",
       "    </tr>\n",
       "    <tr>\n",
       "      <th>23692</th>\n",
       "      <td>2</td>\n",
       "      <td>1350000.0</td>\n",
       "      <td>30.00</td>\n",
       "      <td>2017-07-07T00:00:00</td>\n",
       "      <td>1</td>\n",
       "      <td>NaN</td>\n",
       "      <td>5.0</td>\n",
       "      <td>17.5</td>\n",
       "      <td>4</td>\n",
       "      <td>NaN</td>\n",
       "      <td>...</td>\n",
       "      <td>6.00</td>\n",
       "      <td>NaN</td>\n",
       "      <td>Тихвин</td>\n",
       "      <td>NaN</td>\n",
       "      <td>NaN</td>\n",
       "      <td>NaN</td>\n",
       "      <td>NaN</td>\n",
       "      <td>NaN</td>\n",
       "      <td>NaN</td>\n",
       "      <td>413.0</td>\n",
       "    </tr>\n",
       "    <tr>\n",
       "      <th>23693</th>\n",
       "      <td>9</td>\n",
       "      <td>4600000.0</td>\n",
       "      <td>62.40</td>\n",
       "      <td>2016-08-05T00:00:00</td>\n",
       "      <td>3</td>\n",
       "      <td>2.60</td>\n",
       "      <td>9.0</td>\n",
       "      <td>40.0</td>\n",
       "      <td>8</td>\n",
       "      <td>NaN</td>\n",
       "      <td>...</td>\n",
       "      <td>8.00</td>\n",
       "      <td>0.0</td>\n",
       "      <td>Петергоф</td>\n",
       "      <td>45602.0</td>\n",
       "      <td>34104.0</td>\n",
       "      <td>1.0</td>\n",
       "      <td>352.0</td>\n",
       "      <td>1.0</td>\n",
       "      <td>675.0</td>\n",
       "      <td>239.0</td>\n",
       "    </tr>\n",
       "    <tr>\n",
       "      <th>23694</th>\n",
       "      <td>9</td>\n",
       "      <td>9700000.0</td>\n",
       "      <td>133.81</td>\n",
       "      <td>2017-03-21T00:00:00</td>\n",
       "      <td>3</td>\n",
       "      <td>3.70</td>\n",
       "      <td>5.0</td>\n",
       "      <td>73.3</td>\n",
       "      <td>3</td>\n",
       "      <td>NaN</td>\n",
       "      <td>...</td>\n",
       "      <td>13.83</td>\n",
       "      <td>NaN</td>\n",
       "      <td>Санкт-Петербург</td>\n",
       "      <td>24665.0</td>\n",
       "      <td>4232.0</td>\n",
       "      <td>1.0</td>\n",
       "      <td>796.0</td>\n",
       "      <td>3.0</td>\n",
       "      <td>381.0</td>\n",
       "      <td>NaN</td>\n",
       "    </tr>\n",
       "    <tr>\n",
       "      <th>23695</th>\n",
       "      <td>14</td>\n",
       "      <td>3100000.0</td>\n",
       "      <td>59.00</td>\n",
       "      <td>2018-01-15T00:00:00</td>\n",
       "      <td>3</td>\n",
       "      <td>NaN</td>\n",
       "      <td>5.0</td>\n",
       "      <td>38.0</td>\n",
       "      <td>4</td>\n",
       "      <td>NaN</td>\n",
       "      <td>...</td>\n",
       "      <td>8.50</td>\n",
       "      <td>NaN</td>\n",
       "      <td>Тосно</td>\n",
       "      <td>NaN</td>\n",
       "      <td>NaN</td>\n",
       "      <td>NaN</td>\n",
       "      <td>NaN</td>\n",
       "      <td>NaN</td>\n",
       "      <td>NaN</td>\n",
       "      <td>45.0</td>\n",
       "    </tr>\n",
       "    <tr>\n",
       "      <th>23696</th>\n",
       "      <td>18</td>\n",
       "      <td>2500000.0</td>\n",
       "      <td>56.70</td>\n",
       "      <td>2018-02-11T00:00:00</td>\n",
       "      <td>2</td>\n",
       "      <td>NaN</td>\n",
       "      <td>3.0</td>\n",
       "      <td>29.7</td>\n",
       "      <td>1</td>\n",
       "      <td>NaN</td>\n",
       "      <td>...</td>\n",
       "      <td>NaN</td>\n",
       "      <td>NaN</td>\n",
       "      <td>село Рождествено</td>\n",
       "      <td>NaN</td>\n",
       "      <td>NaN</td>\n",
       "      <td>NaN</td>\n",
       "      <td>NaN</td>\n",
       "      <td>NaN</td>\n",
       "      <td>NaN</td>\n",
       "      <td>NaN</td>\n",
       "    </tr>\n",
       "    <tr>\n",
       "      <th>23697</th>\n",
       "      <td>13</td>\n",
       "      <td>11475000.0</td>\n",
       "      <td>76.75</td>\n",
       "      <td>2017-03-28T00:00:00</td>\n",
       "      <td>2</td>\n",
       "      <td>3.00</td>\n",
       "      <td>17.0</td>\n",
       "      <td>NaN</td>\n",
       "      <td>12</td>\n",
       "      <td>NaN</td>\n",
       "      <td>...</td>\n",
       "      <td>23.30</td>\n",
       "      <td>2.0</td>\n",
       "      <td>Санкт-Петербург</td>\n",
       "      <td>39140.0</td>\n",
       "      <td>10364.0</td>\n",
       "      <td>2.0</td>\n",
       "      <td>173.0</td>\n",
       "      <td>3.0</td>\n",
       "      <td>196.0</td>\n",
       "      <td>602.0</td>\n",
       "    </tr>\n",
       "    <tr>\n",
       "      <th>23698</th>\n",
       "      <td>4</td>\n",
       "      <td>1350000.0</td>\n",
       "      <td>32.30</td>\n",
       "      <td>2017-07-21T00:00:00</td>\n",
       "      <td>1</td>\n",
       "      <td>2.50</td>\n",
       "      <td>5.0</td>\n",
       "      <td>12.3</td>\n",
       "      <td>1</td>\n",
       "      <td>NaN</td>\n",
       "      <td>...</td>\n",
       "      <td>9.00</td>\n",
       "      <td>NaN</td>\n",
       "      <td>поселок Новый Учхоз</td>\n",
       "      <td>NaN</td>\n",
       "      <td>NaN</td>\n",
       "      <td>NaN</td>\n",
       "      <td>NaN</td>\n",
       "      <td>NaN</td>\n",
       "      <td>NaN</td>\n",
       "      <td>NaN</td>\n",
       "    </tr>\n",
       "  </tbody>\n",
       "</table>\n",
       "<p>10 rows × 22 columns</p>\n",
       "</div>"
      ],
      "text/plain": [
       "       total_images  last_price  total_area first_day_exposition  rooms  \\\n",
       "23689            13   3550000.0       35.30  2018-02-28T00:00:00      1   \n",
       "23690             3   5500000.0       52.00  2018-07-19T00:00:00      2   \n",
       "23691            11   9470000.0       72.90  2016-10-13T00:00:00      2   \n",
       "23692             2   1350000.0       30.00  2017-07-07T00:00:00      1   \n",
       "23693             9   4600000.0       62.40  2016-08-05T00:00:00      3   \n",
       "23694             9   9700000.0      133.81  2017-03-21T00:00:00      3   \n",
       "23695            14   3100000.0       59.00  2018-01-15T00:00:00      3   \n",
       "23696            18   2500000.0       56.70  2018-02-11T00:00:00      2   \n",
       "23697            13  11475000.0       76.75  2017-03-28T00:00:00      2   \n",
       "23698             4   1350000.0       32.30  2017-07-21T00:00:00      1   \n",
       "\n",
       "       ceiling_height  floors_total  living_area  floor is_apartment  ...  \\\n",
       "23689            2.86          15.0         16.3      4          NaN  ...   \n",
       "23690             NaN           5.0         31.0      2          NaN  ...   \n",
       "23691            2.75          25.0         40.3      7          NaN  ...   \n",
       "23692             NaN           5.0         17.5      4          NaN  ...   \n",
       "23693            2.60           9.0         40.0      8          NaN  ...   \n",
       "23694            3.70           5.0         73.3      3          NaN  ...   \n",
       "23695             NaN           5.0         38.0      4          NaN  ...   \n",
       "23696             NaN           3.0         29.7      1          NaN  ...   \n",
       "23697            3.00          17.0          NaN     12          NaN  ...   \n",
       "23698            2.50           5.0         12.3      1          NaN  ...   \n",
       "\n",
       "       kitchen_area  balcony        locality_name  airports_nearest  \\\n",
       "23689          9.10      2.0      Санкт-Петербург           17284.0   \n",
       "23690          6.00      NaN      Санкт-Петербург           20151.0   \n",
       "23691         10.60      1.0      Санкт-Петербург           19424.0   \n",
       "23692          6.00      NaN               Тихвин               NaN   \n",
       "23693          8.00      0.0             Петергоф           45602.0   \n",
       "23694         13.83      NaN      Санкт-Петербург           24665.0   \n",
       "23695          8.50      NaN                Тосно               NaN   \n",
       "23696           NaN      NaN     село Рождествено               NaN   \n",
       "23697         23.30      2.0      Санкт-Петербург           39140.0   \n",
       "23698          9.00      NaN  поселок Новый Учхоз               NaN   \n",
       "\n",
       "      cityCenters_nearest  parks_around3000  parks_nearest  ponds_around3000  \\\n",
       "23689             16081.0               1.0          353.0               2.0   \n",
       "23690              6263.0               1.0          300.0               0.0   \n",
       "23691              4489.0               0.0            NaN               1.0   \n",
       "23692                 NaN               NaN            NaN               NaN   \n",
       "23693             34104.0               1.0          352.0               1.0   \n",
       "23694              4232.0               1.0          796.0               3.0   \n",
       "23695                 NaN               NaN            NaN               NaN   \n",
       "23696                 NaN               NaN            NaN               NaN   \n",
       "23697             10364.0               2.0          173.0               3.0   \n",
       "23698                 NaN               NaN            NaN               NaN   \n",
       "\n",
       "       ponds_nearest  days_exposition  \n",
       "23689          652.0             29.0  \n",
       "23690            NaN             15.0  \n",
       "23691          806.0            519.0  \n",
       "23692            NaN            413.0  \n",
       "23693          675.0            239.0  \n",
       "23694          381.0              NaN  \n",
       "23695            NaN             45.0  \n",
       "23696            NaN              NaN  \n",
       "23697          196.0            602.0  \n",
       "23698            NaN              NaN  \n",
       "\n",
       "[10 rows x 22 columns]"
      ]
     },
     "execution_count": 4,
     "metadata": {},
     "output_type": "execute_result"
    }
   ],
   "source": [
    "data.tail(10)"
   ]
  },
  {
   "cell_type": "code",
   "execution_count": 5,
   "id": "33ec019e",
   "metadata": {},
   "outputs": [
    {
     "name": "stdout",
     "output_type": "stream",
     "text": [
      "<class 'pandas.core.frame.DataFrame'>\n",
      "RangeIndex: 23699 entries, 0 to 23698\n",
      "Data columns (total 22 columns):\n",
      " #   Column                Non-Null Count  Dtype  \n",
      "---  ------                --------------  -----  \n",
      " 0   total_images          23699 non-null  int64  \n",
      " 1   last_price            23699 non-null  float64\n",
      " 2   total_area            23699 non-null  float64\n",
      " 3   first_day_exposition  23699 non-null  object \n",
      " 4   rooms                 23699 non-null  int64  \n",
      " 5   ceiling_height        14504 non-null  float64\n",
      " 6   floors_total          23613 non-null  float64\n",
      " 7   living_area           21796 non-null  float64\n",
      " 8   floor                 23699 non-null  int64  \n",
      " 9   is_apartment          2775 non-null   object \n",
      " 10  studio                23699 non-null  bool   \n",
      " 11  open_plan             23699 non-null  bool   \n",
      " 12  kitchen_area          21421 non-null  float64\n",
      " 13  balcony               12180 non-null  float64\n",
      " 14  locality_name         23650 non-null  object \n",
      " 15  airports_nearest      18157 non-null  float64\n",
      " 16  cityCenters_nearest   18180 non-null  float64\n",
      " 17  parks_around3000      18181 non-null  float64\n",
      " 18  parks_nearest         8079 non-null   float64\n",
      " 19  ponds_around3000      18181 non-null  float64\n",
      " 20  ponds_nearest         9110 non-null   float64\n",
      " 21  days_exposition       20518 non-null  float64\n",
      "dtypes: bool(2), float64(14), int64(3), object(3)\n",
      "memory usage: 3.7+ MB\n"
     ]
    }
   ],
   "source": [
    "data.info()"
   ]
  },
  {
   "cell_type": "markdown",
   "id": "c3cd6974",
   "metadata": {},
   "source": [
    "<div class=\"alert alert-info\" role=\"alert\"><p>\n",
    "    При просмотре данных обнаружено:\n",
    "    <br> - большое количество пропущенных значений. \n",
    "    <br> - cтолбец \"first_day_exposition\" должен иметь тип datetime.\n",
    "    <br> - некорректное название столбцов.   \n",
    "    <br> - нелогичное объединение данных     \n",
    "</p></div> "
   ]
  },
  {
   "cell_type": "code",
   "execution_count": 6,
   "id": "a645b2b1",
   "metadata": {},
   "outputs": [
    {
     "data": {
      "text/html": [
       "<div>\n",
       "<style scoped>\n",
       "    .dataframe tbody tr th:only-of-type {\n",
       "        vertical-align: middle;\n",
       "    }\n",
       "\n",
       "    .dataframe tbody tr th {\n",
       "        vertical-align: top;\n",
       "    }\n",
       "\n",
       "    .dataframe thead th {\n",
       "        text-align: right;\n",
       "    }\n",
       "</style>\n",
       "<table border=\"1\" class=\"dataframe\">\n",
       "  <thead>\n",
       "    <tr style=\"text-align: right;\">\n",
       "      <th></th>\n",
       "      <th>total_images</th>\n",
       "      <th>last_price</th>\n",
       "      <th>total_area</th>\n",
       "      <th>rooms</th>\n",
       "      <th>ceiling_height</th>\n",
       "      <th>floors_total</th>\n",
       "      <th>living_area</th>\n",
       "      <th>floor</th>\n",
       "      <th>kitchen_area</th>\n",
       "      <th>balcony</th>\n",
       "      <th>airports_nearest</th>\n",
       "      <th>cityCenters_nearest</th>\n",
       "      <th>parks_around3000</th>\n",
       "      <th>parks_nearest</th>\n",
       "      <th>ponds_around3000</th>\n",
       "      <th>ponds_nearest</th>\n",
       "      <th>days_exposition</th>\n",
       "    </tr>\n",
       "  </thead>\n",
       "  <tbody>\n",
       "    <tr>\n",
       "      <th>count</th>\n",
       "      <td>23699.000000</td>\n",
       "      <td>2.369900e+04</td>\n",
       "      <td>23699.000000</td>\n",
       "      <td>23699.000000</td>\n",
       "      <td>14504.000000</td>\n",
       "      <td>23613.000000</td>\n",
       "      <td>21796.000000</td>\n",
       "      <td>23699.000000</td>\n",
       "      <td>21421.000000</td>\n",
       "      <td>12180.000000</td>\n",
       "      <td>18157.000000</td>\n",
       "      <td>18180.000000</td>\n",
       "      <td>18181.000000</td>\n",
       "      <td>8079.000000</td>\n",
       "      <td>18181.000000</td>\n",
       "      <td>9110.000000</td>\n",
       "      <td>20518.000000</td>\n",
       "    </tr>\n",
       "    <tr>\n",
       "      <th>mean</th>\n",
       "      <td>9.858475</td>\n",
       "      <td>6.541549e+06</td>\n",
       "      <td>60.348651</td>\n",
       "      <td>2.070636</td>\n",
       "      <td>2.771499</td>\n",
       "      <td>10.673824</td>\n",
       "      <td>34.457852</td>\n",
       "      <td>5.892358</td>\n",
       "      <td>10.569807</td>\n",
       "      <td>1.150082</td>\n",
       "      <td>28793.672193</td>\n",
       "      <td>14191.277833</td>\n",
       "      <td>0.611408</td>\n",
       "      <td>490.804555</td>\n",
       "      <td>0.770255</td>\n",
       "      <td>517.980900</td>\n",
       "      <td>180.888634</td>\n",
       "    </tr>\n",
       "    <tr>\n",
       "      <th>std</th>\n",
       "      <td>5.682529</td>\n",
       "      <td>1.088701e+07</td>\n",
       "      <td>35.654083</td>\n",
       "      <td>1.078405</td>\n",
       "      <td>1.261056</td>\n",
       "      <td>6.597173</td>\n",
       "      <td>22.030445</td>\n",
       "      <td>4.885249</td>\n",
       "      <td>5.905438</td>\n",
       "      <td>1.071300</td>\n",
       "      <td>12630.880622</td>\n",
       "      <td>8608.386210</td>\n",
       "      <td>0.802074</td>\n",
       "      <td>342.317995</td>\n",
       "      <td>0.938346</td>\n",
       "      <td>277.720643</td>\n",
       "      <td>219.727988</td>\n",
       "    </tr>\n",
       "    <tr>\n",
       "      <th>min</th>\n",
       "      <td>0.000000</td>\n",
       "      <td>1.219000e+04</td>\n",
       "      <td>12.000000</td>\n",
       "      <td>0.000000</td>\n",
       "      <td>1.000000</td>\n",
       "      <td>1.000000</td>\n",
       "      <td>2.000000</td>\n",
       "      <td>1.000000</td>\n",
       "      <td>1.300000</td>\n",
       "      <td>0.000000</td>\n",
       "      <td>0.000000</td>\n",
       "      <td>181.000000</td>\n",
       "      <td>0.000000</td>\n",
       "      <td>1.000000</td>\n",
       "      <td>0.000000</td>\n",
       "      <td>13.000000</td>\n",
       "      <td>1.000000</td>\n",
       "    </tr>\n",
       "    <tr>\n",
       "      <th>25%</th>\n",
       "      <td>6.000000</td>\n",
       "      <td>3.400000e+06</td>\n",
       "      <td>40.000000</td>\n",
       "      <td>1.000000</td>\n",
       "      <td>2.520000</td>\n",
       "      <td>5.000000</td>\n",
       "      <td>18.600000</td>\n",
       "      <td>2.000000</td>\n",
       "      <td>7.000000</td>\n",
       "      <td>0.000000</td>\n",
       "      <td>18585.000000</td>\n",
       "      <td>9238.000000</td>\n",
       "      <td>0.000000</td>\n",
       "      <td>288.000000</td>\n",
       "      <td>0.000000</td>\n",
       "      <td>294.000000</td>\n",
       "      <td>45.000000</td>\n",
       "    </tr>\n",
       "    <tr>\n",
       "      <th>50%</th>\n",
       "      <td>9.000000</td>\n",
       "      <td>4.650000e+06</td>\n",
       "      <td>52.000000</td>\n",
       "      <td>2.000000</td>\n",
       "      <td>2.650000</td>\n",
       "      <td>9.000000</td>\n",
       "      <td>30.000000</td>\n",
       "      <td>4.000000</td>\n",
       "      <td>9.100000</td>\n",
       "      <td>1.000000</td>\n",
       "      <td>26726.000000</td>\n",
       "      <td>13098.500000</td>\n",
       "      <td>0.000000</td>\n",
       "      <td>455.000000</td>\n",
       "      <td>1.000000</td>\n",
       "      <td>502.000000</td>\n",
       "      <td>95.000000</td>\n",
       "    </tr>\n",
       "    <tr>\n",
       "      <th>75%</th>\n",
       "      <td>14.000000</td>\n",
       "      <td>6.800000e+06</td>\n",
       "      <td>69.900000</td>\n",
       "      <td>3.000000</td>\n",
       "      <td>2.800000</td>\n",
       "      <td>16.000000</td>\n",
       "      <td>42.300000</td>\n",
       "      <td>8.000000</td>\n",
       "      <td>12.000000</td>\n",
       "      <td>2.000000</td>\n",
       "      <td>37273.000000</td>\n",
       "      <td>16293.000000</td>\n",
       "      <td>1.000000</td>\n",
       "      <td>612.000000</td>\n",
       "      <td>1.000000</td>\n",
       "      <td>729.000000</td>\n",
       "      <td>232.000000</td>\n",
       "    </tr>\n",
       "    <tr>\n",
       "      <th>max</th>\n",
       "      <td>50.000000</td>\n",
       "      <td>7.630000e+08</td>\n",
       "      <td>900.000000</td>\n",
       "      <td>19.000000</td>\n",
       "      <td>100.000000</td>\n",
       "      <td>60.000000</td>\n",
       "      <td>409.700000</td>\n",
       "      <td>33.000000</td>\n",
       "      <td>112.000000</td>\n",
       "      <td>5.000000</td>\n",
       "      <td>84869.000000</td>\n",
       "      <td>65968.000000</td>\n",
       "      <td>3.000000</td>\n",
       "      <td>3190.000000</td>\n",
       "      <td>3.000000</td>\n",
       "      <td>1344.000000</td>\n",
       "      <td>1580.000000</td>\n",
       "    </tr>\n",
       "  </tbody>\n",
       "</table>\n",
       "</div>"
      ],
      "text/plain": [
       "       total_images    last_price    total_area         rooms  ceiling_height  \\\n",
       "count  23699.000000  2.369900e+04  23699.000000  23699.000000    14504.000000   \n",
       "mean       9.858475  6.541549e+06     60.348651      2.070636        2.771499   \n",
       "std        5.682529  1.088701e+07     35.654083      1.078405        1.261056   \n",
       "min        0.000000  1.219000e+04     12.000000      0.000000        1.000000   \n",
       "25%        6.000000  3.400000e+06     40.000000      1.000000        2.520000   \n",
       "50%        9.000000  4.650000e+06     52.000000      2.000000        2.650000   \n",
       "75%       14.000000  6.800000e+06     69.900000      3.000000        2.800000   \n",
       "max       50.000000  7.630000e+08    900.000000     19.000000      100.000000   \n",
       "\n",
       "       floors_total   living_area         floor  kitchen_area       balcony  \\\n",
       "count  23613.000000  21796.000000  23699.000000  21421.000000  12180.000000   \n",
       "mean      10.673824     34.457852      5.892358     10.569807      1.150082   \n",
       "std        6.597173     22.030445      4.885249      5.905438      1.071300   \n",
       "min        1.000000      2.000000      1.000000      1.300000      0.000000   \n",
       "25%        5.000000     18.600000      2.000000      7.000000      0.000000   \n",
       "50%        9.000000     30.000000      4.000000      9.100000      1.000000   \n",
       "75%       16.000000     42.300000      8.000000     12.000000      2.000000   \n",
       "max       60.000000    409.700000     33.000000    112.000000      5.000000   \n",
       "\n",
       "       airports_nearest  cityCenters_nearest  parks_around3000  parks_nearest  \\\n",
       "count      18157.000000         18180.000000      18181.000000    8079.000000   \n",
       "mean       28793.672193         14191.277833          0.611408     490.804555   \n",
       "std        12630.880622          8608.386210          0.802074     342.317995   \n",
       "min            0.000000           181.000000          0.000000       1.000000   \n",
       "25%        18585.000000          9238.000000          0.000000     288.000000   \n",
       "50%        26726.000000         13098.500000          0.000000     455.000000   \n",
       "75%        37273.000000         16293.000000          1.000000     612.000000   \n",
       "max        84869.000000         65968.000000          3.000000    3190.000000   \n",
       "\n",
       "       ponds_around3000  ponds_nearest  days_exposition  \n",
       "count      18181.000000    9110.000000     20518.000000  \n",
       "mean           0.770255     517.980900       180.888634  \n",
       "std            0.938346     277.720643       219.727988  \n",
       "min            0.000000      13.000000         1.000000  \n",
       "25%            0.000000     294.000000        45.000000  \n",
       "50%            1.000000     502.000000        95.000000  \n",
       "75%            1.000000     729.000000       232.000000  \n",
       "max            3.000000    1344.000000      1580.000000  "
      ]
     },
     "execution_count": 6,
     "metadata": {},
     "output_type": "execute_result"
    }
   ],
   "source": [
    "data.describe()"
   ]
  },
  {
   "cell_type": "code",
   "execution_count": 7,
   "id": "68114290",
   "metadata": {},
   "outputs": [
    {
     "data": {
      "text/plain": [
       "0"
      ]
     },
     "execution_count": 7,
     "metadata": {},
     "output_type": "execute_result"
    }
   ],
   "source": [
    "data.duplicated().sum()"
   ]
  },
  {
   "cell_type": "markdown",
   "id": "148a288a",
   "metadata": {},
   "source": [
    "<div class=\"alert alert-info\" role=\"alert\"><p>\n",
    "  Дубликатов не обнаружено  \n",
    "</p></div> "
   ]
  },
  {
   "cell_type": "code",
   "execution_count": 8,
   "id": "5b203171",
   "metadata": {
    "scrolled": false
   },
   "outputs": [
    {
     "data": {
      "image/png": "[encoded data removed]",
      "text/plain": [
       "<Figure size 1080x1440 with 20 Axes>"
      ]
     },
     "metadata": {
      "needs_background": "light"
     },
     "output_type": "display_data"
    }
   ],
   "source": [
    "data.hist(figsize=(15, 20));"
   ]
  },
  {
   "cell_type": "markdown",
   "id": "df4395c4",
   "metadata": {},
   "source": [
    "<div class=\"alert alert-info\" role=\"alert\"><p>\n",
    "  Построена общая гистограмма для всех числовых столбцов таблицы.   \n",
    "</p></div> "
   ]
  },
  {
   "cell_type": "markdown",
   "id": "d12d9891",
   "metadata": {},
   "source": [
    "<div class=\"alert alert-info\" role=\"alert\"><p>\n",
    "   <h2>Вывод:</h2>\n",
    "    <br> При изучении данной таблицы было обнаружено довольно много пропущенных значений и некорректное название столбцов. Возможно, это связано с ошибкой при ручном занесении информации человеком или ленью, либо человек не знает точную высоту потолка квартиры,жилую площадь, площадь кухни, число парков в радиусе 3 км, расстояние до ближайшего парка, число водоёмов в радиусе 3 км и расстояние до ближайшего водоёма. Также смело можем удалить строки без названия населенного пункта (зачем нам информация о квартире, которая расположено не известно где). Пропуски в столбцах \"ceiling_height\", \"is_apartment\", \"balcony\" можно заполнить. В столбце названий населенного пункта наблюдаются повторения. \n",
    "</p></div> \n"
   ]
  },
  {
   "cell_type": "markdown",
   "id": "0e04eac1",
   "metadata": {},
   "source": [
    "<div class=\"alert alert-info\" role=\"alert\"><a name=\"Предобработка_данных\"><h3>Предобработка данных</h3></a></div>"
   ]
  },
  {
   "cell_type": "code",
   "execution_count": 9,
   "id": "6b16917e",
   "metadata": {},
   "outputs": [],
   "source": [
    "# переименуем столбцы\n",
    "data = data.rename(columns={\"cityCenters_nearest\": \"city_centers_nearest\", \"parks_around3000\": \"parks_around_3km\", \"ponds_around3000\": \"ponds_around_3km\", \"studio\": \"is_studio\" })"
   ]
  },
  {
   "cell_type": "code",
   "execution_count": 11,
   "id": "9eabee1d",
   "metadata": {},
   "outputs": [],
   "source": [
    "# заменим значения NaN на False\n",
    "data['is_apartment'] = data['is_apartment'].fillna(False)"
   ]
  },
  {
   "cell_type": "code",
   "execution_count": 12,
   "id": "52b86c39",
   "metadata": {
    "scrolled": false
   },
   "outputs": [
    {
     "name": "stdout",
     "output_type": "stream",
     "text": [
      "<class 'pandas.core.frame.DataFrame'>\n",
      "RangeIndex: 23699 entries, 0 to 23698\n",
      "Data columns (total 22 columns):\n",
      " #   Column                Non-Null Count  Dtype  \n",
      "---  ------                --------------  -----  \n",
      " 0   total_images          23699 non-null  int64  \n",
      " 1   last_price            23699 non-null  float64\n",
      " 2   total_area            23699 non-null  float64\n",
      " 3   first_day_exposition  23699 non-null  object \n",
      " 4   rooms                 23699 non-null  int64  \n",
      " 5   ceiling_height        14504 non-null  float64\n",
      " 6   floors_total          23613 non-null  float64\n",
      " 7   living_area           21796 non-null  float64\n",
      " 8   floor                 23699 non-null  int64  \n",
      " 9   is_apartment          23699 non-null  bool   \n",
      " 10  is_studio             23699 non-null  bool   \n",
      " 11  open_plan             23699 non-null  bool   \n",
      " 12  kitchen_area          21421 non-null  float64\n",
      " 13  balcony               23699 non-null  float64\n",
      " 14  locality_name         23650 non-null  object \n",
      " 15  airports_nearest      18157 non-null  float64\n",
      " 16  city_centers_nearest  18180 non-null  float64\n",
      " 17  parks_around_3km      18181 non-null  float64\n",
      " 18  parks_nearest         8079 non-null   float64\n",
      " 19  ponds_around_3km      18181 non-null  float64\n",
      " 20  ponds_nearest         9110 non-null   float64\n",
      " 21  days_exposition       20518 non-null  float64\n",
      "dtypes: bool(3), float64(14), int64(3), object(2)\n",
      "memory usage: 3.5+ MB\n"
     ]
    }
   ],
   "source": [
    "data.info()"
   ]
  },
  {
   "cell_type": "markdown",
   "id": "fdda28c0",
   "metadata": {},
   "source": [
    "<div class=\"alert alert-info\" role=\"alert\"><p>\n",
    "  Столбцы \"balcony\",\"is_apartment\" заполнены.   \n",
    "</p></div>"
   ]
  },
  {
   "cell_type": "code",
   "execution_count": 13,
   "id": "b71863dc",
   "metadata": {},
   "outputs": [],
   "source": [
    "coef_living_area = data['total_area'].mean()/data['living_area'].mean()"
   ]
  },
  {
   "cell_type": "code",
   "execution_count": 14,
   "id": "8ffc4099",
   "metadata": {},
   "outputs": [],
   "source": [
    "# заменим значения NaN в столбце living_area\n",
    "data['living_area'] = data['living_area'].fillna(data['total_area']/coef_living_area)"
   ]
  },
  {
   "cell_type": "code",
   "execution_count": 15,
   "id": "a0fbcfaf",
   "metadata": {},
   "outputs": [
    {
     "data": {
      "text/plain": [
       "0"
      ]
     },
     "execution_count": 15,
     "metadata": {},
     "output_type": "execute_result"
    }
   ],
   "source": [
    "data['living_area'].isna().sum()"
   ]
  },
  {
   "cell_type": "code",
   "execution_count": 16,
   "id": "e75d9d89",
   "metadata": {},
   "outputs": [],
   "source": [
    "#удалим строки, где отсутствуют значения в столбце \"locality_name\" \n",
    "data = data.dropna(subset=['locality_name'])"
   ]
  },
  {
   "cell_type": "code",
   "execution_count": 17,
   "id": "29a73913",
   "metadata": {},
   "outputs": [
    {
     "data": {
      "text/plain": [
       "364"
      ]
     },
     "execution_count": 17,
     "metadata": {},
     "output_type": "execute_result"
    }
   ],
   "source": [
    "len(data['locality_name'].unique())"
   ]
  },
  {
   "cell_type": "code",
   "execution_count": 18,
   "id": "5a568319",
   "metadata": {},
   "outputs": [],
   "source": [
    "#в столбце \"locality_name\" заменим ё на е\n",
    "data['locality_name'] = data['locality_name'].str.replace('ё', 'е', regex=True)"
   ]
  },
  {
   "cell_type": "code",
   "execution_count": 19,
   "id": "f3865dc8",
   "metadata": {},
   "outputs": [],
   "source": [
    "#в столбце \"locality_name\" поработаем над неявными дубликатами\n",
    "def replace_wrong_values(wrong_values, correct_value): \n",
    "    for wrong_value in wrong_values:\n",
    "        data['locality_name'] = data['locality_name'].replace(wrong_value, correct_value) \n",
    "\n",
    "        \n",
    "replace_wrong_values(['Мурино'],'поселок Мурино') \n",
    "replace_wrong_values(['Кудрово'] ,'деревня Кудрово')\n",
    "replace_wrong_values(['Коммунар']  ,'поселок Коммунары')\n",
    "replace_wrong_values(['деревня Федоровское'], 'городской поселок Федоровское')\n",
    "replace_wrong_values(['Кингисепп'] , 'поселок Кингисеппский')\n",
    "replace_wrong_values(['Никольское'], 'село Никольское')\n",
    "replace_wrong_values(['городской поселок Рощино'] , 'поселок городского типа Рощино')\n",
    "replace_wrong_values(['городской поселок Советский'] , 'поселок городского типа Советский')\n",
    "replace_wrong_values(['Любань'],  'поселок Любань')\n",
    "replace_wrong_values(['деревня Зимитицы'], 'поселок Зимитицы')\n",
    "replace_wrong_values(['коттеджный поселок Лесное'] ,'поселок Лесное')\n",
    "replace_wrong_values(['поселок станции Громово'], 'поселок Громово')\n",
    "replace_wrong_values(['деревня Рабитицы'], 'поселок Рабитицы')\n",
    "replace_wrong_values(['городской поселок Назия'], 'поселок городского типа Назия')\n",
    "replace_wrong_values(['поселок Рябово'] , 'поселок городского типа Рябово')\n",
    "replace_wrong_values(['городской поселок Лесогорский'] , 'поселок городского типа Лесогорский')\n",
    "replace_wrong_values(['поселок при железнодорожной станции Вещево'] , 'поселок станции Вещево')\n",
    "replace_wrong_values(['деревня Калитино'], 'поселок Калитино')\n",
    "replace_wrong_values(['садовое товарищество Приладожский']  , 'поселок городского типа Приладожский')\n",
    "replace_wrong_values(['деревня Щеглово'], 'поселок Щеглово')\n",
    "replace_wrong_values(['поселок при железнодорожной станции Приветнинское'] , 'поселок станции Приветнинское')\n",
    "replace_wrong_values(['деревня Зимитицы'], 'поселок Зимитицы')\n"
   ]
  },
  {
   "cell_type": "code",
   "execution_count": 20,
   "id": "dc2945e0",
   "metadata": {},
   "outputs": [
    {
     "data": {
      "text/plain": [
       "309"
      ]
     },
     "execution_count": 20,
     "metadata": {},
     "output_type": "execute_result"
    }
   ],
   "source": [
    "len(data['locality_name'].unique())"
   ]
  },
  {
   "cell_type": "code",
   "execution_count": 21,
   "id": "c28e5856",
   "metadata": {},
   "outputs": [],
   "source": [
    "#обработаем аномалии в столбце\"ceiling_height\"\n",
    "data['ceiling_height'] = np.where(data['ceiling_height'] > 20, data['ceiling_height'] / 10, data['ceiling_height'])"
   ]
  },
  {
   "cell_type": "code",
   "execution_count": 22,
   "id": "421db2db",
   "metadata": {},
   "outputs": [],
   "source": [
    "# Заменим тип данных в столбце \"first_day_exposition\"\n",
    "data['first_day_exposition'] = pd.to_datetime(data['first_day_exposition'], format=\"%Y-%m-%dT%H:%M:%S\")"
   ]
  },
  {
   "cell_type": "code",
   "execution_count": 23,
   "id": "30a9f53e",
   "metadata": {},
   "outputs": [
    {
     "name": "stdout",
     "output_type": "stream",
     "text": [
      "<class 'pandas.core.frame.DataFrame'>\n",
      "Int64Index: 23650 entries, 0 to 23698\n",
      "Data columns (total 22 columns):\n",
      " #   Column                Non-Null Count  Dtype         \n",
      "---  ------                --------------  -----         \n",
      " 0   total_images          23650 non-null  int64         \n",
      " 1   last_price            23650 non-null  float64       \n",
      " 2   total_area            23650 non-null  float64       \n",
      " 3   first_day_exposition  23650 non-null  datetime64[ns]\n",
      " 4   rooms                 23650 non-null  int64         \n",
      " 5   ceiling_height        14490 non-null  float64       \n",
      " 6   floors_total          23565 non-null  float64       \n",
      " 7   living_area           23650 non-null  float64       \n",
      " 8   floor                 23650 non-null  int64         \n",
      " 9   is_apartment          23650 non-null  bool          \n",
      " 10  is_studio             23650 non-null  bool          \n",
      " 11  open_plan             23650 non-null  bool          \n",
      " 12  kitchen_area          21381 non-null  float64       \n",
      " 13  balcony               23650 non-null  float64       \n",
      " 14  locality_name         23650 non-null  object        \n",
      " 15  airports_nearest      18116 non-null  float64       \n",
      " 16  city_centers_nearest  18139 non-null  float64       \n",
      " 17  parks_around_3km      18140 non-null  float64       \n",
      " 18  parks_nearest         8064 non-null   float64       \n",
      " 19  ponds_around_3km      18140 non-null  float64       \n",
      " 20  ponds_nearest         9085 non-null   float64       \n",
      " 21  days_exposition       20470 non-null  float64       \n",
      "dtypes: bool(3), datetime64[ns](1), float64(14), int64(3), object(1)\n",
      "memory usage: 3.7+ MB\n"
     ]
    }
   ],
   "source": [
    "#проверка внесенных изменений\n",
    "data.info()"
   ]
  },
  {
   "cell_type": "code",
   "execution_count": 24,
   "id": "e6783ee5",
   "metadata": {},
   "outputs": [
    {
     "data": {
      "text/html": [
       "<div>\n",
       "<style scoped>\n",
       "    .dataframe tbody tr th:only-of-type {\n",
       "        vertical-align: middle;\n",
       "    }\n",
       "\n",
       "    .dataframe tbody tr th {\n",
       "        vertical-align: top;\n",
       "    }\n",
       "\n",
       "    .dataframe thead th {\n",
       "        text-align: right;\n",
       "    }\n",
       "</style>\n",
       "<table border=\"1\" class=\"dataframe\">\n",
       "  <thead>\n",
       "    <tr style=\"text-align: right;\">\n",
       "      <th></th>\n",
       "      <th>total_images</th>\n",
       "      <th>last_price</th>\n",
       "      <th>total_area</th>\n",
       "      <th>first_day_exposition</th>\n",
       "      <th>rooms</th>\n",
       "      <th>ceiling_height</th>\n",
       "      <th>floors_total</th>\n",
       "      <th>living_area</th>\n",
       "      <th>floor</th>\n",
       "      <th>is_apartment</th>\n",
       "      <th>...</th>\n",
       "      <th>kitchen_area</th>\n",
       "      <th>balcony</th>\n",
       "      <th>locality_name</th>\n",
       "      <th>airports_nearest</th>\n",
       "      <th>city_centers_nearest</th>\n",
       "      <th>parks_around_3km</th>\n",
       "      <th>parks_nearest</th>\n",
       "      <th>ponds_around_3km</th>\n",
       "      <th>ponds_nearest</th>\n",
       "      <th>days_exposition</th>\n",
       "    </tr>\n",
       "  </thead>\n",
       "  <tbody>\n",
       "    <tr>\n",
       "      <th>0</th>\n",
       "      <td>20</td>\n",
       "      <td>13000000.0</td>\n",
       "      <td>108.00</td>\n",
       "      <td>2019-03-07</td>\n",
       "      <td>3</td>\n",
       "      <td>2.70</td>\n",
       "      <td>16.0</td>\n",
       "      <td>51.000000</td>\n",
       "      <td>8</td>\n",
       "      <td>False</td>\n",
       "      <td>...</td>\n",
       "      <td>25.00</td>\n",
       "      <td>0.0</td>\n",
       "      <td>Санкт-Петербург</td>\n",
       "      <td>18863.0</td>\n",
       "      <td>16028.0</td>\n",
       "      <td>1.0</td>\n",
       "      <td>482.0</td>\n",
       "      <td>2.0</td>\n",
       "      <td>755.0</td>\n",
       "      <td>NaN</td>\n",
       "    </tr>\n",
       "    <tr>\n",
       "      <th>1</th>\n",
       "      <td>7</td>\n",
       "      <td>3350000.0</td>\n",
       "      <td>40.40</td>\n",
       "      <td>2018-12-04</td>\n",
       "      <td>1</td>\n",
       "      <td>NaN</td>\n",
       "      <td>11.0</td>\n",
       "      <td>18.600000</td>\n",
       "      <td>1</td>\n",
       "      <td>False</td>\n",
       "      <td>...</td>\n",
       "      <td>11.00</td>\n",
       "      <td>2.0</td>\n",
       "      <td>поселок Шушары</td>\n",
       "      <td>12817.0</td>\n",
       "      <td>18603.0</td>\n",
       "      <td>0.0</td>\n",
       "      <td>NaN</td>\n",
       "      <td>0.0</td>\n",
       "      <td>NaN</td>\n",
       "      <td>81.0</td>\n",
       "    </tr>\n",
       "    <tr>\n",
       "      <th>2</th>\n",
       "      <td>10</td>\n",
       "      <td>5196000.0</td>\n",
       "      <td>56.00</td>\n",
       "      <td>2015-08-20</td>\n",
       "      <td>2</td>\n",
       "      <td>NaN</td>\n",
       "      <td>5.0</td>\n",
       "      <td>34.300000</td>\n",
       "      <td>4</td>\n",
       "      <td>False</td>\n",
       "      <td>...</td>\n",
       "      <td>8.30</td>\n",
       "      <td>0.0</td>\n",
       "      <td>Санкт-Петербург</td>\n",
       "      <td>21741.0</td>\n",
       "      <td>13933.0</td>\n",
       "      <td>1.0</td>\n",
       "      <td>90.0</td>\n",
       "      <td>2.0</td>\n",
       "      <td>574.0</td>\n",
       "      <td>558.0</td>\n",
       "    </tr>\n",
       "    <tr>\n",
       "      <th>3</th>\n",
       "      <td>0</td>\n",
       "      <td>64900000.0</td>\n",
       "      <td>159.00</td>\n",
       "      <td>2015-07-24</td>\n",
       "      <td>3</td>\n",
       "      <td>NaN</td>\n",
       "      <td>14.0</td>\n",
       "      <td>90.785766</td>\n",
       "      <td>9</td>\n",
       "      <td>False</td>\n",
       "      <td>...</td>\n",
       "      <td>NaN</td>\n",
       "      <td>0.0</td>\n",
       "      <td>Санкт-Петербург</td>\n",
       "      <td>28098.0</td>\n",
       "      <td>6800.0</td>\n",
       "      <td>2.0</td>\n",
       "      <td>84.0</td>\n",
       "      <td>3.0</td>\n",
       "      <td>234.0</td>\n",
       "      <td>424.0</td>\n",
       "    </tr>\n",
       "    <tr>\n",
       "      <th>4</th>\n",
       "      <td>2</td>\n",
       "      <td>10000000.0</td>\n",
       "      <td>100.00</td>\n",
       "      <td>2018-06-19</td>\n",
       "      <td>2</td>\n",
       "      <td>3.03</td>\n",
       "      <td>14.0</td>\n",
       "      <td>32.000000</td>\n",
       "      <td>13</td>\n",
       "      <td>False</td>\n",
       "      <td>...</td>\n",
       "      <td>41.00</td>\n",
       "      <td>0.0</td>\n",
       "      <td>Санкт-Петербург</td>\n",
       "      <td>31856.0</td>\n",
       "      <td>8098.0</td>\n",
       "      <td>2.0</td>\n",
       "      <td>112.0</td>\n",
       "      <td>1.0</td>\n",
       "      <td>48.0</td>\n",
       "      <td>121.0</td>\n",
       "    </tr>\n",
       "    <tr>\n",
       "      <th>...</th>\n",
       "      <td>...</td>\n",
       "      <td>...</td>\n",
       "      <td>...</td>\n",
       "      <td>...</td>\n",
       "      <td>...</td>\n",
       "      <td>...</td>\n",
       "      <td>...</td>\n",
       "      <td>...</td>\n",
       "      <td>...</td>\n",
       "      <td>...</td>\n",
       "      <td>...</td>\n",
       "      <td>...</td>\n",
       "      <td>...</td>\n",
       "      <td>...</td>\n",
       "      <td>...</td>\n",
       "      <td>...</td>\n",
       "      <td>...</td>\n",
       "      <td>...</td>\n",
       "      <td>...</td>\n",
       "      <td>...</td>\n",
       "      <td>...</td>\n",
       "    </tr>\n",
       "    <tr>\n",
       "      <th>23694</th>\n",
       "      <td>9</td>\n",
       "      <td>9700000.0</td>\n",
       "      <td>133.81</td>\n",
       "      <td>2017-03-21</td>\n",
       "      <td>3</td>\n",
       "      <td>3.70</td>\n",
       "      <td>5.0</td>\n",
       "      <td>73.300000</td>\n",
       "      <td>3</td>\n",
       "      <td>False</td>\n",
       "      <td>...</td>\n",
       "      <td>13.83</td>\n",
       "      <td>0.0</td>\n",
       "      <td>Санкт-Петербург</td>\n",
       "      <td>24665.0</td>\n",
       "      <td>4232.0</td>\n",
       "      <td>1.0</td>\n",
       "      <td>796.0</td>\n",
       "      <td>3.0</td>\n",
       "      <td>381.0</td>\n",
       "      <td>NaN</td>\n",
       "    </tr>\n",
       "    <tr>\n",
       "      <th>23695</th>\n",
       "      <td>14</td>\n",
       "      <td>3100000.0</td>\n",
       "      <td>59.00</td>\n",
       "      <td>2018-01-15</td>\n",
       "      <td>3</td>\n",
       "      <td>NaN</td>\n",
       "      <td>5.0</td>\n",
       "      <td>38.000000</td>\n",
       "      <td>4</td>\n",
       "      <td>False</td>\n",
       "      <td>...</td>\n",
       "      <td>8.50</td>\n",
       "      <td>0.0</td>\n",
       "      <td>Тосно</td>\n",
       "      <td>NaN</td>\n",
       "      <td>NaN</td>\n",
       "      <td>NaN</td>\n",
       "      <td>NaN</td>\n",
       "      <td>NaN</td>\n",
       "      <td>NaN</td>\n",
       "      <td>45.0</td>\n",
       "    </tr>\n",
       "    <tr>\n",
       "      <th>23696</th>\n",
       "      <td>18</td>\n",
       "      <td>2500000.0</td>\n",
       "      <td>56.70</td>\n",
       "      <td>2018-02-11</td>\n",
       "      <td>2</td>\n",
       "      <td>NaN</td>\n",
       "      <td>3.0</td>\n",
       "      <td>29.700000</td>\n",
       "      <td>1</td>\n",
       "      <td>False</td>\n",
       "      <td>...</td>\n",
       "      <td>NaN</td>\n",
       "      <td>0.0</td>\n",
       "      <td>село Рождествено</td>\n",
       "      <td>NaN</td>\n",
       "      <td>NaN</td>\n",
       "      <td>NaN</td>\n",
       "      <td>NaN</td>\n",
       "      <td>NaN</td>\n",
       "      <td>NaN</td>\n",
       "      <td>NaN</td>\n",
       "    </tr>\n",
       "    <tr>\n",
       "      <th>23697</th>\n",
       "      <td>13</td>\n",
       "      <td>11475000.0</td>\n",
       "      <td>76.75</td>\n",
       "      <td>2017-03-28</td>\n",
       "      <td>2</td>\n",
       "      <td>3.00</td>\n",
       "      <td>17.0</td>\n",
       "      <td>43.822689</td>\n",
       "      <td>12</td>\n",
       "      <td>False</td>\n",
       "      <td>...</td>\n",
       "      <td>23.30</td>\n",
       "      <td>2.0</td>\n",
       "      <td>Санкт-Петербург</td>\n",
       "      <td>39140.0</td>\n",
       "      <td>10364.0</td>\n",
       "      <td>2.0</td>\n",
       "      <td>173.0</td>\n",
       "      <td>3.0</td>\n",
       "      <td>196.0</td>\n",
       "      <td>602.0</td>\n",
       "    </tr>\n",
       "    <tr>\n",
       "      <th>23698</th>\n",
       "      <td>4</td>\n",
       "      <td>1350000.0</td>\n",
       "      <td>32.30</td>\n",
       "      <td>2017-07-21</td>\n",
       "      <td>1</td>\n",
       "      <td>2.50</td>\n",
       "      <td>5.0</td>\n",
       "      <td>12.300000</td>\n",
       "      <td>1</td>\n",
       "      <td>False</td>\n",
       "      <td>...</td>\n",
       "      <td>9.00</td>\n",
       "      <td>0.0</td>\n",
       "      <td>поселок Новый Учхоз</td>\n",
       "      <td>NaN</td>\n",
       "      <td>NaN</td>\n",
       "      <td>NaN</td>\n",
       "      <td>NaN</td>\n",
       "      <td>NaN</td>\n",
       "      <td>NaN</td>\n",
       "      <td>NaN</td>\n",
       "    </tr>\n",
       "  </tbody>\n",
       "</table>\n",
       "<p>23628 rows × 22 columns</p>\n",
       "</div>"
      ],
      "text/plain": [
       "       total_images  last_price  total_area first_day_exposition  rooms  \\\n",
       "0                20  13000000.0      108.00           2019-03-07      3   \n",
       "1                 7   3350000.0       40.40           2018-12-04      1   \n",
       "2                10   5196000.0       56.00           2015-08-20      2   \n",
       "3                 0  64900000.0      159.00           2015-07-24      3   \n",
       "4                 2  10000000.0      100.00           2018-06-19      2   \n",
       "...             ...         ...         ...                  ...    ...   \n",
       "23694             9   9700000.0      133.81           2017-03-21      3   \n",
       "23695            14   3100000.0       59.00           2018-01-15      3   \n",
       "23696            18   2500000.0       56.70           2018-02-11      2   \n",
       "23697            13  11475000.0       76.75           2017-03-28      2   \n",
       "23698             4   1350000.0       32.30           2017-07-21      1   \n",
       "\n",
       "       ceiling_height  floors_total  living_area  floor  is_apartment  ...  \\\n",
       "0                2.70          16.0    51.000000      8         False  ...   \n",
       "1                 NaN          11.0    18.600000      1         False  ...   \n",
       "2                 NaN           5.0    34.300000      4         False  ...   \n",
       "3                 NaN          14.0    90.785766      9         False  ...   \n",
       "4                3.03          14.0    32.000000     13         False  ...   \n",
       "...               ...           ...          ...    ...           ...  ...   \n",
       "23694            3.70           5.0    73.300000      3         False  ...   \n",
       "23695             NaN           5.0    38.000000      4         False  ...   \n",
       "23696             NaN           3.0    29.700000      1         False  ...   \n",
       "23697            3.00          17.0    43.822689     12         False  ...   \n",
       "23698            2.50           5.0    12.300000      1         False  ...   \n",
       "\n",
       "       kitchen_area  balcony        locality_name  airports_nearest  \\\n",
       "0             25.00      0.0      Санкт-Петербург           18863.0   \n",
       "1             11.00      2.0       поселок Шушары           12817.0   \n",
       "2              8.30      0.0      Санкт-Петербург           21741.0   \n",
       "3               NaN      0.0      Санкт-Петербург           28098.0   \n",
       "4             41.00      0.0      Санкт-Петербург           31856.0   \n",
       "...             ...      ...                  ...               ...   \n",
       "23694         13.83      0.0      Санкт-Петербург           24665.0   \n",
       "23695          8.50      0.0                Тосно               NaN   \n",
       "23696           NaN      0.0     село Рождествено               NaN   \n",
       "23697         23.30      2.0      Санкт-Петербург           39140.0   \n",
       "23698          9.00      0.0  поселок Новый Учхоз               NaN   \n",
       "\n",
       "      city_centers_nearest  parks_around_3km  parks_nearest  ponds_around_3km  \\\n",
       "0                  16028.0               1.0          482.0               2.0   \n",
       "1                  18603.0               0.0            NaN               0.0   \n",
       "2                  13933.0               1.0           90.0               2.0   \n",
       "3                   6800.0               2.0           84.0               3.0   \n",
       "4                   8098.0               2.0          112.0               1.0   \n",
       "...                    ...               ...            ...               ...   \n",
       "23694               4232.0               1.0          796.0               3.0   \n",
       "23695                  NaN               NaN            NaN               NaN   \n",
       "23696                  NaN               NaN            NaN               NaN   \n",
       "23697              10364.0               2.0          173.0               3.0   \n",
       "23698                  NaN               NaN            NaN               NaN   \n",
       "\n",
       "       ponds_nearest  days_exposition  \n",
       "0              755.0              NaN  \n",
       "1                NaN             81.0  \n",
       "2              574.0            558.0  \n",
       "3              234.0            424.0  \n",
       "4               48.0            121.0  \n",
       "...              ...              ...  \n",
       "23694          381.0              NaN  \n",
       "23695            NaN             45.0  \n",
       "23696            NaN              NaN  \n",
       "23697          196.0            602.0  \n",
       "23698            NaN              NaN  \n",
       "\n",
       "[23628 rows x 22 columns]"
      ]
     },
     "execution_count": 24,
     "metadata": {},
     "output_type": "execute_result"
    }
   ],
   "source": [
    "data = data.query('ceiling_height != 2 and ceiling_height != 1.2 and ceiling_height != 1 and ceiling_height != 2.3 and ceiling_height != 2.34 and ceiling_height != 2.2 and ceiling_height != 2.25 and ceiling_height != 2.26 and ceiling_height != 1.75 and last_price != 12190')\n",
    "data"
   ]
  },
  {
   "cell_type": "code",
   "execution_count": 25,
   "id": "cc578993",
   "metadata": {},
   "outputs": [
    {
     "data": {
      "text/html": [
       "<div>\n",
       "<style scoped>\n",
       "    .dataframe tbody tr th:only-of-type {\n",
       "        vertical-align: middle;\n",
       "    }\n",
       "\n",
       "    .dataframe tbody tr th {\n",
       "        vertical-align: top;\n",
       "    }\n",
       "\n",
       "    .dataframe thead th {\n",
       "        text-align: right;\n",
       "    }\n",
       "</style>\n",
       "<table border=\"1\" class=\"dataframe\">\n",
       "  <thead>\n",
       "    <tr style=\"text-align: right;\">\n",
       "      <th></th>\n",
       "      <th>total_images</th>\n",
       "      <th>last_price</th>\n",
       "      <th>total_area</th>\n",
       "      <th>rooms</th>\n",
       "      <th>ceiling_height</th>\n",
       "      <th>floors_total</th>\n",
       "      <th>living_area</th>\n",
       "      <th>floor</th>\n",
       "      <th>kitchen_area</th>\n",
       "      <th>balcony</th>\n",
       "      <th>airports_nearest</th>\n",
       "      <th>city_centers_nearest</th>\n",
       "      <th>parks_around_3km</th>\n",
       "      <th>parks_nearest</th>\n",
       "      <th>ponds_around_3km</th>\n",
       "      <th>ponds_nearest</th>\n",
       "      <th>days_exposition</th>\n",
       "    </tr>\n",
       "  </thead>\n",
       "  <tbody>\n",
       "    <tr>\n",
       "      <th>count</th>\n",
       "      <td>23628.000000</td>\n",
       "      <td>2.362800e+04</td>\n",
       "      <td>23628.000000</td>\n",
       "      <td>23628.000000</td>\n",
       "      <td>14468.000000</td>\n",
       "      <td>23543.000000</td>\n",
       "      <td>23628.000000</td>\n",
       "      <td>23628.000000</td>\n",
       "      <td>21362.00000</td>\n",
       "      <td>23628.000000</td>\n",
       "      <td>18109.000000</td>\n",
       "      <td>18132.000000</td>\n",
       "      <td>18133.000000</td>\n",
       "      <td>8059.000000</td>\n",
       "      <td>18133.000000</td>\n",
       "      <td>9080.000000</td>\n",
       "      <td>20451.000000</td>\n",
       "    </tr>\n",
       "    <tr>\n",
       "      <th>mean</th>\n",
       "      <td>9.864314</td>\n",
       "      <td>6.544497e+06</td>\n",
       "      <td>60.338851</td>\n",
       "      <td>2.070256</td>\n",
       "      <td>2.731661</td>\n",
       "      <td>10.677101</td>\n",
       "      <td>34.587394</td>\n",
       "      <td>5.893770</td>\n",
       "      <td>10.56756</td>\n",
       "      <td>0.591798</td>\n",
       "      <td>28801.382020</td>\n",
       "      <td>14197.539212</td>\n",
       "      <td>0.611482</td>\n",
       "      <td>490.803325</td>\n",
       "      <td>0.769536</td>\n",
       "      <td>518.125220</td>\n",
       "      <td>180.814386</td>\n",
       "    </tr>\n",
       "    <tr>\n",
       "      <th>std</th>\n",
       "      <td>5.682001</td>\n",
       "      <td>1.090067e+07</td>\n",
       "      <td>35.672416</td>\n",
       "      <td>1.078840</td>\n",
       "      <td>0.349282</td>\n",
       "      <td>6.592658</td>\n",
       "      <td>22.366071</td>\n",
       "      <td>4.882838</td>\n",
       "      <td>5.89973</td>\n",
       "      <td>0.959851</td>\n",
       "      <td>12638.176427</td>\n",
       "      <td>8607.604874</td>\n",
       "      <td>0.802045</td>\n",
       "      <td>342.634452</td>\n",
       "      <td>0.937899</td>\n",
       "      <td>277.806702</td>\n",
       "      <td>219.846305</td>\n",
       "    </tr>\n",
       "    <tr>\n",
       "      <th>min</th>\n",
       "      <td>0.000000</td>\n",
       "      <td>4.300000e+05</td>\n",
       "      <td>12.000000</td>\n",
       "      <td>0.000000</td>\n",
       "      <td>2.260000</td>\n",
       "      <td>1.000000</td>\n",
       "      <td>2.000000</td>\n",
       "      <td>1.000000</td>\n",
       "      <td>1.30000</td>\n",
       "      <td>0.000000</td>\n",
       "      <td>0.000000</td>\n",
       "      <td>181.000000</td>\n",
       "      <td>0.000000</td>\n",
       "      <td>1.000000</td>\n",
       "      <td>0.000000</td>\n",
       "      <td>13.000000</td>\n",
       "      <td>1.000000</td>\n",
       "    </tr>\n",
       "    <tr>\n",
       "      <th>25%</th>\n",
       "      <td>6.000000</td>\n",
       "      <td>3.414500e+06</td>\n",
       "      <td>40.000000</td>\n",
       "      <td>1.000000</td>\n",
       "      <td>2.520000</td>\n",
       "      <td>5.000000</td>\n",
       "      <td>19.000000</td>\n",
       "      <td>2.000000</td>\n",
       "      <td>7.00000</td>\n",
       "      <td>0.000000</td>\n",
       "      <td>18574.000000</td>\n",
       "      <td>9241.000000</td>\n",
       "      <td>0.000000</td>\n",
       "      <td>287.500000</td>\n",
       "      <td>0.000000</td>\n",
       "      <td>294.000000</td>\n",
       "      <td>45.000000</td>\n",
       "    </tr>\n",
       "    <tr>\n",
       "      <th>50%</th>\n",
       "      <td>9.000000</td>\n",
       "      <td>4.650000e+06</td>\n",
       "      <td>52.000000</td>\n",
       "      <td>2.000000</td>\n",
       "      <td>2.650000</td>\n",
       "      <td>9.000000</td>\n",
       "      <td>30.000000</td>\n",
       "      <td>4.000000</td>\n",
       "      <td>9.10000</td>\n",
       "      <td>0.000000</td>\n",
       "      <td>26755.000000</td>\n",
       "      <td>13105.000000</td>\n",
       "      <td>0.000000</td>\n",
       "      <td>454.000000</td>\n",
       "      <td>1.000000</td>\n",
       "      <td>502.500000</td>\n",
       "      <td>95.000000</td>\n",
       "    </tr>\n",
       "    <tr>\n",
       "      <th>75%</th>\n",
       "      <td>14.000000</td>\n",
       "      <td>6.800000e+06</td>\n",
       "      <td>69.762500</td>\n",
       "      <td>3.000000</td>\n",
       "      <td>2.800000</td>\n",
       "      <td>16.000000</td>\n",
       "      <td>42.100000</td>\n",
       "      <td>8.000000</td>\n",
       "      <td>12.00000</td>\n",
       "      <td>1.000000</td>\n",
       "      <td>37294.000000</td>\n",
       "      <td>16293.000000</td>\n",
       "      <td>1.000000</td>\n",
       "      <td>612.000000</td>\n",
       "      <td>1.000000</td>\n",
       "      <td>730.000000</td>\n",
       "      <td>231.000000</td>\n",
       "    </tr>\n",
       "    <tr>\n",
       "      <th>max</th>\n",
       "      <td>50.000000</td>\n",
       "      <td>7.630000e+08</td>\n",
       "      <td>900.000000</td>\n",
       "      <td>19.000000</td>\n",
       "      <td>20.000000</td>\n",
       "      <td>60.000000</td>\n",
       "      <td>409.700000</td>\n",
       "      <td>33.000000</td>\n",
       "      <td>112.00000</td>\n",
       "      <td>5.000000</td>\n",
       "      <td>84869.000000</td>\n",
       "      <td>65968.000000</td>\n",
       "      <td>3.000000</td>\n",
       "      <td>3190.000000</td>\n",
       "      <td>3.000000</td>\n",
       "      <td>1344.000000</td>\n",
       "      <td>1580.000000</td>\n",
       "    </tr>\n",
       "  </tbody>\n",
       "</table>\n",
       "</div>"
      ],
      "text/plain": [
       "       total_images    last_price    total_area         rooms  ceiling_height  \\\n",
       "count  23628.000000  2.362800e+04  23628.000000  23628.000000    14468.000000   \n",
       "mean       9.864314  6.544497e+06     60.338851      2.070256        2.731661   \n",
       "std        5.682001  1.090067e+07     35.672416      1.078840        0.349282   \n",
       "min        0.000000  4.300000e+05     12.000000      0.000000        2.260000   \n",
       "25%        6.000000  3.414500e+06     40.000000      1.000000        2.520000   \n",
       "50%        9.000000  4.650000e+06     52.000000      2.000000        2.650000   \n",
       "75%       14.000000  6.800000e+06     69.762500      3.000000        2.800000   \n",
       "max       50.000000  7.630000e+08    900.000000     19.000000       20.000000   \n",
       "\n",
       "       floors_total   living_area         floor  kitchen_area       balcony  \\\n",
       "count  23543.000000  23628.000000  23628.000000   21362.00000  23628.000000   \n",
       "mean      10.677101     34.587394      5.893770      10.56756      0.591798   \n",
       "std        6.592658     22.366071      4.882838       5.89973      0.959851   \n",
       "min        1.000000      2.000000      1.000000       1.30000      0.000000   \n",
       "25%        5.000000     19.000000      2.000000       7.00000      0.000000   \n",
       "50%        9.000000     30.000000      4.000000       9.10000      0.000000   \n",
       "75%       16.000000     42.100000      8.000000      12.00000      1.000000   \n",
       "max       60.000000    409.700000     33.000000     112.00000      5.000000   \n",
       "\n",
       "       airports_nearest  city_centers_nearest  parks_around_3km  \\\n",
       "count      18109.000000          18132.000000      18133.000000   \n",
       "mean       28801.382020          14197.539212          0.611482   \n",
       "std        12638.176427           8607.604874          0.802045   \n",
       "min            0.000000            181.000000          0.000000   \n",
       "25%        18574.000000           9241.000000          0.000000   \n",
       "50%        26755.000000          13105.000000          0.000000   \n",
       "75%        37294.000000          16293.000000          1.000000   \n",
       "max        84869.000000          65968.000000          3.000000   \n",
       "\n",
       "       parks_nearest  ponds_around_3km  ponds_nearest  days_exposition  \n",
       "count    8059.000000      18133.000000    9080.000000     20451.000000  \n",
       "mean      490.803325          0.769536     518.125220       180.814386  \n",
       "std       342.634452          0.937899     277.806702       219.846305  \n",
       "min         1.000000          0.000000      13.000000         1.000000  \n",
       "25%       287.500000          0.000000     294.000000        45.000000  \n",
       "50%       454.000000          1.000000     502.500000        95.000000  \n",
       "75%       612.000000          1.000000     730.000000       231.000000  \n",
       "max      3190.000000          3.000000    1344.000000      1580.000000  "
      ]
     },
     "execution_count": 25,
     "metadata": {},
     "output_type": "execute_result"
    }
   ],
   "source": [
    "data.describe()"
   ]
  },
  {
   "cell_type": "markdown",
   "id": "558b660a",
   "metadata": {},
   "source": [
    "<div class=\"alert alert-info\" role=\"alert\"><p><h2> Вывод:</h2>\n",
    "<br> При предобработке данных были заполнены столбцы \"balcony\",\"is_apartment\", \"living_area\". В таблице были удалены строки, где отсутствовали название населенных пунктов. Также устранили неявные дубликаты названий населенных пунктов и выбивающиеся значения в столбце \"ceiling_height\". В таблице удалили данные квартир с низкими потолками, т.к. с в этих квартирах людям будет не комфортно. Также удалена строка с самой низкой стоимостью квартиры, т.к. это не соответствует действительности.  Заменили тип данных в столбце \"first_day_exposition\".</p></div> "
   ]
  },
  {
   "cell_type": "markdown",
   "id": "d2cf7747",
   "metadata": {},
   "source": [
    "<div class=\"alert alert-info\" role=\"alert\"><a name=\"Добавление_новых_столбцов_в_таблицу\"><h3>Добавление новых столбцов в таблицу</h3></a></div>\n"
   ]
  },
  {
   "cell_type": "code",
   "execution_count": 26,
   "id": "0979179a",
   "metadata": {},
   "outputs": [],
   "source": [
    "# Добавим цену квадратного метра\n",
    "data['price_per_meter'] = data['last_price'] / data['total_area']\n",
    "data['price_per_meter'] = data['price_per_meter'].round(decimals=2)"
   ]
  },
  {
   "cell_type": "code",
   "execution_count": 27,
   "id": "bdfc2ccc",
   "metadata": {},
   "outputs": [],
   "source": [
    "# Добавим день, месяц и год публикации\n",
    "data['day_of_week_exposition'] = data['first_day_exposition'].dt.day_name()\n",
    "data['month_exposition'] = data['first_day_exposition'].dt.month_name()\n",
    "data['year_exposition'] = data['first_day_exposition'].dt.year"
   ]
  },
  {
   "cell_type": "code",
   "execution_count": 28,
   "id": "eed10295",
   "metadata": {},
   "outputs": [],
   "source": [
    "def floor_status(row):\n",
    "    if row['floor'] == 1:\n",
    "        return 'первый'\n",
    "    elif row['floor'] == row['floors_total']:\n",
    "        return 'последний'\n",
    "    else:\n",
    "        return 'другой'\n"
   ]
  },
  {
   "cell_type": "code",
   "execution_count": 29,
   "id": "a7b871a3",
   "metadata": {},
   "outputs": [],
   "source": [
    "# Добавим тип этажа квартиры\n",
    "data['floor_status'] = data.apply(floor_status, axis=1)"
   ]
  },
  {
   "cell_type": "code",
   "execution_count": 30,
   "id": "93885eeb",
   "metadata": {},
   "outputs": [],
   "source": [
    "#Расстояние до ближайшего аэропорта и центра города переведем из м в км и округлим до целых значений\n",
    "data['airports_nearest_km'] = (data['airports_nearest']/1000).round()\n",
    "data['city_centers_nearest_km'] = (data['city_centers_nearest']/1000).round()"
   ]
  },
  {
   "cell_type": "code",
   "execution_count": 31,
   "id": "d12b3317",
   "metadata": {},
   "outputs": [],
   "source": [
    "del data['airports_nearest']\n",
    "del data['city_centers_nearest']"
   ]
  },
  {
   "cell_type": "code",
   "execution_count": 32,
   "id": "c5b9c594",
   "metadata": {},
   "outputs": [
    {
     "data": {
      "text/html": [
       "<div>\n",
       "<style scoped>\n",
       "    .dataframe tbody tr th:only-of-type {\n",
       "        vertical-align: middle;\n",
       "    }\n",
       "\n",
       "    .dataframe tbody tr th {\n",
       "        vertical-align: top;\n",
       "    }\n",
       "\n",
       "    .dataframe thead th {\n",
       "        text-align: right;\n",
       "    }\n",
       "</style>\n",
       "<table border=\"1\" class=\"dataframe\">\n",
       "  <thead>\n",
       "    <tr style=\"text-align: right;\">\n",
       "      <th></th>\n",
       "      <th>total_images</th>\n",
       "      <th>last_price</th>\n",
       "      <th>total_area</th>\n",
       "      <th>first_day_exposition</th>\n",
       "      <th>rooms</th>\n",
       "      <th>ceiling_height</th>\n",
       "      <th>floors_total</th>\n",
       "      <th>living_area</th>\n",
       "      <th>floor</th>\n",
       "      <th>is_apartment</th>\n",
       "      <th>...</th>\n",
       "      <th>ponds_around_3km</th>\n",
       "      <th>ponds_nearest</th>\n",
       "      <th>days_exposition</th>\n",
       "      <th>price_per_meter</th>\n",
       "      <th>day_of_week_exposition</th>\n",
       "      <th>month_exposition</th>\n",
       "      <th>year_exposition</th>\n",
       "      <th>floor_status</th>\n",
       "      <th>airports_nearest_km</th>\n",
       "      <th>city_centers_nearest_km</th>\n",
       "    </tr>\n",
       "  </thead>\n",
       "  <tbody>\n",
       "    <tr>\n",
       "      <th>0</th>\n",
       "      <td>20</td>\n",
       "      <td>13000000.0</td>\n",
       "      <td>108.0</td>\n",
       "      <td>2019-03-07</td>\n",
       "      <td>3</td>\n",
       "      <td>2.70</td>\n",
       "      <td>16.0</td>\n",
       "      <td>51.000000</td>\n",
       "      <td>8</td>\n",
       "      <td>False</td>\n",
       "      <td>...</td>\n",
       "      <td>2.0</td>\n",
       "      <td>755.0</td>\n",
       "      <td>NaN</td>\n",
       "      <td>120370.37</td>\n",
       "      <td>Thursday</td>\n",
       "      <td>March</td>\n",
       "      <td>2019</td>\n",
       "      <td>другой</td>\n",
       "      <td>19.0</td>\n",
       "      <td>16.0</td>\n",
       "    </tr>\n",
       "    <tr>\n",
       "      <th>1</th>\n",
       "      <td>7</td>\n",
       "      <td>3350000.0</td>\n",
       "      <td>40.4</td>\n",
       "      <td>2018-12-04</td>\n",
       "      <td>1</td>\n",
       "      <td>NaN</td>\n",
       "      <td>11.0</td>\n",
       "      <td>18.600000</td>\n",
       "      <td>1</td>\n",
       "      <td>False</td>\n",
       "      <td>...</td>\n",
       "      <td>0.0</td>\n",
       "      <td>NaN</td>\n",
       "      <td>81.0</td>\n",
       "      <td>82920.79</td>\n",
       "      <td>Tuesday</td>\n",
       "      <td>December</td>\n",
       "      <td>2018</td>\n",
       "      <td>первый</td>\n",
       "      <td>13.0</td>\n",
       "      <td>19.0</td>\n",
       "    </tr>\n",
       "    <tr>\n",
       "      <th>2</th>\n",
       "      <td>10</td>\n",
       "      <td>5196000.0</td>\n",
       "      <td>56.0</td>\n",
       "      <td>2015-08-20</td>\n",
       "      <td>2</td>\n",
       "      <td>NaN</td>\n",
       "      <td>5.0</td>\n",
       "      <td>34.300000</td>\n",
       "      <td>4</td>\n",
       "      <td>False</td>\n",
       "      <td>...</td>\n",
       "      <td>2.0</td>\n",
       "      <td>574.0</td>\n",
       "      <td>558.0</td>\n",
       "      <td>92785.71</td>\n",
       "      <td>Thursday</td>\n",
       "      <td>August</td>\n",
       "      <td>2015</td>\n",
       "      <td>другой</td>\n",
       "      <td>22.0</td>\n",
       "      <td>14.0</td>\n",
       "    </tr>\n",
       "    <tr>\n",
       "      <th>3</th>\n",
       "      <td>0</td>\n",
       "      <td>64900000.0</td>\n",
       "      <td>159.0</td>\n",
       "      <td>2015-07-24</td>\n",
       "      <td>3</td>\n",
       "      <td>NaN</td>\n",
       "      <td>14.0</td>\n",
       "      <td>90.785766</td>\n",
       "      <td>9</td>\n",
       "      <td>False</td>\n",
       "      <td>...</td>\n",
       "      <td>3.0</td>\n",
       "      <td>234.0</td>\n",
       "      <td>424.0</td>\n",
       "      <td>408176.10</td>\n",
       "      <td>Friday</td>\n",
       "      <td>July</td>\n",
       "      <td>2015</td>\n",
       "      <td>другой</td>\n",
       "      <td>28.0</td>\n",
       "      <td>7.0</td>\n",
       "    </tr>\n",
       "    <tr>\n",
       "      <th>4</th>\n",
       "      <td>2</td>\n",
       "      <td>10000000.0</td>\n",
       "      <td>100.0</td>\n",
       "      <td>2018-06-19</td>\n",
       "      <td>2</td>\n",
       "      <td>3.03</td>\n",
       "      <td>14.0</td>\n",
       "      <td>32.000000</td>\n",
       "      <td>13</td>\n",
       "      <td>False</td>\n",
       "      <td>...</td>\n",
       "      <td>1.0</td>\n",
       "      <td>48.0</td>\n",
       "      <td>121.0</td>\n",
       "      <td>100000.00</td>\n",
       "      <td>Tuesday</td>\n",
       "      <td>June</td>\n",
       "      <td>2018</td>\n",
       "      <td>другой</td>\n",
       "      <td>32.0</td>\n",
       "      <td>8.0</td>\n",
       "    </tr>\n",
       "  </tbody>\n",
       "</table>\n",
       "<p>5 rows × 27 columns</p>\n",
       "</div>"
      ],
      "text/plain": [
       "   total_images  last_price  total_area first_day_exposition  rooms  \\\n",
       "0            20  13000000.0       108.0           2019-03-07      3   \n",
       "1             7   3350000.0        40.4           2018-12-04      1   \n",
       "2            10   5196000.0        56.0           2015-08-20      2   \n",
       "3             0  64900000.0       159.0           2015-07-24      3   \n",
       "4             2  10000000.0       100.0           2018-06-19      2   \n",
       "\n",
       "   ceiling_height  floors_total  living_area  floor  is_apartment  ...  \\\n",
       "0            2.70          16.0    51.000000      8         False  ...   \n",
       "1             NaN          11.0    18.600000      1         False  ...   \n",
       "2             NaN           5.0    34.300000      4         False  ...   \n",
       "3             NaN          14.0    90.785766      9         False  ...   \n",
       "4            3.03          14.0    32.000000     13         False  ...   \n",
       "\n",
       "   ponds_around_3km  ponds_nearest  days_exposition  price_per_meter  \\\n",
       "0               2.0          755.0              NaN        120370.37   \n",
       "1               0.0            NaN             81.0         82920.79   \n",
       "2               2.0          574.0            558.0         92785.71   \n",
       "3               3.0          234.0            424.0        408176.10   \n",
       "4               1.0           48.0            121.0        100000.00   \n",
       "\n",
       "  day_of_week_exposition  month_exposition  year_exposition  floor_status  \\\n",
       "0               Thursday             March             2019        другой   \n",
       "1                Tuesday          December             2018        первый   \n",
       "2               Thursday            August             2015        другой   \n",
       "3                 Friday              July             2015        другой   \n",
       "4                Tuesday              June             2018        другой   \n",
       "\n",
       "   airports_nearest_km  city_centers_nearest_km  \n",
       "0                 19.0                     16.0  \n",
       "1                 13.0                     19.0  \n",
       "2                 22.0                     14.0  \n",
       "3                 28.0                      7.0  \n",
       "4                 32.0                      8.0  \n",
       "\n",
       "[5 rows x 27 columns]"
      ]
     },
     "execution_count": 32,
     "metadata": {},
     "output_type": "execute_result"
    }
   ],
   "source": [
    "#проверим внесенные изменения\n",
    "data.head()"
   ]
  },
  {
   "cell_type": "markdown",
   "id": "94528d2b",
   "metadata": {},
   "source": [
    "<div class=\"alert alert-info\" role=\"alert\"><p><h2>Вывод:</h2>\n",
    "<br> В данные добавлены новые столбцы: цена квадратного метра, тип этажа квартиры, день, месяц и год публикации, расстояние до ближайшего аэропорта и центра города в км. В таблице были удалены столбцы, где были указаны расстояния до ближайшего аэропорта и центра города переведем в метрах. </p></div> "
   ]
  },
  {
   "cell_type": "markdown",
   "id": "1fae6893",
   "metadata": {},
   "source": [
    "<div class=\"alert alert-info\" role=\"alert\"><a name=\"Исследовательский_анализ_данных\"><h3>Исследовательский анализ данных</h3></a></div>"
   ]
  },
  {
   "cell_type": "markdown",
   "id": "d305b697",
   "metadata": {},
   "source": [
    "<div class=\"alert alert-info\" role=\"alert\"><p>\n",
    "Изучим общую площадь квартир</p></div> "
   ]
  },
  {
   "cell_type": "code",
   "execution_count": 33,
   "id": "0f95b1f4",
   "metadata": {},
   "outputs": [
    {
     "data": {
      "text/plain": [
       "count    23628.000000\n",
       "mean        60.338851\n",
       "std         35.672416\n",
       "min         12.000000\n",
       "25%         40.000000\n",
       "50%         52.000000\n",
       "75%         69.762500\n",
       "max        900.000000\n",
       "Name: total_area, dtype: float64"
      ]
     },
     "execution_count": 33,
     "metadata": {},
     "output_type": "execute_result"
    }
   ],
   "source": [
    "data['total_area'].describe()"
   ]
  },
  {
   "cell_type": "code",
   "execution_count": 34,
   "id": "75dea4ba",
   "metadata": {},
   "outputs": [
    {
     "data": {
      "image/png": "[encoded data removed]",
      "text/plain": [
       "<Figure size 432x288 with 1 Axes>"
      ]
     },
     "metadata": {
      "needs_background": "light"
     },
     "output_type": "display_data"
    },
    {
     "data": {
      "image/png": "[encoded data removed]",
      "text/plain": [
       "<Figure size 432x288 with 1 Axes>"
      ]
     },
     "metadata": {
      "needs_background": "light"
     },
     "output_type": "display_data"
    }
   ],
   "source": [
    "sns.histplot(data['total_area'])\n",
    "plt.xlim(0, 300)\n",
    "plt.title('Рис. 1 Гистограмма общей площади квартир')\n",
    "plt.xlabel('Общая площадь, кв.м')\n",
    "plt.ylabel('Частота')\n",
    "plt.show()\n",
    "sns.boxplot(x=data['total_area']).set_xlim([0, 200]) \n",
    "plt.xlim(0, 150)\n",
    "plt.title('Рис. 2 Диаграмма размаха общей площади квартир')\n",
    "plt.xlabel('Общая площадь, кв.м')\n",
    "plt.ylabel('Частота')\n",
    "plt.show()"
   ]
  },
  {
   "cell_type": "markdown",
   "id": "8e8dc9b5",
   "metadata": {},
   "source": [
    "<div class=\"alert alert-info\" role=\"alert\"><p>\n",
    "Общая площадь в нашей выборке колеблется от 12 до 900 кв.м., среднее значение 60 кв.м., а медиана 52 кв.м. Распределение данных нормальное, есть выбросы, но они не сильно влияют на данные</p></div> "
   ]
  },
  {
   "cell_type": "markdown",
   "id": "601d3cb0",
   "metadata": {},
   "source": [
    "<p>\n",
    "<div class=\"alert-success\">\n",
    "<b>Комментарий ревьюера ✔️</b>\n",
    "\n",
    "    \n",
    "👍</div>"
   ]
  },
  {
   "cell_type": "markdown",
   "id": "5cfb8f7e",
   "metadata": {},
   "source": [
    "<div class=\"alert alert-info\" role=\"alert\"><p>\n",
    "Изучим жилую площадь квартир</p></div> "
   ]
  },
  {
   "cell_type": "code",
   "execution_count": 35,
   "id": "8a331fa0",
   "metadata": {},
   "outputs": [
    {
     "data": {
      "text/plain": [
       "count    23628.000000\n",
       "mean        34.587394\n",
       "std         22.366071\n",
       "min          2.000000\n",
       "25%         19.000000\n",
       "50%         30.000000\n",
       "75%         42.100000\n",
       "max        409.700000\n",
       "Name: living_area, dtype: float64"
      ]
     },
     "execution_count": 35,
     "metadata": {},
     "output_type": "execute_result"
    }
   ],
   "source": [
    "data['living_area'].describe()"
   ]
  },
  {
   "cell_type": "code",
   "execution_count": 36,
   "id": "05951360",
   "metadata": {},
   "outputs": [
    {
     "data": {
      "image/png": "[encoded data removed]",
      "text/plain": [
       "<Figure size 432x288 with 1 Axes>"
      ]
     },
     "metadata": {
      "needs_background": "light"
     },
     "output_type": "display_data"
    },
    {
     "data": {
      "image/png": "[encoded data removed]",
      "text/plain": [
       "<Figure size 432x288 with 1 Axes>"
      ]
     },
     "metadata": {
      "needs_background": "light"
     },
     "output_type": "display_data"
    }
   ],
   "source": [
    "sns.histplot(data['living_area'])\n",
    "plt.xlim(0, 250)\n",
    "plt.title('Рис. 3 Гистограмма жилой площади квартир')\n",
    "plt.xlabel('Жилая площадь, кв.м')\n",
    "plt.ylabel('Частота')\n",
    "plt.show()\n",
    "sns.boxplot(x=data['living_area']).set_xlim([0, 200]) \n",
    "plt.xlim(0, 250)\n",
    "plt.title('Рис. 4 Диаграмма размаха жилой площади квартир')\n",
    "plt.xlabel('Жилая площадь, кв.м')\n",
    "plt.ylabel('Частота')\n",
    "plt.show()"
   ]
  },
  {
   "cell_type": "markdown",
   "id": "3d817c96",
   "metadata": {},
   "source": [
    "<div class=\"alert alert-info\" role=\"alert\"><p>\n",
    "Жилая площадь варируется от 2 до 409 кв.м., среднее значение 34 кв.м., а медиана 30 кв.м. Распределение данных нормальное, также наблюдаются выбросы, но они не сильно влияют на данные</p></div> "
   ]
  },
  {
   "cell_type": "markdown",
   "id": "c34c5ffe",
   "metadata": {},
   "source": [
    "<div class=\"alert alert-info\" role=\"alert\"><p>\n",
    "Изучим площадь кухни</p></div>"
   ]
  },
  {
   "cell_type": "code",
   "execution_count": 37,
   "id": "fe5a9ad6",
   "metadata": {},
   "outputs": [
    {
     "data": {
      "text/plain": [
       "count    21362.00000\n",
       "mean        10.56756\n",
       "std          5.89973\n",
       "min          1.30000\n",
       "25%          7.00000\n",
       "50%          9.10000\n",
       "75%         12.00000\n",
       "max        112.00000\n",
       "Name: kitchen_area, dtype: float64"
      ]
     },
     "execution_count": 37,
     "metadata": {},
     "output_type": "execute_result"
    }
   ],
   "source": [
    "data['kitchen_area'].describe()"
   ]
  },
  {
   "cell_type": "code",
   "execution_count": 38,
   "id": "c5350f0e",
   "metadata": {},
   "outputs": [
    {
     "data": {
      "image/png": "[encoded data removed]",
      "text/plain": [
       "<Figure size 432x288 with 1 Axes>"
      ]
     },
     "metadata": {
      "needs_background": "light"
     },
     "output_type": "display_data"
    },
    {
     "data": {
      "image/png": "[encoded data removed]",
      "text/plain": [
       "<Figure size 432x288 with 1 Axes>"
      ]
     },
     "metadata": {
      "needs_background": "light"
     },
     "output_type": "display_data"
    }
   ],
   "source": [
    "sns.histplot(data['kitchen_area'])\n",
    "plt.xlim(0, 80)\n",
    "plt.title('Рис. 5 Гистограмма площади кухни')\n",
    "plt.xlabel('Площадь кухни, кв.м')\n",
    "plt.ylabel('Частота')\n",
    "plt.show()\n",
    "sns.boxplot(x=data['kitchen_area']).set_xlim([0, 200]) \n",
    "plt.xlim(0, 30)\n",
    "plt.title('Рис. 6 Диаграмма размаха площади кухни')\n",
    "plt.xlabel('Площадь кухни, кв.м')\n",
    "plt.ylabel('Частота')\n",
    "plt.show()"
   ]
  },
  {
   "cell_type": "markdown",
   "id": "6f6ba33d",
   "metadata": {},
   "source": [
    "<div class=\"alert alert-info\" role=\"alert\"><p>\n",
    "Площадь кухни встречается от 1 до 112 кв.м., среднее значение 10 кв.м., а медиана 9 кв.м. Распределение данных нормальное, наблюдаются выбросы, но они не сильно влияют на данные</p></div> "
   ]
  },
  {
   "cell_type": "markdown",
   "id": "61cd6f8b",
   "metadata": {},
   "source": [
    "<div class=\"alert alert-info\" role=\"alert\"><p>\n",
    "Изучим цену объекта</p></div>"
   ]
  },
  {
   "cell_type": "code",
   "execution_count": 39,
   "id": "a4db8aab",
   "metadata": {},
   "outputs": [
    {
     "data": {
      "text/plain": [
       "count    2.362800e+04\n",
       "mean     6.544497e+06\n",
       "std      1.090067e+07\n",
       "min      4.300000e+05\n",
       "25%      3.414500e+06\n",
       "50%      4.650000e+06\n",
       "75%      6.800000e+06\n",
       "max      7.630000e+08\n",
       "Name: last_price, dtype: float64"
      ]
     },
     "execution_count": 39,
     "metadata": {},
     "output_type": "execute_result"
    }
   ],
   "source": [
    "data['last_price'].describe()"
   ]
  },
  {
   "cell_type": "code",
   "execution_count": 40,
   "id": "44c8725f",
   "metadata": {
    "scrolled": true
   },
   "outputs": [
    {
     "data": {
      "image/png": "[encoded data removed]",
      "text/plain": [
       "<Figure size 432x288 with 1 Axes>"
      ]
     },
     "metadata": {
      "needs_background": "light"
     },
     "output_type": "display_data"
    },
    {
     "data": {
      "image/png": "[encoded data removed]",
      "text/plain": [
       "<Figure size 432x288 with 1 Axes>"
      ]
     },
     "metadata": {
      "needs_background": "light"
     },
     "output_type": "display_data"
    }
   ],
   "source": [
    "sns.histplot(data['last_price'])\n",
    "plt.xlim(0, 13000000)\n",
    "plt.title('Рис. 7 Гистограмма цены объекта')\n",
    "plt.xlabel('Цена объекта, руб.')\n",
    "plt.ylabel('Частота')\n",
    "plt.show()\n",
    "sns.boxplot(x=data['last_price']).set_xlim([0, 200]) \n",
    "plt.xlim(0, 13000000)\n",
    "plt.title('Рис. 8 Диаграмма размаха цены объекта')\n",
    "plt.xlabel('Цена объекта, руб.')\n",
    "plt.ylabel('Частота')\n",
    "plt.show()"
   ]
  },
  {
   "cell_type": "markdown",
   "id": "615d2cf9",
   "metadata": {},
   "source": [
    "<div class=\"alert alert-info\" role=\"alert\"><p>\n",
    "Цена квартиры изменяется от 12190 до 763000000, среднее значение 6541126, а медиана 4650000. Распределение данных нормальное, наблюдаются выбросы, но они не сильно влияют на данные</p></div> "
   ]
  },
  {
   "cell_type": "markdown",
   "id": "ffae3070",
   "metadata": {},
   "source": [
    "<div class=\"alert alert-info\" role=\"alert\"><p>\n",
    "Изучим количество комнат</p></div>"
   ]
  },
  {
   "cell_type": "code",
   "execution_count": 41,
   "id": "3d89275a",
   "metadata": {},
   "outputs": [
    {
     "data": {
      "text/plain": [
       "count    23628.000000\n",
       "mean         2.070256\n",
       "std          1.078840\n",
       "min          0.000000\n",
       "25%          1.000000\n",
       "50%          2.000000\n",
       "75%          3.000000\n",
       "max         19.000000\n",
       "Name: rooms, dtype: float64"
      ]
     },
     "execution_count": 41,
     "metadata": {},
     "output_type": "execute_result"
    }
   ],
   "source": [
    "data['rooms'].describe()"
   ]
  },
  {
   "cell_type": "code",
   "execution_count": 42,
   "id": "663b0da0",
   "metadata": {},
   "outputs": [
    {
     "data": {
      "image/png": "[encoded data removed]",
      "text/plain": [
       "<Figure size 432x288 with 1 Axes>"
      ]
     },
     "metadata": {
      "needs_background": "light"
     },
     "output_type": "display_data"
    },
    {
     "data": {
      "image/png": "[encoded data removed]",
      "text/plain": [
       "<Figure size 432x288 with 1 Axes>"
      ]
     },
     "metadata": {
      "needs_background": "light"
     },
     "output_type": "display_data"
    }
   ],
   "source": [
    "sns.histplot(data['rooms'])\n",
    "plt.xlim(0, 10)\n",
    "plt.title('Рис. 9 Гистограмма количество комнат')\n",
    "plt.xlabel('Количество комнат')\n",
    "plt.ylabel('Частота')\n",
    "plt.show()\n",
    "sns.boxplot(x=data['rooms']) \n",
    "plt.xlim(0, 15)\n",
    "plt.title('Рис. 10 Диаграмма размаха количество комнат')\n",
    "plt.xlabel('Количество комнат')\n",
    "plt.ylabel('Частота')\n",
    "plt.show()"
   ]
  },
  {
   "cell_type": "markdown",
   "id": "fe9bfca4",
   "metadata": {},
   "source": [
    "<div class=\"alert alert-info\" role=\"alert\"><p>\n",
    "Максимальное количество комнат в квартире равно 19. Среднее значение и медиана равна 2. Распределение данных нормальное, наблюдаются выбросы, но они не сильно влияют на данные</p></div> "
   ]
  },
  {
   "cell_type": "markdown",
   "id": "0d4efc6f",
   "metadata": {},
   "source": [
    "<div class=\"alert alert-info\" role=\"alert\"><p>\n",
    "Изучим высоту потолков</p></div>"
   ]
  },
  {
   "cell_type": "code",
   "execution_count": 43,
   "id": "116a7752",
   "metadata": {},
   "outputs": [
    {
     "data": {
      "text/plain": [
       "count    14468.000000\n",
       "mean         2.731661\n",
       "std          0.349282\n",
       "min          2.260000\n",
       "25%          2.520000\n",
       "50%          2.650000\n",
       "75%          2.800000\n",
       "max         20.000000\n",
       "Name: ceiling_height, dtype: float64"
      ]
     },
     "execution_count": 43,
     "metadata": {},
     "output_type": "execute_result"
    }
   ],
   "source": [
    "data['ceiling_height'].describe()"
   ]
  },
  {
   "cell_type": "code",
   "execution_count": 44,
   "id": "9519490a",
   "metadata": {},
   "outputs": [
    {
     "data": {
      "image/png": "[encoded data removed]",
      "text/plain": [
       "<Figure size 432x288 with 1 Axes>"
      ]
     },
     "metadata": {
      "needs_background": "light"
     },
     "output_type": "display_data"
    },
    {
     "data": {
      "image/png": "[encoded data removed]",
      "text/plain": [
       "<Figure size 432x288 with 1 Axes>"
      ]
     },
     "metadata": {
      "needs_background": "light"
     },
     "output_type": "display_data"
    }
   ],
   "source": [
    "sns.histplot(data['ceiling_height'])\n",
    "plt.xlim(2, 5)\n",
    "plt.title('Рис. 11 Гистограмма высоты потолков')\n",
    "plt.xlabel('Высота потолков, м')\n",
    "plt.ylabel('Частота')\n",
    "plt.show()\n",
    "sns.boxplot(x=data['ceiling_height']) \n",
    "plt.xlim(2,5)\n",
    "plt.title('Рис. 12 Диаграмма размаха высоты потолков')\n",
    "plt.xlabel('Высота потолков, м')\n",
    "plt.ylabel('Частота')\n",
    "plt.show()"
   ]
  },
  {
   "cell_type": "markdown",
   "id": "1c22203b",
   "metadata": {},
   "source": [
    "<div class=\"alert alert-info\" role=\"alert\"><p>\n",
    "Высота потолков достигает 20 м. Среднее значение и медиана равна 2.7 м. Распределение данных нормальное, наблюдаются выбросы, но они не сильно влияют на данные</p></div> "
   ]
  },
  {
   "cell_type": "markdown",
   "id": "b7e63818",
   "metadata": {},
   "source": [
    "<div class=\"alert alert-info\" role=\"alert\"><p>\n",
    "Изучим этаж квартиры</p></div>"
   ]
  },
  {
   "cell_type": "code",
   "execution_count": 45,
   "id": "c3d04ba8",
   "metadata": {},
   "outputs": [
    {
     "data": {
      "text/plain": [
       "count    23628.000000\n",
       "mean         5.893770\n",
       "std          4.882838\n",
       "min          1.000000\n",
       "25%          2.000000\n",
       "50%          4.000000\n",
       "75%          8.000000\n",
       "max         33.000000\n",
       "Name: floor, dtype: float64"
      ]
     },
     "execution_count": 45,
     "metadata": {},
     "output_type": "execute_result"
    }
   ],
   "source": [
    "data['floor'].describe()"
   ]
  },
  {
   "cell_type": "code",
   "execution_count": 46,
   "id": "56e9a21c",
   "metadata": {},
   "outputs": [
    {
     "data": {
      "image/png": "[encoded data removed]",
      "text/plain": [
       "<Figure size 432x288 with 1 Axes>"
      ]
     },
     "metadata": {
      "needs_background": "light"
     },
     "output_type": "display_data"
    },
    {
     "data": {
      "image/png": "[encoded data removed]",
      "text/plain": [
       "<Figure size 432x288 with 1 Axes>"
      ]
     },
     "metadata": {
      "needs_background": "light"
     },
     "output_type": "display_data"
    }
   ],
   "source": [
    "sns.histplot(data['floor'])\n",
    "plt.xlim(1, 20)\n",
    "plt.title('Рис. 13 Гистограмма этажа квартиры')\n",
    "plt.xlabel('Этаж квартиры')\n",
    "plt.ylabel('Частота')\n",
    "plt.show()\n",
    "sns.boxplot(x=data['floor']) \n",
    "plt.xlim(1, 20)\n",
    "plt.title('Рис. 14 Диаграмма размаха этажа квартиры')\n",
    "plt.xlabel('Этаж квартиры')\n",
    "plt.ylabel('Частота')\n",
    "plt.show()"
   ]
  },
  {
   "cell_type": "markdown",
   "id": "caa0cc0f",
   "metadata": {},
   "source": [
    "<div class=\"alert alert-info\" role=\"alert\"><p>\n",
    "Максимальный этаж квартиры равняется 33. Среднее значение равно 5, а медиана равна 4. Распределение данных нормальное, наблюдаются выбросы, но они не сильно влияют на данные</p></div> "
   ]
  },
  {
   "cell_type": "code",
   "execution_count": 47,
   "id": "d051ccee",
   "metadata": {},
   "outputs": [
    {
     "data": {
      "image/png": "[encoded data removed]",
      "text/plain": [
       "<Figure size 432x288 with 1 Axes>"
      ]
     },
     "metadata": {},
     "output_type": "display_data"
    }
   ],
   "source": [
    "counts = [i for i in data['floor_status'].value_counts()]\n",
    "status = [i for i in data['floor_status'].unique()]\n",
    "\n",
    "colors = sns.color_palette('pastel')[ 0:7 ]\n",
    "\n",
    "\n",
    "plt.pie(counts, labels = status, colors = colors, autopct='%.0f%%')\n",
    "plt.show()"
   ]
  },
  {
   "cell_type": "markdown",
   "id": "829e242c",
   "metadata": {},
   "source": [
    "<div class=\"alert alert-info\" role=\"alert\"><p>\n",
    "Больше всего квартир продают не на первом и последних этажах. Меньше всего продают квартир на последнем этаже.</p></div> "
   ]
  },
  {
   "cell_type": "markdown",
   "id": "562bae2c",
   "metadata": {},
   "source": [
    "<div class=\"alert alert-info\" role=\"alert\"><p>\n",
    "Изучим количество этажей в доме</p></div>"
   ]
  },
  {
   "cell_type": "code",
   "execution_count": 48,
   "id": "ec310906",
   "metadata": {},
   "outputs": [
    {
     "data": {
      "text/plain": [
       "2018    8501\n",
       "2017    8179\n",
       "2019    2877\n",
       "2016    2762\n",
       "2015    1173\n",
       "2014     136\n",
       "Name: year_exposition, dtype: int64"
      ]
     },
     "execution_count": 48,
     "metadata": {},
     "output_type": "execute_result"
    }
   ],
   "source": [
    "data['year_exposition'].value_counts()"
   ]
  },
  {
   "cell_type": "code",
   "execution_count": 49,
   "id": "08aaa921",
   "metadata": {},
   "outputs": [
    {
     "data": {
      "text/plain": [
       "count    23543.000000\n",
       "mean        10.677101\n",
       "std          6.592658\n",
       "min          1.000000\n",
       "25%          5.000000\n",
       "50%          9.000000\n",
       "75%         16.000000\n",
       "max         60.000000\n",
       "Name: floors_total, dtype: float64"
      ]
     },
     "execution_count": 49,
     "metadata": {},
     "output_type": "execute_result"
    }
   ],
   "source": [
    "data['floors_total'].describe()"
   ]
  },
  {
   "cell_type": "code",
   "execution_count": 50,
   "id": "0a6bbbfb",
   "metadata": {
    "scrolled": false
   },
   "outputs": [
    {
     "data": {
      "image/png": "[encoded data removed]",
      "text/plain": [
       "<Figure size 432x288 with 1 Axes>"
      ]
     },
     "metadata": {
      "needs_background": "light"
     },
     "output_type": "display_data"
    },
    {
     "data": {
      "image/png": "[encoded data removed]",
      "text/plain": [
       "<Figure size 432x288 with 1 Axes>"
      ]
     },
     "metadata": {
      "needs_background": "light"
     },
     "output_type": "display_data"
    }
   ],
   "source": [
    "sns.histplot(data['floors_total'])\n",
    "plt.xlim(1, 40)\n",
    "plt.title('Рис. 15 Гистограмма общего количество этажей в доме')\n",
    "plt.xlabel('Общее количество этажей в доме')\n",
    "plt.ylabel('Частота')\n",
    "plt.show()\n",
    "sns.boxplot(x=data['floors_total']) \n",
    "plt.xlim(1, 40)\n",
    "plt.title('Рис. 16 Диаграмма размаха общего количество этажей в доме')\n",
    "plt.xlabel('Общее количество этажей в доме')\n",
    "plt.ylabel('Частота')\n",
    "plt.show()"
   ]
  },
  {
   "cell_type": "markdown",
   "id": "2088cced",
   "metadata": {},
   "source": [
    "<div class=\"alert alert-info\" role=\"alert\"><p> 60-этажный жилой дом является самым высоким жилым домом, выставленным на продажу квартир в Санкт-Петербурге и соседних населённых пунктах с 2014 по 2019 года. Распределение данных нормальное, наблюдаются выбросы, но они не сильно влияют на данные</p></div> "
   ]
  },
  {
   "cell_type": "markdown",
   "id": "c508e74f",
   "metadata": {},
   "source": [
    "<div class=\"alert alert-info\" role=\"alert\"><p>\n",
    "Изучим расстояние до центра города</p></div>"
   ]
  },
  {
   "cell_type": "code",
   "execution_count": 51,
   "id": "38fb1311",
   "metadata": {},
   "outputs": [
    {
     "data": {
      "text/plain": [
       "count    18132.000000\n",
       "mean        14.191264\n",
       "std          8.615448\n",
       "min          0.000000\n",
       "25%          9.000000\n",
       "50%         13.000000\n",
       "75%         16.000000\n",
       "max         66.000000\n",
       "Name: city_centers_nearest_km, dtype: float64"
      ]
     },
     "execution_count": 51,
     "metadata": {},
     "output_type": "execute_result"
    }
   ],
   "source": [
    "data['city_centers_nearest_km'].describe()"
   ]
  },
  {
   "cell_type": "code",
   "execution_count": 52,
   "id": "334b0f54",
   "metadata": {
    "scrolled": true
   },
   "outputs": [
    {
     "data": {
      "image/png": "[encoded data removed]",
      "text/plain": [
       "<Figure size 432x288 with 1 Axes>"
      ]
     },
     "metadata": {
      "needs_background": "light"
     },
     "output_type": "display_data"
    },
    {
     "data": {
      "image/png": "[encoded data removed]",
      "text/plain": [
       "<Figure size 432x288 with 1 Axes>"
      ]
     },
     "metadata": {
      "needs_background": "light"
     },
     "output_type": "display_data"
    }
   ],
   "source": [
    "sns.histplot(data['city_centers_nearest_km'])\n",
    "plt.xlim(0, 40)\n",
    "plt.title('Рис. 17 Гистограмма расстояния до центра города')\n",
    "plt.xlabel('Расстояние до центра города, км')\n",
    "plt.ylabel('Частота')\n",
    "plt.show()\n",
    "sns.boxplot(x=data['city_centers_nearest_km']) \n",
    "plt.xlim(0, 40)\n",
    "plt.title('Рис. 18 Диаграмма размаха расстояния до центра города')\n",
    "plt.xlabel('Расстояние до центра города, км')\n",
    "plt.ylabel('Частота')\n",
    "plt.show()"
   ]
  },
  {
   "cell_type": "markdown",
   "id": "78cfbaf8",
   "metadata": {},
   "source": [
    "<div class=\"alert alert-info\" role=\"alert\"><p>\n",
    "Максимальное расстояние до центра города составляет 66 км. Среднее расстояние и медиана равняется 14 км и 13 км соотвественно.   Распределение данных нормальное, наблюдаются выбросы, но они не сильно влияют на данные</p></div> "
   ]
  },
  {
   "cell_type": "markdown",
   "id": "7bff984b",
   "metadata": {},
   "source": [
    "<div class=\"alert alert-info\" role=\"alert\"><p>\n",
    "Изучим расстояние до ближайшего аэропорта</p></div>"
   ]
  },
  {
   "cell_type": "code",
   "execution_count": 53,
   "id": "dcc96a3a",
   "metadata": {},
   "outputs": [
    {
     "data": {
      "text/plain": [
       "count    18109.000000\n",
       "mean        28.807444\n",
       "std         12.640877\n",
       "min          0.000000\n",
       "25%         19.000000\n",
       "50%         27.000000\n",
       "75%         37.000000\n",
       "max         85.000000\n",
       "Name: airports_nearest_km, dtype: float64"
      ]
     },
     "execution_count": 53,
     "metadata": {},
     "output_type": "execute_result"
    }
   ],
   "source": [
    "data['airports_nearest_km'].describe()"
   ]
  },
  {
   "cell_type": "code",
   "execution_count": 54,
   "id": "f43c2cc8",
   "metadata": {},
   "outputs": [
    {
     "data": {
      "image/png": "[encoded data removed]",
      "text/plain": [
       "<Figure size 432x288 with 1 Axes>"
      ]
     },
     "metadata": {
      "needs_background": "light"
     },
     "output_type": "display_data"
    },
    {
     "data": {
      "image/png": "[encoded data removed]",
      "text/plain": [
       "<Figure size 432x288 with 1 Axes>"
      ]
     },
     "metadata": {
      "needs_background": "light"
     },
     "output_type": "display_data"
    }
   ],
   "source": [
    "sns.histplot(data['airports_nearest_km'])\n",
    "plt.xlim(0, 90)\n",
    "plt.title('Рис. 19 Гистограмма расстояния до ближайшего аэропорта')\n",
    "plt.xlabel('Расстояние до ближайшего аэропорта, м')\n",
    "plt.ylabel('Частота')\n",
    "plt.show()\n",
    "sns.boxplot(x=data['airports_nearest_km']) \n",
    "plt.xlim(0, 90)\n",
    "plt.title('Рис. 20 Диаграмма размаха расстояния до ближайшего аэропорта')\n",
    "plt.xlabel('Расстояние до ближайшего аэропорта, м')\n",
    "plt.ylabel('Частота')\n",
    "plt.show()"
   ]
  },
  {
   "cell_type": "markdown",
   "id": "4ef27125",
   "metadata": {},
   "source": [
    "<div class=\"alert alert-info\" role=\"alert\"><p>\n",
    "Максимальное расстояние до ближайшего аэропорта составляет 85 км. Среднее расстояние и медиана равняется 28 км и 27 км соотвественно. Распределение данных нормальное, наблюдаются выбросы, но они не сильно влияют на данные</p></div> "
   ]
  },
  {
   "cell_type": "markdown",
   "id": "f4be00e5",
   "metadata": {},
   "source": [
    "<div class=\"alert alert-info\" role=\"alert\"><p>\n",
    "Изучим расстояние до ближайшего парка</p></div>"
   ]
  },
  {
   "cell_type": "code",
   "execution_count": 55,
   "id": "2f749e0c",
   "metadata": {},
   "outputs": [
    {
     "data": {
      "text/plain": [
       "count    8059.000000\n",
       "mean      490.803325\n",
       "std       342.634452\n",
       "min         1.000000\n",
       "25%       287.500000\n",
       "50%       454.000000\n",
       "75%       612.000000\n",
       "max      3190.000000\n",
       "Name: parks_nearest, dtype: float64"
      ]
     },
     "execution_count": 55,
     "metadata": {},
     "output_type": "execute_result"
    }
   ],
   "source": [
    "data['parks_nearest'].describe()"
   ]
  },
  {
   "cell_type": "code",
   "execution_count": 56,
   "id": "7facbe7a",
   "metadata": {},
   "outputs": [
    {
     "data": {
      "image/png": "[encoded data removed]",
      "text/plain": [
       "<Figure size 432x288 with 1 Axes>"
      ]
     },
     "metadata": {
      "needs_background": "light"
     },
     "output_type": "display_data"
    },
    {
     "data": {
      "image/png": "[encoded data removed]",
      "text/plain": [
       "<Figure size 432x288 with 1 Axes>"
      ]
     },
     "metadata": {
      "needs_background": "light"
     },
     "output_type": "display_data"
    }
   ],
   "source": [
    "sns.histplot(data['parks_nearest'])\n",
    "plt.xlim(1, 3190)\n",
    "plt.title('Рис. 21 Гистограмма расстояния до ближайшего парка')\n",
    "plt.xlabel('Расстояние до ближайшего парка, м')\n",
    "plt.ylabel('Частота')\n",
    "plt.show()\n",
    "sns.boxplot(x=data['parks_nearest']) \n",
    "plt.xlim(1, 2000)\n",
    "plt.title('Рис. 22 Диаграмма размаха расстояния до ближайшего парка')\n",
    "plt.xlabel('Расстояние до ближайшего парка, м')\n",
    "plt.ylabel('Частота')\n",
    "plt.show()"
   ]
  },
  {
   "cell_type": "markdown",
   "id": "4155bcd4",
   "metadata": {},
   "source": [
    "<div class=\"alert alert-info\" role=\"alert\"><p>\n",
    "Максимальное расстояние до ближайшего парка составляет 3 км. Среднее расстояние и медиана равняется 490 м и 454 м соотвественно. Распределение данных нормальное, наблюдаются выбросы, но они не сильно влияют на данные</p></div>"
   ]
  },
  {
   "cell_type": "markdown",
   "id": "e36b8e69",
   "metadata": {},
   "source": [
    "<div class=\"alert alert-info\" role=\"alert\"><p>\n",
    "Изучим день публикации объявления</p></div>"
   ]
  },
  {
   "cell_type": "code",
   "execution_count": 57,
   "id": "8c57f1f8",
   "metadata": {},
   "outputs": [
    {
     "data": {
      "image/png": "[encoded data removed]",
      "text/plain": [
       "<Figure size 432x288 with 1 Axes>"
      ]
     },
     "metadata": {},
     "output_type": "display_data"
    }
   ],
   "source": [
    "counts = [i for i in data['day_of_week_exposition'].value_counts()]\n",
    "day_week = [i for i in data['day_of_week_exposition'].unique()]\n",
    "\n",
    "colors = sns.color_palette('pastel')[ 0:7 ]\n",
    "\n",
    "\n",
    "plt.pie(counts, labels = day_week, colors = colors, autopct='%.0f%%')\n",
    "plt.show()"
   ]
  },
  {
   "cell_type": "markdown",
   "id": "3bd4fbc3",
   "metadata": {},
   "source": [
    "<div class=\"alert alert-info\" role=\"alert\"><p>\n",
    "Больше всего выкладывают объявления о продаже в будние дни, а особенно во вторник и четверг. В выходные дни выкладывают объявлений меньше.</p></div>"
   ]
  },
  {
   "cell_type": "markdown",
   "id": "72387db3",
   "metadata": {},
   "source": [
    "<div class=\"alert alert-info\" role=\"alert\"><p>\n",
    "Изучим месяц публикации объявления</p></div>"
   ]
  },
  {
   "cell_type": "code",
   "execution_count": 58,
   "id": "32525aec",
   "metadata": {},
   "outputs": [
    {
     "data": {
      "image/png": "[encoded data removed]",
      "text/plain": [
       "<Figure size 432x288 with 1 Axes>"
      ]
     },
     "metadata": {},
     "output_type": "display_data"
    }
   ],
   "source": [
    "counts = [i for i in data['month_exposition'].value_counts()]\n",
    "day_week = [i for i in data['month_exposition'].unique()]\n",
    "\n",
    "colors = sns.color_palette('pastel')[ 0:7 ]\n",
    "\n",
    "\n",
    "plt.pie(counts, labels = day_week, colors = colors, autopct='%.0f%%')\n",
    "plt.show()"
   ]
  },
  {
   "cell_type": "markdown",
   "id": "67d4c767",
   "metadata": {},
   "source": [
    "<div class=\"alert alert-info\" role=\"alert\"><p>\n",
    "Большинство объявлений о продаже выкладывают в декабре и марте. В январе и октябре наблюдаются меньше объявлений. </p></div>"
   ]
  },
  {
   "cell_type": "markdown",
   "id": "9318003e",
   "metadata": {},
   "source": [
    "<div class=\"alert alert-info\" role=\"alert\"><p>\n",
    "Изучим размещение объявления</p></div>"
   ]
  },
  {
   "cell_type": "code",
   "execution_count": 59,
   "id": "809558f2",
   "metadata": {},
   "outputs": [
    {
     "data": {
      "text/plain": [
       "count    20451.000000\n",
       "mean       180.814386\n",
       "std        219.846305\n",
       "min          1.000000\n",
       "25%         45.000000\n",
       "50%         95.000000\n",
       "75%        231.000000\n",
       "max       1580.000000\n",
       "Name: days_exposition, dtype: float64"
      ]
     },
     "execution_count": 59,
     "metadata": {},
     "output_type": "execute_result"
    }
   ],
   "source": [
    "data['days_exposition'].describe()"
   ]
  },
  {
   "cell_type": "code",
   "execution_count": 60,
   "id": "d49ee47e",
   "metadata": {},
   "outputs": [
    {
     "data": {
      "image/png": "[encoded data removed]",
      "text/plain": [
       "<Figure size 432x288 with 1 Axes>"
      ]
     },
     "metadata": {
      "needs_background": "light"
     },
     "output_type": "display_data"
    },
    {
     "data": {
      "image/png": "[encoded data removed]",
      "text/plain": [
       "<Figure size 432x288 with 1 Axes>"
      ]
     },
     "metadata": {
      "needs_background": "light"
     },
     "output_type": "display_data"
    }
   ],
   "source": [
    "sns.histplot(data['days_exposition'])\n",
    "plt.xlim(1, 1500)\n",
    "plt.title('Рис. 23 Гистограмма размещения объявления')\n",
    "plt.xlabel('Размещения объявления, дней')\n",
    "plt.ylabel('Частота')\n",
    "plt.show()\n",
    "sns.boxplot(x=data['days_exposition']) \n",
    "plt.xlim(1, 750)\n",
    "plt.title('Рис. 24 Диаграмма размаха размещения объявления')\n",
    "plt.xlabel('Размещения объявления, дней')\n",
    "plt.ylabel('Частота')\n",
    "plt.show()"
   ]
  },
  {
   "cell_type": "code",
   "execution_count": 61,
   "id": "769b0a6f",
   "metadata": {},
   "outputs": [
    {
     "data": {
      "text/plain": [
       "9.0"
      ]
     },
     "execution_count": 61,
     "metadata": {},
     "output_type": "execute_result"
    }
   ],
   "source": [
    "#На практике границами выбросов снизу и сверху обычно берут 5й и 95й (или 1й и 99й) перцентили.\n",
    "data['days_exposition'].quantile(0.05)"
   ]
  },
  {
   "cell_type": "code",
   "execution_count": 62,
   "id": "ac92f6e3",
   "metadata": {},
   "outputs": [
    {
     "data": {
      "text/plain": [
       "648.0"
      ]
     },
     "execution_count": 62,
     "metadata": {},
     "output_type": "execute_result"
    }
   ],
   "source": [
    "data['days_exposition'].quantile(0.95)"
   ]
  },
  {
   "cell_type": "markdown",
   "id": "03b06a76",
   "metadata": {},
   "source": [
    "<div class=\"alert alert-info\" role=\"alert\"><p>\n",
    "1580 дней - это максимальное хранение объявления о продаже. Среднее значение и медиана составляет 180 и 95 дней соответственно. Cамыe быстрые продажи до 9 дней. Самые медленные продажи больше 647 дней.\n",
    "</p></div>"
   ]
  },
  {
   "cell_type": "code",
   "execution_count": 63,
   "id": "ed65af88",
   "metadata": {},
   "outputs": [
    {
     "name": "stdout",
     "output_type": "stream",
     "text": [
      "<class 'pandas.core.frame.DataFrame'>\n",
      "Int64Index: 23628 entries, 0 to 23698\n",
      "Data columns (total 27 columns):\n",
      " #   Column                   Non-Null Count  Dtype         \n",
      "---  ------                   --------------  -----         \n",
      " 0   total_images             23628 non-null  int64         \n",
      " 1   last_price               23628 non-null  float64       \n",
      " 2   total_area               23628 non-null  float64       \n",
      " 3   first_day_exposition     23628 non-null  datetime64[ns]\n",
      " 4   rooms                    23628 non-null  int64         \n",
      " 5   ceiling_height           14468 non-null  float64       \n",
      " 6   floors_total             23543 non-null  float64       \n",
      " 7   living_area              23628 non-null  float64       \n",
      " 8   floor                    23628 non-null  int64         \n",
      " 9   is_apartment             23628 non-null  bool          \n",
      " 10  is_studio                23628 non-null  bool          \n",
      " 11  open_plan                23628 non-null  bool          \n",
      " 12  kitchen_area             21362 non-null  float64       \n",
      " 13  balcony                  23628 non-null  float64       \n",
      " 14  locality_name            23628 non-null  object        \n",
      " 15  parks_around_3km         18133 non-null  float64       \n",
      " 16  parks_nearest            8059 non-null   float64       \n",
      " 17  ponds_around_3km         18133 non-null  float64       \n",
      " 18  ponds_nearest            9080 non-null   float64       \n",
      " 19  days_exposition          20451 non-null  float64       \n",
      " 20  price_per_meter          23628 non-null  float64       \n",
      " 21  day_of_week_exposition   23628 non-null  object        \n",
      " 22  month_exposition         23628 non-null  object        \n",
      " 23  year_exposition          23628 non-null  int64         \n",
      " 24  floor_status             23628 non-null  object        \n",
      " 25  airports_nearest_km      18109 non-null  float64       \n",
      " 26  city_centers_nearest_km  18132 non-null  float64       \n",
      "dtypes: bool(3), datetime64[ns](1), float64(15), int64(4), object(4)\n",
      "memory usage: 4.6+ MB\n"
     ]
    }
   ],
   "source": [
    "data.info()"
   ]
  },
  {
   "cell_type": "markdown",
   "id": "db362024",
   "metadata": {},
   "source": [
    "<div class=\"alert alert-info\" role=\"alert\"><p>\n",
    "Изучим зависит ли цена от общей площади</p></div>"
   ]
  },
  {
   "cell_type": "code",
   "execution_count": 64,
   "id": "841c61ae",
   "metadata": {},
   "outputs": [
    {
     "data": {
      "text/html": [
       "<style  type=\"text/css\" >\n",
       "#T_48462_row0_col0,#T_48462_row1_col1,#T_48462_row2_col2,#T_48462_row3_col3,#T_48462_row4_col4,#T_48462_row5_col5{\n",
       "            background-color:  #b40426;\n",
       "            color:  #f1f1f1;\n",
       "        }#T_48462_row0_col1{\n",
       "            background-color:  #f7b497;\n",
       "            color:  #000000;\n",
       "        }#T_48462_row0_col2{\n",
       "            background-color:  #f3c7b1;\n",
       "            color:  #000000;\n",
       "        }#T_48462_row0_col3{\n",
       "            background-color:  #e9d5cb;\n",
       "            color:  #000000;\n",
       "        }#T_48462_row0_col4{\n",
       "            background-color:  #bcd2f7;\n",
       "            color:  #000000;\n",
       "        }#T_48462_row0_col5{\n",
       "            background-color:  #455cce;\n",
       "            color:  #f1f1f1;\n",
       "        }#T_48462_row1_col0{\n",
       "            background-color:  #f7b99e;\n",
       "            color:  #000000;\n",
       "        }#T_48462_row1_col2,#T_48462_row2_col1{\n",
       "            background-color:  #c43032;\n",
       "            color:  #f1f1f1;\n",
       "        }#T_48462_row1_col3{\n",
       "            background-color:  #f5c2aa;\n",
       "            color:  #000000;\n",
       "        }#T_48462_row1_col4{\n",
       "            background-color:  #f29072;\n",
       "            color:  #000000;\n",
       "        }#T_48462_row1_col5,#T_48462_row5_col0,#T_48462_row5_col1,#T_48462_row5_col2,#T_48462_row5_col3,#T_48462_row5_col4{\n",
       "            background-color:  #3b4cc0;\n",
       "            color:  #f1f1f1;\n",
       "        }#T_48462_row2_col0{\n",
       "            background-color:  #f2c9b4;\n",
       "            color:  #000000;\n",
       "        }#T_48462_row2_col3{\n",
       "            background-color:  #d5dbe5;\n",
       "            color:  #000000;\n",
       "        }#T_48462_row2_col4{\n",
       "            background-color:  #e67259;\n",
       "            color:  #000000;\n",
       "        }#T_48462_row2_col5{\n",
       "            background-color:  #3d50c3;\n",
       "            color:  #f1f1f1;\n",
       "        }#T_48462_row3_col0{\n",
       "            background-color:  #e6d7cf;\n",
       "            color:  #000000;\n",
       "        }#T_48462_row3_col1{\n",
       "            background-color:  #f5c0a7;\n",
       "            color:  #000000;\n",
       "        }#T_48462_row3_col2{\n",
       "            background-color:  #d7dce3;\n",
       "            color:  #000000;\n",
       "        }#T_48462_row3_col4{\n",
       "            background-color:  #a1c0ff;\n",
       "            color:  #000000;\n",
       "        }#T_48462_row3_col5{\n",
       "            background-color:  #3f53c6;\n",
       "            color:  #f1f1f1;\n",
       "        }#T_48462_row4_col0{\n",
       "            background-color:  #bbd1f8;\n",
       "            color:  #000000;\n",
       "        }#T_48462_row4_col1{\n",
       "            background-color:  #f18d6f;\n",
       "            color:  #000000;\n",
       "        }#T_48462_row4_col2{\n",
       "            background-color:  #e57058;\n",
       "            color:  #000000;\n",
       "        }#T_48462_row4_col3{\n",
       "            background-color:  #a2c1ff;\n",
       "            color:  #000000;\n",
       "        }#T_48462_row4_col5{\n",
       "            background-color:  #4358cb;\n",
       "            color:  #f1f1f1;\n",
       "        }</style><table id=\"T_48462_\" ><thead>    <tr>        <th class=\"blank level0\" ></th>        <th class=\"col_heading level0 col0\" >last_price</th>        <th class=\"col_heading level0 col1\" >total_area</th>        <th class=\"col_heading level0 col2\" >living_area</th>        <th class=\"col_heading level0 col3\" >kitchen_area</th>        <th class=\"col_heading level0 col4\" >rooms</th>        <th class=\"col_heading level0 col5\" >year_exposition</th>    </tr></thead><tbody>\n",
       "                <tr>\n",
       "                        <th id=\"T_48462_level0_row0\" class=\"row_heading level0 row0\" >last_price</th>\n",
       "                        <td id=\"T_48462_row0_col0\" class=\"data row0 col0\" >1.000000</td>\n",
       "                        <td id=\"T_48462_row0_col1\" class=\"data row0 col1\" >0.650000</td>\n",
       "                        <td id=\"T_48462_row0_col2\" class=\"data row0 col2\" >0.590000</td>\n",
       "                        <td id=\"T_48462_row0_col3\" class=\"data row0 col3\" >0.520000</td>\n",
       "                        <td id=\"T_48462_row0_col4\" class=\"data row0 col4\" >0.360000</td>\n",
       "                        <td id=\"T_48462_row0_col5\" class=\"data row0 col5\" >-0.040000</td>\n",
       "            </tr>\n",
       "            <tr>\n",
       "                        <th id=\"T_48462_level0_row1\" class=\"row_heading level0 row1\" >total_area</th>\n",
       "                        <td id=\"T_48462_row1_col0\" class=\"data row1 col0\" >0.650000</td>\n",
       "                        <td id=\"T_48462_row1_col1\" class=\"data row1 col1\" >1.000000</td>\n",
       "                        <td id=\"T_48462_row1_col2\" class=\"data row1 col2\" >0.950000</td>\n",
       "                        <td id=\"T_48462_row1_col3\" class=\"data row1 col3\" >0.610000</td>\n",
       "                        <td id=\"T_48462_row1_col4\" class=\"data row1 col4\" >0.760000</td>\n",
       "                        <td id=\"T_48462_row1_col5\" class=\"data row1 col5\" >-0.080000</td>\n",
       "            </tr>\n",
       "            <tr>\n",
       "                        <th id=\"T_48462_level0_row2\" class=\"row_heading level0 row2\" >living_area</th>\n",
       "                        <td id=\"T_48462_row2_col0\" class=\"data row2 col0\" >0.590000</td>\n",
       "                        <td id=\"T_48462_row2_col1\" class=\"data row2 col1\" >0.950000</td>\n",
       "                        <td id=\"T_48462_row2_col2\" class=\"data row2 col2\" >1.000000</td>\n",
       "                        <td id=\"T_48462_row2_col3\" class=\"data row2 col3\" >0.440000</td>\n",
       "                        <td id=\"T_48462_row2_col4\" class=\"data row2 col4\" >0.830000</td>\n",
       "                        <td id=\"T_48462_row2_col5\" class=\"data row2 col5\" >-0.070000</td>\n",
       "            </tr>\n",
       "            <tr>\n",
       "                        <th id=\"T_48462_level0_row3\" class=\"row_heading level0 row3\" >kitchen_area</th>\n",
       "                        <td id=\"T_48462_row3_col0\" class=\"data row3 col0\" >0.520000</td>\n",
       "                        <td id=\"T_48462_row3_col1\" class=\"data row3 col1\" >0.610000</td>\n",
       "                        <td id=\"T_48462_row3_col2\" class=\"data row3 col2\" >0.440000</td>\n",
       "                        <td id=\"T_48462_row3_col3\" class=\"data row3 col3\" >1.000000</td>\n",
       "                        <td id=\"T_48462_row3_col4\" class=\"data row3 col4\" >0.270000</td>\n",
       "                        <td id=\"T_48462_row3_col5\" class=\"data row3 col5\" >-0.060000</td>\n",
       "            </tr>\n",
       "            <tr>\n",
       "                        <th id=\"T_48462_level0_row4\" class=\"row_heading level0 row4\" >rooms</th>\n",
       "                        <td id=\"T_48462_row4_col0\" class=\"data row4 col0\" >0.360000</td>\n",
       "                        <td id=\"T_48462_row4_col1\" class=\"data row4 col1\" >0.760000</td>\n",
       "                        <td id=\"T_48462_row4_col2\" class=\"data row4 col2\" >0.830000</td>\n",
       "                        <td id=\"T_48462_row4_col3\" class=\"data row4 col3\" >0.270000</td>\n",
       "                        <td id=\"T_48462_row4_col4\" class=\"data row4 col4\" >1.000000</td>\n",
       "                        <td id=\"T_48462_row4_col5\" class=\"data row4 col5\" >-0.050000</td>\n",
       "            </tr>\n",
       "            <tr>\n",
       "                        <th id=\"T_48462_level0_row5\" class=\"row_heading level0 row5\" >year_exposition</th>\n",
       "                        <td id=\"T_48462_row5_col0\" class=\"data row5 col0\" >-0.040000</td>\n",
       "                        <td id=\"T_48462_row5_col1\" class=\"data row5 col1\" >-0.080000</td>\n",
       "                        <td id=\"T_48462_row5_col2\" class=\"data row5 col2\" >-0.070000</td>\n",
       "                        <td id=\"T_48462_row5_col3\" class=\"data row5 col3\" >-0.060000</td>\n",
       "                        <td id=\"T_48462_row5_col4\" class=\"data row5 col4\" >-0.050000</td>\n",
       "                        <td id=\"T_48462_row5_col5\" class=\"data row5 col5\" >1.000000</td>\n",
       "            </tr>\n",
       "    </tbody></table>"
      ],
      "text/plain": [
       "<pandas.io.formats.style.Styler at 0x7f649aa25af0>"
      ]
     },
     "execution_count": 64,
     "metadata": {},
     "output_type": "execute_result"
    }
   ],
   "source": [
    "corr = data[['last_price',\\\n",
    "             'total_area',\\\n",
    "           'living_area',\\\n",
    "           'kitchen_area',\\\n",
    "           'rooms',\\\n",
    "            'year_exposition']].corr().round(2)\n",
    "corr.style.background_gradient(cmap='coolwarm')"
   ]
  },
  {
   "cell_type": "code",
   "execution_count": 65,
   "id": "2cb33ffd",
   "metadata": {},
   "outputs": [
    {
     "data": {
      "text/plain": [
       "Text(0, 0.5, 'Медианная цена за квартиру')"
      ]
     },
     "execution_count": 65,
     "metadata": {},
     "output_type": "execute_result"
    },
    {
     "data": {
      "image/png": "[encoded data removed]",
      "text/plain": [
       "<Figure size 1152x432 with 1 Axes>"
      ]
     },
     "metadata": {
      "needs_background": "light"
     },
     "output_type": "display_data"
    }
   ],
   "source": [
    "func_4= (data.groupby('total_area').agg({'last_price':'median'})\n",
    "                    .rename(columns = {'last_price':'Медианная цена за квартиру'}))\n",
    "\n",
    "\n",
    "plot_1 = func_4['Медианная цена за квартиру'].plot(grid=True, figsize=(16, 6))\n",
    "\n",
    "\n",
    "plt.title('Рис. 25 Зависимость цены от общей площади')\n",
    "plt.ylabel('Медианная цена за квартиру')\n"
   ]
  },
  {
   "cell_type": "code",
   "execution_count": 66,
   "id": "876b8806",
   "metadata": {},
   "outputs": [
    {
     "data": {
      "text/plain": [
       "Text(0, 0.5, 'Медианная цена за квартиру')"
      ]
     },
     "execution_count": 66,
     "metadata": {},
     "output_type": "execute_result"
    },
    {
     "data": {
      "image/png": "[encoded data removed]",
      "text/plain": [
       "<Figure size 1152x432 with 1 Axes>"
      ]
     },
     "metadata": {
      "needs_background": "light"
     },
     "output_type": "display_data"
    }
   ],
   "source": [
    "func_5= (data.groupby('living_area').agg({'last_price':'median'})\n",
    "                    .rename(columns = {'last_price':'Медианная цена за квартиру'}))\n",
    "\n",
    "\n",
    "plot_2 = func_5['Медианная цена за квартиру'].plot(grid=True, figsize=(16, 6))\n",
    "\n",
    "\n",
    "plt.title('Рис. 26 Зависимость цены от жилой площади')\n",
    "plt.ylabel('Медианная цена за квартиру')\n"
   ]
  },
  {
   "cell_type": "code",
   "execution_count": 67,
   "id": "30a31ef7",
   "metadata": {},
   "outputs": [
    {
     "data": {
      "text/plain": [
       "Text(0, 0.5, 'Медианная цена за квартиру')"
      ]
     },
     "execution_count": 67,
     "metadata": {},
     "output_type": "execute_result"
    },
    {
     "data": {
      "image/png": "[encoded data removed]",
      "text/plain": [
       "<Figure size 1152x432 with 1 Axes>"
      ]
     },
     "metadata": {
      "needs_background": "light"
     },
     "output_type": "display_data"
    }
   ],
   "source": [
    "func_6= (data.groupby('kitchen_area').agg({'last_price':'median'})\n",
    "                    .rename(columns = {'last_price':'Медианная цена за квартиру'}))\n",
    "\n",
    "\n",
    "plot_3 = func_6['Медианная цена за квартиру'].plot(grid=True, figsize=(16, 6))\n",
    "\n",
    "\n",
    "plt.title('Рис. 27 Зависимость цены от площади кухни')\n",
    "plt.ylabel('Медианная цена за квартиру')\n"
   ]
  },
  {
   "cell_type": "code",
   "execution_count": 68,
   "id": "2e40527c",
   "metadata": {},
   "outputs": [
    {
     "data": {
      "text/plain": [
       "Text(0, 0.5, 'Медианная цена за квартиру')"
      ]
     },
     "execution_count": 68,
     "metadata": {},
     "output_type": "execute_result"
    },
    {
     "data": {
      "image/png": "[encoded data removed]",
      "text/plain": [
       "<Figure size 1152x432 with 1 Axes>"
      ]
     },
     "metadata": {
      "needs_background": "light"
     },
     "output_type": "display_data"
    }
   ],
   "source": [
    "func_7= (data.groupby('rooms').agg({'last_price':'median'})\n",
    "                    .rename(columns = {'last_price':'Медианная цена за квартиру'}))\n",
    "\n",
    "\n",
    "plot_ = func_7['Медианная цена за квартиру'].plot(grid=True, figsize=(16, 6))\n",
    "\n",
    "\n",
    "plt.title('Рис. 28 Зависимость цены от количества комнат')\n",
    "plt.ylabel('Медианная цена за квартиру')\n"
   ]
  },
  {
   "cell_type": "code",
   "execution_count": 69,
   "id": "93aa8364",
   "metadata": {},
   "outputs": [
    {
     "data": {
      "text/plain": [
       "Text(0, 0.5, 'Медианная цена за квартиру')"
      ]
     },
     "execution_count": 69,
     "metadata": {},
     "output_type": "execute_result"
    },
    {
     "data": {
      "image/png": "[encoded data removed]",
      "text/plain": [
       "<Figure size 1152x432 with 1 Axes>"
      ]
     },
     "metadata": {
      "needs_background": "light"
     },
     "output_type": "display_data"
    }
   ],
   "source": [
    "func_8= (data.groupby('year_exposition').agg({'last_price':'median'})\n",
    "                    .rename(columns = {'last_price':'Медианная цена за квартиру'}))\n",
    "\n",
    "\n",
    "plot_5 = func_8['Медианная цена за квартиру'].plot(grid=True, figsize=(16, 6))\n",
    "\n",
    "\n",
    "plt.title('Рис. 29 Зависимость цены от года объявления')\n",
    "plt.ylabel('Медианная цена за квартиру')\n"
   ]
  },
  {
   "cell_type": "markdown",
   "id": "cdcf1ba7",
   "metadata": {},
   "source": [
    "<div class=\"alert alert-info\" role=\"alert\"><p>\n",
    "На полную стоимость квартиры сильнее всего влияет общая и жилая площадь квартиры, площадь кухни и количество комнат. Ну и отрицательная корреляция между стоимостью квартиры и годом выставления на продажу имеет место быть. Предположу, что на самом деле еще сильнее влияют ожидания и референсы продавца. С 2014 до 2017 года наблюдается спад цен на квартиры, с 2017 до 2019 года н </p></div>"
   ]
  },
  {
   "cell_type": "code",
   "execution_count": 70,
   "id": "afa1dee4",
   "metadata": {},
   "outputs": [
    {
     "data": {
      "text/plain": [
       "(1.0, 13000000.0)"
      ]
     },
     "execution_count": 70,
     "metadata": {},
     "output_type": "execute_result"
    },
    {
     "data": {
      "image/png": "[encoded data removed]",
      "text/plain": [
       "<Figure size 432x288 with 1 Axes>"
      ]
     },
     "metadata": {
      "needs_background": "light"
     },
     "output_type": "display_data"
    }
   ],
   "source": [
    "sns.boxplot(data=data, x='last_price', y='day_of_week_exposition')\n",
    "plt.xlim(1, 13000000)"
   ]
  },
  {
   "cell_type": "code",
   "execution_count": 71,
   "id": "b55b23e2",
   "metadata": {},
   "outputs": [
    {
     "data": {
      "text/plain": [
       "(1.0, 13000000.0)"
      ]
     },
     "execution_count": 71,
     "metadata": {},
     "output_type": "execute_result"
    },
    {
     "data": {
      "image/png": "[encoded data removed]",
      "text/plain": [
       "<Figure size 432x288 with 1 Axes>"
      ]
     },
     "metadata": {
      "needs_background": "light"
     },
     "output_type": "display_data"
    }
   ],
   "source": [
    "sns.boxplot(data=data, x='last_price', y='month_exposition')\n",
    "plt.xlim(1, 13000000)"
   ]
  },
  {
   "cell_type": "code",
   "execution_count": 72,
   "id": "aac6b6b3",
   "metadata": {},
   "outputs": [
    {
     "data": {
      "text/plain": [
       "(1.0, 13000000.0)"
      ]
     },
     "execution_count": 72,
     "metadata": {},
     "output_type": "execute_result"
    },
    {
     "data": {
      "image/png": "[encoded data removed]",
      "text/plain": [
       "<Figure size 432x288 with 1 Axes>"
      ]
     },
     "metadata": {
      "needs_background": "light"
     },
     "output_type": "display_data"
    }
   ],
   "source": [
    "sns.boxplot(data=data, x='last_price', y='floor_status')\n",
    "plt.xlim(1, 13000000)"
   ]
  },
  {
   "cell_type": "markdown",
   "id": "c6cde24b",
   "metadata": {},
   "source": [
    "<div class=\"alert alert-info\" role=\"alert\"><p>\n",
    "Никаких подозрительных моментов не наблюдается. Все в пределах динамики экономики с РФ в соответствии с годами. День недели и месяц — безразлично. Однозначно можно сказать, что квартиры на первом этаже стоят дешевле остальных.</p></div>"
   ]
  },
  {
   "cell_type": "code",
   "execution_count": 73,
   "id": "e56fe13b",
   "metadata": {},
   "outputs": [
    {
     "data": {
      "text/html": [
       "<div>\n",
       "<style scoped>\n",
       "    .dataframe tbody tr th:only-of-type {\n",
       "        vertical-align: middle;\n",
       "    }\n",
       "\n",
       "    .dataframe tbody tr th {\n",
       "        vertical-align: top;\n",
       "    }\n",
       "\n",
       "    .dataframe thead th {\n",
       "        text-align: right;\n",
       "    }\n",
       "</style>\n",
       "<table border=\"1\" class=\"dataframe\">\n",
       "  <thead>\n",
       "    <tr style=\"text-align: right;\">\n",
       "      <th></th>\n",
       "      <th>first_day_exposition</th>\n",
       "      <th>price_per_meter</th>\n",
       "    </tr>\n",
       "    <tr>\n",
       "      <th>locality_name</th>\n",
       "      <th></th>\n",
       "      <th></th>\n",
       "    </tr>\n",
       "  </thead>\n",
       "  <tbody>\n",
       "    <tr>\n",
       "      <th>Санкт-Петербург</th>\n",
       "      <td>15715</td>\n",
       "      <td>114859.104803</td>\n",
       "    </tr>\n",
       "    <tr>\n",
       "      <th>поселок Мурино</th>\n",
       "      <td>590</td>\n",
       "      <td>86087.512017</td>\n",
       "    </tr>\n",
       "    <tr>\n",
       "      <th>деревня Кудрово</th>\n",
       "      <td>471</td>\n",
       "      <td>95326.179108</td>\n",
       "    </tr>\n",
       "    <tr>\n",
       "      <th>поселок Шушары</th>\n",
       "      <td>440</td>\n",
       "      <td>78677.364318</td>\n",
       "    </tr>\n",
       "    <tr>\n",
       "      <th>Всеволожск</th>\n",
       "      <td>397</td>\n",
       "      <td>68719.320378</td>\n",
       "    </tr>\n",
       "    <tr>\n",
       "      <th>Пушкин</th>\n",
       "      <td>369</td>\n",
       "      <td>103125.819377</td>\n",
       "    </tr>\n",
       "    <tr>\n",
       "      <th>Колпино</th>\n",
       "      <td>338</td>\n",
       "      <td>75424.579112</td>\n",
       "    </tr>\n",
       "    <tr>\n",
       "      <th>поселок Парголово</th>\n",
       "      <td>327</td>\n",
       "      <td>90175.913089</td>\n",
       "    </tr>\n",
       "    <tr>\n",
       "      <th>Гатчина</th>\n",
       "      <td>307</td>\n",
       "      <td>68746.146515</td>\n",
       "    </tr>\n",
       "    <tr>\n",
       "      <th>Выборг</th>\n",
       "      <td>235</td>\n",
       "      <td>58238.143277</td>\n",
       "    </tr>\n",
       "  </tbody>\n",
       "</table>\n",
       "</div>"
      ],
      "text/plain": [
       "                   first_day_exposition  price_per_meter\n",
       "locality_name                                           \n",
       "Санкт-Петербург                   15715    114859.104803\n",
       "поселок Мурино                      590     86087.512017\n",
       "деревня Кудрово                     471     95326.179108\n",
       "поселок Шушары                      440     78677.364318\n",
       "Всеволожск                          397     68719.320378\n",
       "Пушкин                              369    103125.819377\n",
       "Колпино                             338     75424.579112\n",
       "поселок Парголово                   327     90175.913089\n",
       "Гатчина                             307     68746.146515\n",
       "Выборг                              235     58238.143277"
      ]
     },
     "execution_count": 73,
     "metadata": {},
     "output_type": "execute_result"
    }
   ],
   "source": [
    "func_one = (data.groupby(by='locality_name').agg({'first_day_exposition': 'count', 'price_per_meter':'mean'})\n",
    ".sort_values(by = 'first_day_exposition', ascending=False).head(10))\n",
    "func_one"
   ]
  },
  {
   "cell_type": "markdown",
   "id": "291b71e2",
   "metadata": {},
   "source": [
    "<div class=\"alert alert-info\" role=\"alert\"><p>\n",
    "Населённым пунктом с наибольшим числом объявлений является Санкт-Петербург (15721 объявлений), также у этого населенного пункта самая дорогая средняя цена за квадратный метр (114849 руб.) . Второе место по дороговизне цены за квадратный метр занимает Пушкин (103125 руб.). Меньше объявлений о продаже квартиры выкладывают в Выборге (237 объявлений), также в Выборге низкая стоимость квадратного метра (58141 руб.).</p></div>"
   ]
  },
  {
   "cell_type": "code",
   "execution_count": 74,
   "id": "33c0a4af",
   "metadata": {},
   "outputs": [],
   "source": [
    "aparts_spb = data.query('locality_name == \"Санкт-Петербург\"')"
   ]
  },
  {
   "cell_type": "code",
   "execution_count": 75,
   "id": "9190e162",
   "metadata": {},
   "outputs": [
    {
     "data": {
      "text/html": [
       "<div>\n",
       "<style scoped>\n",
       "    .dataframe tbody tr th:only-of-type {\n",
       "        vertical-align: middle;\n",
       "    }\n",
       "\n",
       "    .dataframe tbody tr th {\n",
       "        vertical-align: top;\n",
       "    }\n",
       "\n",
       "    .dataframe thead th {\n",
       "        text-align: right;\n",
       "    }\n",
       "</style>\n",
       "<table border=\"1\" class=\"dataframe\">\n",
       "  <thead>\n",
       "    <tr style=\"text-align: right;\">\n",
       "      <th></th>\n",
       "      <th>Медианная цена за метр</th>\n",
       "      <th>Медианная цена за квартиру</th>\n",
       "    </tr>\n",
       "    <tr>\n",
       "      <th>city_centers_nearest_km</th>\n",
       "      <th></th>\n",
       "      <th></th>\n",
       "    </tr>\n",
       "  </thead>\n",
       "  <tbody>\n",
       "    <tr>\n",
       "      <th>0.0</th>\n",
       "      <td>172619.050</td>\n",
       "      <td>17900000.0</td>\n",
       "    </tr>\n",
       "    <tr>\n",
       "      <th>1.0</th>\n",
       "      <td>128485.110</td>\n",
       "      <td>11395000.0</td>\n",
       "    </tr>\n",
       "    <tr>\n",
       "      <th>2.0</th>\n",
       "      <td>123035.515</td>\n",
       "      <td>10000000.0</td>\n",
       "    </tr>\n",
       "    <tr>\n",
       "      <th>3.0</th>\n",
       "      <td>108469.115</td>\n",
       "      <td>8409000.0</td>\n",
       "    </tr>\n",
       "    <tr>\n",
       "      <th>4.0</th>\n",
       "      <td>117952.265</td>\n",
       "      <td>9200000.0</td>\n",
       "    </tr>\n",
       "    <tr>\n",
       "      <th>5.0</th>\n",
       "      <td>127093.280</td>\n",
       "      <td>9500000.0</td>\n",
       "    </tr>\n",
       "    <tr>\n",
       "      <th>6.0</th>\n",
       "      <td>131835.225</td>\n",
       "      <td>8900000.0</td>\n",
       "    </tr>\n",
       "    <tr>\n",
       "      <th>7.0</th>\n",
       "      <td>127017.080</td>\n",
       "      <td>7800000.0</td>\n",
       "    </tr>\n",
       "    <tr>\n",
       "      <th>8.0</th>\n",
       "      <td>122781.990</td>\n",
       "      <td>7445000.0</td>\n",
       "    </tr>\n",
       "    <tr>\n",
       "      <th>9.0</th>\n",
       "      <td>105817.030</td>\n",
       "      <td>5300500.0</td>\n",
       "    </tr>\n",
       "    <tr>\n",
       "      <th>10.0</th>\n",
       "      <td>106451.610</td>\n",
       "      <td>5000000.0</td>\n",
       "    </tr>\n",
       "    <tr>\n",
       "      <th>11.0</th>\n",
       "      <td>103552.585</td>\n",
       "      <td>5072500.0</td>\n",
       "    </tr>\n",
       "    <tr>\n",
       "      <th>12.0</th>\n",
       "      <td>104021.325</td>\n",
       "      <td>4950000.0</td>\n",
       "    </tr>\n",
       "    <tr>\n",
       "      <th>13.0</th>\n",
       "      <td>104081.630</td>\n",
       "      <td>5200000.0</td>\n",
       "    </tr>\n",
       "    <tr>\n",
       "      <th>14.0</th>\n",
       "      <td>101864.245</td>\n",
       "      <td>4860000.0</td>\n",
       "    </tr>\n",
       "    <tr>\n",
       "      <th>15.0</th>\n",
       "      <td>101315.790</td>\n",
       "      <td>4900000.0</td>\n",
       "    </tr>\n",
       "    <tr>\n",
       "      <th>16.0</th>\n",
       "      <td>97500.000</td>\n",
       "      <td>4750000.0</td>\n",
       "    </tr>\n",
       "    <tr>\n",
       "      <th>17.0</th>\n",
       "      <td>94202.900</td>\n",
       "      <td>4580000.0</td>\n",
       "    </tr>\n",
       "    <tr>\n",
       "      <th>18.0</th>\n",
       "      <td>95000.000</td>\n",
       "      <td>4300000.0</td>\n",
       "    </tr>\n",
       "    <tr>\n",
       "      <th>19.0</th>\n",
       "      <td>97241.380</td>\n",
       "      <td>4500000.0</td>\n",
       "    </tr>\n",
       "    <tr>\n",
       "      <th>20.0</th>\n",
       "      <td>103851.845</td>\n",
       "      <td>5625000.0</td>\n",
       "    </tr>\n",
       "    <tr>\n",
       "      <th>21.0</th>\n",
       "      <td>89705.880</td>\n",
       "      <td>5289476.0</td>\n",
       "    </tr>\n",
       "    <tr>\n",
       "      <th>22.0</th>\n",
       "      <td>88781.475</td>\n",
       "      <td>4925000.0</td>\n",
       "    </tr>\n",
       "    <tr>\n",
       "      <th>23.0</th>\n",
       "      <td>89965.400</td>\n",
       "      <td>4500000.0</td>\n",
       "    </tr>\n",
       "    <tr>\n",
       "      <th>24.0</th>\n",
       "      <td>86353.290</td>\n",
       "      <td>3480000.0</td>\n",
       "    </tr>\n",
       "    <tr>\n",
       "      <th>25.0</th>\n",
       "      <td>93612.160</td>\n",
       "      <td>3794881.0</td>\n",
       "    </tr>\n",
       "    <tr>\n",
       "      <th>26.0</th>\n",
       "      <td>89393.940</td>\n",
       "      <td>3320000.0</td>\n",
       "    </tr>\n",
       "    <tr>\n",
       "      <th>27.0</th>\n",
       "      <td>132115.710</td>\n",
       "      <td>8300000.0</td>\n",
       "    </tr>\n",
       "    <tr>\n",
       "      <th>28.0</th>\n",
       "      <td>79372.090</td>\n",
       "      <td>4990000.0</td>\n",
       "    </tr>\n",
       "    <tr>\n",
       "      <th>29.0</th>\n",
       "      <td>76084.735</td>\n",
       "      <td>4535000.0</td>\n",
       "    </tr>\n",
       "  </tbody>\n",
       "</table>\n",
       "</div>"
      ],
      "text/plain": [
       "                         Медианная цена за метр  Медианная цена за квартиру\n",
       "city_centers_nearest_km                                                    \n",
       "0.0                                  172619.050                  17900000.0\n",
       "1.0                                  128485.110                  11395000.0\n",
       "2.0                                  123035.515                  10000000.0\n",
       "3.0                                  108469.115                   8409000.0\n",
       "4.0                                  117952.265                   9200000.0\n",
       "5.0                                  127093.280                   9500000.0\n",
       "6.0                                  131835.225                   8900000.0\n",
       "7.0                                  127017.080                   7800000.0\n",
       "8.0                                  122781.990                   7445000.0\n",
       "9.0                                  105817.030                   5300500.0\n",
       "10.0                                 106451.610                   5000000.0\n",
       "11.0                                 103552.585                   5072500.0\n",
       "12.0                                 104021.325                   4950000.0\n",
       "13.0                                 104081.630                   5200000.0\n",
       "14.0                                 101864.245                   4860000.0\n",
       "15.0                                 101315.790                   4900000.0\n",
       "16.0                                  97500.000                   4750000.0\n",
       "17.0                                  94202.900                   4580000.0\n",
       "18.0                                  95000.000                   4300000.0\n",
       "19.0                                  97241.380                   4500000.0\n",
       "20.0                                 103851.845                   5625000.0\n",
       "21.0                                  89705.880                   5289476.0\n",
       "22.0                                  88781.475                   4925000.0\n",
       "23.0                                  89965.400                   4500000.0\n",
       "24.0                                  86353.290                   3480000.0\n",
       "25.0                                  93612.160                   3794881.0\n",
       "26.0                                  89393.940                   3320000.0\n",
       "27.0                                 132115.710                   8300000.0\n",
       "28.0                                  79372.090                   4990000.0\n",
       "29.0                                  76084.735                   4535000.0"
      ]
     },
     "execution_count": 75,
     "metadata": {},
     "output_type": "execute_result"
    }
   ],
   "source": [
    "func_two = (aparts_spb.groupby('city_centers_nearest_km').agg({'price_per_meter':'median', 'last_price':'median'})\n",
    "                    .rename(columns = {'price_per_meter':'Медианная цена за метр', 'last_price':'Медианная цена за квартиру' }))\n",
    "\n",
    "func_two\n"
   ]
  },
  {
   "cell_type": "code",
   "execution_count": 76,
   "id": "45d64eff",
   "metadata": {},
   "outputs": [
    {
     "data": {
      "text/plain": [
       "Text(0, 0.5, 'Медианная цена за квартиру')"
      ]
     },
     "execution_count": 76,
     "metadata": {},
     "output_type": "execute_result"
    },
    {
     "data": {
      "image/png": "[encoded data removed]",
      "text/plain": [
       "<Figure size 1152x432 with 2 Axes>"
      ]
     },
     "metadata": {
      "needs_background": "light"
     },
     "output_type": "display_data"
    }
   ],
   "source": [
    "price_m = func_two['Медианная цена за метр'].plot(grid=True, figsize=(16, 6))\n",
    "\n",
    "func_two['Медианная цена за квартиру'].plot(grid=True, figsize=(16, 6), ax = price_m.twinx(), color='lightgreen')\n",
    "\n",
    "plt.xticks(func_two.index.values, func_two.index.values)\n",
    "\n",
    "plt.legend(['Медианная цена за квартиру'])\n",
    "plt.title(' Рис. 30 Зависимость цены от удаления от  центра')\n",
    "plt.ylabel('Медианная цена за квартиру')\n"
   ]
  },
  {
   "cell_type": "markdown",
   "id": "074464ed",
   "metadata": {},
   "source": [
    "<div class=\"alert alert-info\" role=\"alert\"><p>\n",
    "Из графика следует, что чем дальше квартиры от центра Петербурга, тем ниже стоимость. Однако в 27 км от центра цена резко возрастает, скорее всего, там распологаются элитные дома.</p></div>"
   ]
  },
  {
   "cell_type": "markdown",
   "id": "84e3ecd4",
   "metadata": {},
   "source": [
    "<div class=\"alert alert-info\" role=\"alert\"><p><h2>Вывод:</h2>\n",
    "<br> \n",
    "    <ul>\n",
    "     <li>общая площадь в нашей выборке колеблется от 12 до 900 кв.м., среднее значение 60 кв.м., а медиана 52 кв.м.</li>\n",
    "     <li>жилая площадь варируется от 2 до 409 кв.м., среднее значение 34 кв.м., а медиана 30 кв.м. </li>\n",
    "     <li>чем дальше квартиры от центра Петербурга, тем ниже стоимость.</li>\n",
    "     <li>в 27 км от центра цена резко возрастает, скорее всего, там распологаются элитные дома.</li>      \n",
    "     <li>населённым пунктом с наибольшим числом объявлений является Санкт-Петербург (15721 объявлений), также у этого населенного пункта самая дорогая средняя цена за квадратный метр (114849 руб.).</li>\n",
    "     <li>второе место по дороговизне цены за квадратный метр занимает Пушкин (103125 руб.).</li>\n",
    "     <li>меньше объявлений о продаже квартиры выкладывают в Выборге (237 объявлений), также в Выборге низкая стоимость квадратного метра (58141 руб.).</li> \n",
    "     <li>день недели и месяц не влияют на стомость квартиры. </li>\n",
    "     <li>квартиры на первом этаже стоят дешевле остальных.</li>\n",
    "     <li>на полную стоимость квартиры сильнее всего влияет общая и жилая площадь квартиры, площадь кухни и количество комнат. </li>\n",
    "     <li>с 2014 до 2017 гг.  стоимость квартиры снижается, далее  до 2019 года идет рост цен. П\n",
    "     <li>1580 дней - это максимальное хранение объявления о продаже. Cамыe быстрые продажи до 9 дней. Самые медленные продажи больше 647 дней.</li>\n",
    "     <li>большинство объявлений о продаже выкладывают в декабре и марте. В январе и октябре наблюдаются меньше объявлений.</li>\n",
    "     <li>больше всего выкладывают объявления о продаже в будние дни, а особенно во вторник и четверг. В выходные дни выкладывают объявлений меньше.</li>\n",
    "     <li> максимальное расстояние до ближайшего парка составляет 3 км. Среднее расстояние и медиана равняется 490 м и 454 м соотвественно. </li>\n",
    "     <li> максимальное расстояние до ближайшего аэропорта составляет 85 км. Среднее расстояние и медиана равняется 28 км и 27 км соотвественно.</li>\n",
    "     <li> максимальное расстояние до центра города составляет 66 км. Среднее расстояние и медиана равняется 14 км и 13 км соотвественно. </li>\n",
    "     <li> максимальное расстояние до ближайшего аэропорта составляет 85 км. Среднее расстояние и медиана равняется 28 км и 27 км соотвественно.</li> \n",
    "     <li>60-этажный жилой дом является самым высоким жилым домом, выставленным на продажу квартир в Санкт-Петербурге и соседних населённых пунктах с 2014 по 2019 года. </li> \n",
    "     <li> меньше всего продают квартир на последнем этаже.</li> \n",
    "     <li>максимальный этаж квартиры достигает 33. Среднее значение равно 5, а медиана равна 4. </li> \n",
    "     <li>высота потолков достигает 10 м. Среднее значение и медиана равна 2.7 м. </li> \n",
    "     <li>цена квартиры изменяется от 12190 до 763000000, среднее значение 6541126, а медиана 4650000.</li> \n",
    "     <li>площадь кухни встречается от 1 до 112 кв.м., среднее значение 10 кв.м., а медиана 9 кв.м. </li> \n",
    "     </ul>\n",
    "</p></div> "
   ]
  },
  {
   "cell_type": "markdown",
   "id": "e81249fa",
   "metadata": {},
   "source": [
    "<div class=\"alert alert-info\" role=\"alert\"><a name=\"Общий_вывод\"><h3>Общий вывод</h3></a></div>"
   ]
  },
  {
   "cell_type": "markdown",
   "id": "563e90e3",
   "metadata": {},
   "source": [
    "<div class=\"alert alert-info\" role=\"alert\">\n",
    "   <p>Было проведено исследование, чтобы выявить влияние разных факторов на факт продажи квартиры  Санкт-Петербурге и соседних населённых пунктах за 2014 - 2019 гг. Входные данные - данные сервиса Яндекс Недвижимость. Перед проведением исследования были поставлены несколько гипотез:</p>\n",
    "        <ul>\n",
    "     <li>Гипотеза 1: Общая площадь влияет на общую стоимость квартиры</li>\n",
    "     <li>Гипотеза 2: Жилая площадь влияет на общую стоимость квартиры</li>\n",
    "     <li>Гипотеза 3: Площадь кухни влияет на общую стоимость квартиры</li>\n",
    "     <li>Гипотеза 4: Количество комнат влияет на общую стоимость квартиры</li>      \n",
    "     <li>Гипотеза 5: Расположение квартиры на определенном этаже влияет на общую стоимость квартиры</li>\n",
    "     <li>Гипотеза 6: Дата размещения влияет на общую стоимость квартиры</li>\n",
    "       </ul>\n",
    "     В результате удалось выявить зависимости.\n",
    "         <br /><b>Гипотеза 1 подтверждена:\n",
    "        <ul>\n",
    "     <li> анализ корреляции показал высокую корреляцию общей стоимости квартиры с общей площадью</li>\n",
    "     <li> из рис. 25 видно, что стоимость квартиры возрастает с ростом общей площади</li>\n",
    "       </ul>\n",
    "         <br /><b>Гипотеза 2 подтверждена:</b>\n",
    "        <ul>\n",
    "     <li> анализ корреляции также показал высокую корреляцию общей стоимости квартиры с жилой площадью</li>\n",
    "     <li> из рис. 26 видно, что стоимость квартиры также возрастает с ростом жилой площади</li>\n",
    "       </ul>\n",
    "         <br /><b>Гипотеза 3 подтверждена:</b>\n",
    "        <ul>\n",
    "     <li> анализ корреляции также показал,что площадь кухни влияет на общую стоимость квартиры</li>\n",
    "     <li> из рис. 27 видно, что стоимость квартиры также возрастает с ростом площади кухни</li>\n",
    "       </ul>\n",
    "         <br /><b>Гипотеза 4 подтверждена:</b>\n",
    "        <ul>\n",
    "     <li> анализ корреляции также показал,что количество комнат влияет на общую стоимость квартиры</li>\n",
    "     <li> из рис. 28 видно, что стоимость квартиры также возрастает с ростом количества комнат</li>\n",
    "       </ul>\n",
    "         <br /><b>Гипотеза 5 не подтверждена:</b>\n",
    "        <ul>\n",
    "     <li> из анализа данных следует,что расположение квартиры на определенном этаже не влияет на общую стоимость квартиры</li>\n",
    "     <li> стоимость квартир на первом этаже меньше, чем на других этажах</li>\n",
    "       </ul>\n",
    "         <br /><b>Гипотеза 6 не подтверждена:</b>\n",
    "        <ul>\n",
    "     <li> из анализа данных следует,что день недели и месяц размещения объявления не влияет на общую стоимость квартиры</li>\n",
    "     <li> из рис. 29 следует, что стоимость квартиры снижалась с 2014 до 2017 гг. Но с 2017 до. 2019 наблюдался рост цен на жилье</li>\n",
    "       </ul>\n",
    "<p> Больше всего выкладывают объявления о продаже в будние дни, а особенно во вторник и четверг. Cамыe быстрые продажи занимают до 9 дней, а самые медленные продажи больше 648 дней.</p>\n",
    "     <br /><p>60-этажный жилой дом является самым высоким жилым домом, выставленным на продажу квартир в Санкт-Петербурге и соседних населённых пунктах с 2014 по 2019 года. </p>\n",
    "     <br /><p>Цена квартиры варьируется от 12190 до 763000000, среднее значение равно 6541126, а медиана равна 4650000.</p>\n",
    "     <br /><p>Анализ данных показал, что в Санкт-Петербурге наибольшее число объявлений о продаже квартиры (15721 объявлений) и самая дорогая средняя цена за квадратный метр (114849 руб.). Второе место по цене за квадратный метр занимает Пушкин (103125 руб.). Выборг является населенным пунктом с наименьшим числом объявлений о продаже квартиры (237 объявлений) и низкой стоимостью квадратного метра (58141 руб.). </p>\n",
    "     <br /><p>Из рис. 30 видно, что в Санкт-Петербурге стоимость квартиры зависит от удаленности от центра города. Чем дальше квартира находится от центра, тем цена ниже.Однако в 27 км от центра стоимость квартиры резко возрастает, скорее всего, там распологаются элитные дома.</p></div>\n",
    " "
   ]
  }
 ],
 "metadata": {
  "kernelspec": {
   "display_name": "Python 3 (ipykernel)",
   "language": "python",
   "name": "python3"
  },
  "language_info": {
   "codemirror_mode": {
    "name": "ipython",
    "version": 3
   },
   "file_extension": ".py",
   "mimetype": "text/x-python",
   "name": "python",
   "nbconvert_exporter": "python",
   "pygments_lexer": "ipython3",
   "version": "3.9.13"
  }
 },
 "nbformat": 4,
 "nbformat_minor": 5
}
