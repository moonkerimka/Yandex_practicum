{
 "cells": [
  {
   "cell_type": "markdown",
   "id": "1e51b2b8",
   "metadata": {},
   "source": [
    "### <p style=\"font-family:JetBrains Mono; font-weight:bold; letter-spacing: 2px; color:#294B8E; font-size:140%; text-align:left;padding: 0px; border-bottom: 3px solid #294B8E\"> 🚘 Car valuation</p>"
   ]
  },
  {
   "cell_type": "markdown",
   "id": "11a717ef",
   "metadata": {},
   "source": [
    "<a id=\"1.2\"></a>\n",
    "<div style=\"padding:20px;\n",
    "            color:white;\n",
    "            margin:10;\n",
    "            font-size:170%;\n",
    "            text-align:left;\n",
    "            display:fill;\n",
    "            border-radius:5px;\n",
    "            background-color:#294B8E;\n",
    "            overflow:hidden;\n",
    "            font-weight:700\"><span style='color:#CDA63A'>|</span> Content</div>"
   ]
  },
  {
   "cell_type": "markdown",
   "id": "a915f679",
   "metadata": {},
   "source": [
    "<div class=\"toc\"><ul class=\"toc-item\"><li><span><a href=\"#Data-description\" data-toc-modified-id=\"Data-description-1\"><span class=\"toc-item-num\">1&nbsp;&nbsp;</span>Data description</a></span></li><li><span><a href=\"#Loading-libraries\" data-toc-modified-id=\"Loading-libraries-2\"><span class=\"toc-item-num\">2&nbsp;&nbsp;</span>Loading libraries</a></span></li><li><span><a href=\"#EDA\" data-toc-modified-id=\"EDA-3\"><span class=\"toc-item-num\">3&nbsp;&nbsp;</span>EDA</a></span></li><li><span><a href=\"#Data_preprocessing\" data-toc-modified-id=\"Data_preprocessing-4\"><span class=\"toc-item-num\">4&nbsp;&nbsp;</span>Data preprocessingх</a></span></li><li><span><a href=\"#Prepare-samples-for-training-models\" data-toc-modified-id=\"Prepare-samples-for-training-models-5\"><span class=\"toc-item-num\">5&nbsp;&nbsp;</span>Prepare samples for training models</a></span></li><li><span><a href=\"#Direct-features-coding\" data-toc-modified-id=\"Direct-features-coding-6\"><span class=\"toc-item-num\">6&nbsp;&nbsp;</span>Direct features coding</a></span></li><li><span><a href=\"#Standartization\" data-toc-modified-id=\"Standartization-7\"><span class=\"toc-item-num\">7&nbsp;&nbsp;</span>Standartization</a></span></li><li><span><a href=\"#Model-training\" data-toc-modified-id=\"Model-training-8\"><span class=\"toc-item-num\">8&nbsp;&nbsp;</span>Model training</a></span></li><li><span><a href=\"#Model-comparison\" data-toc-modified-id=\"Model-comparison-9\"><span class=\"toc-item-num\">9&nbsp;&nbsp;</span>Model comparison</a></span></li><li><span><a href=\"#Testing-best-model\" data-toc-modified-id=\"Testing-best-model-10\"><span class=\"toc-item-num\">10&nbsp;&nbsp;</span>Testing-best-model</a></span></li><li><span><a href=\"#Conclusion\" data-toc-modified-id=\"Conclusion-11\"><span class=\"toc-item-num\">11&nbsp;&nbsp;</span>Conclusion</a></span></li>"
   ]
  },
  {
   "cell_type": "markdown",
   "id": "0fa4011b",
   "metadata": {},
   "source": [
    "<a id=\"Data-description\"></a>\n",
    "<div style=\"padding:20px;\n",
    "            color:white;\n",
    "            margin:10;\n",
    "            font-size:170%;\n",
    "            text-align:left;\n",
    "            display:fill;\n",
    "            border-radius:5px;\n",
    "            background-color:#294B8E;\n",
    "            overflow:hidden;\n",
    "            font-weight:700\"><span style='color:#CDA63A'>|</span> Data description</div>"
   ]
  },
  {
   "cell_type": "markdown",
   "id": "8f6c676f",
   "metadata": {},
   "source": [
    "<ul>\n",
    "<li>DateCrawled — date when the questionnaire was downloaded from the database</li>\n",
    "<li>VehicleType - car body type</li>\n",
    "<li>RegistrationYear - the year the car was registered</li>\n",
    "<li>Gearbox - gear type</li>\n",
    "<li>Power - power (hp)</li>\n",
    "<li>Model - car model</li>\n",
    "<li>Kilometer - mileage (km)</li>\n",
    "<li>RegistrationMonth — car registration month</li>\n",
    "<li>FuelType - type of fuel</li>\n",
    "<li>Brand - car brand</li>\n",
    "<li>Repaired - was the car under repair or not</li>\n",
    "<li>DateCreated — date of creation of the questionnaire</li>\n",
    "<li>NumberOfPictures - number of car photos</li>\n",
    "<li>PostalCode - postal code of the owner of the profile (user)</li>\n",
    "<li>LastSeen — date of last user activity</li>\n",
    "</ul>\n"
   ]
  },
  {
   "cell_type": "markdown",
   "id": "2122d13b",
   "metadata": {},
   "source": [
    "<div class=\"alert alert-block alert-info\" style=\"background-color:#FFFAF0;\n",
    "                                                 color:black;\n",
    "                                                 border-color:#DEB887;\n",
    "                                                 border-radius:5px;\n",
    "                                                 width:50%;\n",
    "                                                 margin: auto;\n",
    "                                                 text-align: left;\">\n",
    "\n",
    "\n",
    "\n",
    "Service for selling used cars \"Not beaten, not beautiful\" is developing an application to attract new customers. It will show you the market value of your car.\n",
    "\n",
    "</div>"
   ]
  },
  {
   "cell_type": "markdown",
   "id": "a37d8f76",
   "metadata": {},
   "source": [
    "<a id=\"Loading_libraries\"></a>\n",
    "<div style=\"padding:20px;\n",
    "            color:white;\n",
    "            margin:10;\n",
    "            font-size:170%;\n",
    "            text-align:left;\n",
    "            display:fill;\n",
    "            border-radius:5px;\n",
    "            background-color:#294B8E;\n",
    "            overflow:hidden;\n",
    "            font-weight:700\"><span style='color:#CDA63A'>|</span> Loading libraries</div>"
   ]
  },
  {
   "cell_type": "code",
   "execution_count": 1,
   "id": "87da5430",
   "metadata": {},
   "outputs": [],
   "source": [
    "import os\n",
    "import time\n",
    "import warnings\n",
    "import pandas as pd\n",
    "import numpy as np\n",
    "import catboost as cb\n",
    "import lightgbm as lgmb\n",
    "from sklearn import tree, metrics\n",
    "from tabulate import tabulate\n",
    "from xgboost import XGBRegressor\n",
    "from catboost import CatBoostRegressor\n",
    "from lightgbm import LGBMRegressor\n",
    "from sklearn.tree import DecisionTreeRegressor\n",
    "from sklearn.ensemble import RandomForestRegressor\n",
    "from sklearn.linear_model import LinearRegression\n",
    "from sklearn.preprocessing import StandardScaler\n",
    "from sklearn.preprocessing import OrdinalEncoder\n",
    "from sklearn.metrics import mean_squared_error\n",
    "from sklearn.model_selection import GridSearchCV, train_test_split"
   ]
  },
  {
   "cell_type": "markdown",
   "id": "81578c5d",
   "metadata": {},
   "source": [
    "<a id=\"EDA\"></a>\n",
    "<div style=\"padding:20px;\n",
    "            color:white;\n",
    "            margin:10;\n",
    "            font-size:170%;\n",
    "            text-align:left;\n",
    "            display:fill;\n",
    "            border-radius:5px;\n",
    "            background-color:#294B8E;\n",
    "            overflow:hidden;\n",
    "            font-weight:700\"><span style='color:#CDA63A'>|</span> EDA</div>"
   ]
  },
  {
   "cell_type": "code",
   "execution_count": 2,
   "id": "d2987fa7",
   "metadata": {},
   "outputs": [],
   "source": [
    "pth1 = '/datasets/autos.csv'\n",
    "pth2 = 'autos.csv'\n",
    "if os.path.exists(pth1):\n",
    "    data = pd.read_csv(pth1)\n",
    "elif os.path.exists(pth2):\n",
    "    data = pd.read_csv(pth2)\n",
    "else:\n",
    "    print('Something is wrong')"
   ]
  },
  {
   "cell_type": "code",
   "execution_count": 3,
   "id": "41eeaa6b",
   "metadata": {},
   "outputs": [
    {
     "data": {
      "text/html": [
       "<div>\n",
       "<style scoped>\n",
       "    .dataframe tbody tr th:only-of-type {\n",
       "        vertical-align: middle;\n",
       "    }\n",
       "\n",
       "    .dataframe tbody tr th {\n",
       "        vertical-align: top;\n",
       "    }\n",
       "\n",
       "    .dataframe thead th {\n",
       "        text-align: right;\n",
       "    }\n",
       "</style>\n",
       "<table border=\"1\" class=\"dataframe\">\n",
       "  <thead>\n",
       "    <tr style=\"text-align: right;\">\n",
       "      <th></th>\n",
       "      <th>DateCrawled</th>\n",
       "      <th>Price</th>\n",
       "      <th>VehicleType</th>\n",
       "      <th>RegistrationYear</th>\n",
       "      <th>Gearbox</th>\n",
       "      <th>Power</th>\n",
       "      <th>Model</th>\n",
       "      <th>Kilometer</th>\n",
       "      <th>RegistrationMonth</th>\n",
       "      <th>FuelType</th>\n",
       "      <th>Brand</th>\n",
       "      <th>Repaired</th>\n",
       "      <th>DateCreated</th>\n",
       "      <th>NumberOfPictures</th>\n",
       "      <th>PostalCode</th>\n",
       "      <th>LastSeen</th>\n",
       "    </tr>\n",
       "  </thead>\n",
       "  <tbody>\n",
       "    <tr>\n",
       "      <th>0</th>\n",
       "      <td>2016-03-24 11:52:17</td>\n",
       "      <td>480</td>\n",
       "      <td>NaN</td>\n",
       "      <td>1993</td>\n",
       "      <td>manual</td>\n",
       "      <td>0</td>\n",
       "      <td>golf</td>\n",
       "      <td>150000</td>\n",
       "      <td>0</td>\n",
       "      <td>petrol</td>\n",
       "      <td>volkswagen</td>\n",
       "      <td>NaN</td>\n",
       "      <td>2016-03-24 00:00:00</td>\n",
       "      <td>0</td>\n",
       "      <td>70435</td>\n",
       "      <td>2016-04-07 03:16:57</td>\n",
       "    </tr>\n",
       "    <tr>\n",
       "      <th>1</th>\n",
       "      <td>2016-03-24 10:58:45</td>\n",
       "      <td>18300</td>\n",
       "      <td>coupe</td>\n",
       "      <td>2011</td>\n",
       "      <td>manual</td>\n",
       "      <td>190</td>\n",
       "      <td>NaN</td>\n",
       "      <td>125000</td>\n",
       "      <td>5</td>\n",
       "      <td>gasoline</td>\n",
       "      <td>audi</td>\n",
       "      <td>yes</td>\n",
       "      <td>2016-03-24 00:00:00</td>\n",
       "      <td>0</td>\n",
       "      <td>66954</td>\n",
       "      <td>2016-04-07 01:46:50</td>\n",
       "    </tr>\n",
       "    <tr>\n",
       "      <th>2</th>\n",
       "      <td>2016-03-14 12:52:21</td>\n",
       "      <td>9800</td>\n",
       "      <td>suv</td>\n",
       "      <td>2004</td>\n",
       "      <td>auto</td>\n",
       "      <td>163</td>\n",
       "      <td>grand</td>\n",
       "      <td>125000</td>\n",
       "      <td>8</td>\n",
       "      <td>gasoline</td>\n",
       "      <td>jeep</td>\n",
       "      <td>NaN</td>\n",
       "      <td>2016-03-14 00:00:00</td>\n",
       "      <td>0</td>\n",
       "      <td>90480</td>\n",
       "      <td>2016-04-05 12:47:46</td>\n",
       "    </tr>\n",
       "    <tr>\n",
       "      <th>3</th>\n",
       "      <td>2016-03-17 16:54:04</td>\n",
       "      <td>1500</td>\n",
       "      <td>small</td>\n",
       "      <td>2001</td>\n",
       "      <td>manual</td>\n",
       "      <td>75</td>\n",
       "      <td>golf</td>\n",
       "      <td>150000</td>\n",
       "      <td>6</td>\n",
       "      <td>petrol</td>\n",
       "      <td>volkswagen</td>\n",
       "      <td>no</td>\n",
       "      <td>2016-03-17 00:00:00</td>\n",
       "      <td>0</td>\n",
       "      <td>91074</td>\n",
       "      <td>2016-03-17 17:40:17</td>\n",
       "    </tr>\n",
       "    <tr>\n",
       "      <th>4</th>\n",
       "      <td>2016-03-31 17:25:20</td>\n",
       "      <td>3600</td>\n",
       "      <td>small</td>\n",
       "      <td>2008</td>\n",
       "      <td>manual</td>\n",
       "      <td>69</td>\n",
       "      <td>fabia</td>\n",
       "      <td>90000</td>\n",
       "      <td>7</td>\n",
       "      <td>gasoline</td>\n",
       "      <td>skoda</td>\n",
       "      <td>no</td>\n",
       "      <td>2016-03-31 00:00:00</td>\n",
       "      <td>0</td>\n",
       "      <td>60437</td>\n",
       "      <td>2016-04-06 10:17:21</td>\n",
       "    </tr>\n",
       "  </tbody>\n",
       "</table>\n",
       "</div>"
      ],
      "text/plain": [
       "           DateCrawled  Price VehicleType  RegistrationYear Gearbox  Power  \\\n",
       "0  2016-03-24 11:52:17    480         NaN              1993  manual      0   \n",
       "1  2016-03-24 10:58:45  18300       coupe              2011  manual    190   \n",
       "2  2016-03-14 12:52:21   9800         suv              2004    auto    163   \n",
       "3  2016-03-17 16:54:04   1500       small              2001  manual     75   \n",
       "4  2016-03-31 17:25:20   3600       small              2008  manual     69   \n",
       "\n",
       "   Model  Kilometer  RegistrationMonth  FuelType       Brand Repaired  \\\n",
       "0   golf     150000                  0    petrol  volkswagen      NaN   \n",
       "1    NaN     125000                  5  gasoline        audi      yes   \n",
       "2  grand     125000                  8  gasoline        jeep      NaN   \n",
       "3   golf     150000                  6    petrol  volkswagen       no   \n",
       "4  fabia      90000                  7  gasoline       skoda       no   \n",
       "\n",
       "           DateCreated  NumberOfPictures  PostalCode             LastSeen  \n",
       "0  2016-03-24 00:00:00                 0       70435  2016-04-07 03:16:57  \n",
       "1  2016-03-24 00:00:00                 0       66954  2016-04-07 01:46:50  \n",
       "2  2016-03-14 00:00:00                 0       90480  2016-04-05 12:47:46  \n",
       "3  2016-03-17 00:00:00                 0       91074  2016-03-17 17:40:17  \n",
       "4  2016-03-31 00:00:00                 0       60437  2016-04-06 10:17:21  "
      ]
     },
     "execution_count": 3,
     "metadata": {},
     "output_type": "execute_result"
    }
   ],
   "source": [
    "data.head()"
   ]
  },
  {
   "cell_type": "markdown",
   "id": "3d2551cb",
   "metadata": {},
   "source": [
    "<div style=\"border-radius:10px; border:#DEB887 solid; padding: 15px; background-color: #FFFAF0; font-size:100%; text-align:left\">\n",
    "💡 The same dates were found in the \"DateCrawled\" and \"DateCreated\" columns. It is necessary to check the data of the columns, if so, then delete one of them."
   ]
  },
  {
   "cell_type": "code",
   "execution_count": 4,
   "id": "02eeb90a",
   "metadata": {},
   "outputs": [
    {
     "name": "stdout",
     "output_type": "stream",
     "text": [
      "<class 'pandas.core.frame.DataFrame'>\n",
      "RangeIndex: 354369 entries, 0 to 354368\n",
      "Data columns (total 16 columns):\n",
      " #   Column             Non-Null Count   Dtype \n",
      "---  ------             --------------   ----- \n",
      " 0   DateCrawled        354369 non-null  object\n",
      " 1   Price              354369 non-null  int64 \n",
      " 2   VehicleType        316879 non-null  object\n",
      " 3   RegistrationYear   354369 non-null  int64 \n",
      " 4   Gearbox            334536 non-null  object\n",
      " 5   Power              354369 non-null  int64 \n",
      " 6   Model              334664 non-null  object\n",
      " 7   Kilometer          354369 non-null  int64 \n",
      " 8   RegistrationMonth  354369 non-null  int64 \n",
      " 9   FuelType           321474 non-null  object\n",
      " 10  Brand              354369 non-null  object\n",
      " 11  Repaired           283215 non-null  object\n",
      " 12  DateCreated        354369 non-null  object\n",
      " 13  NumberOfPictures   354369 non-null  int64 \n",
      " 14  PostalCode         354369 non-null  int64 \n",
      " 15  LastSeen           354369 non-null  object\n",
      "dtypes: int64(7), object(9)\n",
      "memory usage: 43.3+ MB\n"
     ]
    }
   ],
   "source": [
    "data.info()"
   ]
  },
  {
   "cell_type": "markdown",
   "id": "b68a20d2",
   "metadata": {},
   "source": [
    "<div style=\"border-radius:10px; border:#DEB887 solid; padding: 15px; background-color: #FFFAF0; font-size:100%; text-align:left\">\n",
    "There are gaps in the data in the \"VehicleType\", \"Gearbox\", \"FuelType\" and \"Repaired\" columns. Change the column type \"DateCrawled\" to datatype. Change the column type \"RegistrationYear\" and \"RegistrationMonth\" to int. The column \"Model\" has gaps, it is necessary to delete the rows with gaps. it is one of the key signs for forecasting."
   ]
  },
  {
   "cell_type": "code",
   "execution_count": 5,
   "id": "abca8a05",
   "metadata": {},
   "outputs": [
    {
     "data": {
      "text/html": [
       "<div>\n",
       "<style scoped>\n",
       "    .dataframe tbody tr th:only-of-type {\n",
       "        vertical-align: middle;\n",
       "    }\n",
       "\n",
       "    .dataframe tbody tr th {\n",
       "        vertical-align: top;\n",
       "    }\n",
       "\n",
       "    .dataframe thead th {\n",
       "        text-align: right;\n",
       "    }\n",
       "</style>\n",
       "<table border=\"1\" class=\"dataframe\">\n",
       "  <thead>\n",
       "    <tr style=\"text-align: right;\">\n",
       "      <th></th>\n",
       "      <th>Price</th>\n",
       "      <th>RegistrationYear</th>\n",
       "      <th>Power</th>\n",
       "      <th>Kilometer</th>\n",
       "      <th>RegistrationMonth</th>\n",
       "      <th>NumberOfPictures</th>\n",
       "      <th>PostalCode</th>\n",
       "    </tr>\n",
       "  </thead>\n",
       "  <tbody>\n",
       "    <tr>\n",
       "      <th>count</th>\n",
       "      <td>354369.000000</td>\n",
       "      <td>354369.000000</td>\n",
       "      <td>354369.000000</td>\n",
       "      <td>354369.000000</td>\n",
       "      <td>354369.000000</td>\n",
       "      <td>354369.0</td>\n",
       "      <td>354369.000000</td>\n",
       "    </tr>\n",
       "    <tr>\n",
       "      <th>mean</th>\n",
       "      <td>4416.656776</td>\n",
       "      <td>2004.234448</td>\n",
       "      <td>110.094337</td>\n",
       "      <td>128211.172535</td>\n",
       "      <td>5.714645</td>\n",
       "      <td>0.0</td>\n",
       "      <td>50508.689087</td>\n",
       "    </tr>\n",
       "    <tr>\n",
       "      <th>std</th>\n",
       "      <td>4514.158514</td>\n",
       "      <td>90.227958</td>\n",
       "      <td>189.850405</td>\n",
       "      <td>37905.341530</td>\n",
       "      <td>3.726421</td>\n",
       "      <td>0.0</td>\n",
       "      <td>25783.096248</td>\n",
       "    </tr>\n",
       "    <tr>\n",
       "      <th>min</th>\n",
       "      <td>0.000000</td>\n",
       "      <td>1000.000000</td>\n",
       "      <td>0.000000</td>\n",
       "      <td>5000.000000</td>\n",
       "      <td>0.000000</td>\n",
       "      <td>0.0</td>\n",
       "      <td>1067.000000</td>\n",
       "    </tr>\n",
       "    <tr>\n",
       "      <th>25%</th>\n",
       "      <td>1050.000000</td>\n",
       "      <td>1999.000000</td>\n",
       "      <td>69.000000</td>\n",
       "      <td>125000.000000</td>\n",
       "      <td>3.000000</td>\n",
       "      <td>0.0</td>\n",
       "      <td>30165.000000</td>\n",
       "    </tr>\n",
       "    <tr>\n",
       "      <th>50%</th>\n",
       "      <td>2700.000000</td>\n",
       "      <td>2003.000000</td>\n",
       "      <td>105.000000</td>\n",
       "      <td>150000.000000</td>\n",
       "      <td>6.000000</td>\n",
       "      <td>0.0</td>\n",
       "      <td>49413.000000</td>\n",
       "    </tr>\n",
       "    <tr>\n",
       "      <th>75%</th>\n",
       "      <td>6400.000000</td>\n",
       "      <td>2008.000000</td>\n",
       "      <td>143.000000</td>\n",
       "      <td>150000.000000</td>\n",
       "      <td>9.000000</td>\n",
       "      <td>0.0</td>\n",
       "      <td>71083.000000</td>\n",
       "    </tr>\n",
       "    <tr>\n",
       "      <th>max</th>\n",
       "      <td>20000.000000</td>\n",
       "      <td>9999.000000</td>\n",
       "      <td>20000.000000</td>\n",
       "      <td>150000.000000</td>\n",
       "      <td>12.000000</td>\n",
       "      <td>0.0</td>\n",
       "      <td>99998.000000</td>\n",
       "    </tr>\n",
       "  </tbody>\n",
       "</table>\n",
       "</div>"
      ],
      "text/plain": [
       "               Price  RegistrationYear          Power      Kilometer  \\\n",
       "count  354369.000000     354369.000000  354369.000000  354369.000000   \n",
       "mean     4416.656776       2004.234448     110.094337  128211.172535   \n",
       "std      4514.158514         90.227958     189.850405   37905.341530   \n",
       "min         0.000000       1000.000000       0.000000    5000.000000   \n",
       "25%      1050.000000       1999.000000      69.000000  125000.000000   \n",
       "50%      2700.000000       2003.000000     105.000000  150000.000000   \n",
       "75%      6400.000000       2008.000000     143.000000  150000.000000   \n",
       "max     20000.000000       9999.000000   20000.000000  150000.000000   \n",
       "\n",
       "       RegistrationMonth  NumberOfPictures     PostalCode  \n",
       "count      354369.000000          354369.0  354369.000000  \n",
       "mean            5.714645               0.0   50508.689087  \n",
       "std             3.726421               0.0   25783.096248  \n",
       "min             0.000000               0.0    1067.000000  \n",
       "25%             3.000000               0.0   30165.000000  \n",
       "50%             6.000000               0.0   49413.000000  \n",
       "75%             9.000000               0.0   71083.000000  \n",
       "max            12.000000               0.0   99998.000000  "
      ]
     },
     "execution_count": 5,
     "metadata": {},
     "output_type": "execute_result"
    }
   ],
   "source": [
    "data.describe()"
   ]
  },
  {
   "cell_type": "markdown",
   "id": "4aadfec2",
   "metadata": {},
   "source": [
    "<div style=\"border-radius:10px; border:#DEB887 solid; padding: 15px; background-color: #FFFAF0; font-size:100%; text-align:left\">\n",
    " - The maximum year 9999 was found in the \"RegistrationYear\" column data, which is incorrect. It is necessary to examine this column and remove all rows with an incorrect year of registration.\n",
    "     <br> - It follows from the data that the \"NumberOfPictures\" column consists of zeros. You need to check this column, if so, you need to delete it.\n",
    "     <br> - The \"PostalCode\" column is not useful in predicting data. You can delete it.\n",
    "     <br> - In the data column \"Power\" the maximum power is 20000, which according to the Internet is not reasonable. Because To date, TranStar Racing LLC's Dagger GT has been named the most powerful passenger car in the world, with an engine power exceeding 2000 horsepower (2028 hp).\n",
    "    <br> - A zero price was found in the data of the \"Price\" column, apparently the seller did not indicate the price of the car in the questionnaire. But this column is a target feature, and it is important in data prediction, so we will remove columns with zero price. - The maximum year 9999 was found in the data of the \"RegistrationYear\" column, which is incorrect. It is necessary to examine this column and remove all rows with an incorrect year of registration.\n",
    "     <br> - It follows from the data that the \"NumberOfPictures\" column consists of zeros. You need to check this column, if so, you need to delete it.\n",
    "     <br> - The \"PostalCode\" column is not useful in predicting data. You can delete it.\n",
    "     <br> - In the data column \"Power\" the maximum power is 20000, which according to the Internet is not reasonable. Because To date, TranStar Racing LLC's Dagger GT has been named the most powerful passenger car in the world, with an engine power exceeding 2000 horsepower (2028 hp).\n",
    "    <br> - A zero price was found in the data of the \"Price\" column, apparently the seller did not indicate the price of the car in the questionnaire. But this column is a target feature, and it is important when predicting data, so we will remove the columns with a zero price."
   ]
  },
  {
   "cell_type": "code",
   "execution_count": 6,
   "id": "b9dacd36",
   "metadata": {},
   "outputs": [
    {
     "data": {
      "text/plain": [
       "4"
      ]
     },
     "execution_count": 6,
     "metadata": {},
     "output_type": "execute_result"
    }
   ],
   "source": [
    "#check for duplicates\n",
    "data.duplicated().sum()"
   ]
  },
  {
   "cell_type": "markdown",
   "id": "c88199bc",
   "metadata": {},
   "source": [
    "<div style=\"border-radius:10px; border:#DEB887 solid; padding: 15px; background-color: #FFFAF0; font-size:100%; text-align:left\">\n",
    "    The data contains duplicates, you need to remove them."
   ]
  },
  {
   "cell_type": "markdown",
   "id": "a2b53ba5",
   "metadata": {},
   "source": [
    "<div class=\"alert alert-block alert-info\" style=\"background-color:#FFFAF0;\n",
    "                                                 color:black;\n",
    "                                                 border-color:#DEB887;\n",
    "                                                 border-radius:5px;\n",
    "                                                 width:50%;\n",
    "                                                 margin: auto;\n",
    "                                                 text-align: left;\">\n",
    "<b>✍ Conclusion</b>\n",
    "<br>Duplicates and gaps found in data. You need to change the column type \"DateCrawled\". Incorrect column name detected. It is necessary to check the column \"RegistrationYear\" and \"NumberOfPictures\" for the correctness of the data.\n",
    "        \n",
    "</div>"
   ]
  },
  {
   "cell_type": "markdown",
   "id": "4c818600",
   "metadata": {},
   "source": [
    "<a id=\"Data_preprocessing\"></a>\n",
    "<div style=\"padding:20px;\n",
    "            color:white;\n",
    "            margin:10;\n",
    "            font-size:170%;\n",
    "            text-align:left;\n",
    "            display:fill;\n",
    "            border-radius:5px;\n",
    "            background-color:#294B8E;\n",
    "            overflow:hidden;\n",
    "            font-weight:700\"><span style='color:#CDA63A'>|</span> Data preprocessing</div>"
   ]
  },
  {
   "cell_type": "code",
   "execution_count": 7,
   "id": "78699e56",
   "metadata": {},
   "outputs": [],
   "source": [
    "#delete duplicates\n",
    "data = data.drop_duplicates()"
   ]
  },
  {
   "cell_type": "code",
   "execution_count": 8,
   "id": "01cb2659",
   "metadata": {},
   "outputs": [],
   "source": [
    "#renames columns\n",
    "data = data.rename(columns = {\n",
    "    'DateCrawled': 'Date_crawled',\n",
    "    'VehicleType': 'Vehicle_type',\n",
    "    'RegistrationYear': 'Registration_year',\n",
    "    'RegistrationMonth': 'Registration_month',\n",
    "    'FuelType': 'Fuel_type',\n",
    "    'DateCreated': 'Date_created',\n",
    "    'NumberOfPictures': 'Number_of_pictures',\n",
    "    'PostalCode': 'Postal_code',\n",
    "    'LastSeen': 'Last_seen'})"
   ]
  },
  {
   "cell_type": "markdown",
   "id": "5e9d65b0",
   "metadata": {},
   "source": [
    "<div style=\"border-radius:10px; border:#DEB887 solid; padding: 15px; background-color: #FFFAF0; font-size:100%; text-align:left\">\n",
    "Let's delete the \"Date_crawled\" column. date is similar to Date_created"
   ]
  },
  {
   "cell_type": "code",
   "execution_count": 9,
   "id": "f9d8445a",
   "metadata": {},
   "outputs": [],
   "source": [
    "data = data.drop(['Date_crawled'], axis = 1)"
   ]
  },
  {
   "cell_type": "code",
   "execution_count": 10,
   "id": "adb2b7dd",
   "metadata": {},
   "outputs": [],
   "source": [
    "#change column type 'Date_created'\n",
    "data['Date_created'] = pd.to_datetime(data['Date_created'], format=\"%Y-%m-%dT%H:%M:%S\")"
   ]
  },
  {
   "cell_type": "code",
   "execution_count": 11,
   "id": "70d47322",
   "metadata": {},
   "outputs": [
    {
     "data": {
      "text/plain": [
       "354365"
      ]
     },
     "execution_count": 11,
     "metadata": {},
     "output_type": "execute_result"
    }
   ],
   "source": [
    "#how many zeros rows in \"Number_of_pictures\"\n",
    "len(data[data['Number_of_pictures'] == 0])"
   ]
  },
  {
   "cell_type": "markdown",
   "id": "27c6e109",
   "metadata": {},
   "source": [
    "<div style=\"border-radius:10px; border:#DEB887 solid; padding: 15px; background-color: #FFFAF0; font-size:100%; text-align:left\">\n",
    "    All rows in the \"Number_of_pictures\" column are null, hence the need to remove the column."
   ]
  },
  {
   "cell_type": "code",
   "execution_count": 12,
   "id": "b3c603c4",
   "metadata": {},
   "outputs": [],
   "source": [
    "data = data.drop(columns = ['Number_of_pictures'], axis = 1)"
   ]
  },
  {
   "cell_type": "code",
   "execution_count": 13,
   "id": "96abe327",
   "metadata": {},
   "outputs": [],
   "source": [
    "#change type columns \"Registration_year\" and \"Registration_month\"\n",
    "data['Registration_year'] = data['Registration_year'].astype(int)\n",
    "data['Registration_month'] = data['Registration_month'].astype(int)"
   ]
  },
  {
   "cell_type": "code",
   "execution_count": 14,
   "id": "313fe51a",
   "metadata": {},
   "outputs": [],
   "source": [
    "#let's check column data \"Registration_year\"\n",
    "data = data.loc[data['Registration_year'] < 2016]"
   ]
  },
  {
   "cell_type": "code",
   "execution_count": 15,
   "id": "f4d7f02b",
   "metadata": {},
   "outputs": [
    {
     "data": {
      "text/plain": [
       "16351"
      ]
     },
     "execution_count": 15,
     "metadata": {},
     "output_type": "execute_result"
    }
   ],
   "source": [
    "data['Model'].isna().sum()"
   ]
  },
  {
   "cell_type": "markdown",
   "id": "51703648",
   "metadata": {},
   "source": [
    "<div style=\"border-radius:10px; border:#DEB887 solid; padding: 15px; background-color: #FFFAF0; font-size:100%; text-align:left\">\n",
    "    This is 5% of the data from the total. We can remove them."
   ]
  },
  {
   "cell_type": "code",
   "execution_count": 16,
   "id": "37679bf5",
   "metadata": {},
   "outputs": [],
   "source": [
    "#remove data with missing values in the \"Model\" column\n",
    "data = data.loc[~data['Model'].isna()]"
   ]
  },
  {
   "cell_type": "code",
   "execution_count": 17,
   "id": "1ca760c0",
   "metadata": {},
   "outputs": [],
   "source": [
    "data = data.drop(columns = ['Postal_code'], axis = 1)"
   ]
  },
  {
   "cell_type": "markdown",
   "id": "5645bb84",
   "metadata": {},
   "source": [
    "<div style=\"border-radius:10px; border:#DEB887 solid; padding: 15px; background-color: #FFFAF0; font-size:100%; text-align:left\">\n",
    "The \"Power\" column has many zero values and values greater than 800 hp, so let's replace them with median values."
   ]
  },
  {
   "cell_type": "code",
   "execution_count": 18,
   "id": "f584e37c",
   "metadata": {
    "scrolled": true
   },
   "outputs": [],
   "source": [
    "#replace incorrect values with nan\n",
    "data.loc[(data['Power'] > 800) | (data['Power'] == 0), 'Power'] = None "
   ]
  },
  {
   "cell_type": "code",
   "execution_count": 19,
   "id": "e7b4d8e1",
   "metadata": {},
   "outputs": [],
   "source": [
    "#replace nan in the \"Power\" column with the median value\n",
    "data['Power'] = data['Power'].fillna(data.groupby(['Model'])['Power'].transform('median'))"
   ]
  },
  {
   "cell_type": "code",
   "execution_count": 20,
   "id": "9fe49837",
   "metadata": {},
   "outputs": [],
   "source": [
    "data = data.loc[~data['Power'].isna()]"
   ]
  },
  {
   "cell_type": "markdown",
   "id": "928edb7c",
   "metadata": {},
   "source": [
    "<div style=\"border-radius:10px; border:#DEB887 solid; padding: 15px; background-color: #FFFAF0; font-size:100%; text-align:left\">\n",
    "In the \"Vehicle_type\", \"Gearbox\", \"Fuel_type\" columns, the missing values will be replaced by frequently occurring ones, and in the \"Repaired\" missing values will be replaced by 'unknown'."
   ]
  },
  {
   "cell_type": "code",
   "execution_count": 21,
   "id": "2d787636",
   "metadata": {},
   "outputs": [],
   "source": [
    "data['Vehicle_type'] = data['Vehicle_type'].fillna(\n",
    "    data.groupby('Model')['Vehicle_type'].transform(lambda x: x.value_counts().idxmax()))"
   ]
  },
  {
   "cell_type": "code",
   "execution_count": 22,
   "id": "90579828",
   "metadata": {},
   "outputs": [],
   "source": [
    "data['Gearbox'] = data['Gearbox'].fillna(\n",
    "    data.groupby('Model')['Gearbox'].transform(lambda x: x.value_counts().idxmax()))"
   ]
  },
  {
   "cell_type": "code",
   "execution_count": 23,
   "id": "c4ac6ebd",
   "metadata": {},
   "outputs": [],
   "source": [
    "data['Fuel_type'] = data['Fuel_type'].fillna(\n",
    "    data.groupby('Model')['Fuel_type'].transform(lambda x: x.value_counts().idxmax()))"
   ]
  },
  {
   "cell_type": "code",
   "execution_count": 24,
   "id": "c16f8809",
   "metadata": {},
   "outputs": [],
   "source": [
    "data['Repaired'] = data['Repaired'].fillna('unknown')"
   ]
  },
  {
   "cell_type": "markdown",
   "id": "b1ed44a2",
   "metadata": {},
   "source": [
    "<div style=\"border-radius:10px; border:#DEB887 solid; padding: 15px; background-color: #FFFAF0; font-size:100%; text-align:left\">\n",
    "Columns \"Date_created\", \"Last_seen\" will be deleted, because are uninformative."
   ]
  },
  {
   "cell_type": "code",
   "execution_count": 25,
   "id": "7c3d6a85",
   "metadata": {},
   "outputs": [],
   "source": [
    "data = data.drop(['Date_created'], axis =1)\n",
    "data = data.drop(['Last_seen'], axis =1)"
   ]
  },
  {
   "cell_type": "code",
   "execution_count": 26,
   "id": "7b652114",
   "metadata": {},
   "outputs": [],
   "source": [
    "#removed lines with zero price, they are clearly wrong\n",
    "data = data.loc[data['Price'] != 0]"
   ]
  },
  {
   "cell_type": "markdown",
   "id": "27dad099",
   "metadata": {},
   "source": [
    "<div class=\"alert alert-block alert-info\" style=\"background-color:#FFFAF0;\n",
    "                                                 color:black;\n",
    "                                                 border-color:#DEB887;\n",
    "                                                 border-radius:5px;\n",
    "                                                 width:50%;\n",
    "                                                 margin: auto;\n",
    "                                                 text-align: left;\">\n",
    "\n",
    "<b>✍ Conclusion</b>\n",
    "         <ul>\n",
    "<li>Duplicates removed.</li>\n",
    "<li>Columns renamed.</li>\n",
    "<li>Columns \"VehicleType\", \"Gearbox\", \"FuelType\" are filled with frequently occurring values.</li>\n",
    "<li>The data in the \"RegistrationYear\", \"Power\", \"Repaired\" columns has been corrected.</li>\n",
    "<li>Rows with missing values in the \"Model\" column have been removed.</li>\n",
    "<li>Data type changed in \"RegistrationMonth\", \"DateCreated\" column.</li>\n",
    "<li>Columns \"NumberOfPictures\", \"PostalCode\", \"Date_crawled\", \"Date_created\", \"Last_seen\" have been removed because are not informative.</li>\n",
    "</ul>\n",
    "</div>"
   ]
  },
  {
   "cell_type": "markdown",
   "id": "55a3d698",
   "metadata": {},
   "source": [
    "<a id=\"Prepare-samples-for-training-models\"></a>\n",
    "<div style=\"padding:20px;\n",
    "            color:white;\n",
    "            margin:10;\n",
    "            font-size:170%;\n",
    "            text-align:left;\n",
    "            display:fill;\n",
    "            border-radius:5px;\n",
    "            background-color:#294B8E;\n",
    "            overflow:hidden;\n",
    "            font-weight:700\"><span style='color:#CDA63A'>|</span> Prepare samples for training models</div>"
   ]
  },
  {
   "cell_type": "code",
   "execution_count": 27,
   "id": "a83de0f6",
   "metadata": {},
   "outputs": [],
   "source": [
    "X = data.drop('Price', axis=1)\n",
    "y = data['Price']"
   ]
  },
  {
   "cell_type": "code",
   "execution_count": 28,
   "id": "4cf07e4c",
   "metadata": {},
   "outputs": [],
   "source": [
    "X_train, X_test_1, y_train, y_test_1  = train_test_split(X, y, test_size=0.4, random_state=42)\n",
    "X_valid, X_test, y_valid, y_test =train_test_split(X_test_1, y_test_1, test_size=0.5, random_state=42)"
   ]
  },
  {
   "cell_type": "code",
   "execution_count": 29,
   "id": "04754351",
   "metadata": {},
   "outputs": [
    {
     "name": "stdout",
     "output_type": "stream",
     "text": [
      "Training sample size: (183834, 10)\n",
      "Validation sample size: (61278, 10)\n",
      "Testing sample size: (61278, 10)\n"
     ]
    }
   ],
   "source": [
    "print(f\"Training sample size: {X_train.shape}\")\n",
    "\n",
    "print(f\"Validation sample size: {X_valid.shape}\")\n",
    "\n",
    "print(f\"Testing sample size: {X_test.shape}\")"
   ]
  },
  {
   "cell_type": "markdown",
   "id": "f0710562",
   "metadata": {},
   "source": [
    "<div class=\"alert alert-block alert-info\" style=\"background-color:#FFFAF0;\n",
    "                                                 color:black;\n",
    "                                                 border-color:#DEB887;\n",
    "                                                 border-radius:5px;\n",
    "                                                 width:50%;\n",
    "                                                 margin: auto;\n",
    "                                                 text-align: left;\">\n",
    "\n",
    "<b>✍ Conclusion</b>\n",
    "        <ul>\n",
    "<li>Data splited on the training, validation and testing sample.</li>\n",
    "\n",
    "</ul>\n",
    "</div>"
   ]
  },
  {
   "cell_type": "markdown",
   "id": "1a759aa9",
   "metadata": {},
   "source": [
    "<a id=\"Direct-features-coding\"></a>\n",
    "<div style=\"padding:20px;\n",
    "            color:white;\n",
    "            margin:10;\n",
    "            font-size:170%;\n",
    "            text-align:left;\n",
    "            display:fill;\n",
    "            border-radius:5px;\n",
    "            background-color:#294B8E;\n",
    "            overflow:hidden;\n",
    "            font-weight:700\"><span style='color:#CDA63A'>|</span> Direct features coding</div>"
   ]
  },
  {
   "cell_type": "code",
   "execution_count": 30,
   "id": "cb127a81",
   "metadata": {},
   "outputs": [],
   "source": [
    "X_train_ohe = pd.get_dummies(X_train, drop_first=True)\n",
    "X_valid_ohe = pd.get_dummies(X_valid, drop_first=True)\n",
    "X_test_ohe = pd.get_dummies(X_test, drop_first=True)"
   ]
  },
  {
   "cell_type": "code",
   "execution_count": 31,
   "id": "cb377b92",
   "metadata": {},
   "outputs": [
    {
     "data": {
      "text/html": [
       "<div>\n",
       "<style scoped>\n",
       "    .dataframe tbody tr th:only-of-type {\n",
       "        vertical-align: middle;\n",
       "    }\n",
       "\n",
       "    .dataframe tbody tr th {\n",
       "        vertical-align: top;\n",
       "    }\n",
       "\n",
       "    .dataframe thead th {\n",
       "        text-align: right;\n",
       "    }\n",
       "</style>\n",
       "<table border=\"1\" class=\"dataframe\">\n",
       "  <thead>\n",
       "    <tr style=\"text-align: right;\">\n",
       "      <th></th>\n",
       "      <th>Registration_year</th>\n",
       "      <th>Power</th>\n",
       "      <th>Kilometer</th>\n",
       "      <th>Registration_month</th>\n",
       "      <th>Vehicle_type_convertible</th>\n",
       "      <th>Vehicle_type_coupe</th>\n",
       "      <th>Vehicle_type_other</th>\n",
       "      <th>Vehicle_type_sedan</th>\n",
       "      <th>Vehicle_type_small</th>\n",
       "      <th>Vehicle_type_suv</th>\n",
       "      <th>...</th>\n",
       "      <th>Brand_skoda</th>\n",
       "      <th>Brand_smart</th>\n",
       "      <th>Brand_subaru</th>\n",
       "      <th>Brand_suzuki</th>\n",
       "      <th>Brand_toyota</th>\n",
       "      <th>Brand_trabant</th>\n",
       "      <th>Brand_volkswagen</th>\n",
       "      <th>Brand_volvo</th>\n",
       "      <th>Repaired_unknown</th>\n",
       "      <th>Repaired_yes</th>\n",
       "    </tr>\n",
       "  </thead>\n",
       "  <tbody>\n",
       "    <tr>\n",
       "      <th>271146</th>\n",
       "      <td>2007</td>\n",
       "      <td>109.0</td>\n",
       "      <td>150000</td>\n",
       "      <td>3</td>\n",
       "      <td>0</td>\n",
       "      <td>0</td>\n",
       "      <td>0</td>\n",
       "      <td>0</td>\n",
       "      <td>0</td>\n",
       "      <td>0</td>\n",
       "      <td>...</td>\n",
       "      <td>0</td>\n",
       "      <td>0</td>\n",
       "      <td>0</td>\n",
       "      <td>0</td>\n",
       "      <td>0</td>\n",
       "      <td>0</td>\n",
       "      <td>0</td>\n",
       "      <td>0</td>\n",
       "      <td>0</td>\n",
       "      <td>0</td>\n",
       "    </tr>\n",
       "    <tr>\n",
       "      <th>21506</th>\n",
       "      <td>1999</td>\n",
       "      <td>75.0</td>\n",
       "      <td>150000</td>\n",
       "      <td>1</td>\n",
       "      <td>0</td>\n",
       "      <td>0</td>\n",
       "      <td>1</td>\n",
       "      <td>0</td>\n",
       "      <td>0</td>\n",
       "      <td>0</td>\n",
       "      <td>...</td>\n",
       "      <td>0</td>\n",
       "      <td>0</td>\n",
       "      <td>0</td>\n",
       "      <td>0</td>\n",
       "      <td>0</td>\n",
       "      <td>0</td>\n",
       "      <td>0</td>\n",
       "      <td>0</td>\n",
       "      <td>1</td>\n",
       "      <td>0</td>\n",
       "    </tr>\n",
       "    <tr>\n",
       "      <th>33507</th>\n",
       "      <td>2006</td>\n",
       "      <td>218.0</td>\n",
       "      <td>150000</td>\n",
       "      <td>8</td>\n",
       "      <td>0</td>\n",
       "      <td>0</td>\n",
       "      <td>0</td>\n",
       "      <td>0</td>\n",
       "      <td>0</td>\n",
       "      <td>1</td>\n",
       "      <td>...</td>\n",
       "      <td>0</td>\n",
       "      <td>0</td>\n",
       "      <td>0</td>\n",
       "      <td>0</td>\n",
       "      <td>0</td>\n",
       "      <td>0</td>\n",
       "      <td>0</td>\n",
       "      <td>0</td>\n",
       "      <td>0</td>\n",
       "      <td>0</td>\n",
       "    </tr>\n",
       "    <tr>\n",
       "      <th>166662</th>\n",
       "      <td>2005</td>\n",
       "      <td>88.0</td>\n",
       "      <td>80000</td>\n",
       "      <td>5</td>\n",
       "      <td>0</td>\n",
       "      <td>0</td>\n",
       "      <td>0</td>\n",
       "      <td>1</td>\n",
       "      <td>0</td>\n",
       "      <td>0</td>\n",
       "      <td>...</td>\n",
       "      <td>0</td>\n",
       "      <td>0</td>\n",
       "      <td>0</td>\n",
       "      <td>0</td>\n",
       "      <td>0</td>\n",
       "      <td>0</td>\n",
       "      <td>0</td>\n",
       "      <td>0</td>\n",
       "      <td>0</td>\n",
       "      <td>1</td>\n",
       "    </tr>\n",
       "    <tr>\n",
       "      <th>192369</th>\n",
       "      <td>2008</td>\n",
       "      <td>95.0</td>\n",
       "      <td>125000</td>\n",
       "      <td>10</td>\n",
       "      <td>0</td>\n",
       "      <td>0</td>\n",
       "      <td>0</td>\n",
       "      <td>1</td>\n",
       "      <td>0</td>\n",
       "      <td>0</td>\n",
       "      <td>...</td>\n",
       "      <td>0</td>\n",
       "      <td>0</td>\n",
       "      <td>0</td>\n",
       "      <td>0</td>\n",
       "      <td>0</td>\n",
       "      <td>0</td>\n",
       "      <td>0</td>\n",
       "      <td>0</td>\n",
       "      <td>0</td>\n",
       "      <td>0</td>\n",
       "    </tr>\n",
       "    <tr>\n",
       "      <th>...</th>\n",
       "      <td>...</td>\n",
       "      <td>...</td>\n",
       "      <td>...</td>\n",
       "      <td>...</td>\n",
       "      <td>...</td>\n",
       "      <td>...</td>\n",
       "      <td>...</td>\n",
       "      <td>...</td>\n",
       "      <td>...</td>\n",
       "      <td>...</td>\n",
       "      <td>...</td>\n",
       "      <td>...</td>\n",
       "      <td>...</td>\n",
       "      <td>...</td>\n",
       "      <td>...</td>\n",
       "      <td>...</td>\n",
       "      <td>...</td>\n",
       "      <td>...</td>\n",
       "      <td>...</td>\n",
       "      <td>...</td>\n",
       "      <td>...</td>\n",
       "    </tr>\n",
       "    <tr>\n",
       "      <th>138497</th>\n",
       "      <td>2008</td>\n",
       "      <td>170.0</td>\n",
       "      <td>150000</td>\n",
       "      <td>10</td>\n",
       "      <td>0</td>\n",
       "      <td>0</td>\n",
       "      <td>0</td>\n",
       "      <td>0</td>\n",
       "      <td>0</td>\n",
       "      <td>0</td>\n",
       "      <td>...</td>\n",
       "      <td>0</td>\n",
       "      <td>0</td>\n",
       "      <td>0</td>\n",
       "      <td>0</td>\n",
       "      <td>0</td>\n",
       "      <td>0</td>\n",
       "      <td>1</td>\n",
       "      <td>0</td>\n",
       "      <td>1</td>\n",
       "      <td>0</td>\n",
       "    </tr>\n",
       "    <tr>\n",
       "      <th>299841</th>\n",
       "      <td>2011</td>\n",
       "      <td>141.0</td>\n",
       "      <td>125000</td>\n",
       "      <td>8</td>\n",
       "      <td>1</td>\n",
       "      <td>0</td>\n",
       "      <td>0</td>\n",
       "      <td>0</td>\n",
       "      <td>0</td>\n",
       "      <td>0</td>\n",
       "      <td>...</td>\n",
       "      <td>0</td>\n",
       "      <td>0</td>\n",
       "      <td>0</td>\n",
       "      <td>0</td>\n",
       "      <td>0</td>\n",
       "      <td>0</td>\n",
       "      <td>0</td>\n",
       "      <td>0</td>\n",
       "      <td>0</td>\n",
       "      <td>0</td>\n",
       "    </tr>\n",
       "    <tr>\n",
       "      <th>152465</th>\n",
       "      <td>2002</td>\n",
       "      <td>231.0</td>\n",
       "      <td>150000</td>\n",
       "      <td>8</td>\n",
       "      <td>1</td>\n",
       "      <td>0</td>\n",
       "      <td>0</td>\n",
       "      <td>0</td>\n",
       "      <td>0</td>\n",
       "      <td>0</td>\n",
       "      <td>...</td>\n",
       "      <td>0</td>\n",
       "      <td>0</td>\n",
       "      <td>0</td>\n",
       "      <td>0</td>\n",
       "      <td>0</td>\n",
       "      <td>0</td>\n",
       "      <td>0</td>\n",
       "      <td>0</td>\n",
       "      <td>0</td>\n",
       "      <td>0</td>\n",
       "    </tr>\n",
       "    <tr>\n",
       "      <th>169770</th>\n",
       "      <td>2007</td>\n",
       "      <td>235.0</td>\n",
       "      <td>150000</td>\n",
       "      <td>7</td>\n",
       "      <td>0</td>\n",
       "      <td>0</td>\n",
       "      <td>0</td>\n",
       "      <td>1</td>\n",
       "      <td>0</td>\n",
       "      <td>0</td>\n",
       "      <td>...</td>\n",
       "      <td>0</td>\n",
       "      <td>0</td>\n",
       "      <td>0</td>\n",
       "      <td>0</td>\n",
       "      <td>0</td>\n",
       "      <td>0</td>\n",
       "      <td>0</td>\n",
       "      <td>0</td>\n",
       "      <td>0</td>\n",
       "      <td>0</td>\n",
       "    </tr>\n",
       "    <tr>\n",
       "      <th>140918</th>\n",
       "      <td>2008</td>\n",
       "      <td>80.0</td>\n",
       "      <td>90000</td>\n",
       "      <td>7</td>\n",
       "      <td>0</td>\n",
       "      <td>0</td>\n",
       "      <td>0</td>\n",
       "      <td>0</td>\n",
       "      <td>1</td>\n",
       "      <td>0</td>\n",
       "      <td>...</td>\n",
       "      <td>0</td>\n",
       "      <td>0</td>\n",
       "      <td>0</td>\n",
       "      <td>0</td>\n",
       "      <td>0</td>\n",
       "      <td>0</td>\n",
       "      <td>0</td>\n",
       "      <td>0</td>\n",
       "      <td>0</td>\n",
       "      <td>0</td>\n",
       "    </tr>\n",
       "  </tbody>\n",
       "</table>\n",
       "<p>183834 rows × 306 columns</p>\n",
       "</div>"
      ],
      "text/plain": [
       "        Registration_year  Power  Kilometer  Registration_month  \\\n",
       "271146               2007  109.0     150000                   3   \n",
       "21506                1999   75.0     150000                   1   \n",
       "33507                2006  218.0     150000                   8   \n",
       "166662               2005   88.0      80000                   5   \n",
       "192369               2008   95.0     125000                  10   \n",
       "...                   ...    ...        ...                 ...   \n",
       "138497               2008  170.0     150000                  10   \n",
       "299841               2011  141.0     125000                   8   \n",
       "152465               2002  231.0     150000                   8   \n",
       "169770               2007  235.0     150000                   7   \n",
       "140918               2008   80.0      90000                   7   \n",
       "\n",
       "        Vehicle_type_convertible  Vehicle_type_coupe  Vehicle_type_other  \\\n",
       "271146                         0                   0                   0   \n",
       "21506                          0                   0                   1   \n",
       "33507                          0                   0                   0   \n",
       "166662                         0                   0                   0   \n",
       "192369                         0                   0                   0   \n",
       "...                          ...                 ...                 ...   \n",
       "138497                         0                   0                   0   \n",
       "299841                         1                   0                   0   \n",
       "152465                         1                   0                   0   \n",
       "169770                         0                   0                   0   \n",
       "140918                         0                   0                   0   \n",
       "\n",
       "        Vehicle_type_sedan  Vehicle_type_small  Vehicle_type_suv  ...  \\\n",
       "271146                   0                   0                 0  ...   \n",
       "21506                    0                   0                 0  ...   \n",
       "33507                    0                   0                 1  ...   \n",
       "166662                   1                   0                 0  ...   \n",
       "192369                   1                   0                 0  ...   \n",
       "...                    ...                 ...               ...  ...   \n",
       "138497                   0                   0                 0  ...   \n",
       "299841                   0                   0                 0  ...   \n",
       "152465                   0                   0                 0  ...   \n",
       "169770                   1                   0                 0  ...   \n",
       "140918                   0                   1                 0  ...   \n",
       "\n",
       "        Brand_skoda  Brand_smart  Brand_subaru  Brand_suzuki  Brand_toyota  \\\n",
       "271146            0            0             0             0             0   \n",
       "21506             0            0             0             0             0   \n",
       "33507             0            0             0             0             0   \n",
       "166662            0            0             0             0             0   \n",
       "192369            0            0             0             0             0   \n",
       "...             ...          ...           ...           ...           ...   \n",
       "138497            0            0             0             0             0   \n",
       "299841            0            0             0             0             0   \n",
       "152465            0            0             0             0             0   \n",
       "169770            0            0             0             0             0   \n",
       "140918            0            0             0             0             0   \n",
       "\n",
       "        Brand_trabant  Brand_volkswagen  Brand_volvo  Repaired_unknown  \\\n",
       "271146              0                 0            0                 0   \n",
       "21506               0                 0            0                 1   \n",
       "33507               0                 0            0                 0   \n",
       "166662              0                 0            0                 0   \n",
       "192369              0                 0            0                 0   \n",
       "...               ...               ...          ...               ...   \n",
       "138497              0                 1            0                 1   \n",
       "299841              0                 0            0                 0   \n",
       "152465              0                 0            0                 0   \n",
       "169770              0                 0            0                 0   \n",
       "140918              0                 0            0                 0   \n",
       "\n",
       "        Repaired_yes  \n",
       "271146             0  \n",
       "21506              0  \n",
       "33507              0  \n",
       "166662             1  \n",
       "192369             0  \n",
       "...              ...  \n",
       "138497             0  \n",
       "299841             0  \n",
       "152465             0  \n",
       "169770             0  \n",
       "140918             0  \n",
       "\n",
       "[183834 rows x 306 columns]"
      ]
     },
     "execution_count": 31,
     "metadata": {},
     "output_type": "execute_result"
    }
   ],
   "source": [
    "X_train_ohe"
   ]
  },
  {
   "cell_type": "code",
   "execution_count": 32,
   "id": "4d636f70",
   "metadata": {},
   "outputs": [
    {
     "data": {
      "text/plain": [
       "(61278, 302)"
      ]
     },
     "execution_count": 32,
     "metadata": {},
     "output_type": "execute_result"
    }
   ],
   "source": [
    "X_valid_ohe.shape"
   ]
  },
  {
   "cell_type": "code",
   "execution_count": 33,
   "id": "7c87061a",
   "metadata": {},
   "outputs": [
    {
     "data": {
      "text/plain": [
       "(61278, 304)"
      ]
     },
     "execution_count": 33,
     "metadata": {},
     "output_type": "execute_result"
    }
   ],
   "source": [
    "X_test_ohe.shape"
   ]
  },
  {
   "cell_type": "code",
   "execution_count": 34,
   "id": "36f260da",
   "metadata": {},
   "outputs": [
    {
     "data": {
      "text/plain": [
       "(183834, 306)"
      ]
     },
     "execution_count": 34,
     "metadata": {},
     "output_type": "execute_result"
    }
   ],
   "source": [
    "X_train_ohe.shape"
   ]
  },
  {
   "cell_type": "code",
   "execution_count": 35,
   "id": "8eb388e7",
   "metadata": {},
   "outputs": [
    {
     "name": "stderr",
     "output_type": "stream",
     "text": [
      "/var/folders/cg/b2wsqr_s7fd0x08bc2ykkndc0000gn/T/ipykernel_3160/1622521156.py:4: FutureWarning: Passing a set as an indexer is deprecated and will raise in a future version. Use a list instead.\n",
      "  train = train[common_columns]\n",
      "/var/folders/cg/b2wsqr_s7fd0x08bc2ykkndc0000gn/T/ipykernel_3160/1622521156.py:5: FutureWarning: Passing a set as an indexer is deprecated and will raise in a future version. Use a list instead.\n",
      "  valid = valid[common_columns]\n",
      "/var/folders/cg/b2wsqr_s7fd0x08bc2ykkndc0000gn/T/ipykernel_3160/1622521156.py:6: FutureWarning: Passing a set as an indexer is deprecated and will raise in a future version. Use a list instead.\n",
      "  test = test[common_columns]\n"
     ]
    }
   ],
   "source": [
    "def remove_mismatched_columns(train, valid, test):\n",
    "    common_columns = set(train.columns) & set(valid.columns) & set(test.columns)\n",
    "\n",
    "    train = train[common_columns]\n",
    "    valid = valid[common_columns]\n",
    "    test = test[common_columns]\n",
    "\n",
    "    return train, valid, test\n",
    "\n",
    "X_train_ohe, X_valid_ohe, X_test_ohe = remove_mismatched_columns(\n",
    "    X_train_ohe, X_valid_ohe, X_test_ohe\n",
    ")"
   ]
  },
  {
   "cell_type": "code",
   "execution_count": 36,
   "id": "d88c97e8",
   "metadata": {},
   "outputs": [
    {
     "data": {
      "text/plain": [
       "(61278, 300)"
      ]
     },
     "execution_count": 36,
     "metadata": {},
     "output_type": "execute_result"
    }
   ],
   "source": [
    "X_valid_ohe.shape"
   ]
  },
  {
   "cell_type": "code",
   "execution_count": 37,
   "id": "7011921a",
   "metadata": {},
   "outputs": [
    {
     "data": {
      "text/plain": [
       "(61278, 300)"
      ]
     },
     "execution_count": 37,
     "metadata": {},
     "output_type": "execute_result"
    }
   ],
   "source": [
    "X_test_ohe.shape"
   ]
  },
  {
   "cell_type": "code",
   "execution_count": 38,
   "id": "0c4d3dfb",
   "metadata": {},
   "outputs": [
    {
     "data": {
      "text/plain": [
       "(183834, 300)"
      ]
     },
     "execution_count": 38,
     "metadata": {},
     "output_type": "execute_result"
    }
   ],
   "source": [
    "X_train_ohe.shape"
   ]
  },
  {
   "cell_type": "code",
   "execution_count": 39,
   "id": "73c6fa3a",
   "metadata": {},
   "outputs": [],
   "source": [
    "encoder = OrdinalEncoder()\n",
    "cat_columns =  ['Vehicle_type', 'Gearbox', 'Model', 'Fuel_type', 'Brand', 'Repaired']\n",
    "encoder.fit(X_train[cat_columns])\n",
    "\n",
    "X_train_ord = X_train.copy()\n",
    "X_valid_ord = X_valid.copy()\n",
    "X_test_ord = X_test.copy()\n",
    "\n",
    "X_train_ord[cat_columns] = encoder.transform(X_train_ord[cat_columns])\n",
    "X_valid_ord[cat_columns] = encoder.transform(X_valid_ord[cat_columns])\n",
    "X_test_ord[cat_columns] = encoder.transform(X_test_ord[cat_columns])\n"
   ]
  },
  {
   "cell_type": "markdown",
   "id": "6171deb3",
   "metadata": {},
   "source": [
    "<div class=\"alert alert-block alert-info\" style=\"background-color:#FFFAF0;\n",
    "                                                 color:black;\n",
    "                                                 border-color:#DEB887;\n",
    "                                                 border-radius:5px;\n",
    "                                                 width:50%;\n",
    "                                                 margin: auto;\n",
    "                                                 text-align: left;\">\n",
    "\n",
    "<b>✍ Conclusion</b>\n",
    "        <ul>\n",
    "<li>For direct encoding, the pd.get_dummies() function was used. </li>\n",
    "<li>For the ordinal coding used  function encoder.transform for columns 'Vehicle_type', 'Gearbox', 'Model', 'Fuel_type', 'Brand', 'Repaired'. </li>\n",
    "</ul>\n",
    "</div>"
   ]
  },
  {
   "cell_type": "markdown",
   "id": "2bfefff8",
   "metadata": {},
   "source": [
    "<a id=\"Standartization\"></a>\n",
    "<div style=\"padding:20px;\n",
    "            color:white;\n",
    "            margin:10;\n",
    "            font-size:170%;\n",
    "            text-align:left;\n",
    "            display:fill;\n",
    "            border-radius:5px;\n",
    "            background-color:#294B8E;\n",
    "            overflow:hidden;\n",
    "            font-weight:700\"><span style='color:#CDA63A'>|</span> Standartization</div>"
   ]
  },
  {
   "cell_type": "code",
   "execution_count": 40,
   "id": "a07ec5db",
   "metadata": {},
   "outputs": [],
   "source": [
    "numeric_ord = ['Vehicle_type', 'Registration_year', 'Gearbox', 'Power', 'Model', 'Kilometer', 'Fuel_type', 'Brand','Registration_month', 'Repaired']\n",
    "scaler = StandardScaler()\n",
    "scaler.fit(X_train_ord[numeric_ord])\n",
    "X_train_ord[numeric_ord] = scaler.transform(X_train_ord[numeric_ord])\n",
    "X_valid_ord[numeric_ord] = scaler.transform(X_valid_ord[numeric_ord])\n",
    "X_test_ord[numeric_ord] = scaler.transform(X_test_ord[numeric_ord])"
   ]
  },
  {
   "cell_type": "code",
   "execution_count": 41,
   "id": "0eedf444",
   "metadata": {},
   "outputs": [
    {
     "name": "stderr",
     "output_type": "stream",
     "text": [
      "/var/folders/cg/b2wsqr_s7fd0x08bc2ykkndc0000gn/T/ipykernel_3160/2244036632.py:4: SettingWithCopyWarning: \n",
      "A value is trying to be set on a copy of a slice from a DataFrame.\n",
      "Try using .loc[row_indexer,col_indexer] = value instead\n",
      "\n",
      "See the caveats in the documentation: https://pandas.pydata.org/pandas-docs/stable/user_guide/indexing.html#returning-a-view-versus-a-copy\n",
      "  X_train_ohe[numeric_ohe] = scaler.transform(X_train_ohe[numeric_ohe])\n"
     ]
    }
   ],
   "source": [
    "numeric_ohe = ['Registration_year', 'Power', 'Kilometer', 'Registration_month']\n",
    "scaler = StandardScaler()\n",
    "scaler.fit(X_train_ohe[numeric_ohe])\n",
    "X_train_ohe[numeric_ohe] = scaler.transform(X_train_ohe[numeric_ohe])\n",
    "X_valid_ohe[numeric_ohe] = scaler.transform(X_valid_ohe[numeric_ohe])\n",
    "X_test_ohe[numeric_ohe] = scaler.transform(X_test_ohe[numeric_ohe])"
   ]
  },
  {
   "cell_type": "markdown",
   "id": "6df949bd",
   "metadata": {},
   "source": [
    "<div class=\"alert alert-block alert-info\" style=\"background-color:#FFFAF0;\n",
    "                                                 color:black;\n",
    "                                                 border-color:#DEB887;\n",
    "                                                 border-radius:5px;\n",
    "                                                 width:50%;\n",
    "                                                 margin: auto;\n",
    "                                                 text-align: left;\">\n",
    "\n",
    "<b>✍ Conclusion</b>\n",
    "        <ul>\n",
    "<li>The scale of numerical features was transformed by the standartization method. </li>\n",
    "\n",
    "</ul>\n",
    "</div>"
   ]
  },
  {
   "cell_type": "markdown",
   "id": "5e4663e6",
   "metadata": {},
   "source": [
    "<a id=\"Model-training\"></a>\n",
    "<div style=\"padding:20px;\n",
    "            color:white;\n",
    "            margin:10;\n",
    "            font-size:170%;\n",
    "            text-align:left;\n",
    "            display:fill;\n",
    "            border-radius:5px;\n",
    "            background-color:#294B8E;\n",
    "            overflow:hidden;\n",
    "            font-weight:700\"><span style='color:#CDA63A'>|</span> Model training</div>"
   ]
  },
  {
   "cell_type": "markdown",
   "id": "cb277d35",
   "metadata": {},
   "source": [
    "### <p style=\"font-family:JetBrains Mono; font-weight:bold; letter-spacing: 2px; color:#294B8E; font-size:140%; text-align:left;padding: 0px; border-bottom: 3px solid #294B8E\">CatBoost</p>"
   ]
  },
  {
   "cell_type": "code",
   "execution_count": 42,
   "id": "3f52e2e1",
   "metadata": {},
   "outputs": [],
   "source": [
    "#%%time\n",
    "\n",
    "#parametrs_Cat = {'depth': [4,7,10],\n",
    "#                 'learning_rate': [0.03, 0.1, 0.15],\n",
    "#                 'iterations': [100, 200, 300]\n",
    "#              }\n",
    "\n",
    "#cb = cb.CatBoostRegressor(random_state=12345);\n",
    "\n",
    "#grid_search = GridSearchCV(cb, \n",
    "#                           parametrs_Cat, \n",
    "#                           cv = 3,  \n",
    "#                           n_jobs=-1);\n",
    "\n",
    "#grid_search.fit(X_train, y_train);\n",
    "\n",
    "#grid_search = GridSearchCV(cb, \n",
    "#                           parametrs_Cat, \n",
    "#                           cv = 3,  \n",
    "#                           n_jobs=-1);\n",
    "\n",
    "#grid_search.fit(X_train, y_train);"
   ]
  },
  {
   "cell_type": "code",
   "execution_count": 43,
   "id": "8417d645",
   "metadata": {},
   "outputs": [],
   "source": [
    "#grid_search.best_params_"
   ]
  },
  {
   "cell_type": "code",
   "execution_count": 44,
   "id": "cb8760de",
   "metadata": {},
   "outputs": [],
   "source": [
    "#%%time\n",
    "#pred = grid_search.best_estimator_.predict(X_valid)"
   ]
  },
  {
   "cell_type": "code",
   "execution_count": 45,
   "id": "edf4ea9c",
   "metadata": {},
   "outputs": [],
   "source": [
    "#cat_features = ['Vehicle_type', 'Gearbox', 'Model', 'Fuel_type', 'Brand', 'Repaired']"
   ]
  },
  {
   "cell_type": "code",
   "execution_count": 46,
   "id": "d2f31ddc",
   "metadata": {},
   "outputs": [
    {
     "name": "stdout",
     "output_type": "stream",
     "text": [
      "0:\tlearn: 4071.8536997\ttotal: 76.1ms\tremaining: 22.7s\n",
      "1:\tlearn: 3666.8097939\ttotal: 91ms\tremaining: 13.6s\n",
      "2:\tlearn: 3331.7521720\ttotal: 106ms\tremaining: 10.5s\n",
      "3:\tlearn: 3062.1135815\ttotal: 120ms\tremaining: 8.9s\n",
      "4:\tlearn: 2844.0449094\ttotal: 134ms\tremaining: 7.88s\n",
      "5:\tlearn: 2664.4268821\ttotal: 148ms\tremaining: 7.25s\n",
      "6:\tlearn: 2516.0948946\ttotal: 162ms\tremaining: 6.78s\n",
      "7:\tlearn: 2397.1966065\ttotal: 176ms\tremaining: 6.41s\n",
      "8:\tlearn: 2296.4861456\ttotal: 190ms\tremaining: 6.14s\n",
      "9:\tlearn: 2210.4047529\ttotal: 203ms\tremaining: 5.9s\n",
      "10:\tlearn: 2141.4138762\ttotal: 217ms\tremaining: 5.7s\n",
      "11:\tlearn: 2086.4502235\ttotal: 230ms\tremaining: 5.53s\n",
      "12:\tlearn: 2041.1276868\ttotal: 244ms\tremaining: 5.39s\n",
      "13:\tlearn: 1996.0276256\ttotal: 259ms\tremaining: 5.28s\n",
      "14:\tlearn: 1963.3309139\ttotal: 272ms\tremaining: 5.18s\n",
      "15:\tlearn: 1935.1292316\ttotal: 286ms\tremaining: 5.08s\n",
      "16:\tlearn: 1912.7337323\ttotal: 302ms\tremaining: 5.02s\n",
      "17:\tlearn: 1893.6039228\ttotal: 317ms\tremaining: 4.96s\n",
      "18:\tlearn: 1874.9810230\ttotal: 332ms\tremaining: 4.91s\n",
      "19:\tlearn: 1860.4621550\ttotal: 346ms\tremaining: 4.84s\n",
      "20:\tlearn: 1846.7562906\ttotal: 359ms\tremaining: 4.77s\n",
      "21:\tlearn: 1830.7019389\ttotal: 372ms\tremaining: 4.7s\n",
      "22:\tlearn: 1819.8987338\ttotal: 387ms\tremaining: 4.66s\n",
      "23:\tlearn: 1810.8030399\ttotal: 403ms\tremaining: 4.63s\n",
      "24:\tlearn: 1800.6463136\ttotal: 417ms\tremaining: 4.59s\n",
      "25:\tlearn: 1793.9077796\ttotal: 433ms\tremaining: 4.56s\n",
      "26:\tlearn: 1785.8608001\ttotal: 447ms\tremaining: 4.52s\n",
      "27:\tlearn: 1778.1845306\ttotal: 463ms\tremaining: 4.5s\n",
      "28:\tlearn: 1771.4375507\ttotal: 479ms\tremaining: 4.47s\n",
      "29:\tlearn: 1766.0460941\ttotal: 494ms\tremaining: 4.45s\n",
      "30:\tlearn: 1761.9123977\ttotal: 512ms\tremaining: 4.44s\n",
      "31:\tlearn: 1757.7259567\ttotal: 528ms\tremaining: 4.42s\n",
      "32:\tlearn: 1753.5895893\ttotal: 543ms\tremaining: 4.4s\n",
      "33:\tlearn: 1749.8134628\ttotal: 560ms\tremaining: 4.38s\n",
      "34:\tlearn: 1745.3134286\ttotal: 575ms\tremaining: 4.36s\n",
      "35:\tlearn: 1741.5975006\ttotal: 592ms\tremaining: 4.34s\n",
      "36:\tlearn: 1738.2767035\ttotal: 608ms\tremaining: 4.32s\n",
      "37:\tlearn: 1735.2453377\ttotal: 625ms\tremaining: 4.31s\n",
      "38:\tlearn: 1732.4399851\ttotal: 641ms\tremaining: 4.29s\n",
      "39:\tlearn: 1726.9590058\ttotal: 657ms\tremaining: 4.27s\n",
      "40:\tlearn: 1723.8735103\ttotal: 673ms\tremaining: 4.25s\n",
      "41:\tlearn: 1720.6411421\ttotal: 688ms\tremaining: 4.22s\n",
      "42:\tlearn: 1718.3395529\ttotal: 704ms\tremaining: 4.21s\n",
      "43:\tlearn: 1714.1927350\ttotal: 722ms\tremaining: 4.2s\n",
      "44:\tlearn: 1709.9536844\ttotal: 738ms\tremaining: 4.18s\n",
      "45:\tlearn: 1706.8632224\ttotal: 754ms\tremaining: 4.16s\n",
      "46:\tlearn: 1703.1070159\ttotal: 770ms\tremaining: 4.14s\n",
      "47:\tlearn: 1699.8228232\ttotal: 784ms\tremaining: 4.12s\n",
      "48:\tlearn: 1696.6488800\ttotal: 800ms\tremaining: 4.1s\n",
      "49:\tlearn: 1694.3936804\ttotal: 815ms\tremaining: 4.07s\n",
      "50:\tlearn: 1691.9544444\ttotal: 831ms\tremaining: 4.06s\n",
      "51:\tlearn: 1690.2309115\ttotal: 847ms\tremaining: 4.04s\n",
      "52:\tlearn: 1687.5443449\ttotal: 863ms\tremaining: 4.02s\n",
      "53:\tlearn: 1685.8627217\ttotal: 879ms\tremaining: 4s\n",
      "54:\tlearn: 1683.8742280\ttotal: 895ms\tremaining: 3.99s\n",
      "55:\tlearn: 1682.0071562\ttotal: 912ms\tremaining: 3.97s\n",
      "56:\tlearn: 1679.8924685\ttotal: 929ms\tremaining: 3.96s\n",
      "57:\tlearn: 1678.0362512\ttotal: 946ms\tremaining: 3.94s\n",
      "58:\tlearn: 1674.8438871\ttotal: 960ms\tremaining: 3.92s\n",
      "59:\tlearn: 1671.5127717\ttotal: 975ms\tremaining: 3.9s\n",
      "60:\tlearn: 1668.5380777\ttotal: 991ms\tremaining: 3.88s\n",
      "61:\tlearn: 1666.7723915\ttotal: 1.01s\tremaining: 3.86s\n",
      "62:\tlearn: 1664.7856899\ttotal: 1.02s\tremaining: 3.85s\n",
      "63:\tlearn: 1662.6686296\ttotal: 1.04s\tremaining: 3.83s\n",
      "64:\tlearn: 1661.1188644\ttotal: 1.05s\tremaining: 3.81s\n",
      "65:\tlearn: 1659.9714085\ttotal: 1.07s\tremaining: 3.8s\n",
      "66:\tlearn: 1658.8512943\ttotal: 1.09s\tremaining: 3.79s\n",
      "67:\tlearn: 1657.2185998\ttotal: 1.1s\tremaining: 3.77s\n",
      "68:\tlearn: 1652.8547081\ttotal: 1.12s\tremaining: 3.75s\n",
      "69:\tlearn: 1650.8077181\ttotal: 1.14s\tremaining: 3.73s\n",
      "70:\tlearn: 1648.8463399\ttotal: 1.15s\tremaining: 3.71s\n",
      "71:\tlearn: 1647.4907339\ttotal: 1.17s\tremaining: 3.69s\n",
      "72:\tlearn: 1645.9748689\ttotal: 1.18s\tremaining: 3.68s\n",
      "73:\tlearn: 1643.7984569\ttotal: 1.2s\tremaining: 3.67s\n",
      "74:\tlearn: 1642.4791056\ttotal: 1.22s\tremaining: 3.66s\n",
      "75:\tlearn: 1641.2779597\ttotal: 1.24s\tremaining: 3.65s\n",
      "76:\tlearn: 1639.4786972\ttotal: 1.25s\tremaining: 3.63s\n",
      "77:\tlearn: 1638.3905913\ttotal: 1.27s\tremaining: 3.62s\n",
      "78:\tlearn: 1635.2590743\ttotal: 1.28s\tremaining: 3.59s\n",
      "79:\tlearn: 1633.6805419\ttotal: 1.3s\tremaining: 3.58s\n",
      "80:\tlearn: 1632.3659191\ttotal: 1.32s\tremaining: 3.56s\n",
      "81:\tlearn: 1631.0389005\ttotal: 1.33s\tremaining: 3.54s\n",
      "82:\tlearn: 1629.1810860\ttotal: 1.35s\tremaining: 3.52s\n",
      "83:\tlearn: 1626.9177463\ttotal: 1.36s\tremaining: 3.5s\n",
      "84:\tlearn: 1624.3452530\ttotal: 1.38s\tremaining: 3.48s\n",
      "85:\tlearn: 1622.9643974\ttotal: 1.39s\tremaining: 3.47s\n",
      "86:\tlearn: 1621.8134645\ttotal: 1.41s\tremaining: 3.45s\n",
      "87:\tlearn: 1621.0862025\ttotal: 1.43s\tremaining: 3.44s\n",
      "88:\tlearn: 1619.3379679\ttotal: 1.44s\tremaining: 3.42s\n",
      "89:\tlearn: 1618.1257303\ttotal: 1.46s\tremaining: 3.4s\n",
      "90:\tlearn: 1616.9477448\ttotal: 1.47s\tremaining: 3.38s\n",
      "91:\tlearn: 1616.0839179\ttotal: 1.49s\tremaining: 3.37s\n",
      "92:\tlearn: 1614.5253867\ttotal: 1.5s\tremaining: 3.35s\n",
      "93:\tlearn: 1613.5234821\ttotal: 1.52s\tremaining: 3.34s\n",
      "94:\tlearn: 1610.9560597\ttotal: 1.54s\tremaining: 3.32s\n",
      "95:\tlearn: 1609.7354889\ttotal: 1.55s\tremaining: 3.3s\n",
      "96:\tlearn: 1608.4326169\ttotal: 1.57s\tremaining: 3.29s\n",
      "97:\tlearn: 1606.1473746\ttotal: 1.58s\tremaining: 3.27s\n",
      "98:\tlearn: 1604.7365644\ttotal: 1.6s\tremaining: 3.25s\n",
      "99:\tlearn: 1603.2876006\ttotal: 1.61s\tremaining: 3.23s\n",
      "100:\tlearn: 1602.3844449\ttotal: 1.63s\tremaining: 3.21s\n",
      "101:\tlearn: 1601.1980340\ttotal: 1.65s\tremaining: 3.2s\n",
      "102:\tlearn: 1600.0083825\ttotal: 1.66s\tremaining: 3.18s\n",
      "103:\tlearn: 1598.7123731\ttotal: 1.68s\tremaining: 3.17s\n",
      "104:\tlearn: 1597.3977168\ttotal: 1.7s\tremaining: 3.15s\n",
      "105:\tlearn: 1596.2761016\ttotal: 1.71s\tremaining: 3.14s\n",
      "106:\tlearn: 1595.1891143\ttotal: 1.73s\tremaining: 3.12s\n",
      "107:\tlearn: 1593.0384992\ttotal: 1.75s\tremaining: 3.11s\n",
      "108:\tlearn: 1591.8161450\ttotal: 1.76s\tremaining: 3.09s\n",
      "109:\tlearn: 1590.6672722\ttotal: 1.78s\tremaining: 3.08s\n",
      "110:\tlearn: 1589.3052875\ttotal: 1.8s\tremaining: 3.06s\n",
      "111:\tlearn: 1587.4264692\ttotal: 1.81s\tremaining: 3.04s\n",
      "112:\tlearn: 1586.6508026\ttotal: 1.83s\tremaining: 3.03s\n",
      "113:\tlearn: 1585.6932486\ttotal: 1.85s\tremaining: 3.02s\n",
      "114:\tlearn: 1583.8957485\ttotal: 1.86s\tremaining: 3s\n",
      "115:\tlearn: 1582.7899850\ttotal: 1.88s\tremaining: 2.98s\n",
      "116:\tlearn: 1581.1648153\ttotal: 1.9s\tremaining: 2.96s\n",
      "117:\tlearn: 1579.9652223\ttotal: 1.91s\tremaining: 2.95s\n",
      "118:\tlearn: 1578.4235709\ttotal: 1.93s\tremaining: 2.93s\n",
      "119:\tlearn: 1577.3652088\ttotal: 1.94s\tremaining: 2.92s\n",
      "120:\tlearn: 1575.9298115\ttotal: 1.96s\tremaining: 2.9s\n",
      "121:\tlearn: 1574.7278144\ttotal: 1.98s\tremaining: 2.88s\n",
      "122:\tlearn: 1574.0464681\ttotal: 1.99s\tremaining: 2.87s\n",
      "123:\tlearn: 1572.4882845\ttotal: 2.01s\tremaining: 2.85s\n",
      "124:\tlearn: 1571.5848471\ttotal: 2.02s\tremaining: 2.83s\n",
      "125:\tlearn: 1570.5422769\ttotal: 2.04s\tremaining: 2.82s\n",
      "126:\tlearn: 1569.4129249\ttotal: 2.06s\tremaining: 2.8s\n",
      "127:\tlearn: 1568.3283012\ttotal: 2.07s\tremaining: 2.79s\n",
      "128:\tlearn: 1567.2007074\ttotal: 2.09s\tremaining: 2.77s\n",
      "129:\tlearn: 1565.9810652\ttotal: 2.1s\tremaining: 2.75s\n",
      "130:\tlearn: 1565.0114227\ttotal: 2.12s\tremaining: 2.73s\n",
      "131:\tlearn: 1564.0098037\ttotal: 2.14s\tremaining: 2.72s\n",
      "132:\tlearn: 1563.1893205\ttotal: 2.15s\tremaining: 2.7s\n",
      "133:\tlearn: 1562.3963523\ttotal: 2.17s\tremaining: 2.69s\n",
      "134:\tlearn: 1561.3431472\ttotal: 2.19s\tremaining: 2.67s\n",
      "135:\tlearn: 1560.0450364\ttotal: 2.2s\tremaining: 2.65s\n",
      "136:\tlearn: 1559.3147803\ttotal: 2.22s\tremaining: 2.64s\n",
      "137:\tlearn: 1557.8990457\ttotal: 2.23s\tremaining: 2.62s\n",
      "138:\tlearn: 1556.6349531\ttotal: 2.25s\tremaining: 2.6s\n",
      "139:\tlearn: 1555.8135224\ttotal: 2.26s\tremaining: 2.58s\n",
      "140:\tlearn: 1554.8342661\ttotal: 2.28s\tremaining: 2.57s\n",
      "141:\tlearn: 1553.8438837\ttotal: 2.29s\tremaining: 2.55s\n",
      "142:\tlearn: 1553.2116401\ttotal: 2.31s\tremaining: 2.54s\n",
      "143:\tlearn: 1552.5433573\ttotal: 2.33s\tremaining: 2.52s\n",
      "144:\tlearn: 1551.7575262\ttotal: 2.34s\tremaining: 2.5s\n",
      "145:\tlearn: 1550.6708111\ttotal: 2.36s\tremaining: 2.49s\n",
      "146:\tlearn: 1549.9822445\ttotal: 2.37s\tremaining: 2.47s\n",
      "147:\tlearn: 1548.9800151\ttotal: 2.39s\tremaining: 2.46s\n",
      "148:\tlearn: 1548.1410641\ttotal: 2.41s\tremaining: 2.44s\n",
      "149:\tlearn: 1546.9743999\ttotal: 2.42s\tremaining: 2.42s\n",
      "150:\tlearn: 1545.8632505\ttotal: 2.44s\tremaining: 2.4s\n",
      "151:\tlearn: 1544.8238246\ttotal: 2.45s\tremaining: 2.39s\n",
      "152:\tlearn: 1544.0640306\ttotal: 2.47s\tremaining: 2.37s\n",
      "153:\tlearn: 1543.4029312\ttotal: 2.48s\tremaining: 2.36s\n",
      "154:\tlearn: 1542.7539884\ttotal: 2.5s\tremaining: 2.34s\n",
      "155:\tlearn: 1542.1835634\ttotal: 2.52s\tremaining: 2.32s\n",
      "156:\tlearn: 1541.1847643\ttotal: 2.53s\tremaining: 2.31s\n",
      "157:\tlearn: 1540.0123275\ttotal: 2.55s\tremaining: 2.29s\n",
      "158:\tlearn: 1539.3417855\ttotal: 2.57s\tremaining: 2.28s\n"
     ]
    },
    {
     "name": "stdout",
     "output_type": "stream",
     "text": [
      "159:\tlearn: 1538.7228999\ttotal: 2.59s\tremaining: 2.27s\n",
      "160:\tlearn: 1537.8256292\ttotal: 2.61s\tremaining: 2.25s\n",
      "161:\tlearn: 1537.0103464\ttotal: 2.63s\tremaining: 2.24s\n",
      "162:\tlearn: 1535.8493064\ttotal: 2.65s\tremaining: 2.23s\n",
      "163:\tlearn: 1535.0445701\ttotal: 2.67s\tremaining: 2.21s\n",
      "164:\tlearn: 1534.1674359\ttotal: 2.69s\tremaining: 2.2s\n",
      "165:\tlearn: 1533.2109726\ttotal: 2.71s\tremaining: 2.19s\n",
      "166:\tlearn: 1532.5240159\ttotal: 2.73s\tremaining: 2.17s\n",
      "167:\tlearn: 1531.5767021\ttotal: 2.74s\tremaining: 2.16s\n",
      "168:\tlearn: 1530.6774445\ttotal: 2.76s\tremaining: 2.14s\n",
      "169:\tlearn: 1529.5323456\ttotal: 2.78s\tremaining: 2.12s\n",
      "170:\tlearn: 1528.5714239\ttotal: 2.79s\tremaining: 2.11s\n",
      "171:\tlearn: 1527.8730379\ttotal: 2.81s\tremaining: 2.09s\n",
      "172:\tlearn: 1527.2616061\ttotal: 2.83s\tremaining: 2.07s\n",
      "173:\tlearn: 1526.6619686\ttotal: 2.84s\tremaining: 2.06s\n",
      "174:\tlearn: 1525.9452593\ttotal: 2.86s\tremaining: 2.04s\n",
      "175:\tlearn: 1525.1761924\ttotal: 2.87s\tremaining: 2.02s\n",
      "176:\tlearn: 1524.4643453\ttotal: 2.89s\tremaining: 2.01s\n",
      "177:\tlearn: 1523.5009587\ttotal: 2.9s\tremaining: 1.99s\n",
      "178:\tlearn: 1522.9669931\ttotal: 2.92s\tremaining: 1.98s\n",
      "179:\tlearn: 1521.9423882\ttotal: 2.94s\tremaining: 1.96s\n",
      "180:\tlearn: 1520.9298857\ttotal: 2.96s\tremaining: 1.94s\n",
      "181:\tlearn: 1520.1546461\ttotal: 2.97s\tremaining: 1.93s\n",
      "182:\tlearn: 1519.5721862\ttotal: 2.99s\tremaining: 1.91s\n",
      "183:\tlearn: 1518.5346715\ttotal: 3.01s\tremaining: 1.9s\n",
      "184:\tlearn: 1517.7307653\ttotal: 3.04s\tremaining: 1.89s\n",
      "185:\tlearn: 1517.1995299\ttotal: 3.06s\tremaining: 1.87s\n",
      "186:\tlearn: 1516.0150712\ttotal: 3.07s\tremaining: 1.86s\n",
      "187:\tlearn: 1515.3472060\ttotal: 3.09s\tremaining: 1.84s\n",
      "188:\tlearn: 1514.7689119\ttotal: 3.1s\tremaining: 1.82s\n",
      "189:\tlearn: 1514.0194697\ttotal: 3.12s\tremaining: 1.81s\n",
      "190:\tlearn: 1513.1842381\ttotal: 3.14s\tremaining: 1.79s\n",
      "191:\tlearn: 1512.4259791\ttotal: 3.15s\tremaining: 1.77s\n",
      "192:\tlearn: 1511.4452885\ttotal: 3.17s\tremaining: 1.76s\n",
      "193:\tlearn: 1510.8006530\ttotal: 3.19s\tremaining: 1.74s\n",
      "194:\tlearn: 1510.2240964\ttotal: 3.2s\tremaining: 1.72s\n",
      "195:\tlearn: 1509.5074099\ttotal: 3.22s\tremaining: 1.71s\n",
      "196:\tlearn: 1508.7096931\ttotal: 3.23s\tremaining: 1.69s\n",
      "197:\tlearn: 1508.2294115\ttotal: 3.25s\tremaining: 1.68s\n",
      "198:\tlearn: 1507.4239048\ttotal: 3.27s\tremaining: 1.66s\n",
      "199:\tlearn: 1506.8031926\ttotal: 3.28s\tremaining: 1.64s\n",
      "200:\tlearn: 1506.2309234\ttotal: 3.31s\tremaining: 1.63s\n",
      "201:\tlearn: 1505.2122198\ttotal: 3.32s\tremaining: 1.61s\n",
      "202:\tlearn: 1504.5935403\ttotal: 3.33s\tremaining: 1.59s\n",
      "203:\tlearn: 1503.7633264\ttotal: 3.35s\tremaining: 1.58s\n",
      "204:\tlearn: 1503.0077361\ttotal: 3.37s\tremaining: 1.56s\n",
      "205:\tlearn: 1502.3409377\ttotal: 3.39s\tremaining: 1.55s\n",
      "206:\tlearn: 1501.9447547\ttotal: 3.41s\tremaining: 1.53s\n",
      "207:\tlearn: 1501.3247552\ttotal: 3.42s\tremaining: 1.51s\n",
      "208:\tlearn: 1500.5614019\ttotal: 3.44s\tremaining: 1.5s\n",
      "209:\tlearn: 1500.1128076\ttotal: 3.46s\tremaining: 1.48s\n",
      "210:\tlearn: 1499.6571834\ttotal: 3.47s\tremaining: 1.46s\n",
      "211:\tlearn: 1499.1994772\ttotal: 3.49s\tremaining: 1.45s\n",
      "212:\tlearn: 1498.4263708\ttotal: 3.5s\tremaining: 1.43s\n",
      "213:\tlearn: 1497.7325967\ttotal: 3.52s\tremaining: 1.41s\n",
      "214:\tlearn: 1497.1778587\ttotal: 3.53s\tremaining: 1.4s\n",
      "215:\tlearn: 1496.5080653\ttotal: 3.55s\tremaining: 1.38s\n",
      "216:\tlearn: 1496.0013829\ttotal: 3.56s\tremaining: 1.36s\n",
      "217:\tlearn: 1495.3920004\ttotal: 3.58s\tremaining: 1.35s\n",
      "218:\tlearn: 1494.5172833\ttotal: 3.6s\tremaining: 1.33s\n",
      "219:\tlearn: 1494.1800888\ttotal: 3.61s\tremaining: 1.31s\n",
      "220:\tlearn: 1493.4732717\ttotal: 3.63s\tremaining: 1.3s\n",
      "221:\tlearn: 1493.0162656\ttotal: 3.65s\tremaining: 1.28s\n",
      "222:\tlearn: 1492.4978030\ttotal: 3.67s\tremaining: 1.26s\n",
      "223:\tlearn: 1492.1162420\ttotal: 3.68s\tremaining: 1.25s\n",
      "224:\tlearn: 1491.4533290\ttotal: 3.7s\tremaining: 1.23s\n",
      "225:\tlearn: 1490.9816396\ttotal: 3.71s\tremaining: 1.22s\n",
      "226:\tlearn: 1490.3421493\ttotal: 3.73s\tremaining: 1.2s\n",
      "227:\tlearn: 1489.5237201\ttotal: 3.75s\tremaining: 1.18s\n",
      "228:\tlearn: 1489.1322857\ttotal: 3.76s\tremaining: 1.17s\n",
      "229:\tlearn: 1488.7207355\ttotal: 3.78s\tremaining: 1.15s\n",
      "230:\tlearn: 1487.9632782\ttotal: 3.79s\tremaining: 1.13s\n",
      "231:\tlearn: 1487.3657841\ttotal: 3.81s\tremaining: 1.12s\n",
      "232:\tlearn: 1486.5895756\ttotal: 3.82s\tremaining: 1.1s\n",
      "233:\tlearn: 1485.9901840\ttotal: 3.84s\tremaining: 1.08s\n",
      "234:\tlearn: 1485.5837087\ttotal: 3.86s\tremaining: 1.07s\n",
      "235:\tlearn: 1485.0779758\ttotal: 3.87s\tremaining: 1.05s\n",
      "236:\tlearn: 1484.6683449\ttotal: 3.89s\tremaining: 1.03s\n",
      "237:\tlearn: 1484.0406849\ttotal: 3.9s\tremaining: 1.02s\n",
      "238:\tlearn: 1483.4326276\ttotal: 3.92s\tremaining: 1s\n",
      "239:\tlearn: 1482.7893395\ttotal: 3.94s\tremaining: 984ms\n",
      "240:\tlearn: 1482.0972977\ttotal: 3.95s\tremaining: 968ms\n",
      "241:\tlearn: 1481.5993727\ttotal: 3.97s\tremaining: 951ms\n",
      "242:\tlearn: 1481.0460242\ttotal: 3.98s\tremaining: 934ms\n",
      "243:\tlearn: 1480.6862724\ttotal: 4s\tremaining: 918ms\n",
      "244:\tlearn: 1480.1266162\ttotal: 4.01s\tremaining: 901ms\n",
      "245:\tlearn: 1479.6750904\ttotal: 4.03s\tremaining: 885ms\n",
      "246:\tlearn: 1479.1601666\ttotal: 4.05s\tremaining: 868ms\n",
      "247:\tlearn: 1478.6682855\ttotal: 4.06s\tremaining: 852ms\n",
      "248:\tlearn: 1478.2283952\ttotal: 4.08s\tremaining: 835ms\n",
      "249:\tlearn: 1477.6955430\ttotal: 4.09s\tremaining: 819ms\n",
      "250:\tlearn: 1477.2829224\ttotal: 4.11s\tremaining: 803ms\n",
      "251:\tlearn: 1476.7650746\ttotal: 4.13s\tremaining: 786ms\n",
      "252:\tlearn: 1476.4138706\ttotal: 4.14s\tremaining: 770ms\n",
      "253:\tlearn: 1475.8374637\ttotal: 4.16s\tremaining: 753ms\n",
      "254:\tlearn: 1475.2769739\ttotal: 4.17s\tremaining: 737ms\n",
      "255:\tlearn: 1474.8918270\ttotal: 4.19s\tremaining: 720ms\n",
      "256:\tlearn: 1474.2073642\ttotal: 4.21s\tremaining: 704ms\n",
      "257:\tlearn: 1473.9050433\ttotal: 4.22s\tremaining: 687ms\n",
      "258:\tlearn: 1473.3136346\ttotal: 4.24s\tremaining: 671ms\n",
      "259:\tlearn: 1472.6336191\ttotal: 4.26s\tremaining: 655ms\n",
      "260:\tlearn: 1471.6380922\ttotal: 4.28s\tremaining: 639ms\n",
      "261:\tlearn: 1470.3283866\ttotal: 4.29s\tremaining: 623ms\n",
      "262:\tlearn: 1469.7727304\ttotal: 4.31s\tremaining: 606ms\n",
      "263:\tlearn: 1469.3051716\ttotal: 4.32s\tremaining: 590ms\n",
      "264:\tlearn: 1468.9710676\ttotal: 4.34s\tremaining: 573ms\n",
      "265:\tlearn: 1468.5680066\ttotal: 4.35s\tremaining: 557ms\n",
      "266:\tlearn: 1468.0044436\ttotal: 4.37s\tremaining: 540ms\n",
      "267:\tlearn: 1467.3255971\ttotal: 4.38s\tremaining: 523ms\n",
      "268:\tlearn: 1466.9885309\ttotal: 4.4s\tremaining: 507ms\n",
      "269:\tlearn: 1466.5077346\ttotal: 4.42s\tremaining: 491ms\n",
      "270:\tlearn: 1465.8944483\ttotal: 4.43s\tremaining: 474ms\n",
      "271:\tlearn: 1465.3632108\ttotal: 4.44s\tremaining: 458ms\n",
      "272:\tlearn: 1464.8860650\ttotal: 4.46s\tremaining: 441ms\n",
      "273:\tlearn: 1464.3815667\ttotal: 4.48s\tremaining: 425ms\n",
      "274:\tlearn: 1463.5959672\ttotal: 4.49s\tremaining: 408ms\n",
      "275:\tlearn: 1463.0482886\ttotal: 4.51s\tremaining: 392ms\n",
      "276:\tlearn: 1462.5477241\ttotal: 4.52s\tremaining: 376ms\n",
      "277:\tlearn: 1462.1205920\ttotal: 4.54s\tremaining: 359ms\n",
      "278:\tlearn: 1461.6216997\ttotal: 4.56s\tremaining: 343ms\n",
      "279:\tlearn: 1461.0473154\ttotal: 4.58s\tremaining: 327ms\n",
      "280:\tlearn: 1460.7110595\ttotal: 4.59s\tremaining: 310ms\n",
      "281:\tlearn: 1460.1885742\ttotal: 4.61s\tremaining: 294ms\n",
      "282:\tlearn: 1459.8437852\ttotal: 4.62s\tremaining: 278ms\n",
      "283:\tlearn: 1459.4273737\ttotal: 4.63s\tremaining: 261ms\n",
      "284:\tlearn: 1459.1028271\ttotal: 4.65s\tremaining: 245ms\n",
      "285:\tlearn: 1458.7254234\ttotal: 4.67s\tremaining: 228ms\n",
      "286:\tlearn: 1458.3209544\ttotal: 4.68s\tremaining: 212ms\n",
      "287:\tlearn: 1458.0618402\ttotal: 4.7s\tremaining: 196ms\n",
      "288:\tlearn: 1457.5983320\ttotal: 4.72s\tremaining: 180ms\n",
      "289:\tlearn: 1457.3510498\ttotal: 4.73s\tremaining: 163ms\n",
      "290:\tlearn: 1456.7885742\ttotal: 4.75s\tremaining: 147ms\n",
      "291:\tlearn: 1456.1742684\ttotal: 4.76s\tremaining: 130ms\n",
      "292:\tlearn: 1455.6634365\ttotal: 4.78s\tremaining: 114ms\n",
      "293:\tlearn: 1455.0182545\ttotal: 4.79s\tremaining: 97.8ms\n",
      "294:\tlearn: 1454.5581421\ttotal: 4.81s\tremaining: 81.5ms\n",
      "295:\tlearn: 1453.9687238\ttotal: 4.82s\tremaining: 65.2ms\n",
      "296:\tlearn: 1453.6703547\ttotal: 4.84s\tremaining: 48.9ms\n",
      "297:\tlearn: 1452.8247951\ttotal: 4.86s\tremaining: 32.6ms\n",
      "298:\tlearn: 1452.5286148\ttotal: 4.88s\tremaining: 16.3ms\n",
      "299:\tlearn: 1452.0259091\ttotal: 4.89s\tremaining: 0us\n"
     ]
    }
   ],
   "source": [
    "start_time = time.perf_counter()\n",
    "cb = CatBoostRegressor(random_state=12345, depth=10, iterations=300, learning_rate=0.15)\n",
    "cb.fit(X_train_ohe, y_train)\n",
    "time_cat_fit = float('{0:.2f}'.format(time.perf_counter() - start_time))"
   ]
  },
  {
   "cell_type": "code",
   "execution_count": 47,
   "id": "47ee51dd",
   "metadata": {},
   "outputs": [],
   "source": [
    "start_time = time.perf_counter()\n",
    "pred = cb.predict(X_valid_ohe)\n",
    "time_cat_pred = float('{0:.2f}'.format(time.perf_counter() - start_time))"
   ]
  },
  {
   "cell_type": "code",
   "execution_count": 48,
   "id": "35b05317",
   "metadata": {},
   "outputs": [
    {
     "name": "stdout",
     "output_type": "stream",
     "text": [
      "RMSE for the CatBoost model in the validation sample:  1583.6787820501593\n"
     ]
    }
   ],
   "source": [
    "mse_cat = mean_squared_error(y_valid, pred)\n",
    "rmse_cat = (mse_cat) ** 0.5\n",
    "print('RMSE for the CatBoost model in the validation sample: ',rmse_cat)"
   ]
  },
  {
   "cell_type": "markdown",
   "id": "613dd178",
   "metadata": {},
   "source": [
    "### <p style=\"font-family:JetBrains Mono; font-weight:bold; letter-spacing: 2px; color:#294B8E; font-size:140%; text-align:left;padding: 0px; border-bottom: 3px solid #294B8E\">XGBoost</p>"
   ]
  },
  {
   "cell_type": "code",
   "execution_count": 49,
   "id": "7b4ecc28",
   "metadata": {},
   "outputs": [],
   "source": [
    "start_time = time.perf_counter()\n",
    "xgb = XGBRegressor(random_state=12345, learning_rate=0.1, max_depth=35)\n",
    "xgb.fit(X_train_ohe, y_train)\n",
    "time_xgb_fit = float('{0:.2f}'.format(time.perf_counter() - start_time))"
   ]
  },
  {
   "cell_type": "code",
   "execution_count": 50,
   "id": "bbd9b797",
   "metadata": {},
   "outputs": [],
   "source": [
    "start_time = time.perf_counter()\n",
    "preds_xgb= xgb.predict(X_valid_ohe)\n",
    "time_xgb_pred = float('{0:.2f}'.format(time.perf_counter() - start_time))"
   ]
  },
  {
   "cell_type": "code",
   "execution_count": 51,
   "id": "87902ab5",
   "metadata": {},
   "outputs": [
    {
     "name": "stdout",
     "output_type": "stream",
     "text": [
      "RMSE for XGBoost model in the validation sample:  1682.6872503861384\n"
     ]
    }
   ],
   "source": [
    "mse_xgb = mean_squared_error(y_valid, preds_xgb)\n",
    "rmse_xgb = mse_xgb** 0.5\n",
    "print('RMSE for XGBoost model in the validation sample: ', rmse_xgb)"
   ]
  },
  {
   "cell_type": "markdown",
   "id": "d3061b6e",
   "metadata": {},
   "source": [
    "### <p style=\"font-family:JetBrains Mono; font-weight:bold; letter-spacing: 2px; color:#294B8E; font-size:140%; text-align:left;padding: 0px; border-bottom: 3px solid #294B8E\">LightGBM</p>"
   ]
  },
  {
   "cell_type": "code",
   "execution_count": 52,
   "id": "c6f72e27",
   "metadata": {},
   "outputs": [],
   "source": [
    "# %%time\n",
    "# param_light = {'learning_rate': [0.1, 0.3, 0.5, 0.7],\n",
    "#               'max_depth': [15, 20, 30, 35],\n",
    "#              }\n",
    "\n",
    "# lgbm = LGBMRegressor(random_state = 12345)\n",
    "\n",
    "# # инициализируем GridSearchCV\n",
    "# grid_search = GridSearchCV(estimator = lgbm, \n",
    "#                            param_grid = param_light, \n",
    "#                            cv = 3,\n",
    "#                            n_jobs = -1\n",
    "#                           );\n",
    "# grid_search.fit(X_train_ord, y_train);"
   ]
  },
  {
   "cell_type": "code",
   "execution_count": 53,
   "id": "e8087060",
   "metadata": {},
   "outputs": [],
   "source": [
    "# grid_search.best_params_"
   ]
  },
  {
   "cell_type": "code",
   "execution_count": 54,
   "id": "0fa1275b",
   "metadata": {},
   "outputs": [],
   "source": [
    "# %%time\n",
    "# preds_lgbm = grid_search.best_estimator_.predict(X_valid_ord)"
   ]
  },
  {
   "cell_type": "code",
   "execution_count": 55,
   "id": "8061fac2",
   "metadata": {},
   "outputs": [],
   "source": [
    "start_time = time.perf_counter()\n",
    "lgbm = LGBMRegressor(random_state = 12345, learning_rate=0.3, max_depth=15)\n",
    "lgbm.fit(X_train_ohe, y_train);\n",
    "time_lgbm_fit = float('{0:.2f}'.format(time.perf_counter() - start_time))"
   ]
  },
  {
   "cell_type": "code",
   "execution_count": 56,
   "id": "b48355f4",
   "metadata": {},
   "outputs": [],
   "source": [
    "start_time = time.perf_counter()\n",
    "preds_lgbm = lgbm.predict(X_valid_ohe)\n",
    "time_lgbm_pred = float('{0:.2f}'.format(time.perf_counter() - start_time))"
   ]
  },
  {
   "cell_type": "code",
   "execution_count": 57,
   "id": "f966e3c8",
   "metadata": {},
   "outputs": [
    {
     "name": "stdout",
     "output_type": "stream",
     "text": [
      "RMSE for LightGBM model in the validation sample:  1628.4221313312594\n"
     ]
    }
   ],
   "source": [
    "mse_lgbm = mean_squared_error(y_valid, preds_lgbm)\n",
    "rmse_lgbm = mse_lgbm** 0.5\n",
    "print('RMSE for LightGBM model in the validation sample: ', rmse_lgbm)"
   ]
  },
  {
   "cell_type": "markdown",
   "id": "c96cc6e4",
   "metadata": {},
   "source": [
    "### <p style=\"font-family:JetBrains Mono; font-weight:bold; letter-spacing: 2px; color:#294B8E; font-size:140%; text-align:left;padding: 0px; border-bottom: 3px solid #294B8E\">DecisionTree</p>"
   ]
  },
  {
   "cell_type": "code",
   "execution_count": 58,
   "id": "46f45c71",
   "metadata": {},
   "outputs": [],
   "source": [
    "# %%time\n",
    "# parametrs_DT = {'max_depth': [15, 35]}\n",
    "\n",
    "# DT = DecisionTreeRegressor(random_state=12345)\n",
    "\n",
    "# # инициализируем GridSearchCV\n",
    "# grid_search = GridSearchCV(DT, \n",
    "#                            parametrs_DT, \n",
    "#                            scoring='neg_mean_squared_error', \n",
    "#                            cv=2\n",
    "#                           )\n",
    "# grid_search.fit(X_train_ord, y_train)\n"
   ]
  },
  {
   "cell_type": "code",
   "execution_count": 59,
   "id": "22af2d03",
   "metadata": {},
   "outputs": [],
   "source": [
    "# grid_search.best_params_"
   ]
  },
  {
   "cell_type": "code",
   "execution_count": 60,
   "id": "fad2f50f",
   "metadata": {},
   "outputs": [],
   "source": [
    "# %%time\n",
    "# preds_DT = grid_search.best_estimator_.predict(X_valid_ord)"
   ]
  },
  {
   "cell_type": "code",
   "execution_count": 61,
   "id": "4afa2fb7",
   "metadata": {},
   "outputs": [],
   "source": [
    "start_time = time.perf_counter()\n",
    "DT = DecisionTreeRegressor(random_state=12345, max_depth=15)\n",
    "DT.fit(X_train_ord, y_train)\n",
    "time_DT_fit = float('{0:.2f}'.format(time.perf_counter() - start_time))"
   ]
  },
  {
   "cell_type": "code",
   "execution_count": 62,
   "id": "fc8324e8",
   "metadata": {},
   "outputs": [],
   "source": [
    "start_time = time.perf_counter()\n",
    "preds_DT = DT.predict(X_valid_ord)\n",
    "time_DT_pred = float('{0:.2f}'.format(time.perf_counter() - start_time))"
   ]
  },
  {
   "cell_type": "code",
   "execution_count": 63,
   "id": "1c236bbe",
   "metadata": {},
   "outputs": [
    {
     "name": "stdout",
     "output_type": "stream",
     "text": [
      "RMSE for Decision Tree model in the validation sample:  1907.9165283929392\n"
     ]
    }
   ],
   "source": [
    "mse_DT = mean_squared_error(y_valid, preds_DT)\n",
    "rmse_DT = (mse_DT) ** 0.5\n",
    "print('RMSE for Decision Tree model in the validation sample: ',rmse_DT)"
   ]
  },
  {
   "cell_type": "markdown",
   "id": "585995a8",
   "metadata": {},
   "source": [
    "### <p style=\"font-family:JetBrains Mono; font-weight:bold; letter-spacing: 2px; color:#294B8E; font-size:140%; text-align:left;padding: 0px; border-bottom: 3px solid #294B8E\">RandomForest</p>"
   ]
  },
  {
   "cell_type": "code",
   "execution_count": 64,
   "id": "7513a3c4",
   "metadata": {},
   "outputs": [],
   "source": [
    "start_time = time.perf_counter()\n",
    "RF = RandomForestRegressor(random_state=12345, n_estimators=80, max_depth = 15)\n",
    "RF.fit(X_train_ord, y_train)\n",
    "time_RF_fit = float('{0:.2f}'.format(time.perf_counter() - start_time))"
   ]
  },
  {
   "cell_type": "code",
   "execution_count": 65,
   "id": "23f295f9",
   "metadata": {},
   "outputs": [],
   "source": [
    "start_time = time.perf_counter()\n",
    "preds_RF = RF.predict(X_valid_ord)\n",
    "time_RF_pred = float('{0:.2f}'.format(time.perf_counter() - start_time))"
   ]
  },
  {
   "cell_type": "code",
   "execution_count": 66,
   "id": "bc06c8e6",
   "metadata": {},
   "outputs": [
    {
     "name": "stdout",
     "output_type": "stream",
     "text": [
      "RMSE for Random Forest model in the validation sample:  1642.4337038280435\n"
     ]
    }
   ],
   "source": [
    "mse_RF = mean_squared_error(y_valid, preds_RF)\n",
    "rmse_RF = (mse_RF) ** 0.5\n",
    "print('RMSE for Random Forest model in the validation sample: ',rmse_RF)"
   ]
  },
  {
   "cell_type": "markdown",
   "id": "a8dead11",
   "metadata": {},
   "source": [
    "### <p style=\"font-family:JetBrains Mono; font-weight:bold; letter-spacing: 2px; color:#294B8E; font-size:140%; text-align:left;padding: 0px; border-bottom: 3px solid #294B8E\">LinearRegression</p>"
   ]
  },
  {
   "cell_type": "code",
   "execution_count": 67,
   "id": "aa9168c9",
   "metadata": {},
   "outputs": [],
   "source": [
    "start_time = time.perf_counter()\n",
    "LR = LinearRegression()\n",
    "LR.fit(X_train_ohe, y_train)\n",
    "time_LR_fit = float('{0:.2f}'.format(time.perf_counter() - start_time))"
   ]
  },
  {
   "cell_type": "code",
   "execution_count": 68,
   "id": "6fbf35c3",
   "metadata": {},
   "outputs": [],
   "source": [
    "start_time = time.perf_counter()\n",
    "pred_LR = LR.predict(X_valid_ohe)\n",
    "time_LR_pred = float('{0:.2f}'.format(time.perf_counter() - start_time))"
   ]
  },
  {
   "cell_type": "code",
   "execution_count": 69,
   "id": "b924d52b",
   "metadata": {},
   "outputs": [
    {
     "name": "stdout",
     "output_type": "stream",
     "text": [
      "RMSE for Linear Regresion model in the validation sample:  2815.387022018015\n"
     ]
    }
   ],
   "source": [
    "mse_LR = mean_squared_error(y_valid, pred_LR)\n",
    "rmse_LR = (mse_LR) ** 0.5\n",
    "print('RMSE for Linear Regresion model in the validation sample: ', rmse_LR)"
   ]
  },
  {
   "cell_type": "markdown",
   "id": "3ac048d6",
   "metadata": {},
   "source": [
    "<a id=\"Model-comparison\"></a>\n",
    "<div style=\"padding:20px;\n",
    "            color:white;\n",
    "            margin:10;\n",
    "            font-size:170%;\n",
    "            text-align:left;\n",
    "            display:fill;\n",
    "            border-radius:5px;\n",
    "            background-color:#294B8E;\n",
    "            overflow:hidden;\n",
    "            font-weight:700\"><span style='color:#CDA63A'>|</span> Model comparison</div>"
   ]
  },
  {
   "cell_type": "markdown",
   "id": "e5c78508",
   "metadata": {},
   "source": [
    "### <p style=\"font-family:JetBrains Mono; font-weight:bold; letter-spacing: 2px; color:#294B8E; font-size:140%; text-align:left;padding: 0px; border-bottom: 3px solid #294B8E\">Evaluating the quality of models using the RMSE metric</p>"
   ]
  },
  {
   "cell_type": "code",
   "execution_count": 70,
   "id": "40950aa7",
   "metadata": {},
   "outputs": [
    {
     "name": "stdout",
     "output_type": "stream",
     "text": [
      "+----+------------------+---------+\n",
      "|    | Models           |    RMSE |\n",
      "|----+------------------+---------|\n",
      "|  0 | XGBoost          | 1682.69 |\n",
      "|  1 | LightGBM         | 1628.42 |\n",
      "|  2 | CatBoost         | 1583.68 |\n",
      "|  3 | Decision Tree    | 1907.92 |\n",
      "|  4 | Random Forest    | 1642.43 |\n",
      "|  5 | Linear Regresion | 2815.39 |\n",
      "+----+------------------+---------+\n"
     ]
    }
   ],
   "source": [
    "data_RMSE={'Models':['XGBoost','LightGBM','CatBoost', 'Decision Tree', 'Random Forest','Linear Regresion'],\n",
    "     'RMSE': [rmse_xgb, rmse_lgbm, rmse_cat, rmse_DT, rmse_RF, rmse_LR]}\n",
    "df_RMSE=pd.DataFrame(data_RMSE)\n",
    "print(tabulate(df_RMSE, headers='keys', tablefmt='psql'))"
   ]
  },
  {
   "cell_type": "markdown",
   "id": "39c5b1e6",
   "metadata": {},
   "source": [
    "<div style=\"border-radius:10px; border:#DEB887 solid; padding: 15px; background-color: #FFFAF0; font-size:100%; text-align:left\">\n",
    "Lowest RMSE in CatBoost. Highest in Linear Regresion."
   ]
  },
  {
   "cell_type": "markdown",
   "id": "6bbff2b7",
   "metadata": {},
   "source": [
    "### <p style=\"font-family:JetBrains Mono; font-weight:bold; letter-spacing: 2px; color:#294B8E; font-size:140%; text-align:left;padding: 0px; border-bottom: 3px solid #294B8E\">Анализ времени обучения</p>"
   ]
  },
  {
   "cell_type": "code",
   "execution_count": 71,
   "id": "09f93ef6",
   "metadata": {},
   "outputs": [
    {
     "name": "stdout",
     "output_type": "stream",
     "text": [
      "+----+------------------+---------+\n",
      "|    | Models           |   T_fit |\n",
      "|----+------------------+---------|\n",
      "|  0 | XGBoost          |  424.32 |\n",
      "|  1 | LightGBM         |    1.73 |\n",
      "|  2 | CatBoost         |    5.09 |\n",
      "|  3 | Decision Tree    |    0.39 |\n",
      "|  4 | Random Forest    |   20.4  |\n",
      "|  5 | Linear Regresion |    1.22 |\n",
      "+----+------------------+---------+\n"
     ]
    }
   ],
   "source": [
    "data_fit={'Models':['XGBoost','LightGBM','CatBoost', 'Decision Tree', 'Random Forest','Linear Regresion'],\n",
    "     'T_fit': [time_xgb_fit, time_lgbm_fit, time_cat_fit, time_DT_fit, time_RF_fit, time_LR_fit]}\n",
    "df_fit=pd.DataFrame(data_fit)\n",
    "print(tabulate(df_fit, headers='keys', tablefmt='psql'))"
   ]
  },
  {
   "cell_type": "markdown",
   "id": "bfe7b67d",
   "metadata": {},
   "source": [
    "<div style=\"border-radius:10px; border:#DEB887 solid; padding: 15px; background-color: #FFFAF0; font-size:100%; text-align:left\">\n",
    "    \n",
    "XGBoost Gradient boosting model  takes a long time to study. \n",
    "Next model Random Forest, CatBoost and LightGBMgradient boosting models, decision tree model, linear regression model. "
   ]
  },
  {
   "cell_type": "markdown",
   "id": "6627095d",
   "metadata": {},
   "source": [
    "### <p style=\"font-family:JetBrains Mono; font-weight:bold; letter-spacing: 2px; color:#294B8E; font-size:140%; text-align:left;padding: 0px; border-bottom: 3px solid #294B8E\">Prediction Time Analysis</p>"
   ]
  },
  {
   "cell_type": "code",
   "execution_count": 72,
   "id": "e6f643f3",
   "metadata": {},
   "outputs": [
    {
     "name": "stdout",
     "output_type": "stream",
     "text": [
      "+----+------------------+----------+\n",
      "|    | Models           |   T_pred |\n",
      "|----+------------------+----------|\n",
      "|  0 | XGBoost          |     1.09 |\n",
      "|  1 | LightGBM         |     0.18 |\n",
      "|  2 | CatBoost         |     0.04 |\n",
      "|  3 | Decision Tree    |     0.01 |\n",
      "|  4 | Random Forest    |     0.6  |\n",
      "|  5 | Linear Regresion |     0.06 |\n",
      "+----+------------------+----------+\n"
     ]
    }
   ],
   "source": [
    "data_pred={'Models':['XGBoost','LightGBM','CatBoost', 'Decision Tree', 'Random Forest','Linear Regresion'],\n",
    "     'T_pred': [time_xgb_pred, time_lgbm_pred, time_cat_pred, time_DT_pred, time_RF_pred, time_LR_pred]}\n",
    "df_pred=pd.DataFrame(data_pred)\n",
    "print(tabulate(df_pred, headers='keys', tablefmt='psql'))"
   ]
  },
  {
   "cell_type": "markdown",
   "id": "bdd30750",
   "metadata": {},
   "source": [
    "<div style=\"border-radius:10px; border:#DEB887 solid; padding: 15px; background-color: #FFFAF0; font-size:100%; text-align:left\">\n",
    "    \n",
    "The study formed the following order in descending order: XGBoost, Random Forest, LightGBM, CatBoost, Decision Tree,  Linear Regresion. Linear Regresion has fastest prediction.  \n"
   ]
  },
  {
   "cell_type": "markdown",
   "id": "7fba80b6",
   "metadata": {},
   "source": [
    "<div class=\"alert alert-block alert-info\" style=\"background-color:#FFFAF0;\n",
    "                                                 color:black;\n",
    "                                                 border-color:#DEB887;\n",
    "                                                 border-radius:5px;\n",
    "                                                 width:50%;\n",
    "                                                 margin: auto;\n",
    "                                                 text-align: left;\">\n",
    "\n",
    "<b>✍ Conclusion</b>\n",
    "         <ul>\n",
    "<li>Research suggests that the best CatBoost model. </li>\n",
    "<li>The second line of the best model is occupied by LightGBM. </li>\n",
    "<li>Despite its fast learning rate, Linear Regression is the worst model.</li>\n",
    "<li>XGBoost, Random Forest and Decision Tree performed well because their metric was less than 2500. </li>\n",
    "</ul>\n",
    "</div>"
   ]
  },
  {
   "cell_type": "markdown",
   "id": "a40e7768",
   "metadata": {},
   "source": [
    "<a id=\"Testing-best-model\"></a>\n",
    "<div style=\"padding:20px;\n",
    "            color:white;\n",
    "            margin:10;\n",
    "            font-size:170%;\n",
    "            text-align:left;\n",
    "            display:fill;\n",
    "            border-radius:5px;\n",
    "            background-color:#294B8E;\n",
    "            overflow:hidden;\n",
    "            font-weight:700\"><span style='color:#CDA63A'>|</span> Testing-best-model</div>"
   ]
  },
  {
   "cell_type": "code",
   "execution_count": 73,
   "id": "a687e2dc",
   "metadata": {},
   "outputs": [
    {
     "name": "stdout",
     "output_type": "stream",
     "text": [
      "0:\tlearn: 4077.6088471\ttotal: 13.2ms\tremaining: 3.94s\n",
      "1:\tlearn: 3672.8266481\ttotal: 26.8ms\tremaining: 4s\n",
      "2:\tlearn: 3336.3556557\ttotal: 39.8ms\tremaining: 3.94s\n",
      "3:\tlearn: 3064.3504956\ttotal: 51.6ms\tremaining: 3.82s\n",
      "4:\tlearn: 2844.2749244\ttotal: 64.5ms\tremaining: 3.81s\n",
      "5:\tlearn: 2665.6099614\ttotal: 76.9ms\tremaining: 3.77s\n",
      "6:\tlearn: 2514.8513264\ttotal: 89.1ms\tremaining: 3.73s\n",
      "7:\tlearn: 2394.8211036\ttotal: 102ms\tremaining: 3.71s\n",
      "8:\tlearn: 2293.0170369\ttotal: 114ms\tremaining: 3.68s\n",
      "9:\tlearn: 2214.6386571\ttotal: 127ms\tremaining: 3.67s\n",
      "10:\tlearn: 2152.2816142\ttotal: 139ms\tremaining: 3.65s\n",
      "11:\tlearn: 2101.2465781\ttotal: 151ms\tremaining: 3.63s\n",
      "12:\tlearn: 2046.4108575\ttotal: 163ms\tremaining: 3.59s\n",
      "13:\tlearn: 2010.2955812\ttotal: 175ms\tremaining: 3.57s\n",
      "14:\tlearn: 1979.7585000\ttotal: 187ms\tremaining: 3.55s\n",
      "15:\tlearn: 1953.6271760\ttotal: 199ms\tremaining: 3.53s\n",
      "16:\tlearn: 1922.7126232\ttotal: 211ms\tremaining: 3.51s\n",
      "17:\tlearn: 1897.8534694\ttotal: 223ms\tremaining: 3.49s\n",
      "18:\tlearn: 1882.8357715\ttotal: 234ms\tremaining: 3.47s\n",
      "19:\tlearn: 1864.3143490\ttotal: 246ms\tremaining: 3.45s\n",
      "20:\tlearn: 1847.7846559\ttotal: 259ms\tremaining: 3.44s\n",
      "21:\tlearn: 1837.4235802\ttotal: 271ms\tremaining: 3.42s\n",
      "22:\tlearn: 1825.4862918\ttotal: 283ms\tremaining: 3.41s\n",
      "23:\tlearn: 1812.3937803\ttotal: 296ms\tremaining: 3.4s\n",
      "24:\tlearn: 1802.4510991\ttotal: 308ms\tremaining: 3.38s\n",
      "25:\tlearn: 1795.4648168\ttotal: 322ms\tremaining: 3.39s\n",
      "26:\tlearn: 1786.8752072\ttotal: 334ms\tremaining: 3.37s\n",
      "27:\tlearn: 1778.6461749\ttotal: 346ms\tremaining: 3.36s\n",
      "28:\tlearn: 1769.4739719\ttotal: 358ms\tremaining: 3.35s\n",
      "29:\tlearn: 1762.4332601\ttotal: 370ms\tremaining: 3.33s\n",
      "30:\tlearn: 1757.8748907\ttotal: 383ms\tremaining: 3.32s\n",
      "31:\tlearn: 1752.9975257\ttotal: 395ms\tremaining: 3.31s\n",
      "32:\tlearn: 1747.0108650\ttotal: 408ms\tremaining: 3.3s\n",
      "33:\tlearn: 1738.1921460\ttotal: 421ms\tremaining: 3.29s\n",
      "34:\tlearn: 1732.4016389\ttotal: 435ms\tremaining: 3.29s\n",
      "35:\tlearn: 1723.6744570\ttotal: 458ms\tremaining: 3.36s\n",
      "36:\tlearn: 1719.2605029\ttotal: 478ms\tremaining: 3.4s\n",
      "37:\tlearn: 1715.9328607\ttotal: 505ms\tremaining: 3.48s\n",
      "38:\tlearn: 1711.7641958\ttotal: 518ms\tremaining: 3.46s\n",
      "39:\tlearn: 1705.5247064\ttotal: 530ms\tremaining: 3.45s\n",
      "40:\tlearn: 1703.1056149\ttotal: 543ms\tremaining: 3.43s\n",
      "41:\tlearn: 1699.1999624\ttotal: 555ms\tremaining: 3.41s\n",
      "42:\tlearn: 1695.1402715\ttotal: 568ms\tremaining: 3.39s\n",
      "43:\tlearn: 1691.8979442\ttotal: 580ms\tremaining: 3.37s\n",
      "44:\tlearn: 1688.2955875\ttotal: 593ms\tremaining: 3.36s\n",
      "45:\tlearn: 1684.1282879\ttotal: 606ms\tremaining: 3.34s\n",
      "46:\tlearn: 1681.4427020\ttotal: 617ms\tremaining: 3.32s\n",
      "47:\tlearn: 1678.6273041\ttotal: 630ms\tremaining: 3.31s\n",
      "48:\tlearn: 1675.5184259\ttotal: 643ms\tremaining: 3.29s\n",
      "49:\tlearn: 1671.6060694\ttotal: 655ms\tremaining: 3.27s\n",
      "50:\tlearn: 1669.7322160\ttotal: 667ms\tremaining: 3.26s\n",
      "51:\tlearn: 1667.3964553\ttotal: 680ms\tremaining: 3.24s\n",
      "52:\tlearn: 1665.0566832\ttotal: 692ms\tremaining: 3.23s\n",
      "53:\tlearn: 1662.7094840\ttotal: 704ms\tremaining: 3.21s\n",
      "54:\tlearn: 1660.7013403\ttotal: 716ms\tremaining: 3.19s\n",
      "55:\tlearn: 1656.8142044\ttotal: 728ms\tremaining: 3.17s\n",
      "56:\tlearn: 1654.3864354\ttotal: 742ms\tremaining: 3.16s\n",
      "57:\tlearn: 1652.2782216\ttotal: 754ms\tremaining: 3.15s\n",
      "58:\tlearn: 1651.1830365\ttotal: 767ms\tremaining: 3.13s\n",
      "59:\tlearn: 1649.3726690\ttotal: 780ms\tremaining: 3.12s\n",
      "60:\tlearn: 1647.9591568\ttotal: 792ms\tremaining: 3.1s\n",
      "61:\tlearn: 1645.0150657\ttotal: 805ms\tremaining: 3.09s\n",
      "62:\tlearn: 1643.5759278\ttotal: 817ms\tremaining: 3.08s\n",
      "63:\tlearn: 1641.5600318\ttotal: 830ms\tremaining: 3.06s\n",
      "64:\tlearn: 1638.4645287\ttotal: 843ms\tremaining: 3.05s\n",
      "65:\tlearn: 1636.2959693\ttotal: 857ms\tremaining: 3.04s\n",
      "66:\tlearn: 1634.7677207\ttotal: 868ms\tremaining: 3.02s\n",
      "67:\tlearn: 1632.2679255\ttotal: 881ms\tremaining: 3s\n",
      "68:\tlearn: 1630.0083333\ttotal: 894ms\tremaining: 2.99s\n",
      "69:\tlearn: 1627.5656613\ttotal: 906ms\tremaining: 2.98s\n",
      "70:\tlearn: 1625.8601123\ttotal: 918ms\tremaining: 2.96s\n",
      "71:\tlearn: 1624.0984459\ttotal: 930ms\tremaining: 2.94s\n",
      "72:\tlearn: 1622.9070663\ttotal: 943ms\tremaining: 2.93s\n",
      "73:\tlearn: 1621.8529117\ttotal: 956ms\tremaining: 2.92s\n",
      "74:\tlearn: 1619.8771177\ttotal: 969ms\tremaining: 2.91s\n",
      "75:\tlearn: 1618.1033721\ttotal: 981ms\tremaining: 2.89s\n",
      "76:\tlearn: 1616.0863979\ttotal: 994ms\tremaining: 2.88s\n",
      "77:\tlearn: 1614.5463673\ttotal: 1.01s\tremaining: 2.87s\n",
      "78:\tlearn: 1613.3525153\ttotal: 1.02s\tremaining: 2.85s\n",
      "79:\tlearn: 1611.3539462\ttotal: 1.03s\tremaining: 2.83s\n",
      "80:\tlearn: 1609.5764683\ttotal: 1.04s\tremaining: 2.82s\n",
      "81:\tlearn: 1608.1493614\ttotal: 1.06s\tremaining: 2.81s\n",
      "82:\tlearn: 1606.7701756\ttotal: 1.07s\tremaining: 2.79s\n",
      "83:\tlearn: 1605.2680426\ttotal: 1.08s\tremaining: 2.78s\n",
      "84:\tlearn: 1603.3202688\ttotal: 1.09s\tremaining: 2.77s\n",
      "85:\tlearn: 1601.9596258\ttotal: 1.11s\tremaining: 2.75s\n",
      "86:\tlearn: 1599.6154605\ttotal: 1.12s\tremaining: 2.74s\n",
      "87:\tlearn: 1597.6009730\ttotal: 1.13s\tremaining: 2.73s\n",
      "88:\tlearn: 1596.1044984\ttotal: 1.15s\tremaining: 2.72s\n",
      "89:\tlearn: 1594.9485168\ttotal: 1.16s\tremaining: 2.7s\n",
      "90:\tlearn: 1593.5088347\ttotal: 1.17s\tremaining: 2.69s\n",
      "91:\tlearn: 1592.6555936\ttotal: 1.18s\tremaining: 2.67s\n",
      "92:\tlearn: 1591.5354053\ttotal: 1.2s\tremaining: 2.66s\n",
      "93:\tlearn: 1590.1176749\ttotal: 1.21s\tremaining: 2.65s\n",
      "94:\tlearn: 1587.9128286\ttotal: 1.22s\tremaining: 2.63s\n",
      "95:\tlearn: 1586.1673893\ttotal: 1.23s\tremaining: 2.62s\n",
      "96:\tlearn: 1584.0533448\ttotal: 1.24s\tremaining: 2.6s\n",
      "97:\tlearn: 1582.5352603\ttotal: 1.26s\tremaining: 2.59s\n",
      "98:\tlearn: 1580.8456801\ttotal: 1.27s\tremaining: 2.58s\n",
      "99:\tlearn: 1579.6505698\ttotal: 1.28s\tremaining: 2.57s\n",
      "100:\tlearn: 1577.9897514\ttotal: 1.3s\tremaining: 2.56s\n",
      "101:\tlearn: 1576.3414574\ttotal: 1.31s\tremaining: 2.54s\n",
      "102:\tlearn: 1575.1731370\ttotal: 1.32s\tremaining: 2.53s\n",
      "103:\tlearn: 1574.0566334\ttotal: 1.33s\tremaining: 2.51s\n",
      "104:\tlearn: 1572.2579869\ttotal: 1.34s\tremaining: 2.5s\n",
      "105:\tlearn: 1570.7453739\ttotal: 1.36s\tremaining: 2.48s\n",
      "106:\tlearn: 1569.4970849\ttotal: 1.37s\tremaining: 2.47s\n",
      "107:\tlearn: 1567.6902286\ttotal: 1.38s\tremaining: 2.46s\n",
      "108:\tlearn: 1566.1357366\ttotal: 1.4s\tremaining: 2.45s\n",
      "109:\tlearn: 1564.8400661\ttotal: 1.41s\tremaining: 2.43s\n",
      "110:\tlearn: 1563.5581934\ttotal: 1.42s\tremaining: 2.42s\n",
      "111:\tlearn: 1562.0445314\ttotal: 1.44s\tremaining: 2.41s\n",
      "112:\tlearn: 1560.1551568\ttotal: 1.45s\tremaining: 2.4s\n",
      "113:\tlearn: 1558.4891321\ttotal: 1.46s\tremaining: 2.38s\n",
      "114:\tlearn: 1557.5192003\ttotal: 1.47s\tremaining: 2.37s\n",
      "115:\tlearn: 1555.9547661\ttotal: 1.49s\tremaining: 2.36s\n",
      "116:\tlearn: 1554.8433843\ttotal: 1.5s\tremaining: 2.34s\n",
      "117:\tlearn: 1553.9723940\ttotal: 1.51s\tremaining: 2.33s\n",
      "118:\tlearn: 1552.9209929\ttotal: 1.52s\tremaining: 2.32s\n",
      "119:\tlearn: 1551.7070776\ttotal: 1.54s\tremaining: 2.3s\n",
      "120:\tlearn: 1550.4122740\ttotal: 1.55s\tremaining: 2.29s\n",
      "121:\tlearn: 1549.0897801\ttotal: 1.56s\tremaining: 2.28s\n",
      "122:\tlearn: 1548.2715860\ttotal: 1.57s\tremaining: 2.27s\n",
      "123:\tlearn: 1547.2364784\ttotal: 1.59s\tremaining: 2.25s\n",
      "124:\tlearn: 1546.2370201\ttotal: 1.6s\tremaining: 2.24s\n",
      "125:\tlearn: 1545.3631734\ttotal: 1.61s\tremaining: 2.23s\n",
      "126:\tlearn: 1543.5828463\ttotal: 1.62s\tremaining: 2.21s\n",
      "127:\tlearn: 1542.2927835\ttotal: 1.64s\tremaining: 2.2s\n",
      "128:\tlearn: 1541.4347543\ttotal: 1.65s\tremaining: 2.19s\n",
      "129:\tlearn: 1540.0035882\ttotal: 1.66s\tremaining: 2.17s\n",
      "130:\tlearn: 1539.5069500\ttotal: 1.68s\tremaining: 2.16s\n",
      "131:\tlearn: 1538.5533363\ttotal: 1.69s\tremaining: 2.15s\n",
      "132:\tlearn: 1537.2665413\ttotal: 1.7s\tremaining: 2.14s\n",
      "133:\tlearn: 1536.4719355\ttotal: 1.71s\tremaining: 2.12s\n",
      "134:\tlearn: 1535.0945420\ttotal: 1.73s\tremaining: 2.11s\n",
      "135:\tlearn: 1533.7054354\ttotal: 1.74s\tremaining: 2.1s\n",
      "136:\tlearn: 1532.2896610\ttotal: 1.75s\tremaining: 2.08s\n",
      "137:\tlearn: 1530.9679090\ttotal: 1.76s\tremaining: 2.07s\n",
      "138:\tlearn: 1529.5734958\ttotal: 1.78s\tremaining: 2.06s\n",
      "139:\tlearn: 1528.4426364\ttotal: 1.79s\tremaining: 2.05s\n",
      "140:\tlearn: 1527.1189290\ttotal: 1.8s\tremaining: 2.03s\n",
      "141:\tlearn: 1526.0635271\ttotal: 1.82s\tremaining: 2.02s\n",
      "142:\tlearn: 1525.7868036\ttotal: 1.83s\tremaining: 2.01s\n",
      "143:\tlearn: 1524.8081451\ttotal: 1.84s\tremaining: 2s\n",
      "144:\tlearn: 1523.2691685\ttotal: 1.85s\tremaining: 1.98s\n",
      "145:\tlearn: 1522.6412335\ttotal: 1.87s\tremaining: 1.97s\n",
      "146:\tlearn: 1521.3703605\ttotal: 1.88s\tremaining: 1.96s\n",
      "147:\tlearn: 1519.7234397\ttotal: 1.89s\tremaining: 1.94s\n",
      "148:\tlearn: 1518.5885611\ttotal: 1.9s\tremaining: 1.93s\n",
      "149:\tlearn: 1517.5949379\ttotal: 1.92s\tremaining: 1.92s\n",
      "150:\tlearn: 1516.5742811\ttotal: 1.93s\tremaining: 1.9s\n",
      "151:\tlearn: 1515.3177733\ttotal: 1.94s\tremaining: 1.89s\n",
      "152:\tlearn: 1514.3981649\ttotal: 1.95s\tremaining: 1.88s\n",
      "153:\tlearn: 1513.5749416\ttotal: 1.97s\tremaining: 1.86s\n",
      "154:\tlearn: 1512.5956123\ttotal: 1.98s\tremaining: 1.85s\n"
     ]
    },
    {
     "name": "stdout",
     "output_type": "stream",
     "text": [
      "155:\tlearn: 1511.5694205\ttotal: 1.99s\tremaining: 1.84s\n",
      "156:\tlearn: 1510.5427089\ttotal: 2s\tremaining: 1.82s\n",
      "157:\tlearn: 1509.2739024\ttotal: 2.02s\tremaining: 1.81s\n",
      "158:\tlearn: 1509.1125616\ttotal: 2.03s\tremaining: 1.8s\n",
      "159:\tlearn: 1508.2108722\ttotal: 2.04s\tremaining: 1.79s\n",
      "160:\tlearn: 1507.9164623\ttotal: 2.06s\tremaining: 1.77s\n",
      "161:\tlearn: 1507.0297373\ttotal: 2.07s\tremaining: 1.76s\n",
      "162:\tlearn: 1506.3285899\ttotal: 2.08s\tremaining: 1.75s\n",
      "163:\tlearn: 1505.6519363\ttotal: 2.09s\tremaining: 1.74s\n",
      "164:\tlearn: 1504.4215531\ttotal: 2.1s\tremaining: 1.72s\n",
      "165:\tlearn: 1503.5092223\ttotal: 2.12s\tremaining: 1.71s\n",
      "166:\tlearn: 1502.7378959\ttotal: 2.13s\tremaining: 1.7s\n",
      "167:\tlearn: 1501.7678771\ttotal: 2.14s\tremaining: 1.68s\n",
      "168:\tlearn: 1501.1177060\ttotal: 2.16s\tremaining: 1.67s\n",
      "169:\tlearn: 1500.3039606\ttotal: 2.17s\tremaining: 1.66s\n",
      "170:\tlearn: 1498.9816544\ttotal: 2.18s\tremaining: 1.65s\n",
      "171:\tlearn: 1498.4157919\ttotal: 2.19s\tremaining: 1.63s\n",
      "172:\tlearn: 1497.5576096\ttotal: 2.21s\tremaining: 1.62s\n",
      "173:\tlearn: 1497.1196342\ttotal: 2.22s\tremaining: 1.61s\n",
      "174:\tlearn: 1496.5506709\ttotal: 2.23s\tremaining: 1.59s\n",
      "175:\tlearn: 1495.9941447\ttotal: 2.25s\tremaining: 1.58s\n",
      "176:\tlearn: 1494.7225041\ttotal: 2.26s\tremaining: 1.57s\n",
      "177:\tlearn: 1494.0530810\ttotal: 2.27s\tremaining: 1.56s\n",
      "178:\tlearn: 1493.0474429\ttotal: 2.28s\tremaining: 1.54s\n",
      "179:\tlearn: 1492.1868115\ttotal: 2.29s\tremaining: 1.53s\n",
      "180:\tlearn: 1491.4083247\ttotal: 2.31s\tremaining: 1.52s\n",
      "181:\tlearn: 1490.6479158\ttotal: 2.32s\tremaining: 1.5s\n",
      "182:\tlearn: 1489.7985145\ttotal: 2.33s\tremaining: 1.49s\n",
      "183:\tlearn: 1488.9362399\ttotal: 2.35s\tremaining: 1.48s\n",
      "184:\tlearn: 1488.1333545\ttotal: 2.36s\tremaining: 1.47s\n",
      "185:\tlearn: 1486.7376574\ttotal: 2.37s\tremaining: 1.45s\n",
      "186:\tlearn: 1485.8470861\ttotal: 2.38s\tremaining: 1.44s\n",
      "187:\tlearn: 1485.1960486\ttotal: 2.4s\tremaining: 1.43s\n",
      "188:\tlearn: 1484.8055157\ttotal: 2.41s\tremaining: 1.41s\n",
      "189:\tlearn: 1483.9610846\ttotal: 2.42s\tremaining: 1.4s\n",
      "190:\tlearn: 1483.1346357\ttotal: 2.43s\tremaining: 1.39s\n",
      "191:\tlearn: 1482.6193493\ttotal: 2.45s\tremaining: 1.38s\n",
      "192:\tlearn: 1481.8327667\ttotal: 2.46s\tremaining: 1.36s\n",
      "193:\tlearn: 1480.8143811\ttotal: 2.47s\tremaining: 1.35s\n",
      "194:\tlearn: 1480.2708465\ttotal: 2.49s\tremaining: 1.34s\n",
      "195:\tlearn: 1479.7745711\ttotal: 2.5s\tremaining: 1.33s\n",
      "196:\tlearn: 1478.7123762\ttotal: 2.51s\tremaining: 1.31s\n",
      "197:\tlearn: 1477.8038756\ttotal: 2.52s\tremaining: 1.3s\n",
      "198:\tlearn: 1477.0613881\ttotal: 2.54s\tremaining: 1.29s\n",
      "199:\tlearn: 1476.0984012\ttotal: 2.55s\tremaining: 1.27s\n",
      "200:\tlearn: 1475.4741718\ttotal: 2.56s\tremaining: 1.26s\n",
      "201:\tlearn: 1474.5283083\ttotal: 2.57s\tremaining: 1.25s\n",
      "202:\tlearn: 1473.6901624\ttotal: 2.59s\tremaining: 1.24s\n",
      "203:\tlearn: 1472.8762376\ttotal: 2.6s\tremaining: 1.22s\n",
      "204:\tlearn: 1472.0061042\ttotal: 2.61s\tremaining: 1.21s\n",
      "205:\tlearn: 1471.3826120\ttotal: 2.62s\tremaining: 1.2s\n",
      "206:\tlearn: 1470.5262083\ttotal: 2.64s\tremaining: 1.18s\n",
      "207:\tlearn: 1469.6388756\ttotal: 2.65s\tremaining: 1.17s\n",
      "208:\tlearn: 1469.1430467\ttotal: 2.66s\tremaining: 1.16s\n",
      "209:\tlearn: 1468.4336886\ttotal: 2.67s\tremaining: 1.15s\n",
      "210:\tlearn: 1467.4854795\ttotal: 2.69s\tremaining: 1.13s\n",
      "211:\tlearn: 1466.8018237\ttotal: 2.7s\tremaining: 1.12s\n",
      "212:\tlearn: 1465.9554187\ttotal: 2.71s\tremaining: 1.11s\n",
      "213:\tlearn: 1465.1565359\ttotal: 2.72s\tremaining: 1.09s\n",
      "214:\tlearn: 1464.1568068\ttotal: 2.74s\tremaining: 1.08s\n",
      "215:\tlearn: 1463.0135974\ttotal: 2.75s\tremaining: 1.07s\n",
      "216:\tlearn: 1461.8550316\ttotal: 2.76s\tremaining: 1.06s\n",
      "217:\tlearn: 1461.1953649\ttotal: 2.77s\tremaining: 1.04s\n",
      "218:\tlearn: 1460.2098847\ttotal: 2.79s\tremaining: 1.03s\n",
      "219:\tlearn: 1459.6978897\ttotal: 2.8s\tremaining: 1.02s\n",
      "220:\tlearn: 1459.0551296\ttotal: 2.81s\tremaining: 1s\n",
      "221:\tlearn: 1458.3547461\ttotal: 2.82s\tremaining: 992ms\n",
      "222:\tlearn: 1457.7236981\ttotal: 2.83s\tremaining: 979ms\n",
      "223:\tlearn: 1457.2694020\ttotal: 2.85s\tremaining: 966ms\n",
      "224:\tlearn: 1456.5610096\ttotal: 2.86s\tremaining: 954ms\n",
      "225:\tlearn: 1456.2194453\ttotal: 2.87s\tremaining: 941ms\n",
      "226:\tlearn: 1455.6518509\ttotal: 2.89s\tremaining: 928ms\n",
      "227:\tlearn: 1454.9249461\ttotal: 2.9s\tremaining: 915ms\n",
      "228:\tlearn: 1454.2460621\ttotal: 2.91s\tremaining: 903ms\n",
      "229:\tlearn: 1453.5812665\ttotal: 2.92s\tremaining: 890ms\n",
      "230:\tlearn: 1452.6707241\ttotal: 2.94s\tremaining: 877ms\n",
      "231:\tlearn: 1452.1201350\ttotal: 2.95s\tremaining: 865ms\n",
      "232:\tlearn: 1451.4508621\ttotal: 2.96s\tremaining: 852ms\n",
      "233:\tlearn: 1450.8985228\ttotal: 2.97s\tremaining: 839ms\n",
      "234:\tlearn: 1450.2054531\ttotal: 2.99s\tremaining: 826ms\n",
      "235:\tlearn: 1449.4027126\ttotal: 3s\tremaining: 814ms\n",
      "236:\tlearn: 1448.5564845\ttotal: 3.01s\tremaining: 801ms\n",
      "237:\tlearn: 1448.1364927\ttotal: 3.02s\tremaining: 788ms\n",
      "238:\tlearn: 1447.2111000\ttotal: 3.04s\tremaining: 775ms\n",
      "239:\tlearn: 1446.0635446\ttotal: 3.05s\tremaining: 762ms\n",
      "240:\tlearn: 1445.3326151\ttotal: 3.06s\tremaining: 750ms\n",
      "241:\tlearn: 1444.0242800\ttotal: 3.07s\tremaining: 737ms\n",
      "242:\tlearn: 1442.9139631\ttotal: 3.09s\tremaining: 724ms\n",
      "243:\tlearn: 1442.4061275\ttotal: 3.1s\tremaining: 711ms\n",
      "244:\tlearn: 1441.4440068\ttotal: 3.11s\tremaining: 698ms\n",
      "245:\tlearn: 1440.9390008\ttotal: 3.12s\tremaining: 685ms\n",
      "246:\tlearn: 1440.1763138\ttotal: 3.13s\tremaining: 673ms\n",
      "247:\tlearn: 1439.7781774\ttotal: 3.15s\tremaining: 660ms\n",
      "248:\tlearn: 1439.2474699\ttotal: 3.16s\tremaining: 647ms\n",
      "249:\tlearn: 1438.5170019\ttotal: 3.17s\tremaining: 634ms\n",
      "250:\tlearn: 1437.9173138\ttotal: 3.18s\tremaining: 622ms\n",
      "251:\tlearn: 1437.5689299\ttotal: 3.2s\tremaining: 609ms\n",
      "252:\tlearn: 1437.1150146\ttotal: 3.21s\tremaining: 597ms\n",
      "253:\tlearn: 1436.5834141\ttotal: 3.22s\tremaining: 584ms\n",
      "254:\tlearn: 1435.3360575\ttotal: 3.24s\tremaining: 571ms\n",
      "255:\tlearn: 1434.4729827\ttotal: 3.25s\tremaining: 558ms\n",
      "256:\tlearn: 1433.8010293\ttotal: 3.26s\tremaining: 546ms\n",
      "257:\tlearn: 1432.6862479\ttotal: 3.27s\tremaining: 533ms\n",
      "258:\tlearn: 1432.2084647\ttotal: 3.29s\tremaining: 520ms\n",
      "259:\tlearn: 1431.2011456\ttotal: 3.3s\tremaining: 508ms\n",
      "260:\tlearn: 1429.8650075\ttotal: 3.31s\tremaining: 495ms\n",
      "261:\tlearn: 1429.1988019\ttotal: 3.33s\tremaining: 482ms\n",
      "262:\tlearn: 1428.5210833\ttotal: 3.34s\tremaining: 470ms\n",
      "263:\tlearn: 1427.6223478\ttotal: 3.35s\tremaining: 457ms\n",
      "264:\tlearn: 1426.8862107\ttotal: 3.36s\tremaining: 444ms\n",
      "265:\tlearn: 1426.5148942\ttotal: 3.38s\tremaining: 432ms\n",
      "266:\tlearn: 1426.1785870\ttotal: 3.39s\tremaining: 419ms\n",
      "267:\tlearn: 1425.9422629\ttotal: 3.4s\tremaining: 406ms\n",
      "268:\tlearn: 1425.2783167\ttotal: 3.42s\tremaining: 394ms\n",
      "269:\tlearn: 1424.5097400\ttotal: 3.43s\tremaining: 381ms\n",
      "270:\tlearn: 1424.2113485\ttotal: 3.44s\tremaining: 368ms\n",
      "271:\tlearn: 1423.4996002\ttotal: 3.45s\tremaining: 355ms\n",
      "272:\tlearn: 1423.1448048\ttotal: 3.46s\tremaining: 343ms\n",
      "273:\tlearn: 1422.5006340\ttotal: 3.48s\tremaining: 330ms\n",
      "274:\tlearn: 1422.0002920\ttotal: 3.49s\tremaining: 317ms\n",
      "275:\tlearn: 1421.6352513\ttotal: 3.5s\tremaining: 305ms\n",
      "276:\tlearn: 1420.8515489\ttotal: 3.52s\tremaining: 292ms\n",
      "277:\tlearn: 1420.3627278\ttotal: 3.53s\tremaining: 279ms\n",
      "278:\tlearn: 1419.5455207\ttotal: 3.54s\tremaining: 266ms\n",
      "279:\tlearn: 1419.2824215\ttotal: 3.55s\tremaining: 254ms\n",
      "280:\tlearn: 1418.6680808\ttotal: 3.56s\tremaining: 241ms\n",
      "281:\tlearn: 1417.9883541\ttotal: 3.58s\tremaining: 228ms\n",
      "282:\tlearn: 1417.5300234\ttotal: 3.59s\tremaining: 216ms\n",
      "283:\tlearn: 1416.8648733\ttotal: 3.6s\tremaining: 203ms\n",
      "284:\tlearn: 1416.4279441\ttotal: 3.62s\tremaining: 190ms\n",
      "285:\tlearn: 1415.6442710\ttotal: 3.63s\tremaining: 178ms\n",
      "286:\tlearn: 1414.9481006\ttotal: 3.64s\tremaining: 165ms\n",
      "287:\tlearn: 1414.2040760\ttotal: 3.65s\tremaining: 152ms\n",
      "288:\tlearn: 1413.7003842\ttotal: 3.67s\tremaining: 140ms\n",
      "289:\tlearn: 1413.0486225\ttotal: 3.68s\tremaining: 127ms\n",
      "290:\tlearn: 1412.5573403\ttotal: 3.69s\tremaining: 114ms\n",
      "291:\tlearn: 1412.1678762\ttotal: 3.7s\tremaining: 101ms\n",
      "292:\tlearn: 1411.8440189\ttotal: 3.72s\tremaining: 88.8ms\n",
      "293:\tlearn: 1411.1790989\ttotal: 3.73s\tremaining: 76.1ms\n",
      "294:\tlearn: 1410.7760236\ttotal: 3.74s\tremaining: 63.4ms\n",
      "295:\tlearn: 1409.9426256\ttotal: 3.75s\tremaining: 50.7ms\n",
      "296:\tlearn: 1409.5360718\ttotal: 3.77s\tremaining: 38.1ms\n",
      "297:\tlearn: 1408.9265789\ttotal: 3.78s\tremaining: 25.4ms\n",
      "298:\tlearn: 1408.5218440\ttotal: 3.79s\tremaining: 12.7ms\n",
      "299:\tlearn: 1408.1146996\ttotal: 3.81s\tremaining: 0us\n"
     ]
    }
   ],
   "source": [
    "cb = CatBoostRegressor(random_state=12345, depth = 10,  iterations = 300, learning_rate = 0.15);\n",
    "\n",
    "cb.fit(X_train_ord, y_train);\n",
    "\n",
    "pred_final = cb.predict(X_test_ord)"
   ]
  },
  {
   "cell_type": "code",
   "execution_count": 74,
   "id": "a03a1481",
   "metadata": {},
   "outputs": [
    {
     "name": "stdout",
     "output_type": "stream",
     "text": [
      "RMSE on testing sample:  1585.4354639414657\n"
     ]
    }
   ],
   "source": [
    "mse_final = mean_squared_error(y_test, pred_final)\n",
    "rmse_final = (mse_final) ** 0.5\n",
    "print('RMSE on testing sample: ', rmse_final)"
   ]
  },
  {
   "cell_type": "markdown",
   "id": "2e5cf558",
   "metadata": {},
   "source": [
    "<a id=\"Conclusion\"></a>\n",
    "<div style=\"padding:20px;\n",
    "            color:white;\n",
    "            margin:10;\n",
    "            font-size:170%;\n",
    "            text-align:left;\n",
    "            display:fill;\n",
    "            border-radius:5px;\n",
    "            background-color:#294B8E;\n",
    "            overflow:hidden;\n",
    "            font-weight:700\"><span style='color:#CDA63A'>|</span> Conclusion</div>"
   ]
  },
  {
   "cell_type": "markdown",
   "id": "0fc553db",
   "metadata": {},
   "source": [
    "<div style=\"border-radius:10px; border:#DEB887 solid; padding: 15px; background-color: #FFFAF0; font-size:100%; text-align:left\">\n",
    "<br>📑A study was conducted to determine the <b> value of cars</b>.\n",
    "        \n",
    "        \n",
    "<br><b> Input data - data on technical characteristics, equipment and prices of other cars. </b>\n",
    "\n",
    "        \n",
    "<br> 📊 The data was preprocessed as follows: duplicate rows were removed; column names corrected; the columns \"VehicleType\", \"Gearbox\", \"FuelType\" are filled with frequently occurring values; the data in the columns \"RegistrationYear\", \"Power\", \"Repaired\", \"Model\" has been corrected; data type changed in \"RegistrationMonth\", \"DateCreated\" column; columns \"NumberOfPictures\", \"PostalCode\", \"Date_crawled\", \"Date_created\", \"Last_seen\" have been removed because are uninformative.\n",
    " \n",
    "<br> 📊 Scaled and standardized data.\n",
    "        \n",
    "<br> 📊 Linear regression, random forest, decision tree, XGBoost, CatBoost, LightGBM models were trained.\n",
    "        \n",
    "<br> 📊 Found the best hyperparameters for the respective models using GridSearchCV.\n",
    "        \n",
    "<br> 📊 A comparison of the quality of the studied models using the RMSE metric, as well as training and prediction times is shown.\n",
    " \n",
    "<br>Based on the analysis, the conclusion is made:\n",
    "<br> <b>- the best CatBoost model, then LightGBM, after Random Forest.</b>\n",
    "<br> <b>CatBoost </b> is the fastest training and prediction model for gradient boosting compared to LightGBM and XGBoost.\n",
    "<br> <b>is the worst Linear Regression</b> model, it has the highest RMSE metric."
   ]
  }
 ],
 "metadata": {
  "kernelspec": {
   "display_name": "Python 3 (ipykernel)",
   "language": "python",
   "name": "python3"
  },
  "language_info": {
   "codemirror_mode": {
    "name": "ipython",
    "version": 3
   },
   "file_extension": ".py",
   "mimetype": "text/x-python",
   "name": "python",
   "nbconvert_exporter": "python",
   "pygments_lexer": "ipython3",
   "version": "3.9.13"
  }
 },
 "nbformat": 4,
 "nbformat_minor": 5
}
