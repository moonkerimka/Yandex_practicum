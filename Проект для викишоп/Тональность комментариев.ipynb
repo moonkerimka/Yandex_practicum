{
 "cells": [
  {
   "cell_type": "markdown",
   "id": "1e51b2b8",
   "metadata": {},
   "source": [
    "### <p style=\"font-family:JetBrains Mono; font-weight:bold; letter-spacing: 2px; color:#294B8E; font-size:140%; text-align:left;padding: 0px; border-bottom: 3px solid #294B8E\">Проект для «Викишоп»</p>"
   ]
  },
  {
   "cell_type": "markdown",
   "id": "11a717ef",
   "metadata": {},
   "source": [
    "<a id=\"1.2\"></a>\n",
    "<div style=\"padding:20px;\n",
    "            color:white;\n",
    "            margin:10;\n",
    "            font-size:170%;\n",
    "            text-align:left;\n",
    "            display:fill;\n",
    "            border-radius:5px;\n",
    "            background-color:#294B8E;\n",
    "            overflow:hidden;\n",
    "            font-weight:700\"><span style='color:#CDA63A'>|</span> Содержание</div>"
   ]
  },
  {
   "cell_type": "markdown",
   "id": "a915f679",
   "metadata": {},
   "source": [
    "<div class=\"toc\"><ul class=\"toc-item\"><li><span><a href=\"#Описание-данных\" data-toc-modified-id=\"Описание-данных-1\"><span class=\"toc-item-num\">1&nbsp;&nbsp;</span>Описание данных</a></span></li>\n",
    "    <li><span><a href=\"#Загрузка-библиотек\" data-toc-modified-id=\"Загрузка-библиотек-2\"><span class=\"toc-item-num\">2&nbsp;&nbsp;</span>Загрузка библиотек</a></span></li>\n",
    "    <li><span><a href=\"#EDA\" data-toc-modified-id=\"EDA-3\"><span class=\"toc-item-num\">3&nbsp;&nbsp;</span>EDA</a></span></li>\n",
    "    <li><span><a href=\"#Подготовка-данных\" data-toc-modified-id=\"Подготовка-данных-4\"><span class=\"toc-item-num\">4&nbsp;&nbsp;</span>Подготовка данных</a></span></li>\n",
    "    <li><span><a href=\"#Подготовим-выборки-для-обучения-моделей\" data-toc-modified-id=\"Подготовим-выборки-для-обучения-моделей-5\"><span class=\"toc-item-num\">5&nbsp;&nbsp;</span>Подготовим выборки для обучения моделей</a></span></li>\n",
    "    <li><span><a href=\"#Обучение-моделей\" data-toc-modified-id=\"Обучение-моделей-6\"><span class=\"toc-item-num\">6&nbsp;&nbsp;</span>Обучение моделей</a></span></li>\n",
    "       <li><span><a href=\"#Тестирование-лучшей-модели\" data-toc-modified-id=\"Тестирование-лучшей-модели-7\"><span class=\"toc-item-num\">7&nbsp;&nbsp;</span>Тестирование лучшей модели</a></span></li>\n",
    "    <li><span><a href=\"#Вывод\" data-toc-modified-id=\"Вывод-8\"><span class=\"toc-item-num\">8&nbsp;&nbsp;</span>Вывод</a></span></li>"
   ]
  },
  {
   "cell_type": "markdown",
   "id": "0fa4011b",
   "metadata": {},
   "source": [
    "<a id=\"Описание-данных\"></a>\n",
    "<div style=\"padding:20px;\n",
    "            color:white;\n",
    "            margin:10;\n",
    "            font-size:170%;\n",
    "            text-align:left;\n",
    "            display:fill;\n",
    "            border-radius:5px;\n",
    "            background-color:#294B8E;\n",
    "            overflow:hidden;\n",
    "            font-weight:700\"><span style='color:#CDA63A'>|</span> Описание данных</div>"
   ]
  },
  {
   "cell_type": "markdown",
   "id": "8f6c676f",
   "metadata": {},
   "source": [
    "<ul>\n",
    "<li>text - текст комментария</li>\n",
    "<li>toxic - целевой признак</li>\n",
    "</ul>\n"
   ]
  },
  {
   "cell_type": "markdown",
   "id": "2122d13b",
   "metadata": {},
   "source": [
    "<div class=\"alert alert-block alert-info\" style=\"background-color:#FFFAF0;\n",
    "                                                 color:black;\n",
    "                                                 border-color:#DEB887;\n",
    "                                                 border-radius:5px;\n",
    "                                                 width:50%;\n",
    "                                                 margin: auto;\n",
    "                                                 text-align: left;\">\n",
    "\n",
    "\n",
    "Интернет-магазин «Викишоп» запускает новый сервис. Теперь пользователи могут редактировать и дополнять описания товаров, как в вики-сообществах. То есть клиенты предлагают свои правки и комментируют изменения других. Магазину нужен инструмент, который будет искать токсичные комментарии и отправлять их на модерацию. \n",
    "\n",
    "</div>"
   ]
  },
  {
   "cell_type": "markdown",
   "id": "a37d8f76",
   "metadata": {},
   "source": [
    "<a id=\"Загрузка-библиотек\"></a>\n",
    "<div style=\"padding:20px;\n",
    "            color:white;\n",
    "            margin:10;\n",
    "            font-size:170%;\n",
    "            text-align:left;\n",
    "            display:fill;\n",
    "            border-radius:5px;\n",
    "            background-color:#294B8E;\n",
    "            overflow:hidden;\n",
    "            font-weight:700\"><span style='color:#CDA63A'>|</span> Загрузка библиотек</div>"
   ]
  },
  {
   "cell_type": "code",
   "execution_count": 1,
   "id": "86c2fe8f",
   "metadata": {},
   "outputs": [
    {
     "name": "stdout",
     "output_type": "stream",
     "text": [
      "pymystem3                         0.2.0\r\n"
     ]
    }
   ],
   "source": [
    "!pip list | grep pymystem"
   ]
  },
  {
   "cell_type": "code",
   "execution_count": 2,
   "id": "d14bd0e9",
   "metadata": {
    "scrolled": true
   },
   "outputs": [
    {
     "name": "stderr",
     "output_type": "stream",
     "text": [
      "/opt/conda/lib/python3.9/site-packages/joblib/_multiprocessing_helpers.py:45: UserWarning: [Errno 28] No space left on device.  joblib will operate in serial mode\n",
      "  warnings.warn('%s.  joblib will operate in serial mode' % (e,))\n",
      "[nltk_data] Downloading package stopwords to /home/jovyan/nltk_data...\n",
      "[nltk_data]   Package stopwords is already up-to-date!\n"
     ]
    }
   ],
   "source": [
    "import os\n",
    "import pandas as pd\n",
    "import re\n",
    "import numpy as np\n",
    "from pymystem3 import Mystem \n",
    "import nltk\n",
    "nltk.download('stopwords')\n",
    "from nltk.corpus import wordnet\n",
    "from catboost import CatBoostClassifier\n",
    "from nltk.stem import WordNetLemmatizer\n",
    "from nltk.corpus import stopwords as nltk_stopwords\n",
    "from sklearn.linear_model import SGDClassifier, LogisticRegression\n",
    "from sklearn.metrics import f1_score\n",
    "from sklearn.model_selection import train_test_split, GridSearchCV\n",
    "from sklearn.feature_extraction.text import TfidfVectorizer, CountVectorizer"
   ]
  },
  {
   "cell_type": "markdown",
   "id": "81578c5d",
   "metadata": {},
   "source": [
    "<a id=\"EDA\"></a>\n",
    "<div style=\"padding:20px;\n",
    "            color:white;\n",
    "            margin:10;\n",
    "            font-size:170%;\n",
    "            text-align:left;\n",
    "            display:fill;\n",
    "            border-radius:5px;\n",
    "            background-color:#294B8E;\n",
    "            overflow:hidden;\n",
    "            font-weight:700\"><span style='color:#CDA63A'>|</span> EDA</div>"
   ]
  },
  {
   "cell_type": "code",
   "execution_count": 3,
   "id": "d4398628",
   "metadata": {},
   "outputs": [],
   "source": [
    "pth1 = '/datasets/toxic_comments.csv'\n",
    "pth2 = 'toxic_comments.csv'\n",
    "if os.path.exists(pth1):\n",
    "    data = pd.read_csv(pth1)\n",
    "elif os.path.exists(pth2):\n",
    "    data = pd.read_csv(pth2)\n",
    "else:\n",
    "    print('Something is wrong')"
   ]
  },
  {
   "cell_type": "code",
   "execution_count": 4,
   "id": "b7b3f339",
   "metadata": {},
   "outputs": [
    {
     "data": {
      "text/html": [
       "<div>\n",
       "<style scoped>\n",
       "    .dataframe tbody tr th:only-of-type {\n",
       "        vertical-align: middle;\n",
       "    }\n",
       "\n",
       "    .dataframe tbody tr th {\n",
       "        vertical-align: top;\n",
       "    }\n",
       "\n",
       "    .dataframe thead th {\n",
       "        text-align: right;\n",
       "    }\n",
       "</style>\n",
       "<table border=\"1\" class=\"dataframe\">\n",
       "  <thead>\n",
       "    <tr style=\"text-align: right;\">\n",
       "      <th></th>\n",
       "      <th>Unnamed: 0</th>\n",
       "      <th>text</th>\n",
       "      <th>toxic</th>\n",
       "    </tr>\n",
       "  </thead>\n",
       "  <tbody>\n",
       "    <tr>\n",
       "      <th>0</th>\n",
       "      <td>0</td>\n",
       "      <td>Explanation\\nWhy the edits made under my usern...</td>\n",
       "      <td>0</td>\n",
       "    </tr>\n",
       "    <tr>\n",
       "      <th>1</th>\n",
       "      <td>1</td>\n",
       "      <td>D'aww! He matches this background colour I'm s...</td>\n",
       "      <td>0</td>\n",
       "    </tr>\n",
       "    <tr>\n",
       "      <th>2</th>\n",
       "      <td>2</td>\n",
       "      <td>Hey man, I'm really not trying to edit war. It...</td>\n",
       "      <td>0</td>\n",
       "    </tr>\n",
       "    <tr>\n",
       "      <th>3</th>\n",
       "      <td>3</td>\n",
       "      <td>\"\\nMore\\nI can't make any real suggestions on ...</td>\n",
       "      <td>0</td>\n",
       "    </tr>\n",
       "    <tr>\n",
       "      <th>4</th>\n",
       "      <td>4</td>\n",
       "      <td>You, sir, are my hero. Any chance you remember...</td>\n",
       "      <td>0</td>\n",
       "    </tr>\n",
       "  </tbody>\n",
       "</table>\n",
       "</div>"
      ],
      "text/plain": [
       "   Unnamed: 0                                               text  toxic\n",
       "0           0  Explanation\\nWhy the edits made under my usern...      0\n",
       "1           1  D'aww! He matches this background colour I'm s...      0\n",
       "2           2  Hey man, I'm really not trying to edit war. It...      0\n",
       "3           3  \"\\nMore\\nI can't make any real suggestions on ...      0\n",
       "4           4  You, sir, are my hero. Any chance you remember...      0"
      ]
     },
     "execution_count": 4,
     "metadata": {},
     "output_type": "execute_result"
    }
   ],
   "source": [
    "data.head(5) "
   ]
  },
  {
   "cell_type": "code",
   "execution_count": 5,
   "id": "f53b08d1",
   "metadata": {},
   "outputs": [
    {
     "data": {
      "text/html": [
       "<div>\n",
       "<style scoped>\n",
       "    .dataframe tbody tr th:only-of-type {\n",
       "        vertical-align: middle;\n",
       "    }\n",
       "\n",
       "    .dataframe tbody tr th {\n",
       "        vertical-align: top;\n",
       "    }\n",
       "\n",
       "    .dataframe thead th {\n",
       "        text-align: right;\n",
       "    }\n",
       "</style>\n",
       "<table border=\"1\" class=\"dataframe\">\n",
       "  <thead>\n",
       "    <tr style=\"text-align: right;\">\n",
       "      <th></th>\n",
       "      <th>Unnamed: 0</th>\n",
       "      <th>text</th>\n",
       "      <th>toxic</th>\n",
       "    </tr>\n",
       "  </thead>\n",
       "  <tbody>\n",
       "    <tr>\n",
       "      <th>159287</th>\n",
       "      <td>159446</td>\n",
       "      <td>\":::::And for the second time of asking, when ...</td>\n",
       "      <td>0</td>\n",
       "    </tr>\n",
       "    <tr>\n",
       "      <th>159288</th>\n",
       "      <td>159447</td>\n",
       "      <td>You should be ashamed of yourself \\n\\nThat is ...</td>\n",
       "      <td>0</td>\n",
       "    </tr>\n",
       "    <tr>\n",
       "      <th>159289</th>\n",
       "      <td>159448</td>\n",
       "      <td>Spitzer \\n\\nUmm, theres no actual article for ...</td>\n",
       "      <td>0</td>\n",
       "    </tr>\n",
       "    <tr>\n",
       "      <th>159290</th>\n",
       "      <td>159449</td>\n",
       "      <td>And it looks like it was actually you who put ...</td>\n",
       "      <td>0</td>\n",
       "    </tr>\n",
       "    <tr>\n",
       "      <th>159291</th>\n",
       "      <td>159450</td>\n",
       "      <td>\"\\nAnd ... I really don't think you understand...</td>\n",
       "      <td>0</td>\n",
       "    </tr>\n",
       "  </tbody>\n",
       "</table>\n",
       "</div>"
      ],
      "text/plain": [
       "        Unnamed: 0                                               text  toxic\n",
       "159287      159446  \":::::And for the second time of asking, when ...      0\n",
       "159288      159447  You should be ashamed of yourself \\n\\nThat is ...      0\n",
       "159289      159448  Spitzer \\n\\nUmm, theres no actual article for ...      0\n",
       "159290      159449  And it looks like it was actually you who put ...      0\n",
       "159291      159450  \"\\nAnd ... I really don't think you understand...      0"
      ]
     },
     "execution_count": 5,
     "metadata": {},
     "output_type": "execute_result"
    }
   ],
   "source": [
    "data.tail(5) "
   ]
  },
  {
   "cell_type": "code",
   "execution_count": 6,
   "id": "75a96644",
   "metadata": {
    "scrolled": false
   },
   "outputs": [
    {
     "name": "stdout",
     "output_type": "stream",
     "text": [
      "<class 'pandas.core.frame.DataFrame'>\n",
      "RangeIndex: 159292 entries, 0 to 159291\n",
      "Data columns (total 3 columns):\n",
      " #   Column      Non-Null Count   Dtype \n",
      "---  ------      --------------   ----- \n",
      " 0   Unnamed: 0  159292 non-null  int64 \n",
      " 1   text        159292 non-null  object\n",
      " 2   toxic       159292 non-null  int64 \n",
      "dtypes: int64(2), object(1)\n",
      "memory usage: 3.6+ MB\n"
     ]
    }
   ],
   "source": [
    "data.info()"
   ]
  },
  {
   "cell_type": "markdown",
   "id": "4080465e",
   "metadata": {},
   "source": [
    "<div class=\"alert alert-block alert-info\" style=\"background-color:#FFFAF0;\n",
    "                                                 color:black;\n",
    "                                                 border-color:#DEB887;\n",
    "                                                 border-radius:5px;\n",
    "                                                 width:50%;\n",
    "                                                 margin: auto;\n",
    "                                                 text-align: left;\">\n",
    "\n",
    "<b>✍ Вывод</b>\n",
    "        <ul>\n",
    "<li>В данных пропусков нет.</li>\n",
    " \n",
    "</ul>\n",
    "</div>"
   ]
  },
  {
   "cell_type": "markdown",
   "id": "4c818600",
   "metadata": {},
   "source": [
    "<a id=\"Подготовка-данных\"></a>\n",
    "<div style=\"padding:20px;\n",
    "            color:white;\n",
    "            margin:10;\n",
    "            font-size:170%;\n",
    "            text-align:left;\n",
    "            display:fill;\n",
    "            border-radius:5px;\n",
    "            background-color:#294B8E;\n",
    "            overflow:hidden;\n",
    "            font-weight:700\"><span style='color:#CDA63A'>|</span> Подготовка данных</div>"
   ]
  },
  {
   "cell_type": "code",
   "execution_count": 7,
   "id": "b3479fa2",
   "metadata": {},
   "outputs": [],
   "source": [
    "def get_wordnet_pos(word):\n",
    "    tag = nltk.pos_tag([word])[0][1][0].upper()\n",
    "    tag_dict = {\"J\": wordnet.ADJ,\n",
    "                \"N\": wordnet.NOUN,\n",
    "                \"V\": wordnet.VERB,\n",
    "                \"R\": wordnet.ADV}\n",
    "    return tag_dict.get(tag, wordnet.NOUN)"
   ]
  },
  {
   "cell_type": "code",
   "execution_count": 11,
   "id": "650f3275",
   "metadata": {
    "scrolled": true
   },
   "outputs": [
    {
     "name": "stderr",
     "output_type": "stream",
     "text": [
      "[nltk_data] Downloading package averaged_perceptron_tagger to\n",
      "[nltk_data]     /home/jovyan/nltk_data...\n",
      "[nltk_data]   Unzipping taggers/averaged_perceptron_tagger.zip.\n"
     ]
    },
    {
     "data": {
      "text/plain": [
       "True"
      ]
     },
     "execution_count": 11,
     "metadata": {},
     "output_type": "execute_result"
    }
   ],
   "source": [
    "nltk.download('averaged_perceptron_tagger')"
   ]
  },
  {
   "cell_type": "code",
   "execution_count": 8,
   "id": "8d56d87b",
   "metadata": {},
   "outputs": [],
   "source": [
    "#лемматизация\n",
    "lemmatizer = WordNetLemmatizer()\n",
    "def lemmatize(text):\n",
    "    word_list = nltk.word_tokenize(text)\n",
    "    lemm_text = ' '.join([lemmatizer.lemmatize(w, get_wordnet_pos(w)) for w in word_list])\n",
    "    return lemm_text"
   ]
  },
  {
   "cell_type": "code",
   "execution_count": 9,
   "id": "e545b335",
   "metadata": {},
   "outputs": [],
   "source": [
    "# напишем функцию, которая оставит в тексте только кириллические символы и пробелы\n",
    "def clear_text(text):\n",
    "    text = re.sub(r'[^a-zA-Z ]', ' ', text)\n",
    "    return \" \".join(text.split())"
   ]
  },
  {
   "cell_type": "code",
   "execution_count": 12,
   "id": "11a68b95",
   "metadata": {},
   "outputs": [
    {
     "data": {
      "application/vnd.jupyter.widget-view+json": {
       "model_id": "26754d550366422cb9fa9b11bb418261",
       "version_major": 2,
       "version_minor": 0
      },
      "text/plain": [
       "  0%|          | 0/159292 [00:00<?, ?it/s]"
      ]
     },
     "metadata": {},
     "output_type": "display_data"
    },
    {
     "data": {
      "application/vnd.jupyter.widget-view+json": {
       "model_id": "cb922b17bde141c99645cd8dfeffdd9c",
       "version_major": 2,
       "version_minor": 0
      },
      "text/plain": [
       "  0%|          | 0/159292 [00:00<?, ?it/s]"
      ]
     },
     "metadata": {},
     "output_type": "display_data"
    }
   ],
   "source": [
    "from tqdm.notebook import tqdm\n",
    "tqdm.pandas()\n",
    "\n",
    "data['lemm_text'] = data['text'].progress_apply(clear_text)\n",
    "data['lemm_text'] = data['lemm_text'].progress_apply(lemmatize)"
   ]
  },
  {
   "cell_type": "code",
   "execution_count": 13,
   "id": "ed129c24",
   "metadata": {},
   "outputs": [],
   "source": [
    "#вызовем функцию nltk_stopwords.words, передадим ей аргумент 'english', то есть англоязычные стоп-слова\n",
    "stopwords = set(nltk_stopwords.words('english'))\n"
   ]
  },
  {
   "cell_type": "markdown",
   "id": "a6506609",
   "metadata": {},
   "source": [
    "<div class=\"alert alert-block alert-info\" style=\"background-color:#FFFAF0;\n",
    "                                                 color:black;\n",
    "                                                 border-color:#DEB887;\n",
    "                                                 border-radius:5px;\n",
    "                                                 width:50%;\n",
    "                                                 margin: auto;\n",
    "                                                 text-align: left;\">\n",
    "\n",
    "<b>✍ Вывод</b>\n",
    "        <ul>\n",
    "<li>Текст леммитизирован и очищен.</li>\n",
    " \n",
    "</ul>\n",
    "</div>"
   ]
  },
  {
   "cell_type": "markdown",
   "id": "16d42754",
   "metadata": {},
   "source": [
    "<a id=\"Подготовим-выборки-для-обучения-моделей\"></a>\n",
    "<div style=\"padding:20px;\n",
    "            color:white;\n",
    "            margin:10;\n",
    "            font-size:170%;\n",
    "            text-align:left;\n",
    "            display:fill;\n",
    "            border-radius:5px;\n",
    "            background-color:#294B8E;\n",
    "            overflow:hidden;\n",
    "            font-weight:700\"><span style='color:#CDA63A'>|</span> Подготовим выборки для обучения моделей</div>"
   ]
  },
  {
   "cell_type": "code",
   "execution_count": 14,
   "id": "19c9e8c7",
   "metadata": {},
   "outputs": [
    {
     "name": "stdout",
     "output_type": "stream",
     "text": [
      "Размер тренировочного корпуса: 143362\n",
      "Размер тренировочного корпуса: 15930\n"
     ]
    }
   ],
   "source": [
    "X_train, X_test, y_train, y_test = train_test_split(data['lemm_text'], data['toxic'], \n",
    "                                                    test_size=0.1,\n",
    "                                                    random_state=42)\n",
    "print(f\"Размер тренировочного корпуса: {len(X_train)}\")\n",
    "print(f\"Размер тренировочного корпуса: {len(X_test)}\")"
   ]
  },
  {
   "cell_type": "code",
   "execution_count": 15,
   "id": "09d47005",
   "metadata": {},
   "outputs": [],
   "source": [
    "#создадим счётчик, указав в нём стоп-слова\n",
    "count_tf_idf = TfidfVectorizer(stop_words=stopwords)"
   ]
  },
  {
   "cell_type": "code",
   "execution_count": 16,
   "id": "eec19327",
   "metadata": {},
   "outputs": [],
   "source": [
    "#посчитаем TF-IDF для корпуса текстов функцией fit_transform() для обучающей выборки\n",
    "tf_idf_X_train = count_tf_idf.fit_transform(X_train)\n"
   ]
  },
  {
   "cell_type": "code",
   "execution_count": 17,
   "id": "e7748c00",
   "metadata": {},
   "outputs": [],
   "source": [
    "#посчитаем TF-IDF для корпуса текстов функцией fit_transform() для тестовой выборки\n",
    "tf_idf_X_test = count_tf_idf.transform(X_test)"
   ]
  },
  {
   "cell_type": "markdown",
   "id": "41ed83c7",
   "metadata": {},
   "source": [
    "<div class=\"alert alert-block alert-info\" style=\"background-color:#FFFAF0;\n",
    "                                                 color:black;\n",
    "                                                 border-color:#DEB887;\n",
    "                                                 border-radius:5px;\n",
    "                                                 width:50%;\n",
    "                                                 margin: auto;\n",
    "                                                 text-align: left;\">\n",
    "\n",
    "<b>✍ Вывод</b>\n",
    "        <ul>\n",
    "<li>Данные разделены на обучающую и тестовую выборки.</li>\n",
    " \n",
    "</ul>\n",
    "</div>"
   ]
  },
  {
   "cell_type": "markdown",
   "id": "5e4663e6",
   "metadata": {},
   "source": [
    "<a id=\"Обучение-моделей\"></a>\n",
    "<div style=\"padding:20px;\n",
    "            color:white;\n",
    "            margin:10;\n",
    "            font-size:170%;\n",
    "            text-align:left;\n",
    "            display:fill;\n",
    "            border-radius:5px;\n",
    "            background-color:#294B8E;\n",
    "            overflow:hidden;\n",
    "            font-weight:700\"><span style='color:#CDA63A'>|</span> Обучение моделей</div>"
   ]
  },
  {
   "cell_type": "markdown",
   "id": "613dd178",
   "metadata": {},
   "source": [
    "### <p style=\"font-family:JetBrains Mono; font-weight:bold; letter-spacing: 2px; color:#294B8E; font-size:140%; text-align:left;padding: 0px; border-bottom: 3px solid #294B8E\">Logistic regression</p>"
   ]
  },
  {
   "cell_type": "code",
   "execution_count": null,
   "id": "579b8267",
   "metadata": {
    "scrolled": true
   },
   "outputs": [
    {
     "name": "stdout",
     "output_type": "stream",
     "text": [
      "Fitting 3 folds for each of 20 candidates, totalling 60 fits\n",
      "[CV] END ............................C=0.0001, max_iter=1000; total time=   3.3s\n",
      "[CV] END ............................C=0.0001, max_iter=1000; total time=   3.1s\n",
      "[CV] END ............................C=0.0001, max_iter=1000; total time=   3.2s\n",
      "[CV] END ............C=0.00026366508987303583, max_iter=1000; total time=   4.1s\n",
      "[CV] END ............C=0.00026366508987303583, max_iter=1000; total time=   4.2s\n",
      "[CV] END ............C=0.00026366508987303583, max_iter=1000; total time=   3.9s\n",
      "[CV] END .............C=0.0006951927961775605, max_iter=1000; total time=   4.5s\n",
      "[CV] END .............C=0.0006951927961775605, max_iter=1000; total time=   4.4s\n",
      "[CV] END .............C=0.0006951927961775605, max_iter=1000; total time=   4.3s\n",
      "[CV] END .............C=0.0018329807108324356, max_iter=1000; total time=   5.8s\n",
      "[CV] END .............C=0.0018329807108324356, max_iter=1000; total time=   5.5s\n",
      "[CV] END .............C=0.0018329807108324356, max_iter=1000; total time=   5.4s\n",
      "[CV] END ..............C=0.004832930238571752, max_iter=1000; total time=   6.1s\n",
      "[CV] END ..............C=0.004832930238571752, max_iter=1000; total time=   6.8s\n",
      "[CV] END ..............C=0.004832930238571752, max_iter=1000; total time=   6.4s\n",
      "[CV] END ..............C=0.012742749857031334, max_iter=1000; total time=   7.3s\n",
      "[CV] END ..............C=0.012742749857031334, max_iter=1000; total time=   6.7s\n",
      "[CV] END ..............C=0.012742749857031334, max_iter=1000; total time=   7.5s\n",
      "[CV] END ...............C=0.03359818286283781, max_iter=1000; total time=  11.0s\n",
      "[CV] END ...............C=0.03359818286283781, max_iter=1000; total time=   9.5s\n",
      "[CV] END ...............C=0.03359818286283781, max_iter=1000; total time=   9.5s\n",
      "[CV] END ...............C=0.08858667904100823, max_iter=1000; total time=  25.8s\n",
      "[CV] END ...............C=0.08858667904100823, max_iter=1000; total time=  19.2s\n",
      "[CV] END ...............C=0.08858667904100823, max_iter=1000; total time=  21.3s\n",
      "[CV] END ...............C=0.23357214690901212, max_iter=1000; total time=  25.9s\n",
      "[CV] END ...............C=0.23357214690901212, max_iter=1000; total time=  34.7s\n",
      "[CV] END ...............C=0.23357214690901212, max_iter=1000; total time=  26.3s\n",
      "[CV] END .................C=0.615848211066026, max_iter=1000; total time=  37.0s\n",
      "[CV] END .................C=0.615848211066026, max_iter=1000; total time=  45.0s\n",
      "[CV] END .................C=0.615848211066026, max_iter=1000; total time=  40.6s\n",
      "[CV] END .................C=1.623776739188721, max_iter=1000; total time=  52.3s\n",
      "[CV] END .................C=1.623776739188721, max_iter=1000; total time=  51.7s\n",
      "[CV] END .................C=1.623776739188721, max_iter=1000; total time=  44.0s\n",
      "[CV] END .................C=4.281332398719396, max_iter=1000; total time= 1.3min\n",
      "[CV] END .................C=4.281332398719396, max_iter=1000; total time= 1.2min\n",
      "[CV] END .................C=4.281332398719396, max_iter=1000; total time= 1.1min\n",
      "[CV] END ................C=11.288378916846883, max_iter=1000; total time= 1.7min\n",
      "[CV] END ................C=11.288378916846883, max_iter=1000; total time= 1.7min\n",
      "[CV] END ................C=11.288378916846883, max_iter=1000; total time= 1.8min\n",
      "[CV] END ................C=29.763514416313132, max_iter=1000; total time= 2.7min\n",
      "[CV] END ................C=29.763514416313132, max_iter=1000; total time= 2.7min\n",
      "[CV] END ................C=29.763514416313132, max_iter=1000; total time= 2.5min\n",
      "[CV] END .................C=78.47599703514607, max_iter=1000; total time= 3.4min\n",
      "[CV] END .................C=78.47599703514607, max_iter=1000; total time= 3.5min\n",
      "[CV] END .................C=78.47599703514607, max_iter=1000; total time= 3.5min\n",
      "[CV] END ..................C=206.913808111479, max_iter=1000; total time= 4.2min\n",
      "[CV] END ..................C=206.913808111479, max_iter=1000; total time= 4.8min\n",
      "[CV] END ..................C=206.913808111479, max_iter=1000; total time= 3.7min\n",
      "[CV] END .................C=545.5594781168514, max_iter=1000; total time= 5.4min\n"
     ]
    }
   ],
   "source": [
    "prm_logr = {'C': np.logspace(-4, 4, 20),\n",
    "             'max_iter': [1000]}\n",
    "logr = LogisticRegression()\n",
    "grid_search = GridSearchCV(logr, \n",
    "                           prm_logr,\n",
    "                           cv=3,\n",
    "                           scoring='f1',\n",
    "                           n_jobs=-1,\n",
    "                           verbose=2)\n",
    "grid_search.fit(tf_idf_X_train, y_train)"
   ]
  },
  {
   "cell_type": "code",
   "execution_count": null,
   "id": "3719fa73",
   "metadata": {
    "scrolled": true
   },
   "outputs": [],
   "source": [
    "grid_search.best_params_"
   ]
  },
  {
   "cell_type": "code",
   "execution_count": null,
   "id": "1c985505",
   "metadata": {},
   "outputs": [],
   "source": [
    "grid_search.best_score_"
   ]
  },
  {
   "cell_type": "markdown",
   "id": "c4dde61a",
   "metadata": {},
   "source": [
    "### <p style=\"font-family:JetBrains Mono; font-weight:bold; letter-spacing: 2px; color:#294B8E; font-size:140%; text-align:left;padding: 0px; border-bottom: 3px solid #294B8E\">SGD</p>"
   ]
  },
  {
   "cell_type": "code",
   "execution_count": null,
   "id": "2d1b6a5d",
   "metadata": {},
   "outputs": [],
   "source": [
    "model_sgd = SGDClassifier(random_state=42)\n",
    "\n",
    "params_sgd = {\n",
    "    'max_iter':[500,1000],\n",
    "    'loss':['log','squared_hinge'],\n",
    "    'n_iter_no_change':[20,30]}"
   ]
  },
  {
   "cell_type": "code",
   "execution_count": null,
   "id": "f7d81501",
   "metadata": {},
   "outputs": [],
   "source": [
    "grid_sgd = GridSearchCV(model_sgd, \n",
    "                        param_grid=params_sgd, \n",
    "                        scoring='f1',\n",
    "                        verbose=3,\n",
    "                        cv=5, \n",
    "                        n_jobs=-1)\n",
    "grid_sgd.fit(tf_idf_X_train, y_train)"
   ]
  },
  {
   "cell_type": "code",
   "execution_count": null,
   "id": "2080d39a",
   "metadata": {},
   "outputs": [],
   "source": [
    "grid_sgd.best_params_"
   ]
  },
  {
   "cell_type": "code",
   "execution_count": null,
   "id": "51bc2c08",
   "metadata": {},
   "outputs": [],
   "source": [
    "grid_sgd.best_score_"
   ]
  },
  {
   "cell_type": "markdown",
   "id": "4032eb06",
   "metadata": {},
   "source": [
    "<div class=\"alert alert-block alert-info\" style=\"background-color:#FFFAF0;\n",
    "                                                 color:black;\n",
    "                                                 border-color:#DEB887;\n",
    "                                                 border-radius:5px;\n",
    "                                                 width:50%;\n",
    "                                                 margin: auto;\n",
    "                                                 text-align: left;\">\n",
    "\n",
    "<b>✍ Вывод</b>\n",
    "        <ul>\n",
    "<li>Найдены лучшие гиперпараметры для соотвествующих моделей с помощью GridSearchCV.</li>\n",
    "<li>При сравнении моделей с помощью атрибута best_score_ лучшей моделью стала логистическая регрессия.</li>\n",
    " \n",
    "</ul>\n",
    "</div>"
   ]
  },
  {
   "cell_type": "markdown",
   "id": "2e5cf558",
   "metadata": {},
   "source": [
    "<a id=\"Тестирование-лучшей-модели\"></a>\n",
    "<div style=\"padding:20px;\n",
    "            color:white;\n",
    "            margin:10;\n",
    "            font-size:170%;\n",
    "            text-align:left;\n",
    "            display:fill;\n",
    "            border-radius:5px;\n",
    "            background-color:#294B8E;\n",
    "            overflow:hidden;\n",
    "            font-weight:700\"><span style='color:#CDA63A'>|</span> Тестирование лучшей модели</div>"
   ]
  },
  {
   "cell_type": "code",
   "execution_count": null,
   "id": "baaa72f8",
   "metadata": {},
   "outputs": [],
   "source": [
    "logr = LogisticRegression(C=11.288378916846883, max_iter=1000, random_state=12345)\n",
    "logr.fit(tf_idf_X_train, y_train)\n",
    "predict_logr = logr.predict(tf_idf_X_test)\n",
    "print('f1 логистической регрессии:', f1_score(y_test, predict_logr))"
   ]
  },
  {
   "cell_type": "markdown",
   "id": "eaf6253e",
   "metadata": {},
   "source": [
    "<a id=\"Вывод\"></a>\n",
    "<div style=\"padding:20px;\n",
    "            color:white;\n",
    "            margin:10;\n",
    "            font-size:170%;\n",
    "            text-align:left;\n",
    "            display:fill;\n",
    "            border-radius:5px;\n",
    "            background-color:#294B8E;\n",
    "            overflow:hidden;\n",
    "            font-weight:700\"><span style='color:#CDA63A'>|</span> Вывод</div>"
   ]
  },
  {
   "cell_type": "markdown",
   "id": "0fc553db",
   "metadata": {},
   "source": [
    "<div style=\"border-radius:10px; border:#DEB887 solid; padding: 15px; background-color: #FFFAF0; font-size:100%; text-align:left\">\n",
    "<br>📑Было проведено исследование, для<b> интернет-магазин «Викишоп» </b>. \n",
    "<br>Задача: обучить модель классифицировать комментарии на позитивные и негативные. \n",
    "        \n",
    "\n",
    "<br><b> Входные данные - данных с разметкой о токсичности правок. </b>\n",
    "\n",
    "        \n",
    "<br> 📊 Текст очищен и лемматизирован.\n",
    "        \n",
    "<br> 📊 Были обучены модели логистической регрессии и стохастического градиентного спуска. \n",
    "        \n",
    "<br> 📊 Найдены лучшие гиперпараметры для соотвествующих моделей с помощью GridSearchCV.\n",
    "        \n",
    "<br> 📊 Показано сравнение качества исследованных моделей с помощью атрибута best_score_. Лучшая модель - логистическая регрессия.\n",
    " \n",
    "<br>Исходя из анализа, сделан вывод, что исходя из данных лучше всего с предсказанием токсичных комментариев справилась модель логистической регрессии. Что нам показывает как f1 оценка.  "
   ]
  }
 ],
 "metadata": {
  "kernelspec": {
   "display_name": "Python 3 (ipykernel)",
   "language": "python",
   "name": "python3"
  },
  "language_info": {
   "codemirror_mode": {
    "name": "ipython",
    "version": 3
   },
   "file_extension": ".py",
   "mimetype": "text/x-python",
   "name": "python",
   "nbconvert_exporter": "python",
   "pygments_lexer": "ipython3",
   "version": "3.9.13"
  }
 },
 "nbformat": 4,
 "nbformat_minor": 5
}
